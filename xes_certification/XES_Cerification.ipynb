{
  "nbformat": 4,
  "nbformat_minor": 0,
  "metadata": {
    "colab": {
      "name": "XES_Cerification.ipynb",
      "provenance": [],
      "collapsed_sections": [
        "6HVGwFenxXVL",
        "mUnYbtemfeEC",
        "igG4nB15pfVp",
        "ZDH3zjt2HQta",
        "1JLENItLHU8V",
        "_EyzFDzjYFeJ",
        "XzpbdTXjYj2k",
        "XDp4-rUqYyEK",
        "1WG8TzpZY_Tw",
        "9qzhBokGdybu",
        "KQxR0N2KeEW2",
        "7PueuHameicP",
        "-A-xV0Oue3nT",
        "PPdVEBC0fPtZ",
        "V3_QSkMU2AHr",
        "lacpQoPZThKl",
        "753me7fS1337",
        "D9WncCzfTkOB",
        "f-yQeTuC10KX",
        "-AXjWT0pToRM",
        "6PWYguRv1taS",
        "EuxlvZ_BTrbR",
        "_41UO9RT1ojd"
      ],
      "toc_visible": true
    },
    "kernelspec": {
      "display_name": "Python 3.8.5 64-bit",
      "language": "python",
      "name": "python38564bitb69af2053d2e481e97617446d1373208"
    },
    "language_info": {
      "codemirror_mode": {
        "name": "ipython",
        "version": 3
      },
      "file_extension": ".py",
      "mimetype": "text/x-python",
      "name": "python",
      "nbconvert_exporter": "python",
      "pygments_lexer": "ipython3",
      "version": "3.8.5"
    }
  },
  "cells": [
    {
      "cell_type": "markdown",
      "metadata": {
        "id": "yrqfJnMbpKJA"
      },
      "source": [
        "<a href=\"https://colab.research.google.com/github/pmlab/pmlab-lite/blob/master/xes_certification/XES_Certification.ipynb\" target=\"_parent\"><img src=\"https://colab.research.google.com/assets/colab-badge.svg\" alt=\"Open In Colab\"/></a>"
      ]
    },
    {
      "cell_type": "markdown",
      "metadata": {
        "id": "a1ocaPqq7Xwi"
      },
      "source": [
        "# **XES Certification**\n",
        "---"
      ]
    },
    {
      "cell_type": "code",
      "metadata": {
        "id": "PxNSvSBHvBf2",
        "colab": {
          "base_uri": "https://localhost:8080/"
        },
        "outputId": "c557a25e-560f-49cc-ffc2-0deaec604f7a"
      },
      "source": [
        "!pip3 install pmlab_lite==0.4.5"
      ],
      "execution_count": 1,
      "outputs": [
        {
          "output_type": "stream",
          "text": [
            "Collecting pmlab_lite==0.4.5\n",
            "\u001b[?25l  Downloading https://files.pythonhosted.org/packages/68/a2/56971072ae9adf4b5f1f3c65dfb5a73f8935de6987803342f18483e6d165/pmlab_lite-0.4.5-py3-none-any.whl (52kB)\n",
            "\r\u001b[K     |██████▏                         | 10kB 15.4MB/s eta 0:00:01\r\u001b[K     |████████████▍                   | 20kB 9.2MB/s eta 0:00:01\r\u001b[K     |██████████████████▋             | 30kB 7.5MB/s eta 0:00:01\r\u001b[K     |████████████████████████▉       | 40kB 6.8MB/s eta 0:00:01\r\u001b[K     |███████████████████████████████ | 51kB 3.9MB/s eta 0:00:01\r\u001b[K     |████████████████████████████████| 61kB 3.0MB/s \n",
            "\u001b[?25hRequirement already satisfied: tqdm in /usr/local/lib/python3.7/dist-packages (from pmlab_lite==0.4.5) (4.41.1)\n",
            "Requirement already satisfied: graphviz in /usr/local/lib/python3.7/dist-packages (from pmlab_lite==0.4.5) (0.10.1)\n",
            "Requirement already satisfied: numpy in /usr/local/lib/python3.7/dist-packages (from pmlab_lite==0.4.5) (1.19.5)\n",
            "Requirement already satisfied: lxml in /usr/local/lib/python3.7/dist-packages (from pmlab_lite==0.4.5) (4.2.6)\n",
            "Collecting ciso8601\n",
            "  Downloading https://files.pythonhosted.org/packages/2c/da/626910cf8aca7ed2d5b34355eee8aeaaeb6ddd4e16f98d00a9e2ddad3a08/ciso8601-2.1.3.tar.gz\n",
            "Building wheels for collected packages: ciso8601\n",
            "  Building wheel for ciso8601 (setup.py) ... \u001b[?25l\u001b[?25hdone\n",
            "  Created wheel for ciso8601: filename=ciso8601-2.1.3-cp37-cp37m-linux_x86_64.whl size=29073 sha256=649658d68bf8ca56b00763284659abe5a084dafebb790504ccc385ba2283dfe7\n",
            "  Stored in directory: /root/.cache/pip/wheels/eb/32/e4/13bdaf7e245f82667b21e0cfb03d21224691a47fa9f9bc80a6\n",
            "Successfully built ciso8601\n",
            "Installing collected packages: ciso8601, pmlab-lite\n",
            "Successfully installed ciso8601-2.1.3 pmlab-lite-0.4.5\n"
          ],
          "name": "stdout"
        }
      ]
    },
    {
      "cell_type": "code",
      "metadata": {
        "id": "R5itIcV0yLVP"
      },
      "source": [
        "from pmlab_lite.helper.io import xes\n",
        "from pprint import pprint "
      ],
      "execution_count": 2,
      "outputs": []
    },
    {
      "cell_type": "code",
      "metadata": {
        "id": "Uht51bciKrUy"
      },
      "source": [
        "case_ids_ = {\"bpic17\": \"Application_419883832\",\n",
        "             \"b1\": \"48\",\n",
        "             \"b2\": \"825\",\n",
        "             \"c1\": \"64\",\n",
        "             \"c2\": \"303\",\n",
        "             \"d1\": \"1013\",\n",
        "             \"d2\": \"190\",\n",
        "             \"x1\": \"858\", \n",
        "             \"x2\": \"287\"}"
      ],
      "execution_count": 4,
      "outputs": []
    },
    {
      "cell_type": "markdown",
      "metadata": {
        "id": "Regm2fIFke54"
      },
      "source": [
        "## Verification Functions\n",
        "---"
      ]
    },
    {
      "cell_type": "code",
      "metadata": {
        "id": "o_8IhyB3keNB"
      },
      "source": [
        "import random\n",
        "\n",
        "def verify_log(log):\n",
        "  \"\"\"Prints the number of traces, events, the classifiers and a random trace of a log.\"\"\"\n",
        "\n",
        "  print(\"The log contains\", len(log.traces), \"traces and\", len(log.events), \"events.\")\n",
        "  print(\"Classifiers contained:\", log.classifiers)\n",
        "  idx = random.randint(0, len(log.traces)-1)\n",
        "  log.print_traces(idx,1)\n",
        "\n",
        "def print_rand_trace(log, attributes=None):\n",
        "  idx = random.randint(0, len(log.traces)-1)\n",
        "  print(\"Concept name of the trace:\", log.traces[idx]['concept:name'], \"(the same as the TRACE_ID below)\")\n",
        "  log.print_traces(idx,1, attributes)\n",
        "\n",
        "def print_specific_case(log, trace_id, attributes=None):\n",
        "\n",
        "  for idx, trace in log.traces.items():\n",
        "    if trace['concept:name'] == trace_id:\n",
        "      print(\"Concept name of the trace:\", log.traces[idx]['concept:name'], \"(the same as the TRACE_ID below)\")\n",
        "      log.print_traces(idx,1, attributes)\n",
        "\n",
        "def print_specific_case2(log, trace_id):\n",
        "  index = None\n",
        "  for idx, trace in log.traces.items():\n",
        "    if trace['concept:name'] == trace_id:\n",
        "      index = idx\n",
        "\n",
        "  print('Concept name of the trace:', log.traces[index]['concept:name'])\n",
        "  print('Events belonging to this trace:')\n",
        "  for event in log.get_traces()[index]:\n",
        "    pprint(event)\n",
        "    print()\n",
        "\n",
        "def print_reimport(log):\n",
        "  print(\"Number of traces in the log:\", len(log.traces))\n",
        "  print(\"Number of events in the log:\", len(log.events))\n",
        "  print(\"Classifiers in the log:\", log.classifiers)\n",
        "  print()\n",
        "  print(\"Exporting and reimporting the log...\")\n",
        "\n",
        "  export = xes.export_to_xes(log, \"test.xes\")\n",
        "  reimport = xes.import_xes(\"/content/test.xes\")\n",
        "\n",
        "  print()\n",
        "  print(\"Number of traces in the reimported log:\", len(reimport.traces))\n",
        "  print(\"Number of events in the reimported log:\", len(reimport.events))\n",
        "  print(\"Classifiers in the reimported log:\", reimport.classifiers)\n",
        "\n",
        "def verify_filter_by_classifier(log, equal_events, classifier) -> bool:\n",
        "  for i in range(len(equal_events)):\n",
        "    for j in range(i+1, len(equal_events)):\n",
        "      if not log.equal_by_classifier(equal_events[i], equal_events[j], classifier):\n",
        "        return False\n",
        "  return True"
      ],
      "execution_count": 53,
      "outputs": []
    },
    {
      "cell_type": "code",
      "metadata": {
        "id": "pX-1NC9_pKJP",
        "colab": {
          "base_uri": "https://localhost:8080/"
        },
        "outputId": "2c97ebd8-beb3-4b3f-85ec-68b910f9dd88"
      },
      "source": [
        "!wget -O import_logs.zip http://www.win.tue.nl/ieeetfpm/lib/exe/fetch.php?media=shared:downloads:xes_certification_import_logs.zip"
      ],
      "execution_count": 6,
      "outputs": [
        {
          "output_type": "stream",
          "text": [
            "--2021-03-08 18:55:55--  http://www.win.tue.nl/ieeetfpm/lib/exe/fetch.php?media=shared:downloads:xes_certification_import_logs.zip\n",
            "Resolving www.win.tue.nl (www.win.tue.nl)... 131.155.11.13\n",
            "Connecting to www.win.tue.nl (www.win.tue.nl)|131.155.11.13|:80... connected.\n",
            "HTTP request sent, awaiting response... 302 Found\n",
            "Location: https://www.win.tue.nl/ieeetfpm/lib/exe/fetch.php?media=shared:downloads:xes_certification_import_logs.zip [following]\n",
            "--2021-03-08 18:55:55--  https://www.win.tue.nl/ieeetfpm/lib/exe/fetch.php?media=shared:downloads:xes_certification_import_logs.zip\n",
            "Connecting to www.win.tue.nl (www.win.tue.nl)|131.155.11.13|:443... connected.\n",
            "HTTP request sent, awaiting response... 200 OK\n",
            "Length: 54685689 (52M) [application/zip]\n",
            "Saving to: ‘import_logs.zip’\n",
            "\n",
            "import_logs.zip     100%[===================>]  52.15M  11.4MB/s    in 8.5s    \n",
            "\n",
            "2021-03-08 18:56:04 (6.15 MB/s) - ‘import_logs.zip’ saved [54685689/54685689]\n",
            "\n"
          ],
          "name": "stdout"
        }
      ]
    },
    {
      "cell_type": "code",
      "metadata": {
        "id": "tCJP6rIVpKJQ",
        "colab": {
          "base_uri": "https://localhost:8080/"
        },
        "outputId": "12061910-f8b6-4b39-a8b1-0b6293dff722"
      },
      "source": [
        "!unzip import_logs.zip && mv \"XES certification import logs\" XES_certification_import_logs"
      ],
      "execution_count": 7,
      "outputs": [
        {
          "output_type": "stream",
          "text": [
            "Archive:  import_logs.zip\n",
            "   creating: XES certification import logs/\n",
            "   creating: XES certification import logs/Artificial/\n",
            "  inflating: XES certification import logs/Artificial/FlagX1.xes  \n",
            "  inflating: XES certification import logs/Artificial/FlagX2.xes  \n",
            "  inflating: XES certification import logs/Artificial/LevelA1.xes  \n",
            "  inflating: XES certification import logs/Artificial/LevelA2.xes  \n",
            "  inflating: XES certification import logs/Artificial/LevelB1.xes  \n",
            "  inflating: XES certification import logs/Artificial/LevelB2.xes  \n",
            "  inflating: XES certification import logs/Artificial/LevelC1.xes  \n",
            "  inflating: XES certification import logs/Artificial/LevelC2.xes  \n",
            "  inflating: XES certification import logs/Artificial/LevelD1.xes  \n",
            "  inflating: XES certification import logs/Artificial/LevelD2.xes  \n",
            "   creating: XES certification import logs/Real-life/\n",
            "  inflating: XES certification import logs/Real-life/BPIC12.xes  \n",
            "  inflating: XES certification import logs/Real-life/BPIC13_closed_problems.xes  \n",
            "  inflating: XES certification import logs/Real-life/BPIC13_incidents.xes  \n",
            "  inflating: XES certification import logs/Real-life/BPIC13_open_problems.xes  \n",
            "  inflating: XES certification import logs/Real-life/BPIC15_1.xes  \n",
            "  inflating: XES certification import logs/Real-life/BPIC15_2.xes  \n",
            "  inflating: XES certification import logs/Real-life/BPIC15_3.xes  \n",
            "  inflating: XES certification import logs/Real-life/BPIC15_4.xes  \n",
            "  inflating: XES certification import logs/Real-life/BPIC15_5.xes  \n",
            "  inflating: XES certification import logs/Real-life/BPIC17 - Offer log.xes  \n",
            "  inflating: XES certification import logs/Real-life/BPIC17.xes  \n"
          ],
          "name": "stdout"
        }
      ]
    },
    {
      "cell_type": "markdown",
      "metadata": {
        "id": "6HVGwFenxXVL"
      },
      "source": [
        "## File Paths\n",
        "---"
      ]
    },
    {
      "cell_type": "markdown",
      "metadata": {
        "id": "mUnYbtemfeEC"
      },
      "source": [
        "### File Paths to the Real Life Logs"
      ]
    },
    {
      "cell_type": "code",
      "metadata": {
        "id": "9DIyhEAaypK0"
      },
      "source": [
        "a = './XES_certification_import_logs/Real-life/BPIC12.xes'                    \n",
        "b = './XES_certification_import_logs/Real-life/BPIC13_closed_problems.xes'    \n",
        "c = './XES_certification_import_logs/Real-life/BPIC13_incidents.xes'      \n",
        "d = './XES_certification_import_logs/Real-life/BPIC13_open_problems.xes'  \n",
        "e = './XES_certification_import_logs/Real-life/BPIC15_1.xes'                       \n",
        "f = './XES_certification_import_logs/Real-life/BPIC15_2.xes'                \n",
        "g = './XES_certification_import_logs/Real-life/BPIC15_3.xes'                 \n",
        "h = './XES_certification_import_logs/Real-life/BPIC15_4.xes'                 \n",
        "i = './XES_certification_import_logs/Real-life/BPIC15_5.xes'                 \n",
        "j = './XES_certification_import_logs/Real-life/BPIC17 - Offer log.xes'    \n",
        "k = './XES_certification_import_logs/Real-life/BPIC17.xes'                     "
      ],
      "execution_count": 8,
      "outputs": []
    },
    {
      "cell_type": "markdown",
      "metadata": {
        "id": "igG4nB15pfVp"
      },
      "source": [
        "### File Paths to the Artificial Logs\n"
      ]
    },
    {
      "cell_type": "code",
      "metadata": {
        "id": "hQd2fyek60Fs"
      },
      "source": [
        "pa1 = './XES_certification_import_logs/Artificial/LevelA1.xes'\n",
        "pa2 = './XES_certification_import_logs/Artificial/LevelA2.xes'\n",
        "pb1 = './XES_certification_import_logs/Artificial/LevelB1.xes'\n",
        "pb2 = './XES_certification_import_logs/Artificial/LevelB2.xes'\n",
        "pc1 = './XES_certification_import_logs/Artificial/LevelC1.xes'\n",
        "pc2 = './XES_certification_import_logs/Artificial/LevelC2.xes'\n",
        "pd1 = './XES_certification_import_logs/Artificial/LevelD1.xes'\n",
        "pd2 = './XES_certification_import_logs/Artificial/LevelD2.xes'\n",
        "px1 = './XES_certification_import_logs/Artificial/FlagX1.xes'\n",
        "px2 = './XES_certification_import_logs/Artificial/FlagX2.xes' "
      ],
      "execution_count": 9,
      "outputs": []
    },
    {
      "cell_type": "markdown",
      "metadata": {
        "id": "NuyRdLKz60xP"
      },
      "source": [
        "# **1 Importing**\n",
        "---\n",
        "---"
      ]
    },
    {
      "cell_type": "markdown",
      "metadata": {
        "id": "3baW8SGL6-EI"
      },
      "source": [
        "## 1.1 Importing the Real-life Logs\n",
        "---"
      ]
    },
    {
      "cell_type": "markdown",
      "metadata": {
        "id": "ZDH3zjt2HQta"
      },
      "source": [
        "### BPIC12 Log"
      ]
    },
    {
      "cell_type": "code",
      "metadata": {
        "colab": {
          "base_uri": "https://localhost:8080/"
        },
        "id": "0EKaBD6wP6xA",
        "outputId": "57bad11d-906e-4e15-f0c4-593190c3fca2"
      },
      "source": [
        "log1 = xes.import_xes(a)\n",
        "verify_log(log1)"
      ],
      "execution_count": 55,
      "outputs": [
        {
          "output_type": "stream",
          "text": [
            "18900it [00:00, 188997.03it/s]"
          ],
          "name": "stderr"
        },
        {
          "output_type": "stream",
          "text": [
            "Processing log...\n"
          ],
          "name": "stdout"
        },
        {
          "output_type": "stream",
          "text": [
            "2716052it [00:09, 271680.84it/s]"
          ],
          "name": "stderr"
        },
        {
          "output_type": "stream",
          "text": [
            "The log contains 13087 traces and 262200 events.\n",
            "Classifiers contained: {'Activity classifier': ['concept:name', 'lifecycle:transition']}\n",
            "TRACE_ID: 196990 (trace number 7476 )\n",
            "  concept:name               lifecycle:transition                time:timestamp \n",
            "> A_SUBMITTED                COMPLETE                            01/01/2012 18:44:17.191000\n",
            "> A_PARTLYSUBMITTED          COMPLETE                            01/01/2012 18:44:17.384000\n",
            "> A_DECLINED                 COMPLETE                            01/01/2012 18:44:58.566000\n",
            "\n"
          ],
          "name": "stdout"
        },
        {
          "output_type": "stream",
          "text": [
            "\n"
          ],
          "name": "stderr"
        }
      ]
    },
    {
      "cell_type": "markdown",
      "metadata": {
        "id": "1JLENItLHU8V"
      },
      "source": [
        "### BPIC13_closed_problems Log"
      ]
    },
    {
      "cell_type": "code",
      "metadata": {
        "colab": {
          "base_uri": "https://localhost:8080/"
        },
        "id": "jL8zPFDNP7st",
        "outputId": "ffa14ce4-e52a-40c6-9039-7f166eb50a0c"
      },
      "source": [
        "log2 = xes.import_xes(b)\n",
        "verify_log(log2)"
      ],
      "execution_count": null,
      "outputs": [
        {
          "output_type": "stream",
          "text": [
            "29763it [00:00, 297628.86it/s]"
          ],
          "name": "stderr"
        },
        {
          "output_type": "stream",
          "text": [
            "Processing log...\n"
          ],
          "name": "stdout"
        },
        {
          "output_type": "stream",
          "text": [
            "176720it [00:00, 304226.98it/s]"
          ],
          "name": "stderr"
        },
        {
          "output_type": "stream",
          "text": [
            "The log contains 1487 traces and 6660 events.\n",
            "Classifiers contained: {'Activity classifier': ['concept:name', 'lifecycle:transition'], 'Resource classifier': ['org:resource']}\n",
            "TRACE_ID: 824 (trace number 824 )\n",
            "  concept:name            lifecycle:transition                time:timestamp \n",
            "> Accepted                In Progress                         12/30/2011 00:45:55.000000\n",
            "> Accepted                Wait                                12/30/2011 00:47:40.000000\n",
            "> Accepted                Wait                                12/30/2011 00:49:46.000000\n",
            "> Queued                  Awaiting Assignment                 01/24/2012 09:38:12.000000\n",
            "> Accepted                In Progress                         01/25/2012 09:53:18.000000\n",
            "> Accepted                Wait                                01/25/2012 10:21:00.000000\n",
            "> Queued                  Awaiting Assignment                 03/07/2012 13:19:55.000000\n",
            "> Accepted                In Progress                         03/12/2012 19:24:36.000000\n",
            "> Completed               Closed                              03/19/2012 09:54:09.000000\n",
            "\n"
          ],
          "name": "stdout"
        },
        {
          "output_type": "stream",
          "text": [
            "\n"
          ],
          "name": "stderr"
        }
      ]
    },
    {
      "cell_type": "markdown",
      "metadata": {
        "id": "_EyzFDzjYFeJ"
      },
      "source": [
        "### BPIC13_incidents Log"
      ]
    },
    {
      "cell_type": "code",
      "metadata": {
        "colab": {
          "base_uri": "https://localhost:8080/"
        },
        "id": "GfehGKFpQAph",
        "outputId": "7eda38e5-0cf5-408c-f0c2-e928ec0b5f2d"
      },
      "source": [
        "log3 = xes.import_xes(c)\n",
        "verify_log(log3)"
      ],
      "execution_count": null,
      "outputs": [
        {
          "output_type": "stream",
          "text": [
            "25854it [00:00, 258492.18it/s]"
          ],
          "name": "stderr"
        },
        {
          "output_type": "stream",
          "text": [
            "Processing log...\n"
          ],
          "name": "stdout"
        },
        {
          "output_type": "stream",
          "text": [
            "1634004it [00:05, 281513.26it/s]"
          ],
          "name": "stderr"
        },
        {
          "output_type": "stream",
          "text": [
            "The log contains 7554 traces and 65533 events.\n",
            "Classifiers contained: {'Activity classifier': ['concept:name', 'lifecycle:transition'], 'Resource classifier': ['org:resource']}\n",
            "TRACE_ID: 7522 (trace number 7522 )\n",
            "  concept:name            lifecycle:transition                time:timestamp \n",
            "> Accepted                In Progress                         05/04/2012 22:00:25.000000\n",
            "> Accepted                In Progress                         05/04/2012 22:01:20.000000\n",
            "> Completed               In Call                             05/04/2012 22:02:17.000000\n",
            "\n"
          ],
          "name": "stdout"
        },
        {
          "output_type": "stream",
          "text": [
            "\n"
          ],
          "name": "stderr"
        }
      ]
    },
    {
      "cell_type": "markdown",
      "metadata": {
        "id": "XzpbdTXjYj2k"
      },
      "source": [
        "### BPIC13_open_problems Log"
      ]
    },
    {
      "cell_type": "code",
      "metadata": {
        "colab": {
          "base_uri": "https://localhost:8080/"
        },
        "id": "SMDOR1J6QDMx",
        "outputId": "828d19c7-4158-469f-ab6d-c8ca16c250b6"
      },
      "source": [
        "log4 = xes.import_xes(d)\n",
        "verify_log(log4)"
      ],
      "execution_count": null,
      "outputs": [
        {
          "output_type": "stream",
          "text": [
            "27473it [00:00, 274728.30it/s]"
          ],
          "name": "stderr"
        },
        {
          "output_type": "stream",
          "text": [
            "Processing log...\n"
          ],
          "name": "stdout"
        },
        {
          "output_type": "stream",
          "text": [
            "60864it [00:00, 273747.19it/s]"
          ],
          "name": "stderr"
        },
        {
          "output_type": "stream",
          "text": [
            "The log contains 819 traces and 2351 events.\n",
            "Classifiers contained: {'Activity classifier': ['concept:name', 'lifecycle:transition'], 'Resource classifier': ['org:resource']}\n",
            "TRACE_ID: 259 (trace number 259 )\n",
            "  concept:name            lifecycle:transition                time:timestamp \n",
            "> Accepted                In Progress                         01/12/2012 09:13:47.000000\n",
            "> Completed               Closed                              02/06/2012 08:15:37.000000\n",
            "\n"
          ],
          "name": "stdout"
        },
        {
          "output_type": "stream",
          "text": [
            "\n"
          ],
          "name": "stderr"
        }
      ]
    },
    {
      "cell_type": "markdown",
      "metadata": {
        "id": "XDp4-rUqYyEK"
      },
      "source": [
        "### BPIC15_1 Log"
      ]
    },
    {
      "cell_type": "code",
      "metadata": {
        "colab": {
          "base_uri": "https://localhost:8080/"
        },
        "id": "gBKBOycQQDJi",
        "outputId": "2ed3d669-f650-462f-9d39-cc532a0ac8f5"
      },
      "source": [
        "log5 = xes.import_xes(e)\n",
        "verify_log(log5)"
      ],
      "execution_count": null,
      "outputs": [
        {
          "output_type": "stream",
          "text": [
            "25540it [00:00, 254418.19it/s]"
          ],
          "name": "stderr"
        },
        {
          "output_type": "stream",
          "text": [
            "Processing log...\n"
          ],
          "name": "stdout"
        },
        {
          "output_type": "stream",
          "text": [
            "1302812it [00:04, 294778.74it/s]"
          ],
          "name": "stderr"
        },
        {
          "output_type": "stream",
          "text": [
            "The log contains 1199 traces and 52217 events.\n",
            "Classifiers contained: {'Activity classifier': ['concept:name', 'lifecycle:transition'], 'Activity classifier activityNameNL': ['activityNameNL', 'lifecycle:transition'], 'Activity classifier activityNameEN': ['activityNameEN', 'lifecycle:transition'], 'Resource': ['org:resource']}\n",
            "TRACE_ID: 782 (trace number 782 )\n",
            "  concept:name            lifecycle:transition                time:timestamp \n",
            "> 01_HOOFD_010            complete                            05/31/2012 00:00:00.000000\n",
            "> 01_HOOFD_011            complete                            06/07/2012 10:12:18.000000\n",
            "> 01_HOOFD_015            complete                            06/07/2012 10:12:18.000000\n",
            "> 01_HOOFD_020            complete                            06/07/2012 10:12:21.000000\n",
            "> 01_HOOFD_810            complete                            12/20/2012 14:32:11.000000\n",
            "> 05_EIND_010             complete                            04/09/2013 14:30:29.000000\n",
            "> 05_EIND_020             complete                            04/09/2013 14:32:19.000000\n",
            "> 05_EIND_025             complete                            04/09/2013 14:32:21.000000\n",
            "> 05_EIND_030_1           complete                            04/09/2013 16:43:19.000000\n",
            "> 05_EIND_030_2           complete                            04/09/2013 16:43:19.000000\n",
            "> 05_EIND_065             complete                            04/09/2013 16:43:33.000000\n",
            "> 01_HOOFD_814            complete                            04/09/2013 16:43:35.000000\n",
            "> 01_HOOFD_815            complete                            04/09/2013 16:43:36.000000\n",
            "> 01_HOOFD_820            complete                            04/09/2013 16:43:42.000000\n",
            "\n"
          ],
          "name": "stdout"
        },
        {
          "output_type": "stream",
          "text": [
            "\n"
          ],
          "name": "stderr"
        }
      ]
    },
    {
      "cell_type": "markdown",
      "metadata": {
        "id": "1WG8TzpZY_Tw"
      },
      "source": [
        "### BPIC15_2 Log"
      ]
    },
    {
      "cell_type": "code",
      "metadata": {
        "colab": {
          "base_uri": "https://localhost:8080/"
        },
        "id": "o4PulenaQDGz",
        "outputId": "d15266be-848c-41e7-e7fc-d452ae4166c7"
      },
      "source": [
        "log6 = xes.import_xes(f)\n",
        "verify_log(log6)"
      ],
      "execution_count": null,
      "outputs": [
        {
          "output_type": "stream",
          "text": [
            "24566it [00:00, 245552.51it/s]"
          ],
          "name": "stderr"
        },
        {
          "output_type": "stream",
          "text": [
            "Processing log...\n"
          ],
          "name": "stdout"
        },
        {
          "output_type": "stream",
          "text": [
            "1089156it [00:03, 299900.34it/s]"
          ],
          "name": "stderr"
        },
        {
          "output_type": "stream",
          "text": [
            "The log contains 832 traces and 44354 events.\n",
            "Classifiers contained: {'Activity classifier': ['concept:name', 'lifecycle:transition'], 'Activity classifier activityNameNL': ['activityNameNL', 'lifecycle:transition'], 'Activity classifier activityNameEN': ['activityNameEN', 'lifecycle:transition'], 'Resource': ['org:resource']}\n",
            "TRACE_ID: 186 (trace number 186 )\n",
            "  concept:name            lifecycle:transition                time:timestamp \n",
            "> 01_HOOFD_010            complete                            03/21/2013 00:00:00.000000\n",
            "> 01_HOOFD_011            complete                            03/21/2013 14:36:10.000000\n",
            "> 01_HOOFD_020            complete                            03/21/2013 14:36:10.000000\n",
            "> 01_HOOFD_015            complete                            03/21/2013 14:36:10.000000\n",
            "> 03_GBH_005              complete                            03/21/2013 14:36:11.000000\n",
            "> 05_EIND_010             complete                            03/21/2013 14:36:11.000000\n",
            "> 16_LGSV_010             complete                            03/21/2013 14:36:11.000000\n",
            "> 06_VD_060_2a            complete                            04/02/2013 00:00:00.000000\n",
            "> 06_VD_030_5a            complete                            04/02/2013 00:00:00.000000\n",
            "> 02_DRZ_010              complete                            04/02/2013 14:17:14.000000\n",
            "> 01_HOOFD_030_1          complete                            04/02/2013 14:17:14.000000\n",
            "> 01_HOOFD_030_2          complete                            04/02/2013 14:17:14.000000\n",
            "> 04_BPT_005              complete                            04/02/2013 14:17:23.000000\n",
            "> 01_HOOFD_061            complete                            04/02/2013 14:17:23.000000\n",
            "> 01_HOOFD_065_0          complete                            04/02/2013 14:17:24.000000\n",
            "> 06_VD_010               complete                            04/02/2013 14:48:55.000000\n",
            "> 06_VD_020               complete                            04/02/2013 14:48:57.000000\n",
            "> 06_VD_030_1             complete                            04/02/2013 14:48:58.000000\n",
            "> 06_VD_030_1a            complete                            04/02/2013 14:49:28.000000\n",
            "> 06_VD_030_2             complete                            04/02/2013 14:49:29.000000\n",
            "> 06_VD_030_4             complete                            04/02/2013 14:50:31.000000\n",
            "> 06_VD_030_5             complete                            04/02/2013 14:50:32.000000\n",
            "> 03_VD_060_0             complete                            04/02/2013 14:50:36.000000\n",
            "> 06_VD_035               complete                            04/02/2013 14:50:36.000000\n",
            "> 06_VD_060_2             complete                            04/02/2013 14:50:36.000000\n",
            "> 06_VD_060_3             complete                            04/02/2013 14:50:44.000000\n",
            "> 01_HOOFD_110_0          complete                            04/18/2013 15:40:52.000000\n",
            "> 01_HOOFD_110_1          complete                            04/18/2013 15:40:55.000000\n",
            "> 01_HOOFD_180            complete                            04/18/2013 15:40:56.000000\n",
            "> 01_HOOFD_110_2          complete                            04/18/2013 15:40:56.000000\n",
            "> 08_AWB45_005            complete                            04/18/2013 15:41:00.000000\n",
            "> 08_AWB45_010            complete                            04/18/2013 15:41:02.000000\n",
            "> 08_AWB45_020_1          complete                            04/23/2013 00:00:00.000000\n",
            "> 08_AWB45_025            complete                            04/23/2013 00:00:00.000000\n",
            "> 08_AWB45_020_2          complete                            04/23/2013 12:36:01.000000\n",
            "> 08_AWB45_030            complete                            06/10/2013 00:00:00.000000\n",
            "> 08_AWB45_040            complete                            06/10/2013 00:00:00.000000\n",
            "> 08_AWB45_051_0          complete                            06/10/2013 00:00:00.000000\n",
            "> 08_AWB45_045            complete                            06/10/2013 00:00:00.000000\n",
            "> 01_HOOFD_193            complete                            06/12/2013 00:00:00.000000\n",
            "> 08_AWB45_005            complete                            06/12/2013 00:00:00.000000\n",
            "> 01_HOOFD_196            complete                            06/12/2013 00:00:00.000000\n",
            "> 01_HOOFD_200            complete                            06/12/2013 00:00:00.000000\n",
            "> 01_HOOFD_250_1          complete                            06/12/2013 00:00:00.000000\n",
            "> 01_HOOFD_190_1          complete                            06/12/2013 00:00:00.000000\n",
            "> 01_HOOFD_195            complete                            06/12/2013 00:00:00.000000\n",
            "> 01_HOOFD_190_2          complete                            06/12/2013 00:00:00.000000\n",
            "> 01_HOOFD_330            complete                            08/20/2013 00:00:00.000000\n",
            "> 09_AH_I_010             complete                            08/20/2013 00:00:00.000000\n",
            "> 01_HOOFD_380            complete                            08/20/2013 00:00:00.000000\n",
            "> 01_HOOFD_430            complete                            08/20/2013 00:00:00.000000\n",
            "> 11_AH_II_010            complete                            08/20/2013 00:00:00.000000\n",
            "> 13_CRD_010              complete                            08/20/2013 00:00:00.000000\n",
            "> 01_HOOFD_480            complete                            08/20/2013 00:00:00.000000\n",
            "> 01_HOOFD_490_2          complete                            08/20/2013 00:00:00.000000\n",
            "> 01_HOOFD_491            complete                            08/20/2013 00:00:00.000000\n",
            "> 01_HOOFD_500            complete                            08/20/2013 00:00:00.000000\n",
            "> 16_LGSD_010             complete                            08/20/2013 00:00:00.000000\n",
            "> 01_HOOFD_510_0          complete                            08/20/2013 00:00:00.000000\n",
            "> 01_HOOFD_490_5a         complete                            08/20/2013 00:00:00.000000\n",
            "> 01_HOOFD_510_2          complete                            08/20/2013 00:00:00.000000\n",
            "> 01_HOOFD_375            complete                            08/20/2013 00:00:00.000000\n",
            "> 01_HOOFD_510_1          complete                            08/20/2013 00:00:00.000000\n",
            "> 01_HOOFD_490_4          complete                            08/20/2013 00:00:00.000000\n",
            "> 01_HOOFD_370            complete                            08/20/2013 00:00:00.000000\n",
            "> 01_HOOFD_495            complete                            08/20/2013 00:00:00.000000\n",
            "> 01_HOOFD_490_1          complete                            08/20/2013 00:00:00.000000\n",
            "> 01_HOOFD_510_4          complete                            08/20/2013 00:00:00.000000\n",
            "> 01_HOOFD_250_2          complete                            08/20/2013 00:00:00.000000\n",
            "> 01_HOOFD_510_2a         complete                            08/20/2013 00:00:00.000000\n",
            "> 01_HOOFD_490_1a         complete                            08/20/2013 00:00:00.000000\n",
            "> 01_HOOFD_494a           complete                            08/20/2013 00:00:00.000000\n",
            "> 01_HOOFD_490_5          complete                            08/20/2013 16:01:22.000000\n",
            "> 01_HOOFD_519            complete                            10/10/2013 00:00:00.000000\n",
            "> 01_HOOFD_510_3          complete                            10/10/2013 00:00:00.000000\n",
            "> 01_HOOFD_515            complete                            10/10/2013 00:00:00.000000\n",
            "> 01_BB_540               complete                            10/29/2013 00:00:00.000000\n",
            "> 01_HOOFD_815            complete                            10/29/2013 00:00:00.000000\n",
            "> 01_HOOFD_809            complete                            10/29/2013 00:00:00.000000\n",
            "> 01_HOOFD_814            complete                            10/29/2013 00:00:00.000000\n",
            "> 01_BB_775               complete                            10/29/2013 00:00:00.000000\n",
            "> 01_HOOFD_820            complete                            10/29/2013 00:00:00.000000\n",
            "> 01_HOOFD_811            complete                            10/29/2013 00:00:00.000000\n",
            "> 01_BB_770               complete                            10/29/2013 13:38:48.000000\n",
            "> 01_HOOFD_810            complete                            10/29/2013 13:38:49.000000\n",
            "\n"
          ],
          "name": "stdout"
        },
        {
          "output_type": "stream",
          "text": [
            "\n"
          ],
          "name": "stderr"
        }
      ]
    },
    {
      "cell_type": "markdown",
      "metadata": {
        "id": "9qzhBokGdybu"
      },
      "source": [
        "### BPIC15_3 Log"
      ]
    },
    {
      "cell_type": "code",
      "metadata": {
        "colab": {
          "base_uri": "https://localhost:8080/"
        },
        "id": "M4xHI-JpQC_u",
        "outputId": "23c4fda1-68a6-4510-f23b-299b0ee5035e"
      },
      "source": [
        "log7 = xes.import_xes(g)\n",
        "verify_log(log7)"
      ],
      "execution_count": null,
      "outputs": [
        {
          "output_type": "stream",
          "text": [
            "22619it [00:00, 226186.44it/s]"
          ],
          "name": "stderr"
        },
        {
          "output_type": "stream",
          "text": [
            "Processing log...\n"
          ],
          "name": "stdout"
        },
        {
          "output_type": "stream",
          "text": [
            "1483078it [00:05, 274399.57it/s]"
          ],
          "name": "stderr"
        },
        {
          "output_type": "stream",
          "text": [
            "The log contains 1409 traces and 59681 events.\n",
            "Classifiers contained: {'Activity classifier': ['concept:name', 'lifecycle:transition'], 'Activity classifier activityNameNL': ['activityNameNL', 'lifecycle:transition'], 'Activity classifier activityNameEN': ['activityNameEN', 'lifecycle:transition'], 'Resource': ['org:resource']}\n",
            "TRACE_ID: 1037 (trace number 1037 )\n",
            "  concept:name            lifecycle:transition                time:timestamp \n",
            "> 01_HOOFD_010            complete                            10/18/2013 00:00:00.000000\n",
            "> 01_HOOFD_011            complete                            10/23/2013 00:00:00.000000\n",
            "> 01_HOOFD_020            complete                            10/23/2013 00:00:00.000000\n",
            "> 03_GBH_005              complete                            10/23/2013 00:00:00.000000\n",
            "> 01_HOOFD_030_1          complete                            10/23/2013 00:00:00.000000\n",
            "> 01_HOOFD_015            complete                            10/23/2013 00:00:00.000000\n",
            "> 01_HOOFD_030_2          complete                            10/23/2013 09:24:09.000000\n",
            "> 02_DRZ_010              complete                            11/12/2013 00:00:00.000000\n",
            "> 04_BPT_005              complete                            11/12/2013 00:00:00.000000\n",
            "> 04_BPT_010              complete                            11/12/2013 00:00:00.000000\n",
            "> 04_BPT_020              complete                            11/12/2013 00:00:00.000000\n",
            "> 04_BPT_030              complete                            11/12/2013 00:00:00.000000\n",
            "> 01_HOOFD_065_0          complete                            11/12/2013 00:00:00.000000\n",
            "> 01_HOOFD_090            complete                            11/12/2013 00:00:00.000000\n",
            "> 01_HOOFD_110_0          complete                            11/12/2013 00:00:00.000000\n",
            "> 04_BPT_029              complete                            11/12/2013 00:00:00.000000\n",
            "> 01_HOOFD_065_1          complete                            11/12/2013 00:00:00.000000\n",
            "> 01_HOOFD_110_1          complete                            11/12/2013 00:00:00.000000\n",
            "> 04_BPT_021              complete                            11/12/2013 00:00:00.000000\n",
            "> 01_HOOFD_180            complete                            01/09/2014 00:00:00.000000\n",
            "> 08_AWB45_005            complete                            01/09/2014 00:00:00.000000\n",
            "> 08_AWB45_010            complete                            01/09/2014 00:00:00.000000\n",
            "> 08_AWB45_020_0          complete                            01/09/2014 00:00:00.000000\n",
            "> 01_HOOFD_110_2          complete                            01/09/2014 00:00:00.000000\n",
            "> 08_AWB45_030            complete                            03/18/2014 00:00:00.000000\n",
            "> 08_AWB45_040            complete                            03/18/2014 00:00:00.000000\n",
            "> 08_AWB45_051_0          complete                            03/18/2014 00:00:00.000000\n",
            "> 08_AWB45_005            complete                            03/18/2014 00:00:00.000000\n",
            "> 01_HOOFD_196            complete                            03/18/2014 00:00:00.000000\n",
            "> 01_HOOFD_200            complete                            03/18/2014 00:00:00.000000\n",
            "> 01_HOOFD_330            complete                            03/18/2014 00:00:00.000000\n",
            "> 09_AH_I_010             complete                            03/18/2014 00:00:00.000000\n",
            "> 01_HOOFD_380            complete                            03/18/2014 00:00:00.000000\n",
            "> 01_HOOFD_446            complete                            03/18/2014 00:00:00.000000\n",
            "> 01_HOOFD_455            complete                            03/18/2014 00:00:00.000000\n",
            "> 10_UOV_010              complete                            03/18/2014 00:00:00.000000\n",
            "> 10_UOV_039              complete                            03/18/2014 00:00:00.000000\n",
            "> 10_UOV_050_0            complete                            03/18/2014 00:00:00.000000\n",
            "> 08_AWB45_020_1          complete                            03/18/2014 00:00:00.000000\n",
            "> 01_HOOFD_375            complete                            03/18/2014 00:00:00.000000\n",
            "> 01_HOOFD_460a           complete                            03/18/2014 00:00:00.000000\n",
            "> 01_HOOFD_370            complete                            03/18/2014 00:00:00.000000\n",
            "> 01_HOOFD_250_2          complete                            03/18/2014 00:00:00.000000\n",
            "> 10_UOV_040              complete                            03/18/2014 00:00:00.000000\n",
            "> 01_HOOFD_195            complete                            03/18/2014 00:00:00.000000\n",
            "> 01_HOOFD_459            complete                            03/18/2014 00:00:00.000000\n",
            "> 01_HOOFD_445            complete                            03/18/2014 00:00:00.000000\n",
            "> 01_HOOFD_465            complete                            03/18/2014 00:00:00.000000\n",
            "> 01_HOOFD_190_2          complete                            03/18/2014 00:00:00.000000\n",
            "> 01_HOOFD_440_1a         complete                            03/18/2014 00:00:00.000000\n",
            "> 01_HOOFD_440_2          complete                            03/18/2014 00:00:00.000000\n",
            "> 08_AWB45_045            complete                            03/18/2014 00:00:00.000000\n",
            "> 01_HOOFD_250_1          complete                            03/18/2014 00:00:00.000000\n",
            "> 01_HOOFD_190_1          complete                            03/18/2014 00:00:00.000000\n",
            "> 01_HOOFD_440_1          complete                            03/18/2014 00:00:00.000000\n",
            "> 08_AWB45_025            complete                            03/18/2014 00:00:00.000000\n",
            "> 08_AWB45_020_2          complete                            03/18/2014 08:07:08.000000\n",
            "> 01_HOOFD_450            complete                            03/18/2014 08:45:18.000000\n",
            "> 01_HOOFD_460            complete                            03/18/2014 08:45:42.000000\n",
            "> 10_UOV_050_2            complete                            03/20/2014 00:00:00.000000\n",
            "> 10_UOV_050_2a           complete                            03/20/2014 00:00:00.000000\n",
            "> 10_UOV_030              complete                            03/27/2014 00:00:00.000000\n",
            "> 10_UOV_030a             complete                            03/27/2014 00:00:00.000000\n",
            "> 10_UOV_060              complete                            05/08/2014 00:00:00.000000\n",
            "> 11_AH_II_010            complete                            05/08/2014 00:00:00.000000\n",
            "> 13_CRD_010              complete                            05/08/2014 00:00:00.000000\n",
            "> 01_HOOFD_490_2          complete                            05/08/2014 00:00:00.000000\n",
            "> 01_HOOFD_491            complete                            05/08/2014 00:00:00.000000\n",
            "> 01_HOOFD_500            complete                            05/08/2014 00:00:00.000000\n",
            "> 01_HOOFD_510_0          complete                            05/08/2014 00:00:00.000000\n",
            "> 01_HOOFD_490_1          complete                            05/08/2014 00:00:00.000000\n",
            "> 01_HOOFD_494a           complete                            05/08/2014 00:00:00.000000\n",
            "> 01_HOOFD_495            complete                            05/08/2014 00:00:00.000000\n",
            "> 01_HOOFD_490_1a         complete                            05/08/2014 00:00:00.000000\n",
            "> 01_HOOFD_510_3          complete                            05/08/2014 00:00:00.000000\n",
            "> 10_UOV_050_1            complete                            05/08/2014 00:00:00.000000\n",
            "> 01_HOOFD_809b           complete                            05/08/2014 00:00:00.000000\n",
            "> 01_HOOFD_490_4          complete                            05/08/2014 00:00:00.000000\n",
            "> 10_UOV_041b             complete                            05/08/2014 00:00:00.000000\n",
            "> 01_HOOFD_510_4          complete                            05/08/2014 00:00:00.000000\n",
            "> 01_HOOFD_515            complete                            05/08/2014 00:00:00.000000\n",
            "> 10_UOV_050_3            complete                            05/08/2014 00:00:00.000000\n",
            "> 01_HOOFD_510_1          complete                            05/08/2014 00:00:00.000000\n",
            "> 10_UOV_050_4            complete                            05/08/2014 14:13:11.000000\n",
            "> 01_HOOFD_510_2a         complete                            05/09/2014 00:00:00.000000\n",
            "> 01_HOOFD_490_5a         complete                            05/09/2014 00:00:00.000000\n",
            "> 01_HOOFD_510_2          complete                            05/09/2014 00:00:00.000000\n",
            "> 01_HOOFD_490_5          complete                            05/09/2014 00:00:00.000000\n",
            "> 01_HOOFD_516            complete                            05/22/2014 00:00:00.000000\n",
            "> 01_HOOFD_516a           complete                            05/22/2014 00:00:00.000000\n",
            "\n"
          ],
          "name": "stdout"
        },
        {
          "output_type": "stream",
          "text": [
            "\n"
          ],
          "name": "stderr"
        }
      ]
    },
    {
      "cell_type": "markdown",
      "metadata": {
        "id": "KQxR0N2KeEW2"
      },
      "source": [
        "### BPIC15_4 Log"
      ]
    },
    {
      "cell_type": "code",
      "metadata": {
        "colab": {
          "base_uri": "https://localhost:8080/"
        },
        "id": "cDOyzPIVQCzA",
        "outputId": "2aceb295-d59f-47c5-a8bc-90a325db9279"
      },
      "source": [
        "log8 = xes.import_xes(h)\n",
        "verify_log(log8)"
      ],
      "execution_count": null,
      "outputs": [
        {
          "output_type": "stream",
          "text": [
            "24106it [00:00, 240774.35it/s]"
          ],
          "name": "stderr"
        },
        {
          "output_type": "stream",
          "text": [
            "Processing log...\n"
          ],
          "name": "stdout"
        },
        {
          "output_type": "stream",
          "text": [
            "1171112it [00:04, 282651.45it/s]"
          ],
          "name": "stderr"
        },
        {
          "output_type": "stream",
          "text": [
            "The log contains 1053 traces and 47293 events.\n",
            "Classifiers contained: {'Activity classifier': ['concept:name', 'lifecycle:transition'], 'Activity classifier activityNameNL': ['activityNameNL', 'lifecycle:transition'], 'Activity classifier activityNameEN': ['activityNameEN', 'lifecycle:transition'], 'Resource': ['org:resource']}\n",
            "TRACE_ID: 684 (trace number 684 )\n",
            "  concept:name            lifecycle:transition                time:timestamp \n",
            "> 01_HOOFD_010            complete                            12/18/2012 00:00:00.000000\n",
            "> 01_HOOFD_011            complete                            12/20/2012 08:54:27.000000\n",
            "> 01_HOOFD_020            complete                            12/20/2012 08:54:28.000000\n",
            "> 03_GBH_005              complete                            12/20/2012 08:54:28.000000\n",
            "> 16_LGSV_010             complete                            12/20/2012 08:54:28.000000\n",
            "> 02_DRZ_010              complete                            12/20/2012 08:54:28.000000\n",
            "> 01_HOOFD_015            complete                            12/20/2012 08:54:28.000000\n",
            "> 04_BPT_005              complete                            12/20/2012 08:54:32.000000\n",
            "> 01_HOOFD_061            complete                            12/20/2012 08:54:32.000000\n",
            "> 01_HOOFD_065_0          complete                            12/20/2012 08:54:34.000000\n",
            "> 01_HOOFD_065_1          complete                            12/20/2012 08:54:35.000000\n",
            "> 01_HOOFD_110_0          complete                            12/20/2012 08:54:36.000000\n",
            "> 01_HOOFD_180            complete                            12/20/2012 08:54:36.000000\n",
            "> 08_AWB45_005            complete                            01/07/2013 09:14:08.000000\n",
            "> 01_HOOFD_196            complete                            01/07/2013 09:14:09.000000\n",
            "> 01_HOOFD_195            complete                            01/07/2013 09:14:09.000000\n",
            "> 01_HOOFD_200            complete                            01/07/2013 09:14:10.000000\n",
            "> 01_HOOFD_250_1          complete                            01/07/2013 09:14:13.000000\n",
            "> 01_HOOFD_250_2          complete                            01/07/2013 09:14:16.000000\n",
            "> 01_HOOFD_330            complete                            01/07/2013 09:14:35.000000\n",
            "> 09_AH_I_010             complete                            01/07/2013 09:14:35.000000\n",
            "> 01_HOOFD_380            complete                            01/07/2013 09:14:36.000000\n",
            "> 01_HOOFD_370            complete                            01/07/2013 09:14:36.000000\n",
            "> 01_HOOFD_375            complete                            01/07/2013 09:14:36.000000\n",
            "> 01_HOOFD_430            complete                            01/07/2013 09:14:37.000000\n",
            "> 11_AH_II_010            complete                            01/07/2013 09:14:37.000000\n",
            "> 13_CRD_010              complete                            01/07/2013 09:14:37.000000\n",
            "> 01_HOOFD_480            complete                            01/07/2013 09:14:37.000000\n",
            "> 01_HOOFD_490_1          complete                            01/07/2013 09:14:38.000000\n",
            "> 01_HOOFD_490_2          complete                            01/07/2013 09:14:40.000000\n",
            "> 01_HOOFD_490_1a         complete                            01/07/2013 09:14:40.000000\n",
            "> 01_HOOFD_490_5a         complete                            01/09/2013 00:00:00.000000\n",
            "> 01_HOOFD_491            complete                            01/09/2013 08:38:52.000000\n",
            "> 01_HOOFD_490_4          complete                            01/09/2013 08:38:52.000000\n",
            "> 01_HOOFD_490_5          complete                            01/09/2013 08:38:53.000000\n",
            "> 01_HOOFD_494a           complete                            01/09/2013 08:38:53.000000\n",
            "> 01_HOOFD_495            complete                            01/09/2013 08:38:58.000000\n",
            "> 01_HOOFD_500            complete                            01/09/2013 08:38:59.000000\n",
            "> 16_LGSD_010             complete                            01/09/2013 08:38:59.000000\n",
            "> 01_HOOFD_510_0          complete                            01/09/2013 08:38:59.000000\n",
            "> 01_HOOFD_510_1          complete                            01/09/2013 08:39:02.000000\n",
            "> 01_HOOFD_510_4          complete                            01/10/2013 00:00:00.000000\n",
            "> 01_HOOFD_510_2          complete                            01/10/2013 00:00:00.000000\n",
            "> 01_HOOFD_510_2a         complete                            01/10/2013 00:00:00.000000\n",
            "> 01_HOOFD_510_3          complete                            04/17/2013 09:30:05.000000\n",
            "> 01_HOOFD_519            complete                            04/17/2013 09:30:06.000000\n",
            "> 01_HOOFD_515            complete                            04/17/2013 09:30:06.000000\n",
            "> 01_BB_540               complete                            04/17/2013 09:30:27.000000\n",
            "> 01_BB_770               complete                            04/17/2013 09:30:27.000000\n",
            "> 01_BB_775               complete                            04/17/2013 09:30:30.000000\n",
            "> 01_HOOFD_809            complete                            04/17/2013 09:30:31.000000\n",
            "\n"
          ],
          "name": "stdout"
        },
        {
          "output_type": "stream",
          "text": [
            "\n"
          ],
          "name": "stderr"
        }
      ]
    },
    {
      "cell_type": "markdown",
      "metadata": {
        "id": "7PueuHameicP"
      },
      "source": [
        "### BPIC15_5 Log\n"
      ]
    },
    {
      "cell_type": "code",
      "metadata": {
        "colab": {
          "base_uri": "https://localhost:8080/"
        },
        "id": "iQPAanzJQCqD",
        "outputId": "36afc5d9-b2cd-4731-b307-248b07ba0ac9"
      },
      "source": [
        "log9 = xes.import_xes(i)\n",
        "verify_log(log9)"
      ],
      "execution_count": null,
      "outputs": [
        {
          "output_type": "stream",
          "text": [
            "19251it [00:00, 192454.20it/s]"
          ],
          "name": "stderr"
        },
        {
          "output_type": "stream",
          "text": [
            "Processing log...\n"
          ],
          "name": "stdout"
        },
        {
          "output_type": "stream",
          "text": [
            "1458092it [00:05, 287559.25it/s]"
          ],
          "name": "stderr"
        },
        {
          "output_type": "stream",
          "text": [
            "The log contains 1156 traces and 59083 events.\n",
            "Classifiers contained: {'Activity classifier': ['concept:name', 'lifecycle:transition'], 'Activity classifier activityNameNL': ['activityNameNL', 'lifecycle:transition'], 'Activity classifier activityNameEN': ['activityNameEN', 'lifecycle:transition'], 'Resource': ['org:resource']}\n",
            "TRACE_ID: 326 (trace number 326 )\n",
            "  concept:name            lifecycle:transition                time:timestamp \n",
            "> 01_HOOFD_010            complete                            12/13/2010 00:00:00.000000\n",
            "> 01_HOOFD_030_2          complete                            12/14/2010 00:00:00.000000\n",
            "> 01_HOOFD_015            complete                            12/14/2010 12:05:34.000000\n",
            "> 01_HOOFD_020            complete                            12/14/2010 12:05:51.000000\n",
            "> 01_HOOFD_030_1          complete                            12/14/2010 12:09:13.000000\n",
            "> 01_HOOFD_065_2          complete                            01/28/2011 00:00:00.000000\n",
            "> 01_HOOFD_100            complete                            01/28/2011 00:00:00.000000\n",
            "> 01_HOOFD_190_2          complete                            01/28/2011 00:00:00.000000\n",
            "> 01_HOOFD_040            complete                            01/28/2011 09:06:21.000000\n",
            "> 01_HOOFD_060            complete                            01/28/2011 09:06:25.000000\n",
            "> 01_HOOFD_065_1          complete                            01/28/2011 09:06:28.000000\n",
            "> 06_VD_010               complete                            01/28/2011 09:07:04.000000\n",
            "> 01_HOOFD_100            complete                            01/28/2011 09:07:08.000000\n",
            "> 01_HOOFD_110            complete                            01/28/2011 09:07:17.000000\n",
            "> 01_HOOFD_130            complete                            01/28/2011 09:07:20.000000\n",
            "> 01_HOOFD_050            complete                            01/28/2011 09:07:25.000000\n",
            "> 05_EIND_010             complete                            01/28/2011 09:07:27.000000\n",
            "> 01_HOOFD_120            complete                            01/28/2011 09:07:34.000000\n",
            "> 01_HOOFD_180            complete                            01/28/2011 09:07:39.000000\n",
            "> 01_HOOFD_190_1          complete                            01/28/2011 09:07:41.000000\n",
            "> 01_HOOFD_200            complete                            01/28/2011 09:07:55.000000\n",
            "> 01_HOOFD_205            complete                            01/28/2011 09:07:55.000000\n",
            "> 01_HOOFD_270            complete                            01/28/2011 09:08:04.000000\n",
            "> 01_HOOFD_250            complete                            01/28/2011 09:08:07.000000\n",
            "> 01_HOOFD_260            complete                            01/28/2011 09:08:08.000000\n",
            "> 09_AH_I_010             complete                            01/28/2011 09:08:11.000000\n",
            "> 01_HOOFD_375            complete                            01/28/2011 09:08:13.000000\n",
            "> 01_HOOFD_370            complete                            01/28/2011 09:08:13.000000\n",
            "> 01_HOOFD_380            complete                            01/28/2011 09:08:14.000000\n",
            "> 01_HOOFD_430            complete                            01/28/2011 09:08:16.000000\n",
            "> 01_HOOFD_470            complete                            01/28/2011 09:08:19.000000\n",
            "> 01_HOOFD_480            complete                            01/28/2011 09:08:20.000000\n",
            "> 01_HOOFD_490_1          complete                            01/28/2011 09:08:20.000000\n",
            "> 01_HOOFD_490_2          complete                            01/28/2011 09:08:22.000000\n",
            "> 01_HOOFD_490_3          complete                            02/01/2011 00:00:00.000000\n",
            "> 01_HOOFD_510_2          complete                            02/01/2011 00:00:00.000000\n",
            "> 01_HOOFD_500            complete                            02/01/2011 12:27:20.000000\n",
            "> 01_HOOFD_510_1          complete                            02/01/2011 12:28:30.000000\n",
            "> 01_HOOFD_520            complete                            02/01/2011 12:28:42.000000\n",
            "> 01_HOOFD_530            complete                            02/16/2011 00:00:00.000000\n",
            "> 01_BB_540               complete                            03/17/2011 15:59:12.000000\n",
            "> 01_HOOFD_790            complete                            03/17/2011 15:59:14.000000\n",
            "> 01_BB_770               complete                            03/17/2011 15:59:14.000000\n",
            "\n"
          ],
          "name": "stdout"
        },
        {
          "output_type": "stream",
          "text": [
            "\n"
          ],
          "name": "stderr"
        }
      ]
    },
    {
      "cell_type": "markdown",
      "metadata": {
        "id": "-A-xV0Oue3nT"
      },
      "source": [
        "### BPIC17 - Offer log"
      ]
    },
    {
      "cell_type": "code",
      "metadata": {
        "colab": {
          "base_uri": "https://localhost:8080/"
        },
        "id": "87awUqtQQCeY",
        "outputId": "112e5627-abe9-4770-cc8f-75e8240d8d51"
      },
      "source": [
        "log10 = xes.import_xes(j)\n",
        "verify_log(log10)"
      ],
      "execution_count": null,
      "outputs": [
        {
          "output_type": "stream",
          "text": [
            "30059it [00:00, 300589.57it/s]"
          ],
          "name": "stderr"
        },
        {
          "output_type": "stream",
          "text": [
            "Processing log...\n"
          ],
          "name": "stdout"
        },
        {
          "output_type": "stream",
          "text": [
            "4303894it [00:14, 293323.91it/s]"
          ],
          "name": "stderr"
        },
        {
          "output_type": "stream",
          "text": [
            "The log contains 42995 traces and 193849 events.\n",
            "Classifiers contained: {'Event Name': ['concept:name'], 'MXML Legacy Classifier': ['concept:name', 'lifecycle:transition'], 'Resource': ['org:resource']}\n",
            "TRACE_ID: 19730 (trace number 19730 )\n",
            "  concept:name            lifecycle:transition                time:timestamp \n",
            "> O_Create Offer          complete                            07/04/2016 09:20:37.057000\n",
            "> O_Created               complete                            07/04/2016 09:20:38.437000\n",
            "> O_Sent (mail and online)complete                            07/04/2016 09:21:15.343000\n",
            "> O_Cancelled             complete                            08/04/2016 06:00:13.764000\n",
            "\n"
          ],
          "name": "stdout"
        },
        {
          "output_type": "stream",
          "text": [
            "\n"
          ],
          "name": "stderr"
        }
      ]
    },
    {
      "cell_type": "markdown",
      "metadata": {
        "id": "PPdVEBC0fPtZ"
      },
      "source": [
        "### BPIC17 Log"
      ]
    },
    {
      "cell_type": "code",
      "metadata": {
        "id": "0GbL2aGIQTBh",
        "colab": {
          "base_uri": "https://localhost:8080/"
        },
        "outputId": "9098f66c-98f4-43ab-ea38-9d23968a09d5"
      },
      "source": [
        "log11 = xes.import_xes(k)\n",
        "verify_log(log11)"
      ],
      "execution_count": 46,
      "outputs": [
        {
          "output_type": "stream",
          "text": [
            "16673it [00:00, 166689.62it/s]"
          ],
          "name": "stderr"
        },
        {
          "output_type": "stream",
          "text": [
            "Processing log...\n"
          ],
          "name": "stdout"
        },
        {
          "output_type": "stream",
          "text": [
            "20586158it [01:10, 292374.01it/s]"
          ],
          "name": "stderr"
        },
        {
          "output_type": "stream",
          "text": [
            "The log contains 31509 traces and 1202267 events.\n",
            "Classifiers contained: {'Event Name': ['concept:name'], 'MXML Legacy Classifier': ['concept:name', 'lifecycle:transition'], 'Resource': ['org:resource']}\n",
            "TRACE_ID: Application_1953341305 (trace number 14708 )\n",
            "  concept:name               lifecycle:transition                time:timestamp \n",
            "> A_Create Application       complete                            07/04/2016 18:21:37.236000\n",
            "> A_Submitted                complete                            07/04/2016 18:21:37.293000\n",
            "> W_Handle leads             schedule                            07/04/2016 18:21:37.711000\n",
            "> W_Handle leads             withdraw                            07/04/2016 18:22:55.696000\n",
            "> W_Complete application     schedule                            07/04/2016 18:22:55.712000\n",
            "> A_Concept                  complete                            07/04/2016 18:22:55.719000\n",
            "> W_Complete application     start                               07/04/2016 18:30:48.870000\n",
            "> W_Complete application     suspend                             07/04/2016 18:31:51.497000\n",
            "> A_Accepted                 complete                            07/05/2016 16:38:44.056000\n",
            "> O_Create Offer             complete                            07/05/2016 16:40:53.603000\n",
            "> O_Created                  complete                            07/05/2016 16:40:54.952000\n",
            "> O_Sent (mail and online)   complete                            07/05/2016 16:41:11.776000\n",
            "> W_Complete application     ate_abort                           07/05/2016 16:41:11.791000\n",
            "> W_Call after offers        schedule                            07/05/2016 16:41:11.798000\n",
            "> W_Call after offers        start                               07/05/2016 16:41:11.800000\n",
            "> A_Complete                 complete                            07/05/2016 16:41:11.816000\n",
            "> W_Call after offers        suspend                             07/05/2016 16:42:50.730000\n",
            "> W_Call after offers        resume                              07/12/2016 07:18:59.914000\n",
            "> W_Call after offers        suspend                             07/12/2016 07:19:26.228000\n",
            "> W_Call after offers        ate_abort                           07/25/2016 13:38:45.456000\n",
            "> W_Validate application     schedule                            07/25/2016 13:38:45.466000\n",
            "> W_Validate application     start                               07/25/2016 13:38:45.469000\n",
            "> A_Validating               complete                            07/25/2016 13:38:46.280000\n",
            "> O_Returned                 complete                            07/25/2016 13:38:52.431000\n",
            "> W_Validate application     complete                            07/25/2016 13:42:30.045000\n",
            "> W_Call incomplete files    schedule                            07/25/2016 13:42:30.051000\n",
            "> W_Call incomplete files    start                               07/25/2016 13:42:30.052000\n",
            "> A_Incomplete               complete                            07/25/2016 13:42:30.054000\n",
            "> W_Call incomplete files    suspend                             07/25/2016 13:42:36.114000\n",
            "> W_Call incomplete files    resume                              07/25/2016 16:22:01.631000\n",
            "> W_Call incomplete files    suspend                             07/25/2016 16:23:50.901000\n",
            "> W_Call incomplete files    ate_abort                           07/26/2016 09:55:39.121000\n",
            "> W_Validate application     schedule                            07/26/2016 09:55:39.133000\n",
            "> W_Validate application     start                               07/26/2016 09:55:39.137000\n",
            "> A_Validating               complete                            07/26/2016 09:55:39.221000\n",
            "> W_Validate application     suspend                             07/26/2016 09:56:24.497000\n",
            "> A_Denied                   complete                            07/28/2016 12:16:21.577000\n",
            "> O_Refused                  complete                            07/28/2016 12:16:21.625000\n",
            "> W_Validate application     ate_abort                           07/28/2016 12:16:21.637000\n",
            "\n"
          ],
          "name": "stdout"
        },
        {
          "output_type": "stream",
          "text": [
            "\n"
          ],
          "name": "stderr"
        }
      ]
    },
    {
      "cell_type": "code",
      "metadata": {
        "colab": {
          "base_uri": "https://localhost:8080/"
        },
        "id": "_WjXCrDclDEx",
        "outputId": "e23caeb2-8b90-4547-8009-0c71d8fe714b"
      },
      "source": [
        "#print random trace\n",
        "idx = random.randint(0, len(log11.traces)-1)\n",
        "\n",
        "print('Concept name of the trace:', log11.traces[idx]['concept:name'])\n",
        "print('Events belonging to this trace:')\n",
        "for event in log11.get_traces()[idx]:\n",
        "  pprint(event)\n",
        "  print()"
      ],
      "execution_count": null,
      "outputs": [
        {
          "output_type": "stream",
          "text": [
            "Concept name of the trace: Application_598655970\n",
            "Events belonging to this trace:\n",
            "{'Action': 'Created',\n",
            " 'EventID': 'Application_598655970',\n",
            " 'EventOrigin': 'Application',\n",
            " 'concept:name': 'A_Create Application',\n",
            " 'lifecycle:transition': 'complete',\n",
            " 'org:resource': 'User_1',\n",
            " 'time:timestamp': datetime.datetime(2016, 10, 18, 19, 14, 25, 126000, tzinfo=datetime.timezone.utc)}\n",
            "\n",
            "{'Action': 'statechange',\n",
            " 'EventID': 'ApplState_222919653',\n",
            " 'EventOrigin': 'Application',\n",
            " 'concept:name': 'A_Submitted',\n",
            " 'lifecycle:transition': 'complete',\n",
            " 'org:resource': 'User_1',\n",
            " 'time:timestamp': datetime.datetime(2016, 10, 18, 19, 14, 25, 906000, tzinfo=datetime.timezone.utc)}\n",
            "\n",
            "{'Action': 'Created',\n",
            " 'EventID': 'Workitem_1524404378',\n",
            " 'EventOrigin': 'Workflow',\n",
            " 'concept:name': 'W_Handle leads',\n",
            " 'lifecycle:transition': 'schedule',\n",
            " 'org:resource': 'User_1',\n",
            " 'time:timestamp': datetime.datetime(2016, 10, 18, 19, 14, 26, 49000, tzinfo=datetime.timezone.utc)}\n",
            "\n",
            "{'Action': 'Deleted',\n",
            " 'EventID': 'Workitem_243445426',\n",
            " 'EventOrigin': 'Workflow',\n",
            " 'concept:name': 'W_Handle leads',\n",
            " 'lifecycle:transition': 'withdraw',\n",
            " 'org:resource': 'User_1',\n",
            " 'time:timestamp': datetime.datetime(2016, 10, 18, 19, 15, 32, 293000, tzinfo=datetime.timezone.utc)}\n",
            "\n",
            "{'Action': 'Created',\n",
            " 'EventID': 'Workitem_257773110',\n",
            " 'EventOrigin': 'Workflow',\n",
            " 'concept:name': 'W_Complete application',\n",
            " 'lifecycle:transition': 'schedule',\n",
            " 'org:resource': 'User_1',\n",
            " 'time:timestamp': datetime.datetime(2016, 10, 18, 19, 15, 32, 300000, tzinfo=datetime.timezone.utc)}\n",
            "\n",
            "{'Action': 'statechange',\n",
            " 'EventID': 'ApplState_135163505',\n",
            " 'EventOrigin': 'Application',\n",
            " 'concept:name': 'A_Concept',\n",
            " 'lifecycle:transition': 'complete',\n",
            " 'org:resource': 'User_1',\n",
            " 'time:timestamp': datetime.datetime(2016, 10, 18, 19, 15, 32, 304000, tzinfo=datetime.timezone.utc)}\n",
            "\n",
            "{'Action': 'statechange',\n",
            " 'EventID': 'ApplState_939884032',\n",
            " 'EventOrigin': 'Application',\n",
            " 'concept:name': 'A_Accepted',\n",
            " 'lifecycle:transition': 'complete',\n",
            " 'org:resource': 'User_80',\n",
            " 'time:timestamp': datetime.datetime(2016, 10, 19, 18, 49, 4, 819000, tzinfo=datetime.timezone.utc)}\n",
            "\n",
            "{'Accepted': False,\n",
            " 'Action': 'Created',\n",
            " 'CreditScore': 0,\n",
            " 'EventID': 'Offer_1776047615',\n",
            " 'EventOrigin': 'Offer',\n",
            " 'FirstWithdrawalAmount': 5500.0,\n",
            " 'MonthlyCost': 168.1,\n",
            " 'NumberOfTerms': 36,\n",
            " 'OfferedAmount': 5500.0,\n",
            " 'Selected': False,\n",
            " 'concept:name': 'O_Create Offer',\n",
            " 'lifecycle:transition': 'complete',\n",
            " 'org:resource': 'User_80',\n",
            " 'time:timestamp': datetime.datetime(2016, 10, 19, 18, 55, 33, 120000, tzinfo=datetime.timezone.utc)}\n",
            "\n",
            "{'Action': 'statechange',\n",
            " 'EventID': 'OfferState_486762412',\n",
            " 'EventOrigin': 'Offer',\n",
            " 'OfferID': 'Offer_1776047615',\n",
            " 'concept:name': 'O_Created',\n",
            " 'lifecycle:transition': 'complete',\n",
            " 'org:resource': 'User_80',\n",
            " 'time:timestamp': datetime.datetime(2016, 10, 19, 18, 55, 33, 676000, tzinfo=datetime.timezone.utc)}\n",
            "\n",
            "{'Action': 'statechange',\n",
            " 'EventID': 'OfferState_1307289447',\n",
            " 'EventOrigin': 'Offer',\n",
            " 'OfferID': 'Offer_1776047615',\n",
            " 'concept:name': 'O_Sent (mail and online)',\n",
            " 'lifecycle:transition': 'complete',\n",
            " 'org:resource': 'User_80',\n",
            " 'time:timestamp': datetime.datetime(2016, 10, 19, 18, 57, 37, 280000, tzinfo=datetime.timezone.utc)}\n",
            "\n",
            "{'Action': 'Deleted',\n",
            " 'EventID': 'Workitem_1773828967',\n",
            " 'EventOrigin': 'Workflow',\n",
            " 'concept:name': 'W_Complete application',\n",
            " 'lifecycle:transition': 'withdraw',\n",
            " 'org:resource': 'User_80',\n",
            " 'time:timestamp': datetime.datetime(2016, 10, 19, 18, 57, 37, 292000, tzinfo=datetime.timezone.utc)}\n",
            "\n",
            "{'Action': 'Created',\n",
            " 'EventID': 'Workitem_1146171423',\n",
            " 'EventOrigin': 'Workflow',\n",
            " 'concept:name': 'W_Call after offers',\n",
            " 'lifecycle:transition': 'schedule',\n",
            " 'org:resource': 'User_80',\n",
            " 'time:timestamp': datetime.datetime(2016, 10, 19, 18, 57, 37, 299000, tzinfo=datetime.timezone.utc)}\n",
            "\n",
            "{'Action': 'Obtained',\n",
            " 'EventID': 'Workitem_854099369',\n",
            " 'EventOrigin': 'Workflow',\n",
            " 'concept:name': 'W_Call after offers',\n",
            " 'lifecycle:transition': 'start',\n",
            " 'org:resource': 'User_80',\n",
            " 'time:timestamp': datetime.datetime(2016, 10, 19, 18, 57, 37, 301000, tzinfo=datetime.timezone.utc)}\n",
            "\n",
            "{'Action': 'statechange',\n",
            " 'EventID': 'ApplState_1717209794',\n",
            " 'EventOrigin': 'Application',\n",
            " 'concept:name': 'A_Complete',\n",
            " 'lifecycle:transition': 'complete',\n",
            " 'org:resource': 'User_80',\n",
            " 'time:timestamp': datetime.datetime(2016, 10, 19, 18, 57, 37, 302000, tzinfo=datetime.timezone.utc)}\n",
            "\n",
            "{'Action': 'Released',\n",
            " 'EventID': 'Workitem_1365083754',\n",
            " 'EventOrigin': 'Workflow',\n",
            " 'concept:name': 'W_Call after offers',\n",
            " 'lifecycle:transition': 'suspend',\n",
            " 'org:resource': 'User_80',\n",
            " 'time:timestamp': datetime.datetime(2016, 10, 19, 18, 59, 51, 677000, tzinfo=datetime.timezone.utc)}\n",
            "\n",
            "{'Action': 'Obtained',\n",
            " 'EventID': 'Workitem_452556833',\n",
            " 'EventOrigin': 'Workflow',\n",
            " 'concept:name': 'W_Call after offers',\n",
            " 'lifecycle:transition': 'resume',\n",
            " 'org:resource': 'User_49',\n",
            " 'time:timestamp': datetime.datetime(2016, 10, 24, 12, 51, 58, 470000, tzinfo=datetime.timezone.utc)}\n",
            "\n",
            "{'Action': 'Released',\n",
            " 'EventID': 'Workitem_1438649692',\n",
            " 'EventOrigin': 'Workflow',\n",
            " 'concept:name': 'W_Call after offers',\n",
            " 'lifecycle:transition': 'suspend',\n",
            " 'org:resource': 'User_49',\n",
            " 'time:timestamp': datetime.datetime(2016, 10, 24, 12, 52, 19, 942000, tzinfo=datetime.timezone.utc)}\n",
            "\n",
            "{'Action': 'statechange',\n",
            " 'EventID': 'ApplState_1138298125',\n",
            " 'EventOrigin': 'Application',\n",
            " 'concept:name': 'A_Cancelled',\n",
            " 'lifecycle:transition': 'complete',\n",
            " 'org:resource': 'User_58',\n",
            " 'time:timestamp': datetime.datetime(2016, 10, 24, 13, 48, 29, 990000, tzinfo=datetime.timezone.utc)}\n",
            "\n",
            "{'Action': 'statechange',\n",
            " 'EventID': 'OfferState_1511532589',\n",
            " 'EventOrigin': 'Offer',\n",
            " 'OfferID': 'Offer_1776047615',\n",
            " 'concept:name': 'O_Cancelled',\n",
            " 'lifecycle:transition': 'complete',\n",
            " 'org:resource': 'User_58',\n",
            " 'time:timestamp': datetime.datetime(2016, 10, 24, 13, 48, 30, 10000, tzinfo=datetime.timezone.utc)}\n",
            "\n",
            "{'Action': 'Deleted',\n",
            " 'EventID': 'Workitem_154157523',\n",
            " 'EventOrigin': 'Workflow',\n",
            " 'concept:name': 'W_Call after offers',\n",
            " 'lifecycle:transition': 'ate_abort',\n",
            " 'org:resource': 'User_58',\n",
            " 'time:timestamp': datetime.datetime(2016, 10, 24, 13, 48, 30, 18000, tzinfo=datetime.timezone.utc)}\n",
            "\n"
          ],
          "name": "stdout"
        }
      ]
    },
    {
      "cell_type": "code",
      "metadata": {
        "colab": {
          "base_uri": "https://localhost:8080/"
        },
        "id": "lCYm013wTsy7",
        "outputId": "ab7afaad-2624-4163-e497-6d9cbc7ccc33"
      },
      "source": [
        "trace_id = case_ids_['bpic17']\n",
        "print_specific_case2(log11, trace_id)"
      ],
      "execution_count": 47,
      "outputs": [
        {
          "output_type": "stream",
          "text": [
            "Concept name of the trace: Application_419883832\n",
            "Events belonging to this trace:\n",
            "{'Action': 'Created',\n",
            " 'EventID': 'Application_419883832',\n",
            " 'EventOrigin': 'Application',\n",
            " 'concept:name': 'A_Create Application',\n",
            " 'lifecycle:transition': 'complete',\n",
            " 'org:resource': 'User_46',\n",
            " 'time:timestamp': datetime.datetime(2016, 3, 30, 12, 15, 28, 708000, tzinfo=datetime.timezone.utc)}\n",
            "\n",
            "{'Action': 'Created',\n",
            " 'EventID': 'Workitem_1369577084',\n",
            " 'EventOrigin': 'Workflow',\n",
            " 'concept:name': 'W_Complete application',\n",
            " 'lifecycle:transition': 'schedule',\n",
            " 'org:resource': 'User_46',\n",
            " 'time:timestamp': datetime.datetime(2016, 3, 30, 12, 15, 28, 718000, tzinfo=datetime.timezone.utc)}\n",
            "\n",
            "{'Action': 'Obtained',\n",
            " 'EventID': 'Workitem_936047951',\n",
            " 'EventOrigin': 'Workflow',\n",
            " 'concept:name': 'W_Complete application',\n",
            " 'lifecycle:transition': 'start',\n",
            " 'org:resource': 'User_46',\n",
            " 'time:timestamp': datetime.datetime(2016, 3, 30, 12, 15, 28, 722000, tzinfo=datetime.timezone.utc)}\n",
            "\n",
            "{'Action': 'statechange',\n",
            " 'EventID': 'ApplState_374252998',\n",
            " 'EventOrigin': 'Application',\n",
            " 'concept:name': 'A_Concept',\n",
            " 'lifecycle:transition': 'complete',\n",
            " 'org:resource': 'User_46',\n",
            " 'time:timestamp': datetime.datetime(2016, 3, 30, 12, 15, 28, 730000, tzinfo=datetime.timezone.utc)}\n",
            "\n",
            "{'Action': 'statechange',\n",
            " 'EventID': 'ApplState_1443200745',\n",
            " 'EventOrigin': 'Application',\n",
            " 'concept:name': 'A_Accepted',\n",
            " 'lifecycle:transition': 'complete',\n",
            " 'org:resource': 'User_46',\n",
            " 'time:timestamp': datetime.datetime(2016, 3, 30, 12, 20, 43, 352000, tzinfo=datetime.timezone.utc)}\n",
            "\n",
            "{'Accepted': False,\n",
            " 'Action': 'Created',\n",
            " 'CreditScore': 0,\n",
            " 'EventID': 'Offer_2145781332',\n",
            " 'EventOrigin': 'Offer',\n",
            " 'FirstWithdrawalAmount': 2000.0,\n",
            " 'MonthlyCost': 204.86,\n",
            " 'NumberOfTerms': 120,\n",
            " 'OfferedAmount': 19500.0,\n",
            " 'Selected': False,\n",
            " 'concept:name': 'O_Create Offer',\n",
            " 'lifecycle:transition': 'complete',\n",
            " 'org:resource': 'User_46',\n",
            " 'time:timestamp': datetime.datetime(2016, 3, 30, 12, 28, 31, 131000, tzinfo=datetime.timezone.utc)}\n",
            "\n",
            "{'Action': 'statechange',\n",
            " 'EventID': 'OfferState_1098713979',\n",
            " 'EventOrigin': 'Offer',\n",
            " 'OfferID': 'Offer_2145781332',\n",
            " 'concept:name': 'O_Created',\n",
            " 'lifecycle:transition': 'complete',\n",
            " 'org:resource': 'User_46',\n",
            " 'time:timestamp': datetime.datetime(2016, 3, 30, 12, 28, 32, 359000, tzinfo=datetime.timezone.utc)}\n",
            "\n",
            "{'Action': 'statechange',\n",
            " 'EventID': 'ApplState_396073397',\n",
            " 'EventOrigin': 'Application',\n",
            " 'concept:name': 'A_Cancelled',\n",
            " 'lifecycle:transition': 'complete',\n",
            " 'org:resource': 'User_46',\n",
            " 'time:timestamp': datetime.datetime(2016, 3, 30, 12, 30, 27, 137000, tzinfo=datetime.timezone.utc)}\n",
            "\n",
            "{'Action': 'statechange',\n",
            " 'EventID': 'OfferState_1726498422',\n",
            " 'EventOrigin': 'Offer',\n",
            " 'OfferID': 'Offer_2145781332',\n",
            " 'concept:name': 'O_Cancelled',\n",
            " 'lifecycle:transition': 'complete',\n",
            " 'org:resource': 'User_46',\n",
            " 'time:timestamp': datetime.datetime(2016, 3, 30, 12, 30, 27, 161000, tzinfo=datetime.timezone.utc)}\n",
            "\n",
            "{'Action': 'Deleted',\n",
            " 'EventID': 'Workitem_969556786',\n",
            " 'EventOrigin': 'Workflow',\n",
            " 'concept:name': 'W_Complete application',\n",
            " 'lifecycle:transition': 'complete',\n",
            " 'org:resource': 'User_46',\n",
            " 'time:timestamp': datetime.datetime(2016, 3, 30, 12, 30, 27, 172000, tzinfo=datetime.timezone.utc)}\n",
            "\n"
          ],
          "name": "stdout"
        }
      ]
    },
    {
      "cell_type": "markdown",
      "metadata": {
        "id": "1oGJA_yQ7DRw"
      },
      "source": [
        "## 1.2 Importing and Verifying the Artifical Logs\n",
        "---"
      ]
    },
    {
      "cell_type": "markdown",
      "metadata": {
        "id": "KXiaLrj_TZd4"
      },
      "source": [
        "### A1"
      ]
    },
    {
      "cell_type": "code",
      "metadata": {
        "colab": {
          "base_uri": "https://localhost:8080/"
        },
        "id": "pKQsiFCE8Sb-",
        "outputId": "3daa703a-f951-4ab0-8160-188d773fe9fb"
      },
      "source": [
        "a1 = xes.import_xes(pa1)"
      ],
      "execution_count": 11,
      "outputs": [
        {
          "output_type": "stream",
          "text": [
            "51850it [00:00, 282345.52it/s]"
          ],
          "name": "stderr"
        },
        {
          "output_type": "stream",
          "text": [
            "Processing log...\n"
          ],
          "name": "stdout"
        },
        {
          "output_type": "stream",
          "text": [
            "\n"
          ],
          "name": "stderr"
        }
      ]
    },
    {
      "cell_type": "code",
      "metadata": {
        "colab": {
          "base_uri": "https://localhost:8080/"
        },
        "id": "LjtelJZVIYLZ",
        "outputId": "808ce464-2dfa-43df-8fcb-0bb97b191515"
      },
      "source": [
        "print(\"Traces:\", len(a1.traces), \"Events:\", len(a1.events))"
      ],
      "execution_count": 13,
      "outputs": [
        {
          "output_type": "stream",
          "text": [
            "Traces: 1104 Events: 11855\n"
          ],
          "name": "stdout"
        }
      ]
    },
    {
      "cell_type": "code",
      "metadata": {
        "colab": {
          "base_uri": "https://localhost:8080/"
        },
        "id": "FeULniRpD7mG",
        "outputId": "4f6ad99f-1585-495e-e8f6-9e8595e2c932"
      },
      "source": [
        "#print random event\n",
        "idx = random.randint(0, len(a1.traces)-1)\n",
        "pprint(a1.events[idx])                    # last idx 108, as seen in cell output"
      ],
      "execution_count": 14,
      "outputs": [
        {
          "output_type": "stream",
          "text": [
            "{'concept:name': 'Register+complete'}\n"
          ],
          "name": "stdout"
        }
      ]
    },
    {
      "cell_type": "code",
      "metadata": {
        "colab": {
          "base_uri": "https://localhost:8080/"
        },
        "id": "do1qyFX7Uhb5",
        "outputId": "f199854e-2e45-43fc-f6d1-dee783dd2d1c"
      },
      "source": [
        "print_reimport(a1)"
      ],
      "execution_count": 54,
      "outputs": [
        {
          "output_type": "stream",
          "text": [
            "29790it [00:00, 297894.60it/s]"
          ],
          "name": "stderr"
        },
        {
          "output_type": "stream",
          "text": [
            "Number of traces in the log: 1104\n",
            "Number of events in the log: 11855\n",
            "Classifiers in the log: {}\n",
            "\n",
            "Exporting and reimporting the log...\n",
            "Processing log...\n"
          ],
          "name": "stdout"
        },
        {
          "output_type": "stream",
          "text": [
            "\r51850it [00:00, 273761.37it/s]"
          ],
          "name": "stderr"
        },
        {
          "output_type": "stream",
          "text": [
            "\n",
            "Number of traces in the reimported log: 1104\n",
            "Number of events in the reimported log: 11855\n",
            "Classifiers in the reimported log: {}\n"
          ],
          "name": "stdout"
        },
        {
          "output_type": "stream",
          "text": [
            "\n"
          ],
          "name": "stderr"
        }
      ]
    },
    {
      "cell_type": "markdown",
      "metadata": {
        "id": "V3_QSkMU2AHr"
      },
      "source": [
        "### A2"
      ]
    },
    {
      "cell_type": "code",
      "metadata": {
        "colab": {
          "base_uri": "https://localhost:8080/"
        },
        "id": "t2ywO_x3TY89",
        "outputId": "0511b685-2dcc-4dba-b2c3-3d9548f0bec8"
      },
      "source": [
        "a2 = xes.import_xes(pa2)"
      ],
      "execution_count": null,
      "outputs": [
        {
          "output_type": "stream",
          "text": [
            "24477it [00:00, 244755.64it/s]"
          ],
          "name": "stderr"
        },
        {
          "output_type": "stream",
          "text": [
            "Processing log...\n"
          ],
          "name": "stdout"
        },
        {
          "output_type": "stream",
          "text": [
            "75566it [00:00, 283070.84it/s]\n"
          ],
          "name": "stderr"
        }
      ]
    },
    {
      "cell_type": "code",
      "metadata": {
        "colab": {
          "base_uri": "https://localhost:8080/"
        },
        "id": "EWNzbQklIUZ_",
        "outputId": "62613434-3076-4720-fc7d-68decdaa1824"
      },
      "source": [
        "print(\"Traces:\", len(a2.traces), \"Events:\", len(a2.events))"
      ],
      "execution_count": null,
      "outputs": [
        {
          "output_type": "stream",
          "text": [
            "Traces: 1104 Events: 11855\n"
          ],
          "name": "stdout"
        }
      ]
    },
    {
      "cell_type": "code",
      "metadata": {
        "colab": {
          "base_uri": "https://localhost:8080/"
        },
        "id": "u_ftpidJEge2",
        "outputId": "9e08bf87-0c23-450c-b76f-73f6bb72e4ca"
      },
      "source": [
        "#print random event\n",
        "idx = random.randint(0, len(a2.traces)-1)\n",
        "pprint(a2.events[idx])                    # last idx = 42, as seen in the cell output"
      ],
      "execution_count": null,
      "outputs": [
        {
          "output_type": "stream",
          "text": [
            "{'case:id': 42,\n",
            " 'concept:name': 'Inform User',\n",
            " 'lifecycle:transition': 'complete'}\n"
          ],
          "name": "stdout"
        }
      ]
    },
    {
      "cell_type": "code",
      "metadata": {
        "colab": {
          "base_uri": "https://localhost:8080/"
        },
        "id": "VcwwjQf_Esrk",
        "outputId": "0a75ea87-5009-4d5f-f550-d8e394280f05"
      },
      "source": [
        "a2.classifiers"
      ],
      "execution_count": null,
      "outputs": [
        {
          "output_type": "execute_result",
          "data": {
            "text/plain": [
              "{'(Name AND Transition)': ['concept:name', 'lifecycle:transition']}"
            ]
          },
          "metadata": {
            "tags": []
          },
          "execution_count": 32
        }
      ]
    },
    {
      "cell_type": "code",
      "metadata": {
        "colab": {
          "base_uri": "https://localhost:8080/"
        },
        "id": "gG0TUXEAEvlg",
        "outputId": "35b73d99-9048-468d-80db-4892902a9f8d"
      },
      "source": [
        "#build the set of event that is equal to the first event by our classifier\n",
        "first_classifier = list(a2.classifiers.keys())[0]\n",
        "equal_events = a2.filter_by_classifier(a2.events[0], first_classifier)\n",
        "verify_filter_by_classifier(a2, equal_events, first_classifier)"
      ],
      "execution_count": null,
      "outputs": [
        {
          "output_type": "execute_result",
          "data": {
            "text/plain": [
              "True"
            ]
          },
          "metadata": {
            "tags": []
          },
          "execution_count": 33
        }
      ]
    },
    {
      "cell_type": "markdown",
      "metadata": {
        "id": "lacpQoPZThKl"
      },
      "source": [
        "### B1"
      ]
    },
    {
      "cell_type": "code",
      "metadata": {
        "colab": {
          "base_uri": "https://localhost:8080/"
        },
        "id": "pfyi0_RjTY3U",
        "outputId": "048b4327-94fd-40e8-f6a1-50f21fb8a98e"
      },
      "source": [
        "b1 = xes.import_xes(pb1)"
      ],
      "execution_count": 15,
      "outputs": [
        {
          "output_type": "stream",
          "text": [
            "29230it [00:00, 291136.92it/s]"
          ],
          "name": "stderr"
        },
        {
          "output_type": "stream",
          "text": [
            "Processing log...\n"
          ],
          "name": "stdout"
        },
        {
          "output_type": "stream",
          "text": [
            "99278it [00:00, 200897.43it/s]\n"
          ],
          "name": "stderr"
        }
      ]
    },
    {
      "cell_type": "code",
      "metadata": {
        "colab": {
          "base_uri": "https://localhost:8080/"
        },
        "id": "MkNjWxN_rOyY",
        "outputId": "de7b31f6-88b3-43df-99b8-c0d35b8fc3c2"
      },
      "source": [
        "verify_log(b1)"
      ],
      "execution_count": null,
      "outputs": [
        {
          "output_type": "stream",
          "text": [
            "The log contains 1104 traces and 11855 events.\n",
            "Classifiers contained: {}\n",
            "TRACE_ID: 585 (trace number 644 )\n",
            "  concept:name               lifecycle:transition                time:timestamp \n",
            "> Register                   complete                            01/31/1970 07:05:37.243000\n",
            "> Analyze Defect             start                               01/31/1970 07:09:35.145000\n",
            "> Analyze Defect             complete                            01/31/1970 07:18:33.922000\n",
            "> Repair (Simple)            start                               01/31/1970 07:25:38.483000\n",
            "> Inform User                complete                            01/31/1970 07:42:36.022000\n",
            "> Repair (Simple)            complete                            01/31/1970 07:49:12.431000\n",
            "> Test Repair                start                               01/31/1970 07:52:11.268000\n",
            "> Test Repair                complete                            01/31/1970 08:00:07.120000\n",
            "> Archive Repair             complete                            01/31/1970 08:12:23.243000\n",
            "\n"
          ],
          "name": "stdout"
        }
      ]
    },
    {
      "cell_type": "code",
      "metadata": {
        "colab": {
          "base_uri": "https://localhost:8080/"
        },
        "id": "xfuDBT8FuLXM",
        "outputId": "72196685-7616-4fc1-ec1d-56918576db44"
      },
      "source": [
        "print_rand_trace(b1)"
      ],
      "execution_count": null,
      "outputs": [
        {
          "output_type": "stream",
          "text": [
            "Concept name of the trace: 48 (the same as the TRACE_ID below)\n",
            "TRACE_ID: 48 (trace number 527 )\n",
            "  concept:name               lifecycle:transition                time:timestamp \n",
            "> Register                   complete                            01/16/1970 15:13:21.730000\n",
            "> Analyze Defect             start                               01/16/1970 15:16:20.158000\n",
            "> Analyze Defect             complete                            01/16/1970 15:28:51.184000\n",
            "> Repair (Simple)            start                               01/16/1970 15:59:56.116000\n",
            "> Repair (Simple)            complete                            01/16/1970 16:09:42.081000\n",
            "> Test Repair                start                               01/16/1970 16:12:59.906000\n",
            "> Inform User                complete                            01/16/1970 16:20:27.840000\n",
            "> Test Repair                complete                            01/16/1970 16:27:08.720000\n",
            "> Restart Repair             complete                            01/16/1970 16:37:56.742000\n",
            "> Repair (Simple)            start                               01/16/1970 16:41:48.089000\n",
            "> Repair (Simple)            complete                            01/16/1970 16:50:39.195000\n",
            "> Test Repair                start                               01/16/1970 16:53:19.824000\n",
            "> Test Repair                complete                            01/16/1970 17:06:58.698000\n",
            "> Restart Repair             complete                            01/16/1970 17:14:29.855000\n",
            "> Repair (Simple)            start                               01/16/1970 17:18:22.109000\n",
            "> Repair (Simple)            complete                            01/16/1970 17:32:48.832000\n",
            "> Test Repair                start                               01/16/1970 17:35:15.231000\n",
            "> Test Repair                complete                            01/16/1970 17:46:49.136000\n",
            "> Archive Repair             complete                            01/16/1970 18:00:11.165000\n",
            "\n"
          ],
          "name": "stdout"
        }
      ]
    },
    {
      "cell_type": "code",
      "metadata": {
        "colab": {
          "base_uri": "https://localhost:8080/"
        },
        "id": "JhM0wJz6NhVn",
        "outputId": "b5d8e2aa-8ee0-457c-c22d-5685218fe942"
      },
      "source": [
        "trace_id = case_ids_[\"b1\"]\n",
        "print_specific_case(b1, trace_id) "
      ],
      "execution_count": 23,
      "outputs": [
        {
          "output_type": "stream",
          "text": [
            "Concept name of the trace: 48 (the same as the TRACE_ID below)\n",
            "TRACE_ID: 48 (trace number 527 )\n",
            "  concept:name               lifecycle:transition                time:timestamp \n",
            "> Register                   complete                            01/16/1970 15:13:21.730000\n",
            "> Analyze Defect             start                               01/16/1970 15:16:20.158000\n",
            "> Analyze Defect             complete                            01/16/1970 15:28:51.184000\n",
            "> Repair (Simple)            start                               01/16/1970 15:59:56.116000\n",
            "> Repair (Simple)            complete                            01/16/1970 16:09:42.081000\n",
            "> Test Repair                start                               01/16/1970 16:12:59.906000\n",
            "> Inform User                complete                            01/16/1970 16:20:27.840000\n",
            "> Test Repair                complete                            01/16/1970 16:27:08.720000\n",
            "> Restart Repair             complete                            01/16/1970 16:37:56.742000\n",
            "> Repair (Simple)            start                               01/16/1970 16:41:48.089000\n",
            "> Repair (Simple)            complete                            01/16/1970 16:50:39.195000\n",
            "> Test Repair                start                               01/16/1970 16:53:19.824000\n",
            "> Test Repair                complete                            01/16/1970 17:06:58.698000\n",
            "> Restart Repair             complete                            01/16/1970 17:14:29.855000\n",
            "> Repair (Simple)            start                               01/16/1970 17:18:22.109000\n",
            "> Repair (Simple)            complete                            01/16/1970 17:32:48.832000\n",
            "> Test Repair                start                               01/16/1970 17:35:15.231000\n",
            "> Test Repair                complete                            01/16/1970 17:46:49.136000\n",
            "> Archive Repair             complete                            01/16/1970 18:00:11.165000\n",
            "\n"
          ],
          "name": "stdout"
        }
      ]
    },
    {
      "cell_type": "markdown",
      "metadata": {
        "id": "753me7fS1337"
      },
      "source": [
        "### B2"
      ]
    },
    {
      "cell_type": "code",
      "metadata": {
        "colab": {
          "base_uri": "https://localhost:8080/"
        },
        "id": "mESBezPnTYyw",
        "outputId": "4756ea08-e9a5-4b49-a07c-159db0bb8a17"
      },
      "source": [
        "b2 = xes.import_xes(pb2)"
      ],
      "execution_count": 24,
      "outputs": [
        {
          "output_type": "stream",
          "text": [
            "29228it [00:00, 291329.39it/s]"
          ],
          "name": "stderr"
        },
        {
          "output_type": "stream",
          "text": [
            "Processing log...\n"
          ],
          "name": "stdout"
        },
        {
          "output_type": "stream",
          "text": [
            "99280it [00:00, 286396.51it/s]\n"
          ],
          "name": "stderr"
        }
      ]
    },
    {
      "cell_type": "code",
      "metadata": {
        "colab": {
          "base_uri": "https://localhost:8080/"
        },
        "id": "8Jcq6wLOtA2e",
        "outputId": "ee7e4ecf-0d35-4d1a-d7a2-97eb208c6566"
      },
      "source": [
        "verify_log(b2)"
      ],
      "execution_count": null,
      "outputs": [
        {
          "output_type": "stream",
          "text": [
            "The log contains 1104 traces and 11855 events.\n",
            "Classifiers contained: {'(Name AND Transition)': ['concept:name', 'lifecycle:transition']}\n",
            "TRACE_ID: 786 (trace number 867 )\n",
            "  concept:name               lifecycle:transition                time:timestamp \n",
            "> Register                   complete                            02/06/1970 09:18:18.719000\n",
            "> Analyze Defect             start                               02/06/1970 09:21:51.122000\n",
            "> Analyze Defect             complete                            02/06/1970 09:35:36.883000\n",
            "> Repair (Simple)            start                               02/06/1970 09:52:44.415000\n",
            "> Inform User                complete                            02/06/1970 10:05:17.988000\n",
            "> Repair (Simple)            complete                            02/06/1970 10:08:37.924000\n",
            "> Test Repair                start                               02/06/1970 10:12:12.798000\n",
            "> Test Repair                complete                            02/06/1970 10:20:29.509000\n",
            "> Archive Repair             complete                            02/06/1970 10:28:24.927000\n",
            "\n"
          ],
          "name": "stdout"
        }
      ]
    },
    {
      "cell_type": "code",
      "metadata": {
        "colab": {
          "base_uri": "https://localhost:8080/"
        },
        "id": "3T6PDfoztUk1",
        "outputId": "c5503ff3-8f91-4230-81a7-e2c374388901"
      },
      "source": [
        "print_rand_trace(b2)"
      ],
      "execution_count": null,
      "outputs": [
        {
          "output_type": "stream",
          "text": [
            "Concept name of the trace: 825 (the same as the TRACE_ID below)\n",
            "TRACE_ID: 825 (trace number 911 )\n",
            "  concept:name               lifecycle:transition                time:timestamp \n",
            "> Register                   complete                            02/08/1970 21:00:14.152000\n",
            "> Analyze Defect             start                               02/08/1970 21:02:31.053000\n",
            "> Analyze Defect             complete                            02/08/1970 21:13:51.115000\n",
            "> Repair (Simple)            start                               02/08/1970 21:43:41.416000\n",
            "> Repair (Simple)            complete                            02/08/1970 21:54:13.299000\n",
            "> Test Repair                start                               02/08/1970 21:58:27.104000\n",
            "> Test Repair                complete                            02/08/1970 22:09:12.265000\n",
            "> Inform User                complete                            02/08/1970 22:18:01.828000\n",
            "> Restart Repair             complete                            02/08/1970 22:22:50.041000\n",
            "> Repair (Simple)            start                               02/08/1970 22:25:33.783000\n",
            "> Repair (Simple)            complete                            02/08/1970 22:39:19.224000\n",
            "> Test Repair                start                               02/08/1970 22:40:48.601000\n",
            "> Test Repair                complete                            02/08/1970 22:48:51.991000\n",
            "> Restart Repair             complete                            02/08/1970 23:01:46.772000\n",
            "> Repair (Simple)            start                               02/08/1970 23:04:45.564000\n",
            "> Repair (Simple)            complete                            02/08/1970 23:21:30.890000\n",
            "> Test Repair                start                               02/08/1970 23:24:51.048000\n",
            "> Test Repair                complete                            02/08/1970 23:36:16.253000\n",
            "> Archive Repair             complete                            02/08/1970 23:43:42.848000\n",
            "\n"
          ],
          "name": "stdout"
        }
      ]
    },
    {
      "cell_type": "code",
      "metadata": {
        "colab": {
          "base_uri": "https://localhost:8080/"
        },
        "id": "xmntSf1ttazE",
        "outputId": "cd4ebf22-13a0-4684-9eca-440a221bf91d"
      },
      "source": [
        "b2.classifiers"
      ],
      "execution_count": null,
      "outputs": [
        {
          "output_type": "execute_result",
          "data": {
            "text/plain": [
              "{'(Name AND Transition)': ['concept:name', 'lifecycle:transition']}"
            ]
          },
          "metadata": {
            "tags": []
          },
          "execution_count": 40
        }
      ]
    },
    {
      "cell_type": "code",
      "metadata": {
        "colab": {
          "base_uri": "https://localhost:8080/"
        },
        "id": "YOgMuvggHhlx",
        "outputId": "0b4c69b0-a90a-49e1-ee56-d78da4310b65"
      },
      "source": [
        "#build the set of event that is equal to the first event by our classifier\n",
        "first_classifier = list(b2.classifiers.keys())[0]\n",
        "equal_events = b2.filter_by_classifier(b2.events[0], first_classifier)\n",
        "verify_filter_by_classifier(b2, equal_events, first_classifier)"
      ],
      "execution_count": null,
      "outputs": [
        {
          "output_type": "execute_result",
          "data": {
            "text/plain": [
              "True"
            ]
          },
          "metadata": {
            "tags": []
          },
          "execution_count": 41
        }
      ]
    },
    {
      "cell_type": "code",
      "metadata": {
        "colab": {
          "base_uri": "https://localhost:8080/"
        },
        "id": "vqHhrwusPyVK",
        "outputId": "9be2eedd-f064-411c-8bfe-eca49663342a"
      },
      "source": [
        "trace_id = case_ids_[\"b2\"]\n",
        "print_specific_case(b2, trace_id) "
      ],
      "execution_count": 25,
      "outputs": [
        {
          "output_type": "stream",
          "text": [
            "Concept name of the trace: 825 (the same as the TRACE_ID below)\n",
            "TRACE_ID: 825 (trace number 911 )\n",
            "  concept:name               lifecycle:transition                time:timestamp \n",
            "> Register                   complete                            02/08/1970 21:00:14.152000\n",
            "> Analyze Defect             start                               02/08/1970 21:02:31.053000\n",
            "> Analyze Defect             complete                            02/08/1970 21:13:51.115000\n",
            "> Repair (Simple)            start                               02/08/1970 21:43:41.416000\n",
            "> Repair (Simple)            complete                            02/08/1970 21:54:13.299000\n",
            "> Test Repair                start                               02/08/1970 21:58:27.104000\n",
            "> Test Repair                complete                            02/08/1970 22:09:12.265000\n",
            "> Inform User                complete                            02/08/1970 22:18:01.828000\n",
            "> Restart Repair             complete                            02/08/1970 22:22:50.041000\n",
            "> Repair (Simple)            start                               02/08/1970 22:25:33.783000\n",
            "> Repair (Simple)            complete                            02/08/1970 22:39:19.224000\n",
            "> Test Repair                start                               02/08/1970 22:40:48.601000\n",
            "> Test Repair                complete                            02/08/1970 22:48:51.991000\n",
            "> Restart Repair             complete                            02/08/1970 23:01:46.772000\n",
            "> Repair (Simple)            start                               02/08/1970 23:04:45.564000\n",
            "> Repair (Simple)            complete                            02/08/1970 23:21:30.890000\n",
            "> Test Repair                start                               02/08/1970 23:24:51.048000\n",
            "> Test Repair                complete                            02/08/1970 23:36:16.253000\n",
            "> Archive Repair             complete                            02/08/1970 23:43:42.848000\n",
            "\n"
          ],
          "name": "stdout"
        }
      ]
    },
    {
      "cell_type": "markdown",
      "metadata": {
        "id": "D9WncCzfTkOB"
      },
      "source": [
        "### C1"
      ]
    },
    {
      "cell_type": "code",
      "metadata": {
        "colab": {
          "base_uri": "https://localhost:8080/"
        },
        "id": "8QkcM-hSTYqm",
        "outputId": "7765bbed-9dca-43c8-e693-88e0cc8c3abd"
      },
      "source": [
        "c1 = xes.import_xes(pc1)"
      ],
      "execution_count": 26,
      "outputs": [
        {
          "output_type": "stream",
          "text": [
            "30084it [00:00, 300832.40it/s]"
          ],
          "name": "stderr"
        },
        {
          "output_type": "stream",
          "text": [
            "Processing log...\n"
          ],
          "name": "stdout"
        },
        {
          "output_type": "stream",
          "text": [
            "75564it [00:00, 302536.15it/s]\n"
          ],
          "name": "stderr"
        }
      ]
    },
    {
      "cell_type": "code",
      "metadata": {
        "colab": {
          "base_uri": "https://localhost:8080/"
        },
        "id": "ClALBbDxH5uA",
        "outputId": "17096ad1-cd7b-4849-ee9e-b02a425d9ae4"
      },
      "source": [
        "print(\"Traces:\", len(c1.traces), \"Events:\", len(c1.events))"
      ],
      "execution_count": null,
      "outputs": [
        {
          "output_type": "stream",
          "text": [
            "Traces: 1104 Events: 11855\n"
          ],
          "name": "stdout"
        }
      ]
    },
    {
      "cell_type": "code",
      "metadata": {
        "colab": {
          "base_uri": "https://localhost:8080/"
        },
        "id": "mhkYQFffH48F",
        "outputId": "277ddcaa-0e49-44cf-a3d6-0153cbedae3e"
      },
      "source": [
        "attributes = ['concept:name', 'org:resource']\n",
        "\n",
        "print_rand_trace(c1, attributes)"
      ],
      "execution_count": null,
      "outputs": [
        {
          "output_type": "stream",
          "text": [
            "Concept name of the trace: 64 (the same as the TRACE_ID below)\n",
            "TRACE_ID: 64 (trace number 705 )\n",
            "  concept:name               org:resource                        \n",
            "> Register+complete          System                              \n",
            "> Analyze Defect+start       Tester5                             \n",
            "> Analyze Defect+complete    Tester5                             \n",
            "> Repair (Complex)+start     SolverC2                            \n",
            "> Repair (Complex)+complete  SolverC2                            \n",
            "> Test Repair+start          Tester1                             \n",
            "> Test Repair+complete       Tester1                             \n",
            "> Inform User+complete       System                              \n",
            "> Archive Repair+complete    System                              \n",
            "\n"
          ],
          "name": "stdout"
        }
      ]
    },
    {
      "cell_type": "code",
      "metadata": {
        "colab": {
          "base_uri": "https://localhost:8080/"
        },
        "id": "yVPqadKBP_AY",
        "outputId": "bdaaceda-cfa2-42b3-c5b4-0c14e96a583c"
      },
      "source": [
        "trace_id = case_ids_[\"c1\"]\n",
        "attributes = ['concept:name', 'org:resource']\n",
        "print_specific_case(c1, trace_id, attributes) "
      ],
      "execution_count": 28,
      "outputs": [
        {
          "output_type": "stream",
          "text": [
            "Concept name of the trace: 64 (the same as the TRACE_ID below)\n",
            "TRACE_ID: 64 (trace number 705 )\n",
            "  concept:name               org:resource                        \n",
            "> Register+complete          System                              \n",
            "> Analyze Defect+start       Tester5                             \n",
            "> Analyze Defect+complete    Tester5                             \n",
            "> Repair (Complex)+start     SolverC2                            \n",
            "> Repair (Complex)+complete  SolverC2                            \n",
            "> Test Repair+start          Tester1                             \n",
            "> Test Repair+complete       Tester1                             \n",
            "> Inform User+complete       System                              \n",
            "> Archive Repair+complete    System                              \n",
            "\n"
          ],
          "name": "stdout"
        }
      ]
    },
    {
      "cell_type": "markdown",
      "metadata": {
        "id": "f-yQeTuC10KX"
      },
      "source": [
        "### C2"
      ]
    },
    {
      "cell_type": "code",
      "metadata": {
        "colab": {
          "base_uri": "https://localhost:8080/"
        },
        "id": "5v9DlwVcTYiu",
        "outputId": "ba668ad2-c7a4-4826-acf2-dec3f909bd8b"
      },
      "source": [
        "c2 = xes.import_xes(pc2)"
      ],
      "execution_count": 29,
      "outputs": [
        {
          "output_type": "stream",
          "text": [
            "27459it [00:00, 274588.95it/s]"
          ],
          "name": "stderr"
        },
        {
          "output_type": "stream",
          "text": [
            "Processing log...\n"
          ],
          "name": "stdout"
        },
        {
          "output_type": "stream",
          "text": [
            "99280it [00:00, 192316.09it/s]\n"
          ],
          "name": "stderr"
        }
      ]
    },
    {
      "cell_type": "code",
      "metadata": {
        "colab": {
          "base_uri": "https://localhost:8080/"
        },
        "id": "gNxfs3aBIee7",
        "outputId": "1c07b21e-3194-466f-bccc-ad8402cec20d"
      },
      "source": [
        "print(\"Traces:\", len(c2.traces), \"Events:\", len(c2.events))"
      ],
      "execution_count": null,
      "outputs": [
        {
          "output_type": "stream",
          "text": [
            "Traces: 1104 Events: 11855\n"
          ],
          "name": "stdout"
        }
      ]
    },
    {
      "cell_type": "code",
      "metadata": {
        "colab": {
          "base_uri": "https://localhost:8080/"
        },
        "id": "rREKMyeOIii_",
        "outputId": "79b4f235-cf4b-4447-984e-88a5d0c6c476"
      },
      "source": [
        "attributes = ['concept:name', 'lifecycle:transition', 'org:resource']\n",
        "\n",
        "print_rand_trace(c2, attributes)"
      ],
      "execution_count": null,
      "outputs": [
        {
          "output_type": "stream",
          "text": [
            "Concept name of the trace: 303 (the same as the TRACE_ID below)\n",
            "TRACE_ID: 303 (trace number 332 )\n",
            "  concept:name               lifecycle:transition                org:resource   \n",
            "> Register                   complete                            System         \n",
            "> Analyze Defect             start                               Tester6        \n",
            "> Analyze Defect             complete                            Tester6        \n",
            "> Repair (Complex)           start                               SolverC2       \n",
            "> Repair (Complex)           complete                            SolverC2       \n",
            "> Test Repair                start                               Tester3        \n",
            "> Inform User                complete                            System         \n",
            "> Test Repair                complete                            Tester3        \n",
            "> Archive Repair             complete                            System         \n",
            "\n"
          ],
          "name": "stdout"
        }
      ]
    },
    {
      "cell_type": "code",
      "metadata": {
        "colab": {
          "base_uri": "https://localhost:8080/"
        },
        "id": "Bxn3_q0-IpLQ",
        "outputId": "bd0597b3-182a-45f9-c6b2-8f8b2e6e9fa6"
      },
      "source": [
        "c2.classifiers"
      ],
      "execution_count": null,
      "outputs": [
        {
          "output_type": "execute_result",
          "data": {
            "text/plain": [
              "{'(Name AND Transition)': ['concept:name', 'lifecycle:transition']}"
            ]
          },
          "metadata": {
            "tags": []
          },
          "execution_count": 48
        }
      ]
    },
    {
      "cell_type": "code",
      "metadata": {
        "colab": {
          "base_uri": "https://localhost:8080/"
        },
        "id": "CMtVqZapIrls",
        "outputId": "296a66e7-2f4e-4741-b19e-c6a5fec6a960"
      },
      "source": [
        "#build the set of event that is equal to the first event by our classifier\n",
        "first_classifier = list(c2.classifiers.keys())[0]\n",
        "equal_events = c2.filter_by_classifier(c2.events[0], first_classifier)\n",
        "verify_filter_by_classifier(c2, equal_events, first_classifier)"
      ],
      "execution_count": null,
      "outputs": [
        {
          "output_type": "execute_result",
          "data": {
            "text/plain": [
              "True"
            ]
          },
          "metadata": {
            "tags": []
          },
          "execution_count": 49
        }
      ]
    },
    {
      "cell_type": "code",
      "metadata": {
        "colab": {
          "base_uri": "https://localhost:8080/"
        },
        "id": "1MZJYx1jQPqz",
        "outputId": "e4a99dfb-741d-4781-8c15-8a629ea071f9"
      },
      "source": [
        "trace_id = case_ids_[\"c2\"]\n",
        "attributes = ['concept:name', 'lifecycle:transition', 'org:resource']\n",
        "print_specific_case(c2, trace_id, attributes) "
      ],
      "execution_count": 30,
      "outputs": [
        {
          "output_type": "stream",
          "text": [
            "Concept name of the trace: 303 (the same as the TRACE_ID below)\n",
            "TRACE_ID: 303 (trace number 332 )\n",
            "  concept:name               lifecycle:transition                org:resource   \n",
            "> Register                   complete                            System         \n",
            "> Analyze Defect             start                               Tester6        \n",
            "> Analyze Defect             complete                            Tester6        \n",
            "> Repair (Complex)           start                               SolverC2       \n",
            "> Repair (Complex)           complete                            SolverC2       \n",
            "> Test Repair                start                               Tester3        \n",
            "> Inform User                complete                            System         \n",
            "> Test Repair                complete                            Tester3        \n",
            "> Archive Repair             complete                            System         \n",
            "\n"
          ],
          "name": "stdout"
        }
      ]
    },
    {
      "cell_type": "markdown",
      "metadata": {
        "id": "-AXjWT0pToRM"
      },
      "source": [
        "### D1"
      ]
    },
    {
      "cell_type": "code",
      "metadata": {
        "colab": {
          "base_uri": "https://localhost:8080/"
        },
        "id": "8iXqICocTYaw",
        "outputId": "1f89d055-7254-4e39-9a31-957ec832c4a8"
      },
      "source": [
        "d1 = xes.import_xes(pd1)"
      ],
      "execution_count": 31,
      "outputs": [
        {
          "output_type": "stream",
          "text": [
            "30818it [00:00, 308173.68it/s]"
          ],
          "name": "stderr"
        },
        {
          "output_type": "stream",
          "text": [
            "Processing log...\n"
          ],
          "name": "stdout"
        },
        {
          "output_type": "stream",
          "text": [
            "186902it [00:00, 300428.65it/s]\n"
          ],
          "name": "stderr"
        }
      ]
    },
    {
      "cell_type": "code",
      "metadata": {
        "colab": {
          "base_uri": "https://localhost:8080/"
        },
        "id": "9RrvZQ8KzDYC",
        "outputId": "d9023389-f0b0-4d85-ae12-df40f0ec21bc"
      },
      "source": [
        "verify_log(d1)"
      ],
      "execution_count": null,
      "outputs": [
        {
          "output_type": "stream",
          "text": [
            "The log contains 1104 traces and 11855 events.\n",
            "Classifiers contained: {}\n",
            "TRACE_ID: 509 (trace number 560 )\n",
            "  concept:name               lifecycle:transition                time:timestamp \n",
            "> Register                   complete                            01/22/1970 20:00:24.705000\n",
            "> Analyze Defect             start                               01/22/1970 20:03:52.606000\n",
            "> Analyze Defect             complete                            01/22/1970 20:17:07.951000\n",
            "> Repair (Complex)           start                               01/22/1970 20:45:16.945000\n",
            "> Inform User                complete                            01/22/1970 20:56:12.937000\n",
            "> Repair (Complex)           complete                            01/22/1970 21:04:28.192000\n",
            "> Test Repair                start                               01/22/1970 21:06:02.979000\n",
            "> Test Repair                complete                            01/22/1970 21:15:32.656000\n",
            "> Archive Repair             complete                            01/22/1970 21:24:42.419000\n",
            "\n"
          ],
          "name": "stdout"
        }
      ]
    },
    {
      "cell_type": "code",
      "metadata": {
        "colab": {
          "base_uri": "https://localhost:8080/"
        },
        "id": "iq9120OkzdgQ",
        "outputId": "edd14be2-c802-4a73-c47c-ff69cf915d56"
      },
      "source": [
        "#print random trace\n",
        "idx = random.randint(0, len(d1.traces)-1)\n",
        "\n",
        "print('Concept name of the trace:', d1.traces[idx]['concept:name'])\n",
        "print('Events belonging to this trace:')\n",
        "for event in d1.get_traces()[idx]:\n",
        "  pprint(event)\n",
        "  print()"
      ],
      "execution_count": null,
      "outputs": [
        {
          "output_type": "stream",
          "text": [
            "Concept name of the trace: 1013\n",
            "Events belonging to this trace:\n",
            "{'concept:instance': 'instance 1',\n",
            " 'concept:name': 'Register',\n",
            " 'lifecycle:transition': 'complete',\n",
            " 'org:group': 'Group -',\n",
            " 'org:resource': 'System',\n",
            " 'time:timestamp': datetime.datetime(1970, 1, 22, 9, 48, 43, 825000, tzinfo=datetime.timezone(datetime.timedelta(0, 3600)))}\n",
            "\n",
            "{'concept:instance': 'instance 1',\n",
            " 'concept:name': 'Analyze Defect',\n",
            " 'lifecycle:transition': 'start',\n",
            " 'org:group': 'Groups 2 and 4',\n",
            " 'org:resource': 'Tester6',\n",
            " 'org:role': 'Role 9',\n",
            " 'time:timestamp': datetime.datetime(1970, 1, 22, 9, 51, 35, 829000, tzinfo=datetime.timezone(datetime.timedelta(0, 3600)))}\n",
            "\n",
            "{'concept:instance': 'instance 1',\n",
            " 'concept:name': 'Analyze Defect',\n",
            " 'lifecycle:transition': 'complete',\n",
            " 'org:group': 'Groups 2 and 4',\n",
            " 'org:resource': 'Tester6',\n",
            " 'org:role': 'Role 9',\n",
            " 'time:timestamp': datetime.datetime(1970, 1, 22, 10, 1, 23, 520000, tzinfo=datetime.timezone(datetime.timedelta(0, 3600)))}\n",
            "\n",
            "{'concept:instance': 'instance 1',\n",
            " 'concept:name': 'Repair (Complex)',\n",
            " 'lifecycle:transition': 'start',\n",
            " 'org:group': 'Groups 1, 3, and 5',\n",
            " 'org:resource': 'SolverC3',\n",
            " 'org:role': 'Role 10',\n",
            " 'time:timestamp': datetime.datetime(1970, 1, 22, 10, 30, 2, 679000, tzinfo=datetime.timezone(datetime.timedelta(0, 3600)))}\n",
            "\n",
            "{'concept:instance': 'instance 1',\n",
            " 'concept:name': 'Inform User',\n",
            " 'lifecycle:transition': 'complete',\n",
            " 'org:group': 'Group -',\n",
            " 'org:resource': 'System',\n",
            " 'time:timestamp': datetime.datetime(1970, 1, 22, 10, 48, 32, 366000, tzinfo=datetime.timezone(datetime.timedelta(0, 3600)))}\n",
            "\n",
            "{'concept:instance': 'instance 1',\n",
            " 'concept:name': 'Repair (Complex)',\n",
            " 'lifecycle:transition': 'complete',\n",
            " 'org:group': 'Groups 1, 3, and 5',\n",
            " 'org:resource': 'SolverC3',\n",
            " 'org:role': 'Role 10',\n",
            " 'time:timestamp': datetime.datetime(1970, 1, 22, 11, 18, 8, 573000, tzinfo=datetime.timezone(datetime.timedelta(0, 3600)))}\n",
            "\n",
            "{'concept:instance': 'instance 1',\n",
            " 'concept:name': 'Test Repair',\n",
            " 'lifecycle:transition': 'start',\n",
            " 'org:group': 'Groups 2 and 4',\n",
            " 'org:resource': 'Tester2',\n",
            " 'org:role': 'Role 9',\n",
            " 'time:timestamp': datetime.datetime(1970, 1, 22, 11, 20, 23, 480000, tzinfo=datetime.timezone(datetime.timedelta(0, 3600)))}\n",
            "\n",
            "{'concept:instance': 'instance 1',\n",
            " 'concept:name': 'Test Repair',\n",
            " 'lifecycle:transition': 'complete',\n",
            " 'org:group': 'Groups 2 and 4',\n",
            " 'org:resource': 'Tester2',\n",
            " 'org:role': 'Role 9',\n",
            " 'time:timestamp': datetime.datetime(1970, 1, 22, 11, 32, 22, 903000, tzinfo=datetime.timezone(datetime.timedelta(0, 3600)))}\n",
            "\n"
          ],
          "name": "stdout"
        }
      ]
    },
    {
      "cell_type": "code",
      "metadata": {
        "colab": {
          "base_uri": "https://localhost:8080/"
        },
        "id": "RQc0jnS3Qi58",
        "outputId": "fa3fafaa-2129-460b-c25d-afbfedca5a36"
      },
      "source": [
        "trace_id = case_ids_['d1']\n",
        "print_specific_case2(d1, trace_id)"
      ],
      "execution_count": 39,
      "outputs": [
        {
          "output_type": "stream",
          "text": [
            "Concept name of the trace: 1013\n",
            "Events belonging to this trace:\n",
            "{'concept:instance': 'instance 1',\n",
            " 'concept:name': 'Register',\n",
            " 'lifecycle:transition': 'complete',\n",
            " 'org:group': 'Group -',\n",
            " 'org:resource': 'System',\n",
            " 'time:timestamp': datetime.datetime(1970, 1, 22, 9, 48, 43, 825000, tzinfo=datetime.timezone(datetime.timedelta(seconds=3600)))}\n",
            "\n",
            "{'concept:instance': 'instance 1',\n",
            " 'concept:name': 'Analyze Defect',\n",
            " 'lifecycle:transition': 'start',\n",
            " 'org:group': 'Groups 2 and 4',\n",
            " 'org:resource': 'Tester6',\n",
            " 'org:role': 'Role 9',\n",
            " 'time:timestamp': datetime.datetime(1970, 1, 22, 9, 51, 35, 829000, tzinfo=datetime.timezone(datetime.timedelta(seconds=3600)))}\n",
            "\n",
            "{'concept:instance': 'instance 1',\n",
            " 'concept:name': 'Analyze Defect',\n",
            " 'lifecycle:transition': 'complete',\n",
            " 'org:group': 'Groups 2 and 4',\n",
            " 'org:resource': 'Tester6',\n",
            " 'org:role': 'Role 9',\n",
            " 'time:timestamp': datetime.datetime(1970, 1, 22, 10, 1, 23, 520000, tzinfo=datetime.timezone(datetime.timedelta(seconds=3600)))}\n",
            "\n",
            "{'concept:instance': 'instance 1',\n",
            " 'concept:name': 'Repair (Complex)',\n",
            " 'lifecycle:transition': 'start',\n",
            " 'org:group': 'Groups 1, 3, and 5',\n",
            " 'org:resource': 'SolverC3',\n",
            " 'org:role': 'Role 10',\n",
            " 'time:timestamp': datetime.datetime(1970, 1, 22, 10, 30, 2, 679000, tzinfo=datetime.timezone(datetime.timedelta(seconds=3600)))}\n",
            "\n",
            "{'concept:instance': 'instance 1',\n",
            " 'concept:name': 'Inform User',\n",
            " 'lifecycle:transition': 'complete',\n",
            " 'org:group': 'Group -',\n",
            " 'org:resource': 'System',\n",
            " 'time:timestamp': datetime.datetime(1970, 1, 22, 10, 48, 32, 366000, tzinfo=datetime.timezone(datetime.timedelta(seconds=3600)))}\n",
            "\n",
            "{'concept:instance': 'instance 1',\n",
            " 'concept:name': 'Repair (Complex)',\n",
            " 'lifecycle:transition': 'complete',\n",
            " 'org:group': 'Groups 1, 3, and 5',\n",
            " 'org:resource': 'SolverC3',\n",
            " 'org:role': 'Role 10',\n",
            " 'time:timestamp': datetime.datetime(1970, 1, 22, 11, 18, 8, 573000, tzinfo=datetime.timezone(datetime.timedelta(seconds=3600)))}\n",
            "\n",
            "{'concept:instance': 'instance 1',\n",
            " 'concept:name': 'Test Repair',\n",
            " 'lifecycle:transition': 'start',\n",
            " 'org:group': 'Groups 2 and 4',\n",
            " 'org:resource': 'Tester2',\n",
            " 'org:role': 'Role 9',\n",
            " 'time:timestamp': datetime.datetime(1970, 1, 22, 11, 20, 23, 480000, tzinfo=datetime.timezone(datetime.timedelta(seconds=3600)))}\n",
            "\n",
            "{'concept:instance': 'instance 1',\n",
            " 'concept:name': 'Test Repair',\n",
            " 'lifecycle:transition': 'complete',\n",
            " 'org:group': 'Groups 2 and 4',\n",
            " 'org:resource': 'Tester2',\n",
            " 'org:role': 'Role 9',\n",
            " 'time:timestamp': datetime.datetime(1970, 1, 22, 11, 32, 22, 903000, tzinfo=datetime.timezone(datetime.timedelta(seconds=3600)))}\n",
            "\n"
          ],
          "name": "stdout"
        }
      ]
    },
    {
      "cell_type": "markdown",
      "metadata": {
        "id": "6PWYguRv1taS"
      },
      "source": [
        "### D2"
      ]
    },
    {
      "cell_type": "code",
      "metadata": {
        "colab": {
          "base_uri": "https://localhost:8080/"
        },
        "id": "ZyaxinlNTYSL",
        "outputId": "b82f7e6c-c907-4ea0-aa17-9d6086c0eb8d"
      },
      "source": [
        "d2 = xes.import_xes(pd2)"
      ],
      "execution_count": 40,
      "outputs": [
        {
          "output_type": "stream",
          "text": [
            "29580it [00:00, 295795.35it/s]"
          ],
          "name": "stderr"
        },
        {
          "output_type": "stream",
          "text": [
            "Processing log...\n"
          ],
          "name": "stdout"
        },
        {
          "output_type": "stream",
          "text": [
            "186904it [00:00, 295621.55it/s]\n"
          ],
          "name": "stderr"
        }
      ]
    },
    {
      "cell_type": "code",
      "metadata": {
        "colab": {
          "base_uri": "https://localhost:8080/"
        },
        "id": "E6JRsEgHzEoe",
        "outputId": "ab8bf179-e091-4ef3-c2d3-1a099b54b9ce"
      },
      "source": [
        "verify_log(d2)"
      ],
      "execution_count": null,
      "outputs": [
        {
          "output_type": "stream",
          "text": [
            "The log contains 1104 traces and 11855 events.\n",
            "Classifiers contained: {'(Name AND Transition)': ['concept:name', 'lifecycle:transition']}\n",
            "TRACE_ID: 428 (trace number 470 )\n",
            "  concept:name               lifecycle:transition                time:timestamp \n",
            "> Register                   complete                            01/17/1970 20:05:57.805000\n",
            "> Analyze Defect             start                               01/17/1970 20:08:23.402000\n",
            "> Analyze Defect             complete                            01/17/1970 20:19:55.587000\n",
            "> Repair (Complex)           start                               01/17/1970 20:32:09.131000\n",
            "> Inform User                complete                            01/17/1970 20:40:12.865000\n",
            "> Repair (Complex)           complete                            01/17/1970 21:16:53.905000\n",
            "> Test Repair                start                               01/17/1970 21:18:07.871000\n",
            "> Test Repair                complete                            01/17/1970 21:26:20.441000\n",
            "> Archive Repair             complete                            01/17/1970 21:34:50.197000\n",
            "\n"
          ],
          "name": "stdout"
        }
      ]
    },
    {
      "cell_type": "code",
      "metadata": {
        "colab": {
          "base_uri": "https://localhost:8080/"
        },
        "id": "2Ofmmsxizehq",
        "outputId": "f8005753-5f97-4f84-e50c-a5c1568dd60a"
      },
      "source": [
        "#print random trace\n",
        "idx = random.randint(0, len(d2.traces)-1)\n",
        "\n",
        "print('Concept name of the trace:', d2.traces[idx]['concept:name'])\n",
        "print('Events belonging to this trace:')\n",
        "for event in d2.get_traces()[idx]:\n",
        "  pprint(event)\n",
        "  print()"
      ],
      "execution_count": null,
      "outputs": [
        {
          "output_type": "stream",
          "text": [
            "Concept name of the trace: 190\n",
            "Events belonging to this trace:\n",
            "{'concept:instance': 'instance 1',\n",
            " 'concept:name': 'Register',\n",
            " 'lifecycle:transition': 'complete',\n",
            " 'org:group': 'Group -',\n",
            " 'org:resource': 'System',\n",
            " 'time:timestamp': datetime.datetime(1970, 1, 8, 6, 39, 51, 325000, tzinfo=datetime.timezone(datetime.timedelta(0, 3600)))}\n",
            "\n",
            "{'concept:instance': 'instance 1',\n",
            " 'concept:name': 'Analyze Defect',\n",
            " 'lifecycle:transition': 'start',\n",
            " 'org:group': 'Groups 2 and 4',\n",
            " 'org:resource': 'Tester3',\n",
            " 'org:role': 'Role 9',\n",
            " 'time:timestamp': datetime.datetime(1970, 1, 8, 6, 42, 18, 603000, tzinfo=datetime.timezone(datetime.timedelta(0, 3600)))}\n",
            "\n",
            "{'concept:instance': 'instance 1',\n",
            " 'concept:name': 'Analyze Defect',\n",
            " 'lifecycle:transition': 'complete',\n",
            " 'org:group': 'Groups 2 and 4',\n",
            " 'org:resource': 'Tester3',\n",
            " 'org:role': 'Role 9',\n",
            " 'time:timestamp': datetime.datetime(1970, 1, 8, 6, 51, 11, 283000, tzinfo=datetime.timezone(datetime.timedelta(0, 3600)))}\n",
            "\n",
            "{'concept:instance': 'instance 1',\n",
            " 'concept:name': 'Inform User',\n",
            " 'lifecycle:transition': 'complete',\n",
            " 'org:group': 'Group -',\n",
            " 'org:resource': 'System',\n",
            " 'time:timestamp': datetime.datetime(1970, 1, 8, 7, 11, 24, 236000, tzinfo=datetime.timezone(datetime.timedelta(0, 3600)))}\n",
            "\n",
            "{'concept:instance': 'instance 1',\n",
            " 'concept:name': 'Repair (Complex)',\n",
            " 'lifecycle:transition': 'start',\n",
            " 'org:group': 'Groups 1, 3, and 5',\n",
            " 'org:resource': 'SolverC1',\n",
            " 'org:role': 'Role 10',\n",
            " 'time:timestamp': datetime.datetime(1970, 1, 8, 7, 17, 50, 607000, tzinfo=datetime.timezone(datetime.timedelta(0, 3600)))}\n",
            "\n",
            "{'concept:instance': 'instance 1',\n",
            " 'concept:name': 'Repair (Complex)',\n",
            " 'lifecycle:transition': 'complete',\n",
            " 'org:group': 'Groups 1, 3, and 5',\n",
            " 'org:resource': 'SolverC1',\n",
            " 'org:role': 'Role 10',\n",
            " 'time:timestamp': datetime.datetime(1970, 1, 8, 7, 30, 18, 378000, tzinfo=datetime.timezone(datetime.timedelta(0, 3600)))}\n",
            "\n",
            "{'concept:instance': 'instance 1',\n",
            " 'concept:name': 'Test Repair',\n",
            " 'lifecycle:transition': 'start',\n",
            " 'org:group': 'Groups 2 and 4',\n",
            " 'org:resource': 'Tester5',\n",
            " 'org:role': 'Role 9',\n",
            " 'time:timestamp': datetime.datetime(1970, 1, 8, 7, 33, 18, 33000, tzinfo=datetime.timezone(datetime.timedelta(0, 3600)))}\n",
            "\n",
            "{'concept:instance': 'instance 1',\n",
            " 'concept:name': 'Test Repair',\n",
            " 'lifecycle:transition': 'complete',\n",
            " 'org:group': 'Groups 2 and 4',\n",
            " 'org:resource': 'Tester5',\n",
            " 'org:role': 'Role 9',\n",
            " 'time:timestamp': datetime.datetime(1970, 1, 8, 7, 44, 19, 747000, tzinfo=datetime.timezone(datetime.timedelta(0, 3600)))}\n",
            "\n",
            "{'concept:instance': 'instance 1',\n",
            " 'concept:name': 'Archive Repair',\n",
            " 'lifecycle:transition': 'complete',\n",
            " 'org:group': 'Group -',\n",
            " 'org:resource': 'System',\n",
            " 'time:timestamp': datetime.datetime(1970, 1, 8, 7, 51, 32, 69000, tzinfo=datetime.timezone(datetime.timedelta(0, 3600)))}\n",
            "\n"
          ],
          "name": "stdout"
        }
      ]
    },
    {
      "cell_type": "code",
      "metadata": {
        "colab": {
          "base_uri": "https://localhost:8080/"
        },
        "id": "iMOcrcht1jA3",
        "outputId": "5c666d09-b2d1-4bbe-9816-5e907595ed10"
      },
      "source": [
        "d2.classifiers"
      ],
      "execution_count": null,
      "outputs": [
        {
          "output_type": "execute_result",
          "data": {
            "text/plain": [
              "{'(Name AND Transition)': ['concept:name', 'lifecycle:transition']}"
            ]
          },
          "metadata": {
            "tags": []
          },
          "execution_count": 56
        }
      ]
    },
    {
      "cell_type": "code",
      "metadata": {
        "colab": {
          "base_uri": "https://localhost:8080/"
        },
        "id": "3wflvU-pJQcz",
        "outputId": "73757bc9-96c0-4fad-ab41-9a580d9e91d2"
      },
      "source": [
        "#build the set of event that is equal to the first event by our classifier\n",
        "first_classifier = list(d2.classifiers.keys())[0]\n",
        "equal_events = d2.filter_by_classifier(d2.events[0], first_classifier)\n",
        "verify_filter_by_classifier(d2, equal_events, first_classifier)"
      ],
      "execution_count": null,
      "outputs": [
        {
          "output_type": "execute_result",
          "data": {
            "text/plain": [
              "True"
            ]
          },
          "metadata": {
            "tags": []
          },
          "execution_count": 57
        }
      ]
    },
    {
      "cell_type": "code",
      "metadata": {
        "colab": {
          "base_uri": "https://localhost:8080/"
        },
        "id": "yqOnSYqISSbO",
        "outputId": "9d9e57af-748e-4d38-8066-68a96db85f9e"
      },
      "source": [
        "trace_id = case_ids_['d2']\n",
        "print_specific_case2(d2, trace_id)"
      ],
      "execution_count": 41,
      "outputs": [
        {
          "output_type": "stream",
          "text": [
            "Concept name of the trace: 190\n",
            "Events belonging to this trace:\n",
            "{'concept:instance': 'instance 1',\n",
            " 'concept:name': 'Register',\n",
            " 'lifecycle:transition': 'complete',\n",
            " 'org:group': 'Group -',\n",
            " 'org:resource': 'System',\n",
            " 'time:timestamp': datetime.datetime(1970, 1, 8, 6, 39, 51, 325000, tzinfo=datetime.timezone(datetime.timedelta(seconds=3600)))}\n",
            "\n",
            "{'concept:instance': 'instance 1',\n",
            " 'concept:name': 'Analyze Defect',\n",
            " 'lifecycle:transition': 'start',\n",
            " 'org:group': 'Groups 2 and 4',\n",
            " 'org:resource': 'Tester3',\n",
            " 'org:role': 'Role 9',\n",
            " 'time:timestamp': datetime.datetime(1970, 1, 8, 6, 42, 18, 603000, tzinfo=datetime.timezone(datetime.timedelta(seconds=3600)))}\n",
            "\n",
            "{'concept:instance': 'instance 1',\n",
            " 'concept:name': 'Analyze Defect',\n",
            " 'lifecycle:transition': 'complete',\n",
            " 'org:group': 'Groups 2 and 4',\n",
            " 'org:resource': 'Tester3',\n",
            " 'org:role': 'Role 9',\n",
            " 'time:timestamp': datetime.datetime(1970, 1, 8, 6, 51, 11, 283000, tzinfo=datetime.timezone(datetime.timedelta(seconds=3600)))}\n",
            "\n",
            "{'concept:instance': 'instance 1',\n",
            " 'concept:name': 'Inform User',\n",
            " 'lifecycle:transition': 'complete',\n",
            " 'org:group': 'Group -',\n",
            " 'org:resource': 'System',\n",
            " 'time:timestamp': datetime.datetime(1970, 1, 8, 7, 11, 24, 236000, tzinfo=datetime.timezone(datetime.timedelta(seconds=3600)))}\n",
            "\n",
            "{'concept:instance': 'instance 1',\n",
            " 'concept:name': 'Repair (Complex)',\n",
            " 'lifecycle:transition': 'start',\n",
            " 'org:group': 'Groups 1, 3, and 5',\n",
            " 'org:resource': 'SolverC1',\n",
            " 'org:role': 'Role 10',\n",
            " 'time:timestamp': datetime.datetime(1970, 1, 8, 7, 17, 50, 607000, tzinfo=datetime.timezone(datetime.timedelta(seconds=3600)))}\n",
            "\n",
            "{'concept:instance': 'instance 1',\n",
            " 'concept:name': 'Repair (Complex)',\n",
            " 'lifecycle:transition': 'complete',\n",
            " 'org:group': 'Groups 1, 3, and 5',\n",
            " 'org:resource': 'SolverC1',\n",
            " 'org:role': 'Role 10',\n",
            " 'time:timestamp': datetime.datetime(1970, 1, 8, 7, 30, 18, 378000, tzinfo=datetime.timezone(datetime.timedelta(seconds=3600)))}\n",
            "\n",
            "{'concept:instance': 'instance 1',\n",
            " 'concept:name': 'Test Repair',\n",
            " 'lifecycle:transition': 'start',\n",
            " 'org:group': 'Groups 2 and 4',\n",
            " 'org:resource': 'Tester5',\n",
            " 'org:role': 'Role 9',\n",
            " 'time:timestamp': datetime.datetime(1970, 1, 8, 7, 33, 18, 33000, tzinfo=datetime.timezone(datetime.timedelta(seconds=3600)))}\n",
            "\n",
            "{'concept:instance': 'instance 1',\n",
            " 'concept:name': 'Test Repair',\n",
            " 'lifecycle:transition': 'complete',\n",
            " 'org:group': 'Groups 2 and 4',\n",
            " 'org:resource': 'Tester5',\n",
            " 'org:role': 'Role 9',\n",
            " 'time:timestamp': datetime.datetime(1970, 1, 8, 7, 44, 19, 747000, tzinfo=datetime.timezone(datetime.timedelta(seconds=3600)))}\n",
            "\n",
            "{'concept:instance': 'instance 1',\n",
            " 'concept:name': 'Archive Repair',\n",
            " 'lifecycle:transition': 'complete',\n",
            " 'org:group': 'Group -',\n",
            " 'org:resource': 'System',\n",
            " 'time:timestamp': datetime.datetime(1970, 1, 8, 7, 51, 32, 69000, tzinfo=datetime.timezone(datetime.timedelta(seconds=3600)))}\n",
            "\n"
          ],
          "name": "stdout"
        }
      ]
    },
    {
      "cell_type": "markdown",
      "metadata": {
        "id": "EuxlvZ_BTrbR"
      },
      "source": [
        "### X1"
      ]
    },
    {
      "cell_type": "code",
      "metadata": {
        "colab": {
          "base_uri": "https://localhost:8080/"
        },
        "id": "jvpH0WQSTYIc",
        "outputId": "ff26c7a8-c6da-49df-ad9f-ab3db0f95240"
      },
      "source": [
        "x1 = xes.import_xes(px1)"
      ],
      "execution_count": 42,
      "outputs": [
        {
          "output_type": "stream",
          "text": [
            "26030it [00:00, 260297.77it/s]"
          ],
          "name": "stderr"
        },
        {
          "output_type": "stream",
          "text": [
            "Processing log...\n"
          ],
          "name": "stdout"
        },
        {
          "output_type": "stream",
          "text": [
            "220036it [00:00, 283353.05it/s]\n"
          ],
          "name": "stderr"
        }
      ]
    },
    {
      "cell_type": "code",
      "metadata": {
        "colab": {
          "base_uri": "https://localhost:8080/"
        },
        "id": "XBUPva19JcqK",
        "outputId": "50834274-019b-4e37-b970-6c433c8025e3"
      },
      "source": [
        "#print random event\n",
        "idx = random.randint(0, len(x1.traces)-1)\n",
        "pprint(x1.events[idx])"
      ],
      "execution_count": null,
      "outputs": [
        {
          "output_type": "stream",
          "text": [
            "{'ITEMS:41, #1, o.1.1': 'Role 9',\n",
            " 'Key 1': 'Test Repair',\n",
            " 'Key 2': 'instance 3',\n",
            " 'Key 3': 'Tester2',\n",
            " 'Key 4': datetime.datetime(1970, 1, 22, 14, 26, 11, 592000, tzinfo=datetime.timezone(datetime.timedelta(0, 3600))),\n",
            " 'Key 6': 'start',\n",
            " 'case:id': 11,\n",
            " '{0,1,2} 2Sa!! +1 &lt;x&gt;': 'Groups 2 and 4'}\n"
          ],
          "name": "stdout"
        }
      ]
    },
    {
      "cell_type": "code",
      "metadata": {
        "colab": {
          "base_uri": "https://localhost:8080/"
        },
        "id": "12omJVi7GufK",
        "cellView": "code",
        "outputId": "c3bcb9bb-a03f-42ee-8cb0-8ade29f4a25a"
      },
      "source": [
        "#@title Default title text\n",
        "#print random trace\n",
        "idx = random.randint(0, len(x1.traces)-1)\n",
        "\n",
        "print('Concept name of the trace:', x1.traces[idx]['concept:name'])\n",
        "print('Events belonging to this trace:')\n",
        "for event in x1.get_traces()[idx]:\n",
        "  pprint(event)\n",
        "  print()"
      ],
      "execution_count": null,
      "outputs": [
        {
          "output_type": "stream",
          "text": [
            "Concept name of the trace: 858\n",
            "Events belonging to this trace:\n",
            "{'Key 1': 'Register',\n",
            " 'Key 2': 'instance 1',\n",
            " 'Key 3': 'System',\n",
            " 'Key 4': datetime.datetime(1970, 2, 24, 0, 40, 23, 584000, tzinfo=datetime.timezone(datetime.timedelta(0, 3600))),\n",
            " 'Key 6': 'complete',\n",
            " 'numberRepairs': 1,\n",
            " '{0,1,2} 2Sa!! +1 &lt;x&gt;': 'Group -'}\n",
            "\n",
            "{'ITEMS:41, #1, o.1.1': 'Role 9',\n",
            " 'Key 1': 'Analyze Defect',\n",
            " 'Key 2': 'instance 1',\n",
            " 'Key 3': 'Tester2',\n",
            " 'Key 4': datetime.datetime(1970, 2, 24, 0, 45, 58, 751000, tzinfo=datetime.timezone(datetime.timedelta(0, 3600))),\n",
            " 'Key 6': 'start',\n",
            " 'numberRepairs': 2,\n",
            " '{0,1,2} 2Sa!! +1 &lt;x&gt;': 'Groups 2 and 4'}\n",
            "\n",
            "{'ITEMS:41, #1, o.1.1': 'Role 9',\n",
            " 'Key 1': 'Analyze Defect',\n",
            " 'Key 2': 'instance 1',\n",
            " 'Key 3': 'Tester2',\n",
            " 'Key 4': datetime.datetime(1970, 2, 24, 0, 58, 37, 791000, tzinfo=datetime.timezone(datetime.timedelta(0, 3600))),\n",
            " 'Key 6': 'complete',\n",
            " 'defectType': 10,\n",
            " 'numberRepairs': 3,\n",
            " 'phoneType': 'T2',\n",
            " '{0,1,2} 2Sa!! +1 &lt;x&gt;': 'Groups 2 and 4'}\n",
            "\n",
            "{'ITEMS:41, #1, o.1.1': 'Role 10',\n",
            " 'Key 1': 'Repair (Complex)',\n",
            " 'Key 2': 'instance 1',\n",
            " 'Key 3': 'SolverC2',\n",
            " 'Key 4': datetime.datetime(1970, 2, 24, 1, 25, 12, 105000, tzinfo=datetime.timezone(datetime.timedelta(0, 3600))),\n",
            " 'Key 6': 'start',\n",
            " 'numberRepairs': 4,\n",
            " '{0,1,2} 2Sa!! +1 &lt;x&gt;': 'Groups 1, 3, and 5'}\n",
            "\n",
            "{'Key 1': 'Inform User',\n",
            " 'Key 2': 'instance 1',\n",
            " 'Key 3': 'System',\n",
            " 'Key 4': datetime.datetime(1970, 2, 24, 1, 33, 42, 294000, tzinfo=datetime.timezone(datetime.timedelta(0, 3600))),\n",
            " 'Key 6': 'complete',\n",
            " 'numberRepairs': 5,\n",
            " '{0,1,2} 2Sa!! +1 &lt;x&gt;': 'Group -'}\n",
            "\n",
            "{'ITEMS:41, #1, o.1.1': 'Role 10',\n",
            " 'Key 1': 'Repair (Complex)',\n",
            " 'Key 2': 'instance 1',\n",
            " 'Key 3': 'SolverC2',\n",
            " 'Key 4': datetime.datetime(1970, 2, 24, 1, 50, 25, 102000, tzinfo=datetime.timezone(datetime.timedelta(0, 3600))),\n",
            " 'Key 6': 'complete',\n",
            " 'numberRepairs': 6,\n",
            " '{0,1,2} 2Sa!! +1 &lt;x&gt;': 'Groups 1, 3, and 5'}\n",
            "\n",
            "{'ITEMS:41, #1, o.1.1': 'Role 9',\n",
            " 'Key 1': 'Test Repair',\n",
            " 'Key 2': 'instance 1',\n",
            " 'Key 3': 'Tester1',\n",
            " 'Key 4': datetime.datetime(1970, 2, 24, 1, 55, 25, 512000, tzinfo=datetime.timezone(datetime.timedelta(0, 3600))),\n",
            " 'Key 6': 'start',\n",
            " 'numberRepairs': 7,\n",
            " '{0,1,2} 2Sa!! +1 &lt;x&gt;': 'Groups 2 and 4'}\n",
            "\n",
            "{'ITEMS:41, #1, o.1.1': 'Role 9',\n",
            " 'Key 1': 'Test Repair',\n",
            " 'Key 2': 'instance 1',\n",
            " 'Key 3': 'Tester1',\n",
            " 'Key 4': datetime.datetime(1970, 2, 24, 2, 8, 37, 74000, tzinfo=datetime.timezone(datetime.timedelta(0, 3600))),\n",
            " 'Key 6': 'complete',\n",
            " 'defectFixed': True,\n",
            " 'numberRepairs': '0',\n",
            " '{0,1,2} 2Sa!! +1 &lt;x&gt;': 'Groups 2 and 4'}\n",
            "\n",
            "{'Key 1': 'Archive Repair',\n",
            " 'Key 2': 'instance 1',\n",
            " 'Key 3': 'System',\n",
            " 'Key 4': datetime.datetime(1970, 2, 24, 2, 21, 56, 885000, tzinfo=datetime.timezone(datetime.timedelta(0, 3600))),\n",
            " 'Key 6': 'complete',\n",
            " 'defectFixed': True,\n",
            " 'numberRepairs': '0',\n",
            " '{0,1,2} 2Sa!! +1 &lt;x&gt;': 'Group -'}\n",
            "\n"
          ],
          "name": "stdout"
        }
      ]
    },
    {
      "cell_type": "code",
      "metadata": {
        "colab": {
          "base_uri": "https://localhost:8080/"
        },
        "id": "Tsi2PYh9Shgv",
        "outputId": "fa16822f-4556-4562-aeed-321085f8349b"
      },
      "source": [
        "trace_id = case_ids_['x1']\n",
        "print_specific_case2(x1, trace_id)"
      ],
      "execution_count": 43,
      "outputs": [
        {
          "output_type": "stream",
          "text": [
            "Concept name of the trace: 858\n",
            "Events belonging to this trace:\n",
            "{'Key 1': 'Register',\n",
            " 'Key 2': 'instance 1',\n",
            " 'Key 3': 'System',\n",
            " 'Key 4': datetime.datetime(1970, 2, 24, 0, 40, 23, 584000, tzinfo=datetime.timezone(datetime.timedelta(seconds=3600))),\n",
            " 'Key 6': 'complete',\n",
            " 'numberRepairs': 1,\n",
            " '{0,1,2} 2Sa!! +1 &lt;x&gt;': 'Group -'}\n",
            "\n",
            "{'ITEMS:41, #1, o.1.1': 'Role 9',\n",
            " 'Key 1': 'Analyze Defect',\n",
            " 'Key 2': 'instance 1',\n",
            " 'Key 3': 'Tester2',\n",
            " 'Key 4': datetime.datetime(1970, 2, 24, 0, 45, 58, 751000, tzinfo=datetime.timezone(datetime.timedelta(seconds=3600))),\n",
            " 'Key 6': 'start',\n",
            " 'numberRepairs': 2,\n",
            " '{0,1,2} 2Sa!! +1 &lt;x&gt;': 'Groups 2 and 4'}\n",
            "\n",
            "{'ITEMS:41, #1, o.1.1': 'Role 9',\n",
            " 'Key 1': 'Analyze Defect',\n",
            " 'Key 2': 'instance 1',\n",
            " 'Key 3': 'Tester2',\n",
            " 'Key 4': datetime.datetime(1970, 2, 24, 0, 58, 37, 791000, tzinfo=datetime.timezone(datetime.timedelta(seconds=3600))),\n",
            " 'Key 6': 'complete',\n",
            " 'defectType': 10,\n",
            " 'numberRepairs': 3,\n",
            " 'phoneType': 'T2',\n",
            " '{0,1,2} 2Sa!! +1 &lt;x&gt;': 'Groups 2 and 4'}\n",
            "\n",
            "{'ITEMS:41, #1, o.1.1': 'Role 10',\n",
            " 'Key 1': 'Repair (Complex)',\n",
            " 'Key 2': 'instance 1',\n",
            " 'Key 3': 'SolverC2',\n",
            " 'Key 4': datetime.datetime(1970, 2, 24, 1, 25, 12, 105000, tzinfo=datetime.timezone(datetime.timedelta(seconds=3600))),\n",
            " 'Key 6': 'start',\n",
            " 'numberRepairs': 4,\n",
            " '{0,1,2} 2Sa!! +1 &lt;x&gt;': 'Groups 1, 3, and 5'}\n",
            "\n",
            "{'Key 1': 'Inform User',\n",
            " 'Key 2': 'instance 1',\n",
            " 'Key 3': 'System',\n",
            " 'Key 4': datetime.datetime(1970, 2, 24, 1, 33, 42, 294000, tzinfo=datetime.timezone(datetime.timedelta(seconds=3600))),\n",
            " 'Key 6': 'complete',\n",
            " 'numberRepairs': 5,\n",
            " '{0,1,2} 2Sa!! +1 &lt;x&gt;': 'Group -'}\n",
            "\n",
            "{'ITEMS:41, #1, o.1.1': 'Role 10',\n",
            " 'Key 1': 'Repair (Complex)',\n",
            " 'Key 2': 'instance 1',\n",
            " 'Key 3': 'SolverC2',\n",
            " 'Key 4': datetime.datetime(1970, 2, 24, 1, 50, 25, 102000, tzinfo=datetime.timezone(datetime.timedelta(seconds=3600))),\n",
            " 'Key 6': 'complete',\n",
            " 'numberRepairs': 6,\n",
            " '{0,1,2} 2Sa!! +1 &lt;x&gt;': 'Groups 1, 3, and 5'}\n",
            "\n",
            "{'ITEMS:41, #1, o.1.1': 'Role 9',\n",
            " 'Key 1': 'Test Repair',\n",
            " 'Key 2': 'instance 1',\n",
            " 'Key 3': 'Tester1',\n",
            " 'Key 4': datetime.datetime(1970, 2, 24, 1, 55, 25, 512000, tzinfo=datetime.timezone(datetime.timedelta(seconds=3600))),\n",
            " 'Key 6': 'start',\n",
            " 'numberRepairs': 7,\n",
            " '{0,1,2} 2Sa!! +1 &lt;x&gt;': 'Groups 2 and 4'}\n",
            "\n",
            "{'ITEMS:41, #1, o.1.1': 'Role 9',\n",
            " 'Key 1': 'Test Repair',\n",
            " 'Key 2': 'instance 1',\n",
            " 'Key 3': 'Tester1',\n",
            " 'Key 4': datetime.datetime(1970, 2, 24, 2, 8, 37, 74000, tzinfo=datetime.timezone(datetime.timedelta(seconds=3600))),\n",
            " 'Key 6': 'complete',\n",
            " 'defectFixed': True,\n",
            " 'numberRepairs': '0',\n",
            " '{0,1,2} 2Sa!! +1 &lt;x&gt;': 'Groups 2 and 4'}\n",
            "\n",
            "{'Key 1': 'Archive Repair',\n",
            " 'Key 2': 'instance 1',\n",
            " 'Key 3': 'System',\n",
            " 'Key 4': datetime.datetime(1970, 2, 24, 2, 21, 56, 885000, tzinfo=datetime.timezone(datetime.timedelta(seconds=3600))),\n",
            " 'Key 6': 'complete',\n",
            " 'defectFixed': True,\n",
            " 'numberRepairs': '0',\n",
            " '{0,1,2} 2Sa!! +1 &lt;x&gt;': 'Group -'}\n",
            "\n"
          ],
          "name": "stdout"
        }
      ]
    },
    {
      "cell_type": "markdown",
      "metadata": {
        "id": "_41UO9RT1ojd"
      },
      "source": [
        "### X2"
      ]
    },
    {
      "cell_type": "code",
      "metadata": {
        "colab": {
          "base_uri": "https://localhost:8080/"
        },
        "id": "XOvOIegJTX61",
        "outputId": "b247eb06-9a4a-4060-b6bf-e74d597972b8"
      },
      "source": [
        "x2 = xes.import_xes(px2)"
      ],
      "execution_count": 44,
      "outputs": [
        {
          "output_type": "stream",
          "text": [
            "23169it [00:00, 231689.67it/s]"
          ],
          "name": "stderr"
        },
        {
          "output_type": "stream",
          "text": [
            "Processing log...\n"
          ],
          "name": "stdout"
        },
        {
          "output_type": "stream",
          "text": [
            "220038it [00:00, 231801.84it/s]\n"
          ],
          "name": "stderr"
        }
      ]
    },
    {
      "cell_type": "code",
      "metadata": {
        "colab": {
          "base_uri": "https://localhost:8080/"
        },
        "id": "G6opJpI4KIvX",
        "outputId": "0b01afd1-919f-4454-c48e-71ee5508a153"
      },
      "source": [
        "#print random event\n",
        "idx = random.randint(0, len(x2.traces)-1)\n",
        "pprint(x2.events[idx])"
      ],
      "execution_count": null,
      "outputs": [
        {
          "output_type": "stream",
          "text": [
            "{'Key 1': 'Register',\n",
            " 'Key 2': 'instance 1',\n",
            " 'Key 3': 'System',\n",
            " 'Key 4': datetime.datetime(1970, 1, 24, 4, 36, 12, 589000, tzinfo=datetime.timezone(datetime.timedelta(0, 3600))),\n",
            " 'Key 6': 'complete',\n",
            " 'numberRepairs': 1,\n",
            " '{0,1,2} 2Sa!! +1 &lt;x&gt;': 'Group -'}\n"
          ],
          "name": "stdout"
        }
      ]
    },
    {
      "cell_type": "code",
      "metadata": {
        "id": "BJgso9DJHTJ9",
        "colab": {
          "base_uri": "https://localhost:8080/"
        },
        "outputId": "ce65998b-c587-42e1-db6c-56ee2f562e6d"
      },
      "source": [
        "#print random trace\n",
        "idx = random.randint(0, len(x2.traces)-1)\n",
        "\n",
        "print('Concept name of the trace:', x2.traces[idx]['concept:name'])\n",
        "print('Events belonging to this trace:')\n",
        "for event in x2.get_traces()[idx]:\n",
        "  pprint(event)\n",
        "  print()"
      ],
      "execution_count": null,
      "outputs": [
        {
          "output_type": "stream",
          "text": [
            "Concept name of the trace: 287\n",
            "Events belonging to this trace:\n",
            "{'Key 1': 'Register',\n",
            " 'Key 2': 'instance 1',\n",
            " 'Key 3': 'System',\n",
            " 'Key 4': datetime.datetime(1970, 1, 17, 15, 11, 25, 104000, tzinfo=datetime.timezone(datetime.timedelta(0, 3600))),\n",
            " 'Key 6': 'complete',\n",
            " 'numberRepairs': 1,\n",
            " '{0,1,2} 2Sa!! +1 &lt;x&gt;': 'Group -'}\n",
            "\n",
            "{'ITEMS:41, #1, o.1.1': 'Role 9',\n",
            " 'Key 1': 'Analyze Defect',\n",
            " 'Key 2': 'instance 1',\n",
            " 'Key 3': 'Tester2',\n",
            " 'Key 4': datetime.datetime(1970, 1, 17, 15, 16, 46, 88000, tzinfo=datetime.timezone(datetime.timedelta(0, 3600))),\n",
            " 'Key 6': 'start',\n",
            " 'numberRepairs': 2,\n",
            " '{0,1,2} 2Sa!! +1 &lt;x&gt;': 'Groups 2 and 4'}\n",
            "\n",
            "{'ITEMS:41, #1, o.1.1': 'Role 9',\n",
            " 'Key 1': 'Analyze Defect',\n",
            " 'Key 2': 'instance 1',\n",
            " 'Key 3': 'Tester2',\n",
            " 'Key 4': datetime.datetime(1970, 1, 17, 15, 27, 2, 510000, tzinfo=datetime.timezone(datetime.timedelta(0, 3600))),\n",
            " 'Key 6': 'complete',\n",
            " 'defectType': 6,\n",
            " 'numberRepairs': 3,\n",
            " 'phoneType': 'T3',\n",
            " '{0,1,2} 2Sa!! +1 &lt;x&gt;': 'Groups 2 and 4'}\n",
            "\n",
            "{'ITEMS:41, #1, o.1.1': 'Role 10',\n",
            " 'Key 1': 'Repair (Complex)',\n",
            " 'Key 2': 'instance 1',\n",
            " 'Key 3': 'SolverC1',\n",
            " 'Key 4': datetime.datetime(1970, 1, 17, 15, 55, 29, 380000, tzinfo=datetime.timezone(datetime.timedelta(0, 3600))),\n",
            " 'Key 6': 'start',\n",
            " 'numberRepairs': 4,\n",
            " '{0,1,2} 2Sa!! +1 &lt;x&gt;': 'Groups 1, 3, and 5'}\n",
            "\n",
            "{'ITEMS:41, #1, o.1.1': 'Role 10',\n",
            " 'Key 1': 'Repair (Complex)',\n",
            " 'Key 2': 'instance 1',\n",
            " 'Key 3': 'SolverC1',\n",
            " 'Key 4': datetime.datetime(1970, 1, 17, 16, 13, 42, 499000, tzinfo=datetime.timezone(datetime.timedelta(0, 3600))),\n",
            " 'Key 6': 'complete',\n",
            " 'numberRepairs': 5,\n",
            " '{0,1,2} 2Sa!! +1 &lt;x&gt;': 'Groups 1, 3, and 5'}\n",
            "\n",
            "{'ITEMS:41, #1, o.1.1': 'Role 9',\n",
            " 'Key 1': 'Test Repair',\n",
            " 'Key 2': 'instance 1',\n",
            " 'Key 3': 'Tester6',\n",
            " 'Key 4': datetime.datetime(1970, 1, 17, 16, 18, 41, 309000, tzinfo=datetime.timezone(datetime.timedelta(0, 3600))),\n",
            " 'Key 6': 'start',\n",
            " 'numberRepairs': 6,\n",
            " '{0,1,2} 2Sa!! +1 &lt;x&gt;': 'Groups 2 and 4'}\n",
            "\n",
            "{'ITEMS:41, #1, o.1.1': 'Role 9',\n",
            " 'Key 1': 'Test Repair',\n",
            " 'Key 2': 'instance 1',\n",
            " 'Key 3': 'Tester6',\n",
            " 'Key 4': datetime.datetime(1970, 1, 17, 16, 30, 57, 561000, tzinfo=datetime.timezone(datetime.timedelta(0, 3600))),\n",
            " 'Key 6': 'complete',\n",
            " 'defectFixed': True,\n",
            " 'numberRepairs': '0',\n",
            " '{0,1,2} 2Sa!! +1 &lt;x&gt;': 'Groups 2 and 4'}\n",
            "\n",
            "{'Key 1': 'Inform User',\n",
            " 'Key 2': 'instance 1',\n",
            " 'Key 3': 'System',\n",
            " 'Key 4': datetime.datetime(1970, 1, 17, 16, 39, 22, 366000, tzinfo=datetime.timezone(datetime.timedelta(0, 3600))),\n",
            " 'Key 6': 'complete',\n",
            " 'numberRepairs': 8,\n",
            " '{0,1,2} 2Sa!! +1 &lt;x&gt;': 'Group -'}\n",
            "\n",
            "{'Key 1': 'Archive Repair',\n",
            " 'Key 2': 'instance 1',\n",
            " 'Key 3': 'System',\n",
            " 'Key 4': datetime.datetime(1970, 1, 17, 16, 45, 31, 931000, tzinfo=datetime.timezone(datetime.timedelta(0, 3600))),\n",
            " 'Key 6': 'complete',\n",
            " 'defectFixed': True,\n",
            " 'numberRepairs': '0',\n",
            " '{0,1,2} 2Sa!! +1 &lt;x&gt;': 'Group -'}\n",
            "\n"
          ],
          "name": "stdout"
        }
      ]
    },
    {
      "cell_type": "code",
      "metadata": {
        "colab": {
          "base_uri": "https://localhost:8080/"
        },
        "id": "yN-JR4GXK0sE",
        "outputId": "1ade9ff4-2986-4a8a-e3c3-0045b4a22171"
      },
      "source": [
        "x2.classifiers"
      ],
      "execution_count": null,
      "outputs": [
        {
          "output_type": "execute_result",
          "data": {
            "text/plain": [
              "{'(Name AND Transition)': ['Key 1', 'Key 6']}"
            ]
          },
          "metadata": {
            "tags": []
          },
          "execution_count": 62
        }
      ]
    },
    {
      "cell_type": "code",
      "metadata": {
        "colab": {
          "base_uri": "https://localhost:8080/"
        },
        "id": "xYbZucdXK6NG",
        "outputId": "14eebf35-94ac-40d5-a8f0-709f74998776"
      },
      "source": [
        "#build the set of event that is equal to the first event by our classifier\n",
        "first_classifier = list(x2.classifiers.keys())[0]\n",
        "equal_events = x2.filter_by_classifier(x2.events[0], first_classifier)\n",
        "verify_filter_by_classifier(x2, equal_events, first_classifier)"
      ],
      "execution_count": null,
      "outputs": [
        {
          "output_type": "execute_result",
          "data": {
            "text/plain": [
              "True"
            ]
          },
          "metadata": {
            "tags": []
          },
          "execution_count": 63
        }
      ]
    },
    {
      "cell_type": "code",
      "metadata": {
        "colab": {
          "base_uri": "https://localhost:8080/"
        },
        "id": "oa7VgWszSvBC",
        "outputId": "6d6a5ead-c0ac-4628-b2d9-3bdd81aa40ad"
      },
      "source": [
        "trace_id = case_ids_['x2']\n",
        "print_specific_case2(x2, trace_id)"
      ],
      "execution_count": 45,
      "outputs": [
        {
          "output_type": "stream",
          "text": [
            "Concept name of the trace: 287\n",
            "Events belonging to this trace:\n",
            "{'Key 1': 'Register',\n",
            " 'Key 2': 'instance 1',\n",
            " 'Key 3': 'System',\n",
            " 'Key 4': datetime.datetime(1970, 1, 17, 15, 11, 25, 104000, tzinfo=datetime.timezone(datetime.timedelta(seconds=3600))),\n",
            " 'Key 6': 'complete',\n",
            " 'numberRepairs': 1,\n",
            " '{0,1,2} 2Sa!! +1 &lt;x&gt;': 'Group -'}\n",
            "\n",
            "{'ITEMS:41, #1, o.1.1': 'Role 9',\n",
            " 'Key 1': 'Analyze Defect',\n",
            " 'Key 2': 'instance 1',\n",
            " 'Key 3': 'Tester2',\n",
            " 'Key 4': datetime.datetime(1970, 1, 17, 15, 16, 46, 88000, tzinfo=datetime.timezone(datetime.timedelta(seconds=3600))),\n",
            " 'Key 6': 'start',\n",
            " 'numberRepairs': 2,\n",
            " '{0,1,2} 2Sa!! +1 &lt;x&gt;': 'Groups 2 and 4'}\n",
            "\n",
            "{'ITEMS:41, #1, o.1.1': 'Role 9',\n",
            " 'Key 1': 'Analyze Defect',\n",
            " 'Key 2': 'instance 1',\n",
            " 'Key 3': 'Tester2',\n",
            " 'Key 4': datetime.datetime(1970, 1, 17, 15, 27, 2, 510000, tzinfo=datetime.timezone(datetime.timedelta(seconds=3600))),\n",
            " 'Key 6': 'complete',\n",
            " 'defectType': 6,\n",
            " 'numberRepairs': 3,\n",
            " 'phoneType': 'T3',\n",
            " '{0,1,2} 2Sa!! +1 &lt;x&gt;': 'Groups 2 and 4'}\n",
            "\n",
            "{'ITEMS:41, #1, o.1.1': 'Role 10',\n",
            " 'Key 1': 'Repair (Complex)',\n",
            " 'Key 2': 'instance 1',\n",
            " 'Key 3': 'SolverC1',\n",
            " 'Key 4': datetime.datetime(1970, 1, 17, 15, 55, 29, 380000, tzinfo=datetime.timezone(datetime.timedelta(seconds=3600))),\n",
            " 'Key 6': 'start',\n",
            " 'numberRepairs': 4,\n",
            " '{0,1,2} 2Sa!! +1 &lt;x&gt;': 'Groups 1, 3, and 5'}\n",
            "\n",
            "{'ITEMS:41, #1, o.1.1': 'Role 10',\n",
            " 'Key 1': 'Repair (Complex)',\n",
            " 'Key 2': 'instance 1',\n",
            " 'Key 3': 'SolverC1',\n",
            " 'Key 4': datetime.datetime(1970, 1, 17, 16, 13, 42, 499000, tzinfo=datetime.timezone(datetime.timedelta(seconds=3600))),\n",
            " 'Key 6': 'complete',\n",
            " 'numberRepairs': 5,\n",
            " '{0,1,2} 2Sa!! +1 &lt;x&gt;': 'Groups 1, 3, and 5'}\n",
            "\n",
            "{'ITEMS:41, #1, o.1.1': 'Role 9',\n",
            " 'Key 1': 'Test Repair',\n",
            " 'Key 2': 'instance 1',\n",
            " 'Key 3': 'Tester6',\n",
            " 'Key 4': datetime.datetime(1970, 1, 17, 16, 18, 41, 309000, tzinfo=datetime.timezone(datetime.timedelta(seconds=3600))),\n",
            " 'Key 6': 'start',\n",
            " 'numberRepairs': 6,\n",
            " '{0,1,2} 2Sa!! +1 &lt;x&gt;': 'Groups 2 and 4'}\n",
            "\n",
            "{'ITEMS:41, #1, o.1.1': 'Role 9',\n",
            " 'Key 1': 'Test Repair',\n",
            " 'Key 2': 'instance 1',\n",
            " 'Key 3': 'Tester6',\n",
            " 'Key 4': datetime.datetime(1970, 1, 17, 16, 30, 57, 561000, tzinfo=datetime.timezone(datetime.timedelta(seconds=3600))),\n",
            " 'Key 6': 'complete',\n",
            " 'defectFixed': True,\n",
            " 'numberRepairs': '0',\n",
            " '{0,1,2} 2Sa!! +1 &lt;x&gt;': 'Groups 2 and 4'}\n",
            "\n",
            "{'Key 1': 'Inform User',\n",
            " 'Key 2': 'instance 1',\n",
            " 'Key 3': 'System',\n",
            " 'Key 4': datetime.datetime(1970, 1, 17, 16, 39, 22, 366000, tzinfo=datetime.timezone(datetime.timedelta(seconds=3600))),\n",
            " 'Key 6': 'complete',\n",
            " 'numberRepairs': 8,\n",
            " '{0,1,2} 2Sa!! +1 &lt;x&gt;': 'Group -'}\n",
            "\n",
            "{'Key 1': 'Archive Repair',\n",
            " 'Key 2': 'instance 1',\n",
            " 'Key 3': 'System',\n",
            " 'Key 4': datetime.datetime(1970, 1, 17, 16, 45, 31, 931000, tzinfo=datetime.timezone(datetime.timedelta(seconds=3600))),\n",
            " 'Key 6': 'complete',\n",
            " 'defectFixed': True,\n",
            " 'numberRepairs': '0',\n",
            " '{0,1,2} 2Sa!! +1 &lt;x&gt;': 'Group -'}\n",
            "\n"
          ],
          "name": "stdout"
        }
      ]
    },
    {
      "cell_type": "markdown",
      "metadata": {
        "id": "s092QfXd7MWa"
      },
      "source": [
        "# **2 Exporting**\n",
        "---\n",
        "---"
      ]
    },
    {
      "cell_type": "code",
      "metadata": {
        "colab": {
          "base_uri": "https://localhost:8080/"
        },
        "id": "mSBPrFCXVq6k",
        "outputId": "c3eaaeb9-2bf7-464a-d0a1-1fa8bfb1ee2d"
      },
      "source": [
        "# here the reimport can be done, inject a log variable name (corresponds to the first screenshot for each log in the report)\n",
        "#(real-life logs go from log1 to log11, \n",
        "# the artifical logs are named after their letter, e.g. a1, a2, ... , x1, x2; make sure to have the logs imported in their respective section first )\n",
        "test_log = a1 \n",
        "print_reimport(test_log)"
      ],
      "execution_count": 57,
      "outputs": [
        {
          "output_type": "stream",
          "text": [
            "28391it [00:00, 283522.94it/s]"
          ],
          "name": "stderr"
        },
        {
          "output_type": "stream",
          "text": [
            "Number of traces in the log: 1104\n",
            "Number of events in the log: 11855\n",
            "Classifiers in the log: {}\n",
            "\n",
            "Exporting and reimporting the log...\n",
            "Processing log...\n"
          ],
          "name": "stdout"
        },
        {
          "output_type": "stream",
          "text": [
            "\r51850it [00:00, 268820.11it/s]"
          ],
          "name": "stderr"
        },
        {
          "output_type": "stream",
          "text": [
            "\n",
            "Number of traces in the reimported log: 1104\n",
            "Number of events in the reimported log: 11855\n",
            "Classifiers in the reimported log: {}\n"
          ],
          "name": "stdout"
        },
        {
          "output_type": "stream",
          "text": [
            "\n"
          ],
          "name": "stderr"
        }
      ]
    },
    {
      "cell_type": "markdown",
      "metadata": {
        "id": "q16wWFlCxJEv"
      },
      "source": [
        "### A1 & A2"
      ]
    },
    {
      "cell_type": "code",
      "metadata": {
        "id": "y54x-rSoxBuF"
      },
      "source": [
        "xes.export_to_xes(a1, \"a1.xes\")\n",
        "xes.export_to_xes(a1, \"a2.xes\")"
      ],
      "execution_count": null,
      "outputs": []
    },
    {
      "cell_type": "markdown",
      "metadata": {
        "id": "TYMACqWcxPEc"
      },
      "source": [
        "### B1 & B2"
      ]
    },
    {
      "cell_type": "code",
      "metadata": {
        "id": "ttlY3HpZw2k7"
      },
      "source": [
        "xes.export_to_xes(b1, \"b1.xes\")\n",
        "xes.export_to_xes(b2, \"b2.xes\")"
      ],
      "execution_count": null,
      "outputs": []
    },
    {
      "cell_type": "markdown",
      "metadata": {
        "id": "1O7uqG_8xR1y"
      },
      "source": [
        "### C1 & C2"
      ]
    },
    {
      "cell_type": "code",
      "metadata": {
        "id": "Ak5QGMF7w2Zq"
      },
      "source": [
        "xes.export_to_xes(c1, \"c1.xes\")\n",
        "xes.export_to_xes(c2, \"c2.xes\")"
      ],
      "execution_count": null,
      "outputs": []
    },
    {
      "cell_type": "markdown",
      "metadata": {
        "id": "zOZP_5GDw_9s"
      },
      "source": [
        "### D1 & D2"
      ]
    },
    {
      "cell_type": "code",
      "metadata": {
        "id": "jEvwxDRrw2PM"
      },
      "source": [
        "xes.export_to_xes(d1, \"d1.xes\")\n",
        "xes.export_to_xes(d2, \"d2.xes\")"
      ],
      "execution_count": null,
      "outputs": []
    },
    {
      "cell_type": "markdown",
      "metadata": {
        "id": "nYPXLtaJw7MM"
      },
      "source": [
        "### X1 und X2"
      ]
    },
    {
      "cell_type": "code",
      "metadata": {
        "id": "aysWl5PAw14M"
      },
      "source": [
        "xes.export_to_xes(x1, \"x1.xes\")\n",
        "xes.export_to_xes(x2, \"x2.xes\")"
      ],
      "execution_count": null,
      "outputs": []
    }
  ]
}