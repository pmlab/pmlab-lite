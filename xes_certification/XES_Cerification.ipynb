{
 "cells": [
  {
   "cell_type": "markdown",
   "metadata": {
    "id": "a1ocaPqq7Xwi"
   },
   "source": [
    "# **XES Certification**\n",
    "---"
   ]
  },
  {
   "cell_type": "code",
   "execution_count": 1,
   "metadata": {
    "id": "PxNSvSBHvBf2"
   },
   "outputs": [
    {
     "output_type": "stream",
     "name": "stdout",
     "text": [
      "Requirement already satisfied: pmlab_lite==0.4.4.1 in /home/glenn/.local/lib/python3.8/site-packages (0.4.4.1)\n",
      "Requirement already satisfied: tqdm in /home/glenn/.local/lib/python3.8/site-packages (from pmlab_lite==0.4.4.1) (4.47.0)\n",
      "Requirement already satisfied: numpy in /home/glenn/.local/lib/python3.8/site-packages (from pmlab_lite==0.4.4.1) (1.19.0)\n",
      "Requirement already satisfied: graphviz in /home/glenn/.local/lib/python3.8/site-packages (from pmlab_lite==0.4.4.1) (0.14)\n",
      "Requirement already satisfied: lxml in /home/glenn/.local/lib/python3.8/site-packages (from pmlab_lite==0.4.4.1) (4.5.1)\n"
     ]
    }
   ],
   "source": [
    "!pip3 install pmlab_lite==0.4.4.2"
   ]
  },
  {
   "cell_type": "code",
   "execution_count": 2,
   "metadata": {
    "executionInfo": {
     "elapsed": 1109,
     "status": "ok",
     "timestamp": 1606319468750,
     "user": {
      "displayName": "Glenn Dittmann",
      "photoUrl": "",
      "userId": "09282768545803181559"
     },
     "user_tz": -60
    },
    "id": "R5itIcV0yLVP"
   },
   "outputs": [],
   "source": [
    "from pmlab_lite.helper.io import xes\n",
    "from pprint import pprint "
   ]
  },
  {
   "cell_type": "markdown",
   "metadata": {
    "id": "Regm2fIFke54"
   },
   "source": [
    "## Verification Functions\n",
    "---"
   ]
  },
  {
   "cell_type": "code",
   "execution_count": 3,
   "metadata": {
    "executionInfo": {
     "elapsed": 1552,
     "status": "ok",
     "timestamp": 1606318777684,
     "user": {
      "displayName": "Glenn Dittmann",
      "photoUrl": "",
      "userId": "09282768545803181559"
     },
     "user_tz": -60
    },
    "id": "o_8IhyB3keNB"
   },
   "outputs": [],
   "source": [
    "import random\n",
    "\n",
    "def verify_log(log):\n",
    "  \"\"\"Prints the number of traces, events, the classifiers and a random trace of a log.\"\"\"\n",
    "\n",
    "  print(\"The log contains\", len(log.traces), \"traces and\", len(log.events), \"events.\")\n",
    "  print(\"Classifiers contained:\", log.classifiers)\n",
    "  idx = random.randint(0, len(log.traces)-1)\n",
    "  log.print_traces(idx,1)\n",
    "\n",
    "def verify_filter_by_classifier(log, equal_events, classifier) -> bool:\n",
    "  for i in range(len(equal_events)):\n",
    "    for j in range(i+1, len(equal_events)):\n",
    "      if not log.equal_by_classifier(equal_events[i], equal_events[j], classifier):\n",
    "        return False\n",
    "  return True"
   ]
  },
  {
   "cell_type": "markdown",
   "metadata": {
    "id": "6HVGwFenxXVL"
   },
   "source": [
    "## File Paths\n",
    "---"
   ]
  },
  {
   "cell_type": "markdown",
   "metadata": {
    "id": "mUnYbtemfeEC"
   },
   "source": [
    "### File Paths to the Real Life Logs"
   ]
  },
  {
   "cell_type": "code",
   "execution_count": 5,
   "metadata": {
    "executionInfo": {
     "elapsed": 795,
     "status": "ok",
     "timestamp": 1606316881409,
     "user": {
      "displayName": "Glenn Dittmann",
      "photoUrl": "",
      "userId": "09282768545803181559"
     },
     "user_tz": -60
    },
    "id": "9DIyhEAaypK0"
   },
   "outputs": [],
   "source": [
    "a = './Real-life/BPIC12.xes'                    \n",
    "b = './Real-life/BPIC13_closed_problems.xes'    \n",
    "c = './Real-life/BPIC13_incidents.xes'      \n",
    "d = './Real-life/BPIC13_open_problems.xes'  \n",
    "e = './Real-life/BPIC15_1.xes'                       \n",
    "f = './Real-life/BPIC15_2.xes'                \n",
    "g = './Real-life/BPIC15_3.xes'                 \n",
    "h = './Real-life/BPIC15_4.xes'                 \n",
    "i = './Real-life/BPIC15_5.xes'                 \n",
    "j = './Real-life/BPIC17_Offer_log.xes'    \n",
    "k = './Real-life/BPIC17.xes'                     "
   ]
  },
  {
   "cell_type": "markdown",
   "metadata": {
    "id": "igG4nB15pfVp"
   },
   "source": [
    "### File Paths to the Artificial Logs\n"
   ]
  },
  {
   "cell_type": "code",
   "execution_count": 6,
   "metadata": {
    "executionInfo": {
     "elapsed": 1360,
     "status": "ok",
     "timestamp": 1606319703589,
     "user": {
      "displayName": "Glenn Dittmann",
      "photoUrl": "",
      "userId": "09282768545803181559"
     },
     "user_tz": -60
    },
    "id": "hQd2fyek60Fs"
   },
   "outputs": [],
   "source": [
    "pa1 = './Artificial/LevelA1.xes'\n",
    "pa2 = './Artificial/LevelA2.xes'\n",
    "pb1 = './Artificial/LevelB1.xes'\n",
    "pb2 = './Artificial/LevelB2.xes'\n",
    "pc1 = './Artificial/LevelC1.xes'\n",
    "pc2 = './Artificial/LevelC2.xes'\n",
    "pd1 = './Artificial/LevelD1.xes'\n",
    "pd2 = './Artificial/LevelD2.xes'\n",
    "px1 = './Artificial/FlagX1.xes'\n",
    "px2 = './Artificial/FlagX2.xes' "
   ]
  },
  {
   "cell_type": "markdown",
   "metadata": {
    "id": "NuyRdLKz60xP"
   },
   "source": [
    "# **1 Importing**\n",
    "---\n",
    "---"
   ]
  },
  {
   "cell_type": "markdown",
   "metadata": {
    "id": "3baW8SGL6-EI"
   },
   "source": [
    "## 1.1 Importing the Real-life Logs\n",
    "---"
   ]
  },
  {
   "cell_type": "markdown",
   "metadata": {
    "id": "ZDH3zjt2HQta"
   },
   "source": [
    "### BPIC12 Log"
   ]
  },
  {
   "cell_type": "code",
   "execution_count": 9,
   "metadata": {
    "colab": {
     "base_uri": "https://localhost:8080/"
    },
    "executionInfo": {
     "elapsed": 47833,
     "status": "ok",
     "timestamp": 1606316578659,
     "user": {
      "displayName": "Glenn Dittmann",
      "photoUrl": "",
      "userId": "09282768545803181559"
     },
     "user_tz": -60
    },
    "id": "0EKaBD6wP6xA",
    "outputId": "25af5b7c-7b7c-4d87-97df-465e4d27d347"
   },
   "outputs": [
    {
     "output_type": "stream",
     "name": "stderr",
     "text": [
      "100%|██████████| 13087/13087 [01:21<00:00, 160.08it/s]\n",
      "The log contains 13087 traces and 262200 events.\n",
      "Classifiers contained: {'Activity classifier': ['concept:name', 'lifecycle:transition']}\n",
      "TRACE_ID: 194910 (trace number 6807 )\n",
      "  activity name               time                           transition     \n",
      "> A_SUBMITTED                 12/21/2011 11:34:42.100000     COMPLETE       \n",
      "> A_PARTLYSUBMITTED           12/21/2011 11:34:42.569000     COMPLETE       \n",
      "> A_DECLINED                  12/21/2011 11:35:26.581000     COMPLETE       \n",
      "\n"
     ]
    }
   ],
   "source": [
    "log1 = xes.import_from_xes(a)\n",
    "verify_log(log1)"
   ]
  },
  {
   "cell_type": "markdown",
   "metadata": {
    "id": "1JLENItLHU8V"
   },
   "source": [
    "### BPIC13_closed_problems Log"
   ]
  },
  {
   "cell_type": "code",
   "execution_count": 8,
   "metadata": {
    "colab": {
     "base_uri": "https://localhost:8080/"
    },
    "executionInfo": {
     "elapsed": 1712,
     "status": "ok",
     "timestamp": 1606316781768,
     "user": {
      "displayName": "Glenn Dittmann",
      "photoUrl": "",
      "userId": "09282768545803181559"
     },
     "user_tz": -60
    },
    "id": "jL8zPFDNP7st",
    "outputId": "1c1929f5-fcc6-45dc-93a3-6b7b4a554ef3"
   },
   "outputs": [
    {
     "output_type": "stream",
     "name": "stderr",
     "text": [
      "100%|██████████| 1487/1487 [00:05<00:00, 260.25it/s]\n",
      "The log contains 1487 traces and 6660 events.\n",
      "Classifiers contained: {'Activity classifier': ['concept:name', 'lifecycle:transition'], 'Resource classifier': ['org:resource']}\n",
      "TRACE_ID: 1-640059801 (trace number 875 )\n",
      "  activity name               time                           transition     \n",
      "> Accepted                    01/12/2012 12:24:50.000000     In Progress    \n",
      "> Completed                   01/12/2012 12:26:04.000000     Closed         \n",
      "\n"
     ]
    }
   ],
   "source": [
    "log2 = xes.import_from_xes(b)\n",
    "verify_log(log2)"
   ]
  },
  {
   "cell_type": "markdown",
   "metadata": {
    "id": "_EyzFDzjYFeJ"
   },
   "source": [
    "### BPIC13_incidents Log"
   ]
  },
  {
   "cell_type": "code",
   "execution_count": 11,
   "metadata": {
    "colab": {
     "base_uri": "https://localhost:8080/"
    },
    "executionInfo": {
     "elapsed": 12887,
     "status": "ok",
     "timestamp": 1606316898048,
     "user": {
      "displayName": "Glenn Dittmann",
      "photoUrl": "",
      "userId": "09282768545803181559"
     },
     "user_tz": -60
    },
    "id": "GfehGKFpQAph",
    "outputId": "fc1693c9-cff7-4478-efa2-00da0919ca55"
   },
   "outputs": [
    {
     "name": "stderr",
     "output_type": "stream",
     "text": [
      "100%|██████████| 7554/7554 [00:09<00:00, 765.82it/s] \n"
     ]
    },
    {
     "name": "stdout",
     "output_type": "stream",
     "text": [
      "The log contains 7554 traces and 65533 events.\n",
      "TRACE_ID: 1-364285768 (trace number 0 )\n",
      "  activity name               time                           transition     \n",
      "> Accepted                    03/31/2010 16:59:42.000000     In Progress    \n",
      "> Accepted                    03/31/2010 17:00:56.000000     In Progress    \n",
      "> Queued                      03/31/2010 17:45:48.000000     Awaiting Assignment\n",
      "> Accepted                    04/06/2010 16:44:07.000000     In Progress    \n",
      "> Queued                      04/06/2010 16:44:38.000000     Awaiting Assignment\n",
      "> Accepted                    04/06/2010 16:44:47.000000     In Progress    \n",
      "> Completed                   04/06/2010 16:44:51.000000     Resolved       \n",
      "> Queued                      04/06/2010 16:45:07.000000     Awaiting Assignment\n",
      "> Accepted                    04/08/2010 12:52:23.000000     In Progress    \n",
      "> Queued                      04/08/2010 12:53:35.000000     Awaiting Assignment\n",
      "> Accepted                    04/20/2010 11:07:11.000000     In Progress    \n",
      "> Accepted                    04/20/2010 11:07:19.000000     Assigned       \n",
      "> Accepted                    04/11/2012 17:11:17.000000     In Progress    \n",
      "> Accepted                    04/11/2012 17:11:25.000000     Assigned       \n",
      "> Accepted                    05/03/2012 11:10:10.000000     In Progress    \n",
      "> Completed                   05/03/2012 11:10:12.000000     Resolved       \n",
      "> Completed                   05/11/2012 01:26:15.000000     Closed         \n",
      "\n"
     ]
    }
   ],
   "source": [
    "log3 = xes.import_from_xes(c)\n",
    "verify_log(log3)"
   ]
  },
  {
   "cell_type": "markdown",
   "metadata": {
    "id": "XzpbdTXjYj2k"
   },
   "source": [
    "### BPIC13_open_problems Log"
   ]
  },
  {
   "cell_type": "code",
   "execution_count": 12,
   "metadata": {
    "colab": {
     "base_uri": "https://localhost:8080/"
    },
    "executionInfo": {
     "elapsed": 1244,
     "status": "ok",
     "timestamp": 1606316922599,
     "user": {
      "displayName": "Glenn Dittmann",
      "photoUrl": "",
      "userId": "09282768545803181559"
     },
     "user_tz": -60
    },
    "id": "SMDOR1J6QDMx",
    "outputId": "0c94b3ed-3677-4c1f-9e94-e42b00b528be"
   },
   "outputs": [
    {
     "name": "stderr",
     "output_type": "stream",
     "text": [
      "100%|██████████| 819/819 [00:00<00:00, 2322.24it/s]"
     ]
    },
    {
     "name": "stdout",
     "output_type": "stream",
     "text": [
      "The log contains 819 traces and 2351 events.\n",
      "TRACE_ID: 1-147898401 (trace number 0 )\n",
      "  activity name               time                           transition     \n",
      "> Accepted                    11/07/2006 10:00:36.000000     In Progress    \n",
      "> Accepted                    11/07/2006 13:05:44.000000     In Progress    \n",
      "> Accepted                    12/02/2009 14:24:32.000000     Wait           \n",
      "> Accepted                    09/03/2011 07:09:09.000000     In Progress    \n",
      "\n"
     ]
    },
    {
     "name": "stderr",
     "output_type": "stream",
     "text": [
      "\n"
     ]
    }
   ],
   "source": [
    "log4 = xes.import_from_xes(d)\n",
    "verify_log(log4)"
   ]
  },
  {
   "cell_type": "markdown",
   "metadata": {
    "id": "XDp4-rUqYyEK"
   },
   "source": [
    "### BPIC15_1 Log"
   ]
  },
  {
   "cell_type": "code",
   "execution_count": 13,
   "metadata": {
    "colab": {
     "base_uri": "https://localhost:8080/"
    },
    "executionInfo": {
     "elapsed": 14038,
     "status": "ok",
     "timestamp": 1606316948040,
     "user": {
      "displayName": "Glenn Dittmann",
      "photoUrl": "",
      "userId": "09282768545803181559"
     },
     "user_tz": -60
    },
    "id": "gBKBOycQQDJi",
    "outputId": "423e798d-2260-4258-e954-887485943cfb"
   },
   "outputs": [
    {
     "name": "stderr",
     "output_type": "stream",
     "text": [
      "100%|██████████| 1199/1199 [00:12<00:00, 97.41it/s]"
     ]
    },
    {
     "name": "stdout",
     "output_type": "stream",
     "text": [
      "The log contains 1199 traces and 52217 events.\n",
      "TRACE_ID: 10009138 (trace number 0 )\n",
      "  activity name               time                           transition     \n",
      "> 01_HOOFD_010                04/11/2014 00:00:00.000000     complete       \n",
      "> 01_HOOFD_011                04/14/2014 00:00:00.000000     complete       \n",
      "> 01_HOOFD_020                04/14/2014 00:00:00.000000     complete       \n",
      "> 02_DRZ_010                  04/14/2014 00:00:00.000000     complete       \n",
      "> 04_BPT_005                  04/14/2014 00:00:00.000000     complete       \n",
      "> 01_HOOFD_065_0              04/14/2014 00:00:00.000000     complete       \n",
      "> 01_HOOFD_110_0              04/14/2014 00:00:00.000000     complete       \n",
      "> 01_HOOFD_100_0              04/14/2014 00:00:00.000000     complete       \n",
      "> 01_HOOFD_015                04/14/2014 00:00:00.000000     complete       \n",
      "> 01_HOOFD_061                04/14/2014 00:00:00.000000     complete       \n",
      "> 01_HOOFD_101                04/14/2014 00:00:00.000000     complete       \n",
      "> 01_HOOFD_030_1              04/14/2014 00:00:00.000000     complete       \n",
      "> 01_HOOFD_030_2              04/14/2014 09:37:17.000000     complete       \n",
      "> 08_AWB45_005                05/20/2014 00:00:00.000000     complete       \n",
      "> 01_HOOFD_200                05/20/2014 00:00:00.000000     complete       \n",
      "> 01_HOOFD_330                05/20/2014 00:00:00.000000     complete       \n",
      "> 09_AH_I_010                 05/20/2014 00:00:00.000000     complete       \n",
      "> 01_HOOFD_380                05/20/2014 00:00:00.000000     complete       \n",
      "> 01_HOOFD_430                05/20/2014 00:00:00.000000     complete       \n",
      "> 11_AH_II_010                05/20/2014 00:00:00.000000     complete       \n",
      "> 13_CRD_010                  05/20/2014 00:00:00.000000     complete       \n",
      "> 01_HOOFD_480                05/20/2014 00:00:00.000000     complete       \n",
      "> 01_HOOFD_490_2              05/20/2014 00:00:00.000000     complete       \n",
      "> 01_HOOFD_491                05/20/2014 00:00:00.000000     complete       \n",
      "> 01_HOOFD_180                05/20/2014 00:00:00.000000     complete       \n",
      "> 01_HOOFD_494a               05/20/2014 00:00:00.000000     complete       \n",
      "> 01_HOOFD_490_4              05/20/2014 00:00:00.000000     complete       \n",
      "> 01_HOOFD_195                05/20/2014 00:00:00.000000     complete       \n",
      "> 01_HOOFD_375                05/20/2014 00:00:00.000000     complete       \n",
      "> 01_HOOFD_490_1              05/20/2014 00:00:00.000000     complete       \n",
      "> 01_HOOFD_250_1              05/20/2014 00:00:00.000000     complete       \n",
      "> 01_HOOFD_370                05/20/2014 00:00:00.000000     complete       \n",
      "> 01_HOOFD_250_2              05/20/2014 00:00:00.000000     complete       \n",
      "> 01_HOOFD_490_1a             05/20/2014 00:00:00.000000     complete       \n",
      "> 01_HOOFD_500                06/04/2014 00:00:00.000000     complete       \n",
      "> 01_HOOFD_510_0              06/04/2014 00:00:00.000000     complete       \n",
      "> 01_HOOFD_510_1              06/04/2014 00:00:00.000000     complete       \n",
      "> 01_HOOFD_490_5              06/04/2014 00:00:00.000000     complete       \n",
      "> 01_HOOFD_510_3              06/04/2014 00:00:00.000000     complete       \n",
      "> 01_HOOFD_490_5a             06/04/2014 00:00:00.000000     complete       \n",
      "> 01_HOOFD_495                06/04/2014 00:00:00.000000     complete       \n",
      "> 01_HOOFD_510_4              06/04/2014 00:00:00.000000     complete       \n",
      "> 01_HOOFD_515                06/04/2014 00:00:00.000000     complete       \n",
      "> 01_HOOFD_510_2              06/05/2014 00:00:00.000000     complete       \n",
      "> 01_HOOFD_510_2a             06/05/2014 00:00:00.000000     complete       \n",
      "\n"
     ]
    },
    {
     "name": "stderr",
     "output_type": "stream",
     "text": [
      "\n"
     ]
    }
   ],
   "source": [
    "log5 = xes.import_from_xes(e)\n",
    "verify_log(log5)"
   ]
  },
  {
   "cell_type": "markdown",
   "metadata": {
    "id": "1WG8TzpZY_Tw"
   },
   "source": [
    "### BPIC15_2 Log"
   ]
  },
  {
   "cell_type": "code",
   "execution_count": 14,
   "metadata": {
    "colab": {
     "base_uri": "https://localhost:8080/"
    },
    "executionInfo": {
     "elapsed": 11680,
     "status": "ok",
     "timestamp": 1606316971994,
     "user": {
      "displayName": "Glenn Dittmann",
      "photoUrl": "",
      "userId": "09282768545803181559"
     },
     "user_tz": -60
    },
    "id": "o4PulenaQDGz",
    "outputId": "a2cc1bac-4979-42d8-b89e-b9ee940bdcb5"
   },
   "outputs": [
    {
     "name": "stderr",
     "output_type": "stream",
     "text": [
      "100%|██████████| 832/832 [00:10<00:00, 82.10it/s]\n"
     ]
    },
    {
     "name": "stdout",
     "output_type": "stream",
     "text": [
      "The log contains 832 traces and 44354 events.\n",
      "TRACE_ID: 10358444 (trace number 0 )\n",
      "  activity name               time                           transition     \n",
      "> 01_HOOFD_010                03/21/2012 00:00:00.000000     complete       \n",
      "> 01_HOOFD_011                03/22/2012 10:26:08.000000     complete       \n",
      "> 01_HOOFD_020                03/22/2012 10:26:08.000000     complete       \n",
      "> 01_HOOFD_015                03/22/2012 10:26:08.000000     complete       \n",
      "> 03_GBH_005                  03/22/2012 10:26:09.000000     complete       \n",
      "> 05_EIND_010                 03/22/2012 10:26:09.000000     complete       \n",
      "> 01_HOOFD_030_2              03/22/2012 10:26:13.000000     complete       \n",
      "> 01_HOOFD_030_1              03/22/2012 10:26:13.000000     complete       \n",
      "> 02_DRZ_010                  03/22/2012 10:26:15.000000     complete       \n",
      "> 01_HOOFD_050                03/22/2012 10:26:15.000000     complete       \n",
      "> 04_BPT_005                  03/22/2012 10:26:21.000000     complete       \n",
      "> 04_BPT_010                  03/22/2012 10:26:21.000000     complete       \n",
      "> 04_BPT_020                  03/22/2012 10:26:24.000000     complete       \n",
      "> 04_BPT_030                  03/22/2012 10:26:24.000000     complete       \n",
      "> 01_HOOFD_065_1              12/19/2012 09:43:57.000000     complete       \n",
      "> 01_HOOFD_065_2              12/19/2012 09:43:57.000000     complete       \n",
      "> 01_HOOFD_090                12/19/2012 09:44:52.000000     complete       \n",
      "> 01_HOOFD_130                12/19/2012 09:44:52.000000     complete       \n",
      "> 01_HOOFD_110_1              12/19/2012 09:46:37.000000     complete       \n",
      "> 01_HOOFD_110_2              12/19/2012 09:46:42.000000     complete       \n",
      "> 01_HOOFD_180                12/19/2012 09:46:43.000000     complete       \n",
      "> 08_AWB45_005                12/19/2012 09:46:49.000000     complete       \n",
      "> 08_AWB45_010                12/19/2012 09:47:00.000000     complete       \n",
      "> 08_AWB45_020_2              01/10/2013 00:00:00.000000     complete       \n",
      "> 08_AWB45_020_1              01/10/2013 12:08:08.000000     complete       \n",
      "> 08_AWB45_030                02/14/2013 14:28:34.000000     complete       \n",
      "> 08_AWB45_040                02/14/2013 14:28:49.000000     complete       \n",
      "> 01_HOOFD_190_1              02/14/2013 14:28:53.000000     complete       \n",
      "> 01_HOOFD_190_2              02/14/2013 14:28:55.000000     complete       \n",
      "> 08_AWB45_005                04/18/2013 11:42:26.000000     complete       \n",
      "> 01_HOOFD_200                04/18/2013 11:42:27.000000     complete       \n",
      "> 01_HOOFD_270                04/18/2013 11:42:27.000000     complete       \n",
      "> 01_HOOFD_195                04/18/2013 11:42:27.000000     complete       \n",
      "> 01_HOOFD_250_1              04/18/2013 11:42:35.000000     complete       \n",
      "> 01_HOOFD_196                04/18/2013 11:42:36.000000     complete       \n",
      "> 09_AH_I_010                 04/18/2013 11:42:36.000000     complete       \n",
      "> 01_HOOFD_370                04/18/2013 11:42:36.000000     complete       \n",
      "> 01_HOOFD_250_2              04/18/2013 11:42:36.000000     complete       \n",
      "> 01_HOOFD_380                04/18/2013 11:42:37.000000     complete       \n",
      "> 01_HOOFD_375                04/18/2013 11:42:37.000000     complete       \n",
      "> 01_HOOFD_440_1              04/18/2013 11:42:38.000000     complete       \n",
      "> 01_HOOFD_440_2              04/18/2013 11:42:44.000000     complete       \n",
      "> 01_HOOFD_445                04/18/2013 11:42:44.000000     complete       \n",
      "> 01_HOOFD_446                04/18/2013 11:42:45.000000     complete       \n",
      "> 10_UOV_010                  05/06/2013 00:00:00.000000     complete       \n",
      "> 10_UOV_060                  05/06/2013 00:00:00.000000     complete       \n",
      "> 10_UOV_180                  05/06/2013 00:00:00.000000     complete       \n",
      "> 10_UOV_210                  05/06/2013 00:00:00.000000     complete       \n",
      "> 11_AH_II_010                05/06/2013 00:00:00.000000     complete       \n",
      "> 10_UOV_050_1                05/06/2013 00:00:00.000000     complete       \n",
      "> 10_UOV_190_1                05/06/2013 00:00:00.000000     complete       \n",
      "> 10_UOV_040                  05/06/2013 00:00:00.000000     complete       \n",
      "> 01_HOOFD_460                05/06/2013 00:00:00.000000     complete       \n",
      "> 01_HOOFD_465                05/06/2013 00:00:00.000000     complete       \n",
      "> 10_UOV_045                  05/06/2013 00:00:00.000000     complete       \n",
      "> 01_HOOFD_490_1              05/06/2013 00:00:00.000000     complete       \n",
      "> 10_UOV_190_2                05/06/2013 00:00:00.000000     complete       \n",
      "> 10_UOV_050_2                05/06/2013 10:42:02.000000     complete       \n",
      "> 10_UOV_035                  05/10/2013 00:00:00.000000     complete       \n",
      "> 10_UOV_030                  05/13/2013 00:00:00.000000     complete       \n",
      "> 01_BB_630                   08/19/2013 00:00:00.000000     complete       \n",
      "> 01_BB_730                   08/19/2013 00:00:00.000000     complete       \n",
      "> 01_BB_766                   08/19/2013 00:00:00.000000     complete       \n",
      "> 01_BB_630                   08/19/2013 00:00:00.000000     complete       \n",
      "> 01_HOOFD_510_1              08/19/2013 00:00:00.000000     complete       \n",
      "> 01_HOOFD_510_1              08/19/2013 00:00:00.000000     complete       \n",
      "> 01_HOOFD_820                08/19/2013 00:00:00.000000     complete       \n",
      "> 01_BB_755                   08/19/2013 00:00:00.000000     complete       \n",
      "> 01_HOOFD_490_4              08/19/2013 00:00:00.000000     complete       \n",
      "> 01_BB_765                   08/19/2013 00:00:00.000000     complete       \n",
      "> 01_HOOFD_490_1              08/19/2013 00:00:00.000000     complete       \n",
      "> 01_HOOFD_520                08/19/2013 00:00:00.000000     complete       \n",
      "> 01_HOOFD_490_4              08/19/2013 00:00:00.000000     complete       \n",
      "> 01_HOOFD_520                08/19/2013 00:00:00.000000     complete       \n",
      "> 01_HOOFD_495                08/19/2013 00:00:00.000000     complete       \n",
      "> 01_HOOFD_495                08/19/2013 00:00:00.000000     complete       \n",
      "> 01_HOOFD_490_3              08/19/2013 08:54:20.000000     complete       \n",
      "> 01_HOOFD_510_2              08/19/2013 09:12:15.000000     complete       \n",
      "> 01_HOOFD_530                08/19/2013 09:12:23.000000     complete       \n",
      "> 01_HOOFD_490_3              08/19/2013 09:12:43.000000     complete       \n",
      "> 01_HOOFD_510_2              08/19/2013 09:13:16.000000     complete       \n",
      "> 01_HOOFD_530                08/19/2013 09:13:18.000000     complete       \n",
      "> 01_BB_770                   08/19/2013 09:13:29.000000     complete       \n",
      "> 01_HOOFD_810                09/30/2013 00:00:00.000000     complete       \n",
      "\n"
     ]
    }
   ],
   "source": [
    "log6 = xes.import_from_xes(f)\n",
    "verify_log(log6)"
   ]
  },
  {
   "cell_type": "markdown",
   "metadata": {
    "id": "9qzhBokGdybu"
   },
   "source": [
    "### BPIC15_3 Log"
   ]
  },
  {
   "cell_type": "code",
   "execution_count": 19,
   "metadata": {
    "colab": {
     "base_uri": "https://localhost:8080/"
    },
    "executionInfo": {
     "elapsed": 16034,
     "status": "ok",
     "timestamp": 1606317227821,
     "user": {
      "displayName": "Glenn Dittmann",
      "photoUrl": "",
      "userId": "09282768545803181559"
     },
     "user_tz": -60
    },
    "id": "M4xHI-JpQC_u",
    "outputId": "74141b8a-92de-4e84-fe63-0f10b354b7ee"
   },
   "outputs": [
    {
     "name": "stderr",
     "output_type": "stream",
     "text": [
      "100%|██████████| 1409/1409 [00:14<00:00, 99.60it/s]"
     ]
    },
    {
     "name": "stdout",
     "output_type": "stream",
     "text": [
      "The log contains 1409 traces and 59681 events.\n",
      "TRACE_ID: 3880474 (trace number 297 )\n",
      "  activity name               time                           transition     \n",
      "> 01_HOOFD_010                06/23/2011 00:00:00.000000     complete       \n",
      "> 01_HOOFD_101                07/09/2011 00:00:00.000000     complete       \n",
      "> 08_AWB45_020_2              07/18/2011 00:00:00.000000     complete       \n",
      "> 08_AWB45_040                09/08/2011 00:00:00.000000     complete       \n",
      "> 01_HOOFD_030_2              09/28/2011 12:04:52.000000     complete       \n",
      "> 01_HOOFD_065_2              09/28/2011 12:06:24.000000     complete       \n",
      "> 01_HOOFD_020                09/28/2011 12:11:03.000000     complete       \n",
      "> 14_VRIJ_010                 09/28/2011 12:11:03.000000     complete       \n",
      "> 03_GBH_005                  09/28/2011 12:11:03.000000     complete       \n",
      "> 05_EIND_010                 09/28/2011 12:11:03.000000     complete       \n",
      "> 01_HOOFD_040                09/28/2011 12:11:03.000000     complete       \n",
      "> 01_HOOFD_050                09/28/2011 12:11:03.000000     complete       \n",
      "> 01_HOOFD_060                09/28/2011 12:11:03.000000     complete       \n",
      "> 01_HOOFD_180                09/28/2011 12:11:03.000000     complete       \n",
      "> 01_HOOFD_190                09/28/2011 12:11:03.000000     complete       \n",
      "> 08_AWB45_010                09/28/2011 12:11:03.000000     complete       \n",
      "> 08_AWB45_030                09/28/2011 12:11:03.000000     complete       \n",
      "> 01_HOOFD_015                09/28/2011 12:11:03.000000     complete       \n",
      "> 01_HOOFD_030_1              09/28/2011 12:11:03.000000     complete       \n",
      "> 08_AWB45_020_1              09/28/2011 12:11:03.000000     complete       \n",
      "> 01_HOOFD_065_1              09/28/2011 12:11:03.000000     complete       \n",
      "> 01_HOOFD_120                09/28/2011 12:11:03.000000     complete       \n",
      "> 01_HOOFD_110                09/28/2011 12:11:03.000000     complete       \n",
      "> 08_AWB45_170                09/28/2011 12:11:12.000000     complete       \n",
      "> 01_HOOFD_110                09/28/2011 12:11:14.000000     complete       \n",
      "> 01_HOOFD_120                09/28/2011 12:11:15.000000     complete       \n",
      "> 01_HOOFD_180                09/28/2011 12:11:16.000000     complete       \n",
      "> 01_HOOFD_190                09/28/2011 12:11:19.000000     complete       \n",
      "> 01_HOOFD_195                09/28/2011 12:11:19.000000     complete       \n",
      "> 01_HOOFD_200                09/28/2011 12:11:20.000000     complete       \n",
      "> 07_OPS_010                  09/28/2011 12:11:26.000000     complete       \n",
      "> 06_VD_010                   09/28/2011 12:11:28.000000     complete       \n",
      "> 15_NGV_010                  09/28/2011 12:13:40.000000     complete       \n",
      "> 01_HOOFD_250                09/28/2011 12:13:42.000000     complete       \n",
      "> 01_HOOFD_260                09/28/2011 12:13:43.000000     complete       \n",
      "> 01_HOOFD_330                09/28/2011 12:13:46.000000     complete       \n",
      "> 09_AH_I_010                 09/28/2011 12:13:56.000000     complete       \n",
      "> 01_HOOFD_375                09/28/2011 12:13:58.000000     complete       \n",
      "> 01_HOOFD_370                09/28/2011 12:13:58.000000     complete       \n",
      "> 01_HOOFD_380                09/28/2011 12:14:00.000000     complete       \n",
      "> 01_HOOFD_430                09/28/2011 12:14:01.000000     complete       \n",
      "> 01_HOOFD_470                09/28/2011 12:14:05.000000     complete       \n",
      "> 01_HOOFD_480                09/28/2011 12:14:07.000000     complete       \n",
      "> 01_HOOFD_490_1              09/28/2011 12:14:07.000000     complete       \n",
      "> 01_HOOFD_490_2              09/28/2011 13:31:21.000000     complete       \n",
      "> 01_HOOFD_490_3              09/28/2011 13:31:21.000000     complete       \n",
      "> 01_HOOFD_495                09/29/2011 09:20:25.000000     complete       \n",
      "> 01_HOOFD_510_1              09/29/2011 09:23:24.000000     complete       \n",
      "> 01_HOOFD_510_2              09/29/2011 09:23:24.000000     complete       \n",
      "\n"
     ]
    },
    {
     "name": "stderr",
     "output_type": "stream",
     "text": [
      "\n"
     ]
    }
   ],
   "source": [
    "log7 = xes.import_from_xes(g)\n",
    "verify_log(log7)"
   ]
  },
  {
   "cell_type": "markdown",
   "metadata": {
    "id": "KQxR0N2KeEW2"
   },
   "source": [
    "### BPIC15_4 Log"
   ]
  },
  {
   "cell_type": "code",
   "execution_count": 20,
   "metadata": {
    "colab": {
     "base_uri": "https://localhost:8080/"
    },
    "executionInfo": {
     "elapsed": 12143,
     "status": "ok",
     "timestamp": 1606317260807,
     "user": {
      "displayName": "Glenn Dittmann",
      "photoUrl": "",
      "userId": "09282768545803181559"
     },
     "user_tz": -60
    },
    "id": "cDOyzPIVQCzA",
    "outputId": "eb98d50b-e39b-4f44-d7d2-d8b7aa295342"
   },
   "outputs": [
    {
     "name": "stderr",
     "output_type": "stream",
     "text": [
      "100%|██████████| 1053/1053 [00:10<00:00, 96.76it/s]\n"
     ]
    },
    {
     "name": "stdout",
     "output_type": "stream",
     "text": [
      "The log contains 1053 traces and 47293 events.\n",
      "TRACE_ID: 7038129 (trace number 731 )\n",
      "  activity name               time                           transition     \n",
      "> 01_HOOFD_010                02/26/2013 00:00:00.000000     complete       \n",
      "> 01_HOOFD_011                02/27/2013 10:33:09.000000     complete       \n",
      "> 01_HOOFD_020                02/27/2013 10:33:09.000000     complete       \n",
      "> 03_GBH_005                  02/27/2013 10:33:09.000000     complete       \n",
      "> 16_LGSV_010                 02/27/2013 10:33:09.000000     complete       \n",
      "> 02_DRZ_010                  02/27/2013 10:33:09.000000     complete       \n",
      "> 01_HOOFD_015                02/27/2013 10:33:09.000000     complete       \n",
      "> 04_BPT_005                  02/27/2013 10:33:22.000000     complete       \n",
      "> 01_HOOFD_061                02/27/2013 10:33:22.000000     complete       \n",
      "> 01_HOOFD_065_0              02/27/2013 10:33:25.000000     complete       \n",
      "> 01_HOOFD_110_0              02/27/2013 10:33:28.000000     complete       \n",
      "> 01_HOOFD_180                02/27/2013 10:33:28.000000     complete       \n",
      "> 01_HOOFD_065_1              02/27/2013 10:33:28.000000     complete       \n",
      "> 01_HOOFD_490_5a             03/01/2013 00:00:00.000000     complete       \n",
      "> 08_AWB45_005                03/01/2013 10:16:51.000000     complete       \n",
      "> 01_HOOFD_196                03/01/2013 10:16:51.000000     complete       \n",
      "> 01_HOOFD_200                03/01/2013 10:16:51.000000     complete       \n",
      "> 01_HOOFD_195                03/01/2013 10:16:51.000000     complete       \n",
      "> 01_HOOFD_250_1              03/01/2013 10:16:53.000000     complete       \n",
      "> 01_HOOFD_250_2              03/01/2013 10:16:55.000000     complete       \n",
      "> 01_HOOFD_330                03/01/2013 10:16:57.000000     complete       \n",
      "> 09_AH_I_010                 03/01/2013 10:16:57.000000     complete       \n",
      "> 01_HOOFD_370                03/01/2013 10:16:57.000000     complete       \n",
      "> 01_HOOFD_375                03/01/2013 10:16:57.000000     complete       \n",
      "> 01_HOOFD_380                03/01/2013 10:16:58.000000     complete       \n",
      "> 01_HOOFD_430                03/01/2013 10:16:58.000000     complete       \n",
      "> 11_AH_II_010                03/01/2013 10:16:58.000000     complete       \n",
      "> 13_CRD_010                  03/01/2013 10:16:58.000000     complete       \n",
      "> 01_HOOFD_480                03/01/2013 10:16:58.000000     complete       \n",
      "> 01_HOOFD_490_1              03/01/2013 10:16:58.000000     complete       \n",
      "> 01_HOOFD_490_2              03/01/2013 10:17:02.000000     complete       \n",
      "> 01_HOOFD_490_1a             03/01/2013 10:17:02.000000     complete       \n",
      "> 01_HOOFD_491                03/01/2013 10:17:04.000000     complete       \n",
      "> 01_HOOFD_494a               03/01/2013 10:17:04.000000     complete       \n",
      "> 01_HOOFD_490_5              03/01/2013 10:17:04.000000     complete       \n",
      "> 01_HOOFD_490_4              03/01/2013 10:17:04.000000     complete       \n",
      "> 01_HOOFD_500                03/01/2013 10:17:09.000000     complete       \n",
      "> 16_LGSD_010                 03/01/2013 10:17:09.000000     complete       \n",
      "> 01_HOOFD_510_0              03/01/2013 10:17:09.000000     complete       \n",
      "> 01_HOOFD_495                03/01/2013 10:17:09.000000     complete       \n",
      "> 01_HOOFD_510_1              03/01/2013 10:17:11.000000     complete       \n",
      "> 01_HOOFD_510_2a             03/05/2013 00:00:00.000000     complete       \n",
      "> 01_HOOFD_510_2              03/05/2013 00:00:00.000000     complete       \n",
      "> 01_HOOFD_510_4              03/05/2013 00:00:00.000000     complete       \n",
      "> 01_HOOFD_510_3              03/12/2013 09:05:03.000000     complete       \n",
      "> 01_HOOFD_519                03/12/2013 09:05:04.000000     complete       \n",
      "> 01_HOOFD_515                03/12/2013 09:05:04.000000     complete       \n",
      "> 01_BB_540                   03/12/2013 09:05:08.000000     complete       \n",
      "> 01_BB_546                   03/12/2013 09:05:09.000000     complete       \n",
      "> 01_BB_630                   03/12/2013 09:05:09.000000     complete       \n",
      "> 01_BB_730                   03/12/2013 09:05:09.000000     complete       \n",
      "> 01_BB_545                   03/12/2013 09:05:09.000000     complete       \n",
      "\n"
     ]
    }
   ],
   "source": [
    "log8 = xes.import_from_xes(h)\n",
    "verify_log(log8)"
   ]
  },
  {
   "cell_type": "markdown",
   "metadata": {
    "id": "7PueuHameicP"
   },
   "source": [
    "### BPIC15_5 Log\n"
   ]
  },
  {
   "cell_type": "code",
   "execution_count": 21,
   "metadata": {
    "colab": {
     "base_uri": "https://localhost:8080/"
    },
    "executionInfo": {
     "elapsed": 15341,
     "status": "ok",
     "timestamp": 1606317299839,
     "user": {
      "displayName": "Glenn Dittmann",
      "photoUrl": "",
      "userId": "09282768545803181559"
     },
     "user_tz": -60
    },
    "id": "iQPAanzJQCqD",
    "outputId": "733cc5d4-72ad-4401-889e-9b788d36ee26"
   },
   "outputs": [
    {
     "name": "stderr",
     "output_type": "stream",
     "text": [
      "100%|██████████| 1156/1156 [00:13<00:00, 84.65it/s]\n"
     ]
    },
    {
     "name": "stdout",
     "output_type": "stream",
     "text": [
      "The log contains 1156 traces and 59083 events.\n",
      "TRACE_ID: 3519643 (trace number 309 )\n",
      "  activity name               time                           transition     \n",
      "> 01_HOOFD_010                11/23/2010 00:00:00.000000     complete       \n",
      "> 01_HOOFD_030_2              11/24/2010 00:00:00.000000     complete       \n",
      "> 01_HOOFD_510_2              01/13/2011 00:00:00.000000     complete       \n",
      "> 01_HOOFD_100                01/13/2011 00:00:00.000000     complete       \n",
      "> 01_HOOFD_490_3              01/13/2011 00:00:00.000000     complete       \n",
      "> 01_HOOFD_190_2              01/13/2011 00:00:00.000000     complete       \n",
      "> 01_HOOFD_065_2              01/13/2011 00:00:00.000000     complete       \n",
      "> 01_HOOFD_015                01/13/2011 10:54:41.000000     complete       \n",
      "> 01_HOOFD_020                01/13/2011 10:55:10.000000     complete       \n",
      "> 01_HOOFD_030_1              01/13/2011 10:55:13.000000     complete       \n",
      "> 01_HOOFD_040                01/13/2011 10:55:31.000000     complete       \n",
      "> 01_HOOFD_060                01/13/2011 10:55:35.000000     complete       \n",
      "> 01_HOOFD_065_1              01/13/2011 10:55:38.000000     complete       \n",
      "> 06_VD_010                   01/13/2011 10:55:48.000000     complete       \n",
      "> 01_HOOFD_100                01/13/2011 10:55:52.000000     complete       \n",
      "> 01_HOOFD_110                01/13/2011 10:55:59.000000     complete       \n",
      "> 01_HOOFD_130                01/13/2011 10:56:03.000000     complete       \n",
      "> 01_HOOFD_050                01/13/2011 10:56:07.000000     complete       \n",
      "> 05_EIND_010                 01/13/2011 10:56:10.000000     complete       \n",
      "> 01_HOOFD_120                01/13/2011 10:56:12.000000     complete       \n",
      "> 01_HOOFD_180                01/13/2011 10:56:17.000000     complete       \n",
      "> 01_HOOFD_190_1              01/13/2011 10:56:19.000000     complete       \n",
      "> 01_HOOFD_200                01/13/2011 10:56:26.000000     complete       \n",
      "> 01_HOOFD_205                01/13/2011 10:56:26.000000     complete       \n",
      "> 01_HOOFD_270                01/13/2011 10:56:29.000000     complete       \n",
      "> 01_HOOFD_250                01/13/2011 10:56:33.000000     complete       \n",
      "> 01_HOOFD_260                01/13/2011 10:56:34.000000     complete       \n",
      "> 09_AH_I_010                 01/13/2011 10:56:39.000000     complete       \n",
      "> 01_HOOFD_370                01/13/2011 10:56:40.000000     complete       \n",
      "> 01_HOOFD_375                01/13/2011 10:56:40.000000     complete       \n",
      "> 01_HOOFD_380                01/13/2011 10:56:43.000000     complete       \n",
      "> 01_HOOFD_430                01/13/2011 10:56:46.000000     complete       \n",
      "> 01_HOOFD_470                01/13/2011 10:56:48.000000     complete       \n",
      "> 01_HOOFD_480                01/13/2011 10:56:52.000000     complete       \n",
      "> 01_HOOFD_490_1              01/13/2011 10:56:52.000000     complete       \n",
      "> 01_HOOFD_490_2              01/13/2011 10:56:54.000000     complete       \n",
      "> 01_HOOFD_500                01/13/2011 11:01:50.000000     complete       \n",
      "> 01_HOOFD_510_1              01/13/2011 11:01:53.000000     complete       \n",
      "> 01_HOOFD_520                01/13/2011 11:02:03.000000     complete       \n",
      "> 01_HOOFD_530                01/26/2011 00:00:00.000000     complete       \n",
      "> 01_BB_540                   03/01/2011 17:00:16.000000     complete       \n",
      "> 01_BB_770                   03/01/2011 17:00:19.000000     complete       \n",
      "> 01_HOOFD_790                03/01/2011 17:00:19.000000     complete       \n",
      "\n"
     ]
    }
   ],
   "source": [
    "log9 = xes.import_from_xes(i)\n",
    "verify_log(log9)"
   ]
  },
  {
   "cell_type": "markdown",
   "metadata": {
    "id": "-A-xV0Oue3nT"
   },
   "source": [
    "### BPIC17 - Offer log"
   ]
  },
  {
   "cell_type": "code",
   "execution_count": 22,
   "metadata": {
    "colab": {
     "base_uri": "https://localhost:8080/"
    },
    "executionInfo": {
     "elapsed": 35508,
     "status": "ok",
     "timestamp": 1606317354511,
     "user": {
      "displayName": "Glenn Dittmann",
      "photoUrl": "",
      "userId": "09282768545803181559"
     },
     "user_tz": -60
    },
    "id": "87awUqtQQCeY",
    "outputId": "b783c665-5dae-4fd8-a1a9-9be510d99c4b"
   },
   "outputs": [
    {
     "name": "stderr",
     "output_type": "stream",
     "text": [
      "100%|██████████| 42995/42995 [00:29<00:00, 1458.39it/s]"
     ]
    },
    {
     "name": "stdout",
     "output_type": "stream",
     "text": [
      "The log contains 42995 traces and 193849 events.\n",
      "TRACE_ID: Offer_51196803 (trace number 42587 )\n",
      "  activity name               time                           transition     \n",
      "> O_Create Offer              12/30/2016 14:27:45.136000 UTC complete       \n",
      "> O_Created                   12/30/2016 14:27:45.753000 UTC complete       \n",
      "> O_Sent (mail and online)    12/30/2016 14:30:23.200000 UTC complete       \n",
      "> O_Returned                  01/04/2017 10:09:24.113000 UTC complete       \n",
      "> O_Accepted                  01/04/2017 11:02:33.601000 UTC complete       \n",
      "\n"
     ]
    },
    {
     "name": "stderr",
     "output_type": "stream",
     "text": [
      "\n"
     ]
    }
   ],
   "source": [
    "log10 = xes.import_from_xes(j)\n",
    "verify_log(log10)"
   ]
  },
  {
   "cell_type": "markdown",
   "metadata": {
    "id": "PPdVEBC0fPtZ"
   },
   "source": [
    "### BPIC17 Log"
   ]
  },
  {
   "cell_type": "code",
   "execution_count": 23,
   "metadata": {
    "colab": {
     "base_uri": "https://localhost:8080/"
    },
    "executionInfo": {
     "elapsed": 225265,
     "status": "ok",
     "timestamp": 1606317588972,
     "user": {
      "displayName": "Glenn Dittmann",
      "photoUrl": "",
      "userId": "09282768545803181559"
     },
     "user_tz": -60
    },
    "id": "0GbL2aGIQTBh",
    "outputId": "3fb8853d-fdb3-4b79-a425-10b1ddf25701"
   },
   "outputs": [
    {
     "name": "stderr",
     "output_type": "stream",
     "text": [
      "100%|██████████| 31509/31509 [02:57<00:00, 177.86it/s]\n"
     ]
    },
    {
     "name": "stdout",
     "output_type": "stream",
     "text": [
      "The log contains 31509 traces and 1202267 events.\n",
      "TRACE_ID: Application_357965927 (trace number 17288 )\n",
      "  activity name               time                           transition     \n",
      "> A_Create Application        07/30/2016 14:20:24.924000 UTC complete       \n",
      "> A_Submitted                 07/30/2016 14:20:24.970000 UTC complete       \n",
      "> W_Handle leads              07/30/2016 14:20:25.343000 UTC schedule       \n",
      "> W_Handle leads              07/30/2016 14:21:39.648000 UTC withdraw       \n",
      "> W_Complete application      07/30/2016 14:21:39.656000 UTC schedule       \n",
      "> A_Concept                   07/30/2016 14:21:39.661000 UTC complete       \n",
      "> A_Accepted                  07/31/2016 13:48:51.030000 UTC complete       \n",
      "> O_Create Offer              07/31/2016 13:51:13.413000 UTC complete       \n",
      "> O_Created                   07/31/2016 13:51:14.110000 UTC complete       \n",
      "> O_Sent (mail and online)    07/31/2016 13:51:42.615000 UTC complete       \n",
      "> W_Complete application      07/31/2016 13:51:42.649000 UTC withdraw       \n",
      "> W_Call after offers         07/31/2016 13:51:42.656000 UTC schedule       \n",
      "> W_Call after offers         07/31/2016 13:51:42.659000 UTC start          \n",
      "> A_Complete                  07/31/2016 13:51:42.661000 UTC complete       \n",
      "> W_Call after offers         07/31/2016 13:53:52.073000 UTC suspend        \n",
      "> W_Call after offers         08/04/2016 18:16:29.056000 UTC resume         \n",
      "> W_Call after offers         08/04/2016 18:16:46.465000 UTC suspend        \n",
      "> W_Call after offers         08/11/2016 08:14:29.836000 UTC ate_abort      \n",
      "> W_Validate application      08/11/2016 08:14:29.842000 UTC schedule       \n",
      "> W_Validate application      08/11/2016 08:14:29.844000 UTC start          \n",
      "> A_Validating                08/11/2016 08:14:30.673000 UTC complete       \n",
      "> O_Returned                  08/11/2016 08:14:41.040000 UTC complete       \n",
      "> W_Validate application      08/11/2016 08:27:09.534000 UTC suspend        \n",
      "> W_Validate application      08/11/2016 09:21:12.845000 UTC ate_abort      \n",
      "> W_Call incomplete files     08/11/2016 09:21:12.859000 UTC schedule       \n",
      "> W_Call incomplete files     08/11/2016 09:21:12.863000 UTC start          \n",
      "> A_Incomplete                08/11/2016 09:21:12.872000 UTC complete       \n",
      "> W_Call incomplete files     08/11/2016 09:21:25.931000 UTC suspend        \n",
      "> W_Call incomplete files     08/11/2016 12:46:18.065000 UTC resume         \n",
      "> W_Call incomplete files     08/11/2016 12:52:55.971000 UTC suspend        \n",
      "> O_Accepted                  08/22/2016 05:42:05.630000 UTC complete       \n",
      "> A_Pending                   08/22/2016 05:42:05.634000 UTC complete       \n",
      "> W_Call incomplete files     08/22/2016 05:42:05.636000 UTC ate_abort      \n",
      "\n"
     ]
    }
   ],
   "source": [
    "log11 = xes.import_from_xes(k)\n",
    "verify_log(log11)"
   ]
  },
  {
   "cell_type": "markdown",
   "metadata": {
    "id": "1oGJA_yQ7DRw"
   },
   "source": [
    "## 1.2 Importing and Verifying the Artifical Logs\n",
    "---"
   ]
  },
  {
   "cell_type": "markdown",
   "metadata": {
    "id": "KXiaLrj_TZd4"
   },
   "source": [
    "### A1"
   ]
  },
  {
   "cell_type": "code",
   "execution_count": 7,
   "metadata": {
    "colab": {
     "base_uri": "https://localhost:8080/"
    },
    "executionInfo": {
     "elapsed": 1119,
     "status": "ok",
     "timestamp": 1606318796652,
     "user": {
      "displayName": "Glenn Dittmann",
      "photoUrl": "",
      "userId": "09282768545803181559"
     },
     "user_tz": -60
    },
    "id": "pKQsiFCE8Sb-",
    "outputId": "a23c39f9-3077-4f8e-8b94-b7bb13710c2e"
   },
   "outputs": [
    {
     "output_type": "stream",
     "name": "stderr",
     "text": [
      "100%|██████████| 1104/1104 [00:00<00:00, 1560.89it/s]\n"
     ]
    }
   ],
   "source": [
    "a1 = xes.import_from_xes(pa1)"
   ]
  },
  {
   "cell_type": "code",
   "execution_count": 8,
   "metadata": {
    "colab": {
     "base_uri": "https://localhost:8080/"
    },
    "executionInfo": {
     "elapsed": 864,
     "status": "ok",
     "timestamp": 1606319974116,
     "user": {
      "displayName": "Glenn Dittmann",
      "photoUrl": "",
      "userId": "09282768545803181559"
     },
     "user_tz": -60
    },
    "id": "LjtelJZVIYLZ",
    "outputId": "6f55c70e-d371-4128-e318-219d8a3fba34"
   },
   "outputs": [
    {
     "output_type": "stream",
     "name": "stdout",
     "text": [
      "Traces: 1104 Events: 11855\n"
     ]
    }
   ],
   "source": [
    "print(\"Traces:\", len(a1.traces), \"Events:\", len(a1.events))"
   ]
  },
  {
   "cell_type": "code",
   "execution_count": 9,
   "metadata": {
    "colab": {
     "base_uri": "https://localhost:8080/"
    },
    "executionInfo": {
     "elapsed": 937,
     "status": "ok",
     "timestamp": 1606320913637,
     "user": {
      "displayName": "Glenn Dittmann",
      "photoUrl": "",
      "userId": "09282768545803181559"
     },
     "user_tz": -60
    },
    "id": "FeULniRpD7mG",
    "outputId": "109d1bc3-e526-419c-e9e4-e41d71446037"
   },
   "outputs": [
    {
     "output_type": "stream",
     "name": "stdout",
     "text": [
      "{'case_id': '1056', 'concept:name': 'Repair (Simple)+start'}\n"
     ]
    }
   ],
   "source": [
    "#print random event\n",
    "idx = random.randint(0, len(a1.traces)-1)\n",
    "pprint(a1.events[idx])"
   ]
  },
  {
   "cell_type": "markdown",
   "metadata": {
    "id": "V3_QSkMU2AHr"
   },
   "source": [
    "### A2"
   ]
  },
  {
   "cell_type": "code",
   "execution_count": 13,
   "metadata": {
    "colab": {
     "base_uri": "https://localhost:8080/"
    },
    "executionInfo": {
     "elapsed": 3139,
     "status": "ok",
     "timestamp": 1606318983591,
     "user": {
      "displayName": "Glenn Dittmann",
      "photoUrl": "",
      "userId": "09282768545803181559"
     },
     "user_tz": -60
    },
    "id": "t2ywO_x3TY89",
    "outputId": "2960ed4d-d7a3-47fe-b909-a51aa448a682"
   },
   "outputs": [
    {
     "name": "stderr",
     "output_type": "stream",
     "text": [
      "100%|██████████| 1104/1104 [00:00<00:00, 2506.74it/s]\n"
     ]
    }
   ],
   "source": [
    "a2 = xes.import_from_xes(pa2)"
   ]
  },
  {
   "cell_type": "code",
   "execution_count": 14,
   "metadata": {
    "colab": {
     "base_uri": "https://localhost:8080/"
    },
    "executionInfo": {
     "elapsed": 966,
     "status": "ok",
     "timestamp": 1606319959246,
     "user": {
      "displayName": "Glenn Dittmann",
      "photoUrl": "",
      "userId": "09282768545803181559"
     },
     "user_tz": -60
    },
    "id": "EWNzbQklIUZ_",
    "outputId": "62613434-3076-4720-fc7d-68decdaa1824"
   },
   "outputs": [
    {
     "name": "stdout",
     "output_type": "stream",
     "text": [
      "Traces: 1104 Events: 11855\n"
     ]
    }
   ],
   "source": [
    "print(\"Traces:\", len(a2.traces), \"Events:\", len(a2.events))"
   ]
  },
  {
   "cell_type": "code",
   "execution_count": 39,
   "metadata": {
    "colab": {
     "base_uri": "https://localhost:8080/"
    },
    "executionInfo": {
     "elapsed": 829,
     "status": "ok",
     "timestamp": 1606318995755,
     "user": {
      "displayName": "Glenn Dittmann",
      "photoUrl": "",
      "userId": "09282768545803181559"
     },
     "user_tz": -60
    },
    "id": "u_ftpidJEge2",
    "outputId": "43021bc1-062e-4fc7-aea0-c42a515b702d"
   },
   "outputs": [
    {
     "name": "stdout",
     "output_type": "stream",
     "text": [
      "{'case_id': '1067',\n",
      " 'concept:name': 'Inform User',\n",
      " 'lifecycle:transition': 'complete'}\n"
     ]
    }
   ],
   "source": [
    "#print random event\n",
    "idx = random.randint(0, len(a2.traces)-1)\n",
    "pprint(a2.events[idx])"
   ]
  },
  {
   "cell_type": "code",
   "execution_count": 40,
   "metadata": {
    "colab": {
     "base_uri": "https://localhost:8080/"
    },
    "executionInfo": {
     "elapsed": 809,
     "status": "ok",
     "timestamp": 1606319544412,
     "user": {
      "displayName": "Glenn Dittmann",
      "photoUrl": "",
      "userId": "09282768545803181559"
     },
     "user_tz": -60
    },
    "id": "VcwwjQf_Esrk",
    "outputId": "0dd9ab0f-7d1f-4e5e-e58f-cdb0b628d3da"
   },
   "outputs": [
    {
     "data": {
      "text/plain": [
       "{'(Name AND Transition)': ['concept:name', 'lifecycle:transition']}"
      ]
     },
     "execution_count": 40,
     "metadata": {},
     "output_type": "execute_result"
    }
   ],
   "source": [
    "a2.classifiers"
   ]
  },
  {
   "cell_type": "code",
   "execution_count": 41,
   "metadata": {
    "colab": {
     "base_uri": "https://localhost:8080/"
    },
    "executionInfo": {
     "elapsed": 1184,
     "status": "ok",
     "timestamp": 1606319349938,
     "user": {
      "displayName": "Glenn Dittmann",
      "photoUrl": "",
      "userId": "09282768545803181559"
     },
     "user_tz": -60
    },
    "id": "gG0TUXEAEvlg",
    "outputId": "0f5b0cd7-0180-4079-9bfa-72f0eaf0a540"
   },
   "outputs": [
    {
     "data": {
      "text/plain": [
       "True"
      ]
     },
     "execution_count": 41,
     "metadata": {},
     "output_type": "execute_result"
    }
   ],
   "source": [
    "#build the set of event that is equal to the first event by our classifier\n",
    "first_classifier = list(a2.classifiers.keys())[0]\n",
    "equal_events = a2.filter_by_classifier(a2.events[0], first_classifier)\n",
    "verify_filter_by_classifier(a2, equal_events, first_classifier)"
   ]
  },
  {
   "cell_type": "markdown",
   "metadata": {
    "id": "lacpQoPZThKl"
   },
   "source": [
    "### B1"
   ]
  },
  {
   "cell_type": "code",
   "execution_count": 11,
   "metadata": {
    "colab": {
     "base_uri": "https://localhost:8080/"
    },
    "executionInfo": {
     "elapsed": 2446,
     "status": "ok",
     "timestamp": 1606319378137,
     "user": {
      "displayName": "Glenn Dittmann",
      "photoUrl": "",
      "userId": "09282768545803181559"
     },
     "user_tz": -60
    },
    "id": "pfyi0_RjTY3U",
    "outputId": "5a3336bc-30c1-45e9-e383-d3a7dd268b35"
   },
   "outputs": [
    {
     "output_type": "stream",
     "name": "stderr",
     "text": [
      "100%|██████████| 1104/1104 [00:04<00:00, 263.41it/s]\n"
     ]
    }
   ],
   "source": [
    "b1 = xes.import_from_xes(pb1)"
   ]
  },
  {
   "cell_type": "code",
   "execution_count": 12,
   "metadata": {
    "colab": {
     "base_uri": "https://localhost:8080/"
    },
    "executionInfo": {
     "elapsed": 1261,
     "status": "ok",
     "timestamp": 1606319388951,
     "user": {
      "displayName": "Glenn Dittmann",
      "photoUrl": "",
      "userId": "09282768545803181559"
     },
     "user_tz": -60
    },
    "id": "MkNjWxN_rOyY",
    "outputId": "1d8e516e-35a2-4c9c-98db-b7f50dc82169"
   },
   "outputs": [
    {
     "output_type": "stream",
     "name": "stdout",
     "text": [
      "The log contains 1104 traces and 11855 events.\nClassifiers contained: {}\nTRACE_ID: 462 (trace number 508 )\n  activity name               time                           transition     \n> Register                    01/23/1970 23:49:34.128000     complete       \n> Analyze Defect              01/23/1970 23:53:14.910000     start          \n> Analyze Defect              01/24/1970 00:05:32.849000     complete       \n> Repair (Simple)             01/24/1970 00:17:08.630000     start          \n> Repair (Simple)             01/24/1970 00:25:29.193000     complete       \n> Test Repair                 01/24/1970 00:28:20.593000     start          \n> Test Repair                 01/24/1970 00:38:32.459000     complete       \n> Restart Repair              01/24/1970 00:45:57.880000     complete       \n> Repair (Simple)             01/24/1970 00:48:30.432000     start          \n> Repair (Simple)             01/24/1970 00:57:54.188000     complete       \n> Test Repair                 01/24/1970 01:01:46.891000     start          \n> Inform User                 01/24/1970 01:06:28.682000     complete       \n> Test Repair                 01/24/1970 01:15:49.083000     complete       \n> Restart Repair              01/24/1970 01:27:12.518000     complete       \n> Repair (Simple)             01/24/1970 01:31:39.671000     start          \n> Repair (Simple)             01/24/1970 01:42:48.706000     complete       \n> Test Repair                 01/24/1970 01:45:41.103000     start          \n> Test Repair                 01/24/1970 01:56:28.735000     complete       \n> Archive Repair              01/24/1970 02:09:50.226000     complete       \n\n"
     ]
    }
   ],
   "source": [
    "verify_log(b1)"
   ]
  },
  {
   "cell_type": "code",
   "execution_count": 84,
   "metadata": {
    "colab": {
     "base_uri": "https://localhost:8080/"
    },
    "executionInfo": {
     "elapsed": 767,
     "status": "ok",
     "timestamp": 1606319482475,
     "user": {
      "displayName": "Glenn Dittmann",
      "photoUrl": "",
      "userId": "09282768545803181559"
     },
     "user_tz": -60
    },
    "id": "6HNNgXE9sImw",
    "outputId": "1d8f4c30-ee6c-4014-97af-ab5fc5df4f91"
   },
   "outputs": [
    {
     "name": "stdout",
     "output_type": "stream",
     "text": [
      "{'case_id': '1035',\n",
      " 'concept:name': 'Test Repair',\n",
      " 'lifecycle:transition': 'complete',\n",
      " 'time:timestamp': datetime.datetime(1970, 1, 24, 13, 31, 25, 977000, tzinfo=tzoffset(None, 3600))}\n"
     ]
    }
   ],
   "source": [
    "#print random event\n",
    "idx = random.randint(0, len(b1.traces)-1)\n",
    "pprint(b1.events[idx])"
   ]
  },
  {
   "cell_type": "markdown",
   "metadata": {
    "id": "753me7fS1337"
   },
   "source": [
    "### B2"
   ]
  },
  {
   "cell_type": "code",
   "execution_count": 86,
   "metadata": {
    "colab": {
     "base_uri": "https://localhost:8080/"
    },
    "executionInfo": {
     "elapsed": 5616,
     "status": "ok",
     "timestamp": 1606319707864,
     "user": {
      "displayName": "Glenn Dittmann",
      "photoUrl": "",
      "userId": "09282768545803181559"
     },
     "user_tz": -60
    },
    "id": "mESBezPnTYyw",
    "outputId": "05362ed9-f23c-43cc-d002-b7f5a5b06750"
   },
   "outputs": [
    {
     "name": "stderr",
     "output_type": "stream",
     "text": [
      "100%|██████████| 1104/1104 [00:02<00:00, 387.52it/s]\n"
     ]
    }
   ],
   "source": [
    "b2 = xes.import_from_xes(pb2)"
   ]
  },
  {
   "cell_type": "code",
   "execution_count": 91,
   "metadata": {
    "colab": {
     "base_uri": "https://localhost:8080/"
    },
    "executionInfo": {
     "elapsed": 969,
     "status": "ok",
     "timestamp": 1606319731584,
     "user": {
      "displayName": "Glenn Dittmann",
      "photoUrl": "",
      "userId": "09282768545803181559"
     },
     "user_tz": -60
    },
    "id": "8Jcq6wLOtA2e",
    "outputId": "dda42135-b6a6-44ca-d9f1-4d4c00d35521"
   },
   "outputs": [
    {
     "name": "stdout",
     "output_type": "stream",
     "text": [
      "The log contains 1104 traces and 11855 events.\n",
      "TRACE_ID: 524 (trace number 577 )\n",
      "  activity name               time                           transition     \n",
      "> Register                    01/25/1970 19:13:17.599000     complete       \n",
      "> Analyze Defect              01/25/1970 19:16:35.190000     start          \n",
      "> Analyze Defect              01/25/1970 19:25:21.537000     complete       \n",
      "> Inform User                 01/25/1970 19:46:45.792000     complete       \n",
      "> Repair (Simple)             01/25/1970 20:02:32.000000     start          \n",
      "> Repair (Simple)             01/25/1970 20:10:31.798000     complete       \n",
      "> Test Repair                 01/25/1970 20:14:03.866000     start          \n",
      "> Test Repair                 01/25/1970 20:26:08.327000     complete       \n",
      "> Restart Repair              01/25/1970 20:34:45.013000     complete       \n",
      "> Repair (Simple)             01/25/1970 20:37:19.923000     start          \n",
      "> Repair (Simple)             01/25/1970 20:53:58.892000     complete       \n",
      "> Test Repair                 01/25/1970 20:55:42.229000     start          \n",
      "> Test Repair                 01/25/1970 21:08:30.071000     complete       \n",
      "> Archive Repair              01/25/1970 21:20:54.159000     complete       \n",
      "\n"
     ]
    }
   ],
   "source": [
    "verify_log(b2)"
   ]
  },
  {
   "cell_type": "code",
   "execution_count": 92,
   "metadata": {
    "colab": {
     "base_uri": "https://localhost:8080/"
    },
    "executionInfo": {
     "elapsed": 1070,
     "status": "ok",
     "timestamp": 1606319733770,
     "user": {
      "displayName": "Glenn Dittmann",
      "photoUrl": "",
      "userId": "09282768545803181559"
     },
     "user_tz": -60
    },
    "id": "3T6PDfoztUk1",
    "outputId": "91be15ea-967f-4365-a1c3-a4cde1654d11"
   },
   "outputs": [
    {
     "name": "stdout",
     "output_type": "stream",
     "text": [
      "{'case_id': '1092',\n",
      " 'concept:name': 'Register',\n",
      " 'lifecycle:transition': 'complete',\n",
      " 'time:timestamp': datetime.datetime(1970, 1, 26, 4, 11, 26, 759000, tzinfo=tzoffset(None, 3600))}\n"
     ]
    }
   ],
   "source": [
    "#print random event\n",
    "idx = random.randint(0, len(b2.traces)-1)\n",
    "pprint(b2.events[idx])"
   ]
  },
  {
   "cell_type": "code",
   "execution_count": 94,
   "metadata": {
    "colab": {
     "base_uri": "https://localhost:8080/"
    },
    "executionInfo": {
     "elapsed": 947,
     "status": "ok",
     "timestamp": 1606319737641,
     "user": {
      "displayName": "Glenn Dittmann",
      "photoUrl": "",
      "userId": "09282768545803181559"
     },
     "user_tz": -60
    },
    "id": "xmntSf1ttazE",
    "outputId": "e355dad4-1b5f-4a05-e41b-4456fc74c669"
   },
   "outputs": [
    {
     "data": {
      "text/plain": [
       "{'(Name AND Transition)': ['concept:name', 'lifecycle:transition']}"
      ]
     },
     "execution_count": 94,
     "metadata": {},
     "output_type": "execute_result"
    }
   ],
   "source": [
    "b2.classifiers"
   ]
  },
  {
   "cell_type": "code",
   "execution_count": 95,
   "metadata": {
    "colab": {
     "base_uri": "https://localhost:8080/"
    },
    "executionInfo": {
     "elapsed": 991,
     "status": "ok",
     "timestamp": 1606319777214,
     "user": {
      "displayName": "Glenn Dittmann",
      "photoUrl": "",
      "userId": "09282768545803181559"
     },
     "user_tz": -60
    },
    "id": "YOgMuvggHhlx",
    "outputId": "1b0172a9-45f7-4a34-f051-cb5db351cdc1"
   },
   "outputs": [
    {
     "data": {
      "text/plain": [
       "True"
      ]
     },
     "execution_count": 95,
     "metadata": {},
     "output_type": "execute_result"
    }
   ],
   "source": [
    "#build the set of event that is equal to the first event by our classifier\n",
    "first_classifier = list(b2.classifiers.keys())[0]\n",
    "equal_events = b2.filter_by_classifier(b2.events[0], first_classifier)\n",
    "verify_filter_by_classifier(b2, equal_events, first_classifier)"
   ]
  },
  {
   "cell_type": "markdown",
   "metadata": {
    "id": "D9WncCzfTkOB"
   },
   "source": [
    "### C1"
   ]
  },
  {
   "cell_type": "code",
   "execution_count": 96,
   "metadata": {
    "colab": {
     "base_uri": "https://localhost:8080/"
    },
    "executionInfo": {
     "elapsed": 1159,
     "status": "ok",
     "timestamp": 1606319787373,
     "user": {
      "displayName": "Glenn Dittmann",
      "photoUrl": "",
      "userId": "09282768545803181559"
     },
     "user_tz": -60
    },
    "id": "8QkcM-hSTYqm",
    "outputId": "61a7cbd5-8344-43c8-8972-394dcb64dac9"
   },
   "outputs": [
    {
     "name": "stderr",
     "output_type": "stream",
     "text": [
      "100%|██████████| 1104/1104 [00:00<00:00, 2156.52it/s]\n"
     ]
    }
   ],
   "source": [
    "c1 = xes.import_from_xes(pc1)"
   ]
  },
  {
   "cell_type": "code",
   "execution_count": 97,
   "metadata": {
    "colab": {
     "base_uri": "https://localhost:8080/"
    },
    "executionInfo": {
     "elapsed": 956,
     "status": "ok",
     "timestamp": 1606319888426,
     "user": {
      "displayName": "Glenn Dittmann",
      "photoUrl": "",
      "userId": "09282768545803181559"
     },
     "user_tz": -60
    },
    "id": "ClALBbDxH5uA",
    "outputId": "c5ca01c1-973d-48d7-be4a-4734e7b45b6a"
   },
   "outputs": [
    {
     "name": "stdout",
     "output_type": "stream",
     "text": [
      "Traces: 1104 Events: 11855\n"
     ]
    }
   ],
   "source": [
    "print(\"Traces:\", len(c1.traces), \"Events:\", len(c1.events))"
   ]
  },
  {
   "cell_type": "code",
   "execution_count": 98,
   "metadata": {
    "colab": {
     "base_uri": "https://localhost:8080/"
    },
    "executionInfo": {
     "elapsed": 1019,
     "status": "ok",
     "timestamp": 1606319931828,
     "user": {
      "displayName": "Glenn Dittmann",
      "photoUrl": "",
      "userId": "09282768545803181559"
     },
     "user_tz": -60
    },
    "id": "mhkYQFffH48F",
    "outputId": "85175c5a-38cb-4a38-ee2d-db8daa43f2da"
   },
   "outputs": [
    {
     "name": "stdout",
     "output_type": "stream",
     "text": [
      "{'case_id': '1049',\n",
      " 'concept:name': 'Repair (Complex)+start',\n",
      " 'org:resource': 'SolverC2'}\n"
     ]
    }
   ],
   "source": [
    "#print random event\n",
    "idx = random.randint(0, len(c1.traces)-1)\n",
    "pprint(c1.events[idx])"
   ]
  },
  {
   "cell_type": "markdown",
   "metadata": {
    "id": "f-yQeTuC10KX"
   },
   "source": [
    "### C2"
   ]
  },
  {
   "cell_type": "code",
   "execution_count": 99,
   "metadata": {
    "colab": {
     "base_uri": "https://localhost:8080/"
    },
    "executionInfo": {
     "elapsed": 2632,
     "status": "ok",
     "timestamp": 1606319991995,
     "user": {
      "displayName": "Glenn Dittmann",
      "photoUrl": "",
      "userId": "09282768545803181559"
     },
     "user_tz": -60
    },
    "id": "5v9DlwVcTYiu",
    "outputId": "222d48c8-38e4-4889-e178-3e5208fce107"
   },
   "outputs": [
    {
     "name": "stderr",
     "output_type": "stream",
     "text": [
      "100%|██████████| 1104/1104 [00:00<00:00, 2388.32it/s]\n"
     ]
    }
   ],
   "source": [
    "c2 = xes.import_from_xes(pc2)"
   ]
  },
  {
   "cell_type": "code",
   "execution_count": 100,
   "metadata": {
    "colab": {
     "base_uri": "https://localhost:8080/"
    },
    "executionInfo": {
     "elapsed": 952,
     "status": "ok",
     "timestamp": 1606320000098,
     "user": {
      "displayName": "Glenn Dittmann",
      "photoUrl": "",
      "userId": "09282768545803181559"
     },
     "user_tz": -60
    },
    "id": "gNxfs3aBIee7",
    "outputId": "c313ed42-aeba-4f8d-d77f-1a141553affc"
   },
   "outputs": [
    {
     "name": "stdout",
     "output_type": "stream",
     "text": [
      "Traces: 1104 Events: 11855\n"
     ]
    }
   ],
   "source": [
    "print(\"Traces:\", len(c2.traces), \"Events:\", len(c2.events))"
   ]
  },
  {
   "cell_type": "code",
   "execution_count": 101,
   "metadata": {
    "colab": {
     "base_uri": "https://localhost:8080/"
    },
    "executionInfo": {
     "elapsed": 984,
     "status": "ok",
     "timestamp": 1606320020092,
     "user": {
      "displayName": "Glenn Dittmann",
      "photoUrl": "",
      "userId": "09282768545803181559"
     },
     "user_tz": -60
    },
    "id": "rREKMyeOIii_",
    "outputId": "a65332b6-740c-473e-910f-4bb7c26e794b"
   },
   "outputs": [
    {
     "name": "stdout",
     "output_type": "stream",
     "text": [
      "{'case_id': '1047',\n",
      " 'concept:name': 'Restart Repair',\n",
      " 'lifecycle:transition': 'complete',\n",
      " 'org:resource': 'System'}\n"
     ]
    }
   ],
   "source": [
    "#print random event\n",
    "idx = random.randint(0, len(c2.traces)-1)\n",
    "pprint(c2.events[idx])"
   ]
  },
  {
   "cell_type": "code",
   "execution_count": 103,
   "metadata": {
    "colab": {
     "base_uri": "https://localhost:8080/"
    },
    "executionInfo": {
     "elapsed": 999,
     "status": "ok",
     "timestamp": 1606320040436,
     "user": {
      "displayName": "Glenn Dittmann",
      "photoUrl": "",
      "userId": "09282768545803181559"
     },
     "user_tz": -60
    },
    "id": "Bxn3_q0-IpLQ",
    "outputId": "a29e753e-a1d8-4200-e321-1d10e22e2ef5"
   },
   "outputs": [
    {
     "data": {
      "text/plain": [
       "{'(Name AND Transition)': ['concept:name', 'lifecycle:transition']}"
      ]
     },
     "execution_count": 103,
     "metadata": {},
     "output_type": "execute_result"
    }
   ],
   "source": [
    "c2.classifiers"
   ]
  },
  {
   "cell_type": "code",
   "execution_count": 105,
   "metadata": {
    "colab": {
     "base_uri": "https://localhost:8080/"
    },
    "executionInfo": {
     "elapsed": 1374,
     "status": "ok",
     "timestamp": 1606320066977,
     "user": {
      "displayName": "Glenn Dittmann",
      "photoUrl": "",
      "userId": "09282768545803181559"
     },
     "user_tz": -60
    },
    "id": "CMtVqZapIrls",
    "outputId": "f3bf65ce-b4c2-4225-8bea-0428b4111f1d"
   },
   "outputs": [
    {
     "data": {
      "text/plain": [
       "True"
      ]
     },
     "execution_count": 105,
     "metadata": {},
     "output_type": "execute_result"
    }
   ],
   "source": [
    "#build the set of event that is equal to the first event by our classifier\n",
    "first_classifier = list(c2.classifiers.keys())[0]\n",
    "equal_events = c2.filter_by_classifier(c2.events[0], first_classifier)\n",
    "verify_filter_by_classifier(c2, equal_events, first_classifier)"
   ]
  },
  {
   "cell_type": "markdown",
   "metadata": {
    "id": "-AXjWT0pToRM"
   },
   "source": [
    "### D1"
   ]
  },
  {
   "cell_type": "code",
   "execution_count": 106,
   "metadata": {
    "colab": {
     "base_uri": "https://localhost:8080/"
    },
    "executionInfo": {
     "elapsed": 2741,
     "status": "ok",
     "timestamp": 1606320099755,
     "user": {
      "displayName": "Glenn Dittmann",
      "photoUrl": "",
      "userId": "09282768545803181559"
     },
     "user_tz": -60
    },
    "id": "8iXqICocTYaw",
    "outputId": "39be9f3d-7d0d-4897-a13b-bcec2f3e1c87"
   },
   "outputs": [
    {
     "name": "stderr",
     "output_type": "stream",
     "text": [
      "100%|██████████| 1104/1104 [00:02<00:00, 373.87it/s]\n"
     ]
    }
   ],
   "source": [
    "d1 = xes.import_from_xes(pd1)"
   ]
  },
  {
   "cell_type": "code",
   "execution_count": 112,
   "metadata": {
    "colab": {
     "base_uri": "https://localhost:8080/"
    },
    "executionInfo": {
     "elapsed": 803,
     "status": "ok",
     "timestamp": 1606320101416,
     "user": {
      "displayName": "Glenn Dittmann",
      "photoUrl": "",
      "userId": "09282768545803181559"
     },
     "user_tz": -60
    },
    "id": "9RrvZQ8KzDYC",
    "outputId": "4f8a1df4-c969-4c28-fe10-52b8e35313a9"
   },
   "outputs": [
    {
     "name": "stdout",
     "output_type": "stream",
     "text": [
      "The log contains 1104 traces and 11855 events.\n",
      "TRACE_ID: 239 (trace number 260 )\n",
      "  activity name               time                           transition     \n",
      "> Register                    01/12/1970 01:31:34.495000     complete       \n",
      "> Analyze Defect              01/12/1970 01:34:02.699000     start          \n",
      "> Analyze Defect              01/12/1970 01:42:21.323000     complete       \n",
      "> Repair (Simple)             01/12/1970 01:52:48.300000     start          \n",
      "> Repair (Simple)             01/12/1970 02:02:52.448000     complete       \n",
      "> Test Repair                 01/12/1970 02:05:58.198000     start          \n",
      "> Test Repair                 01/12/1970 02:15:40.727000     complete       \n",
      "> Restart Repair              01/12/1970 02:22:58.196000     complete       \n",
      "> Repair (Simple)             01/12/1970 02:26:14.032000     start          \n",
      "> Inform User                 01/12/1970 02:33:45.682000     complete       \n",
      "> Repair (Simple)             01/12/1970 02:45:11.715000     complete       \n",
      "> Test Repair                 01/12/1970 02:47:45.039000     start          \n",
      "> Test Repair                 01/12/1970 02:57:44.517000     complete       \n",
      "> Archive Repair              01/12/1970 03:08:48.707000     complete       \n",
      "\n"
     ]
    }
   ],
   "source": [
    "verify_log(d1)"
   ]
  },
  {
   "cell_type": "code",
   "execution_count": 113,
   "metadata": {
    "colab": {
     "base_uri": "https://localhost:8080/"
    },
    "executionInfo": {
     "elapsed": 1083,
     "status": "ok",
     "timestamp": 1606320107117,
     "user": {
      "displayName": "Glenn Dittmann",
      "photoUrl": "",
      "userId": "09282768545803181559"
     },
     "user_tz": -60
    },
    "id": "iq9120OkzdgQ",
    "outputId": "31e5eebd-4c3a-487c-d5c2-84b92bc78374"
   },
   "outputs": [
    {
     "name": "stdout",
     "output_type": "stream",
     "text": [
      "{'case_id': '1068',\n",
      " 'concept:instance': 'instance 1',\n",
      " 'concept:name': 'Test Repair',\n",
      " 'lifecycle:transition': 'start',\n",
      " 'org:group': 'Groups 2 and 4',\n",
      " 'org:resource': 'Tester1',\n",
      " 'org:role': 'Role 9',\n",
      " 'time:timestamp': datetime.datetime(1970, 1, 24, 16, 41, 56, 66000, tzinfo=tzoffset(None, 3600))}\n"
     ]
    }
   ],
   "source": [
    "#print random event\n",
    "idx = random.randint(0, len(d1.traces)-1)\n",
    "pprint(d1.events[idx])"
   ]
  },
  {
   "cell_type": "markdown",
   "metadata": {
    "id": "6PWYguRv1taS"
   },
   "source": [
    "### D2"
   ]
  },
  {
   "cell_type": "code",
   "execution_count": 18,
   "metadata": {
    "colab": {
     "base_uri": "https://localhost:8080/"
    },
    "executionInfo": {
     "elapsed": 2938,
     "status": "ok",
     "timestamp": 1606320137332,
     "user": {
      "displayName": "Glenn Dittmann",
      "photoUrl": "",
      "userId": "09282768545803181559"
     },
     "user_tz": -60
    },
    "id": "ZyaxinlNTYSL",
    "outputId": "1149c76f-12cd-491e-aeaf-5434a69802ed"
   },
   "outputs": [
    {
     "output_type": "stream",
     "name": "stderr",
     "text": [
      "100%|██████████| 1104/1104 [00:04<00:00, 254.04it/s]\n"
     ]
    }
   ],
   "source": [
    "d2 = xes.import_from_xes(pd2)"
   ]
  },
  {
   "cell_type": "code",
   "execution_count": 19,
   "metadata": {
    "colab": {
     "base_uri": "https://localhost:8080/"
    },
    "executionInfo": {
     "elapsed": 1387,
     "status": "ok",
     "timestamp": 1606320141859,
     "user": {
      "displayName": "Glenn Dittmann",
      "photoUrl": "",
      "userId": "09282768545803181559"
     },
     "user_tz": -60
    },
    "id": "E6JRsEgHzEoe",
    "outputId": "cf6cd76c-7010-4802-e50d-1f114567a785"
   },
   "outputs": [
    {
     "output_type": "stream",
     "name": "stdout",
     "text": [
      "The log contains 1104 traces and 11855 events.\nClassifiers contained: {'(Name AND Transition)': ['concept:name', 'lifecycle:transition']}\nTRACE_ID: 482 (trace number 530 )\n  activity name               time                           transition     \n> Register                    01/19/1970 13:08:16.329000     complete       \n> Analyze Defect              01/19/1970 13:11:10.662000     start          \n> Analyze Defect              01/19/1970 13:21:54.317000     complete       \n> Repair (Complex)            01/19/1970 13:45:00.654000     start          \n> Inform User                 01/19/1970 13:59:58.427000     complete       \n> Repair (Complex)            01/19/1970 14:32:54.250000     complete       \n> Test Repair                 01/19/1970 14:35:16.083000     start          \n> Test Repair                 01/19/1970 14:43:30.397000     complete       \n> Archive Repair              01/19/1970 14:54:34.788000     complete       \n\n"
     ]
    }
   ],
   "source": [
    "verify_log(d2)"
   ]
  },
  {
   "cell_type": "code",
   "execution_count": 127,
   "metadata": {
    "colab": {
     "base_uri": "https://localhost:8080/"
    },
    "executionInfo": {
     "elapsed": 1179,
     "status": "ok",
     "timestamp": 1606320167274,
     "user": {
      "displayName": "Glenn Dittmann",
      "photoUrl": "",
      "userId": "09282768545803181559"
     },
     "user_tz": -60
    },
    "id": "2Ofmmsxizehq",
    "outputId": "2165bb17-f6d5-46ca-ef96-42b9b3f17696"
   },
   "outputs": [
    {
     "name": "stdout",
     "output_type": "stream",
     "text": [
      "{'case_id': '1021',\n",
      " 'concept:instance': 'instance 1',\n",
      " 'concept:name': 'Test Repair',\n",
      " 'lifecycle:transition': 'start',\n",
      " 'org:group': 'Groups 2 and 4',\n",
      " 'org:resource': 'Tester2',\n",
      " 'org:role': 'Role 9',\n",
      " 'time:timestamp': datetime.datetime(1970, 1, 23, 10, 14, 52, 348000, tzinfo=tzoffset(None, 3600))}\n"
     ]
    }
   ],
   "source": [
    "#print random event\n",
    "idx = random.randint(0, len(d2.traces)-1)\n",
    "pprint(d2.events[idx])"
   ]
  },
  {
   "cell_type": "code",
   "execution_count": 128,
   "metadata": {
    "colab": {
     "base_uri": "https://localhost:8080/"
    },
    "executionInfo": {
     "elapsed": 948,
     "status": "ok",
     "timestamp": 1606320182463,
     "user": {
      "displayName": "Glenn Dittmann",
      "photoUrl": "",
      "userId": "09282768545803181559"
     },
     "user_tz": -60
    },
    "id": "iMOcrcht1jA3",
    "outputId": "5484232c-16ac-4082-98fa-131b75318399"
   },
   "outputs": [
    {
     "data": {
      "text/plain": [
       "{'(Name AND Transition)': ['concept:name', 'lifecycle:transition']}"
      ]
     },
     "execution_count": 128,
     "metadata": {},
     "output_type": "execute_result"
    }
   ],
   "source": [
    "d2.classifiers"
   ]
  },
  {
   "cell_type": "code",
   "execution_count": 129,
   "metadata": {
    "colab": {
     "base_uri": "https://localhost:8080/"
    },
    "executionInfo": {
     "elapsed": 1036,
     "status": "ok",
     "timestamp": 1606320213572,
     "user": {
      "displayName": "Glenn Dittmann",
      "photoUrl": "",
      "userId": "09282768545803181559"
     },
     "user_tz": -60
    },
    "id": "3wflvU-pJQcz",
    "outputId": "652e9bb7-4a83-4b80-d2d6-4a553b654078"
   },
   "outputs": [
    {
     "data": {
      "text/plain": [
       "True"
      ]
     },
     "execution_count": 129,
     "metadata": {},
     "output_type": "execute_result"
    }
   ],
   "source": [
    "#build the set of event that is equal to the first event by our classifier\n",
    "first_classifier = list(d2.classifiers.keys())[0]\n",
    "equal_events = d2.filter_by_classifier(d2.events[0], first_classifier)\n",
    "verify_filter_by_classifier(d2, equal_events, first_classifier)"
   ]
  },
  {
   "cell_type": "markdown",
   "metadata": {
    "id": "EuxlvZ_BTrbR"
   },
   "source": [
    "### X1"
   ]
  },
  {
   "cell_type": "code",
   "execution_count": 130,
   "metadata": {
    "colab": {
     "base_uri": "https://localhost:8080/"
    },
    "executionInfo": {
     "elapsed": 4966,
     "status": "ok",
     "timestamp": 1606320233551,
     "user": {
      "displayName": "Glenn Dittmann",
      "photoUrl": "",
      "userId": "09282768545803181559"
     },
     "user_tz": -60
    },
    "id": "jvpH0WQSTYIc",
    "outputId": "ed7cd5a6-7018-4db2-8bbd-775ee53ef549"
   },
   "outputs": [
    {
     "name": "stderr",
     "output_type": "stream",
     "text": [
      "100%|██████████| 1104/1104 [00:03<00:00, 356.78it/s]\n"
     ]
    }
   ],
   "source": [
    "x1 = xes.import_from_xes(px1)"
   ]
  },
  {
   "cell_type": "code",
   "execution_count": 139,
   "metadata": {
    "colab": {
     "base_uri": "https://localhost:8080/"
    },
    "executionInfo": {
     "elapsed": 891,
     "status": "ok",
     "timestamp": 1606320394290,
     "user": {
      "displayName": "Glenn Dittmann",
      "photoUrl": "",
      "userId": "09282768545803181559"
     },
     "user_tz": -60
    },
    "id": "XBUPva19JcqK",
    "outputId": "4f8eff53-b550-4be9-ab28-b7a257d335b0"
   },
   "outputs": [
    {
     "name": "stdout",
     "output_type": "stream",
     "text": [
      "{'ITEMS:41, #1, o.1.1': 'Roles 1, 2, and 3',\n",
      " 'Key 1': 'Repair (Simple)',\n",
      " 'Key 2': 'instance 2',\n",
      " 'Key 3': 'SolverS3',\n",
      " 'Key 4': datetime.datetime(1970, 1, 26, 11, 55, 46, 527000, tzinfo=tzoffset(None, 3600)),\n",
      " 'Key 6': 'complete',\n",
      " 'case_id': '1061',\n",
      " 'numberRepairs': 11,\n",
      " '{0,1,2} 2Sa!! +1 &lt;x&gt;': 'Groups 1, 3, and 5'}\n"
     ]
    }
   ],
   "source": [
    "#print random event\n",
    "idx = random.randint(0, len(x1.traces)-1)\n",
    "pprint(x1.events[idx])"
   ]
  },
  {
   "cell_type": "markdown",
   "metadata": {
    "id": "_41UO9RT1ojd"
   },
   "source": [
    "### X2"
   ]
  },
  {
   "cell_type": "code",
   "execution_count": 13,
   "metadata": {
    "colab": {
     "base_uri": "https://localhost:8080/"
    },
    "executionInfo": {
     "elapsed": 4863,
     "status": "ok",
     "timestamp": 1606320422128,
     "user": {
      "displayName": "Glenn Dittmann",
      "photoUrl": "",
      "userId": "09282768545803181559"
     },
     "user_tz": -60
    },
    "id": "XOvOIegJTX61",
    "outputId": "92bf89d4-5160-4d4f-c421-9813d24ec141"
   },
   "outputs": [
    {
     "output_type": "stream",
     "name": "stderr",
     "text": [
      "100%|██████████| 1104/1104 [00:04<00:00, 226.43it/s]\n"
     ]
    }
   ],
   "source": [
    "x2 = xes.import_from_xes(px2)"
   ]
  },
  {
   "cell_type": "code",
   "execution_count": 17,
   "metadata": {
    "colab": {
     "base_uri": "https://localhost:8080/"
    },
    "executionInfo": {
     "elapsed": 893,
     "status": "ok",
     "timestamp": 1606320436547,
     "user": {
      "displayName": "Glenn Dittmann",
      "photoUrl": "",
      "userId": "09282768545803181559"
     },
     "user_tz": -60
    },
    "id": "G6opJpI4KIvX",
    "outputId": "a1b93c7f-2ec0-4e66-94aa-de3929ed80c0"
   },
   "outputs": [
    {
     "output_type": "stream",
     "name": "stdout",
     "text": [
      "{'Key 1': 'Inform User',\n 'Key 2': 'instance 1',\n 'Key 3': 'System',\n 'Key 4': datetime.datetime(1970, 1, 22, 2, 7, 4, 872000, tzinfo=tzoffset(None, 3600)),\n 'Key 6': 'complete',\n 'case_id': '1007',\n 'numberRepairs': 4,\n '{0,1,2} 2Sa!! +1 &lt;x&gt;': 'Group -'}\n"
     ]
    }
   ],
   "source": [
    "#print random event\n",
    "idx = random.randint(0, len(x2.traces)-1)\n",
    "pprint(x2.events[idx])"
   ]
  },
  {
   "cell_type": "code",
   "execution_count": 143,
   "metadata": {
    "colab": {
     "base_uri": "https://localhost:8080/"
    },
    "executionInfo": {
     "elapsed": 895,
     "status": "ok",
     "timestamp": 1606320611990,
     "user": {
      "displayName": "Glenn Dittmann",
      "photoUrl": "",
      "userId": "09282768545803181559"
     },
     "user_tz": -60
    },
    "id": "yN-JR4GXK0sE",
    "outputId": "83a1bb81-a4dc-41c5-d0cf-3069f4c2344a"
   },
   "outputs": [
    {
     "data": {
      "text/plain": [
       "{'(Name AND Transition)': ['Key 1', 'Key 6']}"
      ]
     },
     "execution_count": 143,
     "metadata": {},
     "output_type": "execute_result"
    }
   ],
   "source": [
    "x2.classifiers"
   ]
  },
  {
   "cell_type": "code",
   "execution_count": 144,
   "metadata": {
    "colab": {
     "base_uri": "https://localhost:8080/"
    },
    "executionInfo": {
     "elapsed": 1432,
     "status": "ok",
     "timestamp": 1606320646200,
     "user": {
      "displayName": "Glenn Dittmann",
      "photoUrl": "",
      "userId": "09282768545803181559"
     },
     "user_tz": -60
    },
    "id": "xYbZucdXK6NG",
    "outputId": "7e624815-ae22-4e90-ba4d-e9eaf8165970"
   },
   "outputs": [
    {
     "data": {
      "text/plain": [
       "True"
      ]
     },
     "execution_count": 144,
     "metadata": {},
     "output_type": "execute_result"
    }
   ],
   "source": [
    "#build the set of event that is equal to the first event by our classifier\n",
    "first_classifier = list(x2.classifiers.keys())[0]\n",
    "equal_events = x2.filter_by_classifier(x2.events[0], first_classifier)\n",
    "verify_filter_by_classifier(x2, equal_events, first_classifier)"
   ]
  },
  {
   "cell_type": "markdown",
   "metadata": {
    "id": "s092QfXd7MWa"
   },
   "source": [
    "# **2 Exporting**\n",
    "---\n",
    "---"
   ]
  },
  {
   "cell_type": "markdown",
   "metadata": {
    "id": "q16wWFlCxJEv"
   },
   "source": [
    "### A1 & A2"
   ]
  },
  {
   "cell_type": "code",
   "execution_count": 120,
   "metadata": {
    "executionInfo": {
     "elapsed": 937,
     "status": "ok",
     "timestamp": 1606321146039,
     "user": {
      "displayName": "Glenn Dittmann",
      "photoUrl": "",
      "userId": "09282768545803181559"
     },
     "user_tz": -60
    },
    "id": "y54x-rSoxBuF"
   },
   "outputs": [],
   "source": [
    "xes.export_to_xes(a1, \"a1.xes\")\n",
    "xes.export_to_xes(a1, \"a2.xes\")"
   ]
  },
  {
   "cell_type": "markdown",
   "metadata": {
    "id": "TYMACqWcxPEc"
   },
   "source": [
    "### B1 & B2"
   ]
  },
  {
   "cell_type": "code",
   "execution_count": 121,
   "metadata": {
    "executionInfo": {
     "elapsed": 1431,
     "status": "ok",
     "timestamp": 1606321148622,
     "user": {
      "displayName": "Glenn Dittmann",
      "photoUrl": "",
      "userId": "09282768545803181559"
     },
     "user_tz": -60
    },
    "id": "ttlY3HpZw2k7"
   },
   "outputs": [],
   "source": [
    "xes.export_to_xes(b1, \"b1.xes\")\n",
    "xes.export_to_xes(b2, \"b2.xes\")"
   ]
  },
  {
   "cell_type": "markdown",
   "metadata": {
    "id": "1O7uqG_8xR1y"
   },
   "source": [
    "### C1 & C2"
   ]
  },
  {
   "cell_type": "code",
   "execution_count": 122,
   "metadata": {
    "executionInfo": {
     "elapsed": 877,
     "status": "ok",
     "timestamp": 1606321155699,
     "user": {
      "displayName": "Glenn Dittmann",
      "photoUrl": "",
      "userId": "09282768545803181559"
     },
     "user_tz": -60
    },
    "id": "Ak5QGMF7w2Zq"
   },
   "outputs": [],
   "source": [
    "xes.export_to_xes(c1, \"c1.xes\")\n",
    "xes.export_to_xes(c2, \"c2.xes\")"
   ]
  },
  {
   "cell_type": "markdown",
   "metadata": {
    "id": "zOZP_5GDw_9s"
   },
   "source": [
    "### D1 & D2"
   ]
  },
  {
   "cell_type": "code",
   "execution_count": 123,
   "metadata": {
    "executionInfo": {
     "elapsed": 1983,
     "status": "ok",
     "timestamp": 1606321159508,
     "user": {
      "displayName": "Glenn Dittmann",
      "photoUrl": "",
      "userId": "09282768545803181559"
     },
     "user_tz": -60
    },
    "id": "jEvwxDRrw2PM"
   },
   "outputs": [],
   "source": [
    "xes.export_to_xes(d1, \"d1.xes\")\n",
    "xes.export_to_xes(d2, \"d2.xes\")"
   ]
  },
  {
   "cell_type": "markdown",
   "metadata": {
    "id": "nYPXLtaJw7MM"
   },
   "source": [
    "### X1 und X2"
   ]
  },
  {
   "cell_type": "code",
   "execution_count": 124,
   "metadata": {
    "executionInfo": {
     "elapsed": 2137,
     "status": "ok",
     "timestamp": 1606321162262,
     "user": {
      "displayName": "Glenn Dittmann",
      "photoUrl": "",
      "userId": "09282768545803181559"
     },
     "user_tz": -60
    },
    "id": "aysWl5PAw14M"
   },
   "outputs": [],
   "source": [
    "xes.export_to_xes(x1, \"x1.xes\")\n",
    "xes.export_to_xes(x2, \"x2.xes\")"
   ]
  }
 ],
 "metadata": {
  "colab": {
   "authorship_tag": "ABX9TyOkkT+QW+xlYPBzU1cYNLWR",
   "collapsed_sections": [
    "mUnYbtemfeEC",
    "igG4nB15pfVp",
    "ZDH3zjt2HQta",
    "1JLENItLHU8V",
    "_EyzFDzjYFeJ",
    "XzpbdTXjYj2k",
    "XDp4-rUqYyEK",
    "1WG8TzpZY_Tw",
    "KQxR0N2KeEW2",
    "7PueuHameicP",
    "-A-xV0Oue3nT",
    "PPdVEBC0fPtZ",
    "KXiaLrj_TZd4",
    "V3_QSkMU2AHr",
    "lacpQoPZThKl",
    "753me7fS1337",
    "D9WncCzfTkOB",
    "f-yQeTuC10KX",
    "-AXjWT0pToRM",
    "6PWYguRv1taS",
    "EuxlvZ_BTrbR",
    "_41UO9RT1ojd"
   ],
   "mount_file_id": "1E0CwOuJnTcjq7YuaaH5hzbBqsMDIzzSB",
   "name": "XES_Cerification.ipynb",
   "provenance": [
    {
     "file_id": "1uWkux4NXD2B4SwRU3ILXEbzMenpbhdC8",
     "timestamp": 1604774291314
    }
   ],
   "toc_visible": true
  },
  "kernelspec": {
   "display_name": "Python 3.8.5 64-bit",
   "language": "python",
   "name": "python38564bitb69af2053d2e481e97617446d1373208"
  },
  "language_info": {
   "codemirror_mode": {
    "name": "ipython",
    "version": 3
   },
   "file_extension": ".py",
   "mimetype": "text/x-python",
   "name": "python",
   "nbconvert_exporter": "python",
   "pygments_lexer": "ipython3",
   "version": "3.8.5-final"
  }
 },
 "nbformat": 4,
 "nbformat_minor": 1
}