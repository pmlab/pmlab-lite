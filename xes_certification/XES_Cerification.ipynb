{
 "cells": [
  {
   "cell_type": "markdown",
   "metadata": {
    "id": "yrqfJnMbpKJA"
   },
   "source": [
    "<a href=\"https://colab.research.google.com/github/pmlab/pmlab-lite/blob/master/xes_certification/XES_Certification.ipynb\" target=\"_parent\"><img src=\"https://colab.research.google.com/assets/colab-badge.svg\" alt=\"Open In Colab\"/></a>"
   ]
  },
  {
   "cell_type": "markdown",
   "metadata": {
    "id": "a1ocaPqq7Xwi"
   },
   "source": [
    "# **XES Certification**\n",
    "---"
   ]
  },
  {
   "cell_type": "code",
   "execution_count": 1,
   "metadata": {
    "colab": {
     "base_uri": "https://localhost:8080/"
    },
    "id": "PxNSvSBHvBf2",
    "outputId": "c557a25e-560f-49cc-ffc2-0deaec604f7a"
   },
   "outputs": [
    {
     "name": "stdout",
     "output_type": "stream",
     "text": [
      "Collecting pmlab_lite==0.4.5\n",
      "\u001b[?25l  Downloading https://files.pythonhosted.org/packages/68/a2/56971072ae9adf4b5f1f3c65dfb5a73f8935de6987803342f18483e6d165/pmlab_lite-0.4.5-py3-none-any.whl (52kB)\n",
      "\r",
      "\u001b[K     |██████▏                         | 10kB 15.4MB/s eta 0:00:01\r",
      "\u001b[K     |████████████▍                   | 20kB 9.2MB/s eta 0:00:01\r",
      "\u001b[K     |██████████████████▋             | 30kB 7.5MB/s eta 0:00:01\r",
      "\u001b[K     |████████████████████████▉       | 40kB 6.8MB/s eta 0:00:01\r",
      "\u001b[K     |███████████████████████████████ | 51kB 3.9MB/s eta 0:00:01\r",
      "\u001b[K     |████████████████████████████████| 61kB 3.0MB/s \n",
      "\u001b[?25hRequirement already satisfied: tqdm in /usr/local/lib/python3.7/dist-packages (from pmlab_lite==0.4.5) (4.41.1)\n",
      "Requirement already satisfied: graphviz in /usr/local/lib/python3.7/dist-packages (from pmlab_lite==0.4.5) (0.10.1)\n",
      "Requirement already satisfied: numpy in /usr/local/lib/python3.7/dist-packages (from pmlab_lite==0.4.5) (1.19.5)\n",
      "Requirement already satisfied: lxml in /usr/local/lib/python3.7/dist-packages (from pmlab_lite==0.4.5) (4.2.6)\n",
      "Collecting ciso8601\n",
      "  Downloading https://files.pythonhosted.org/packages/2c/da/626910cf8aca7ed2d5b34355eee8aeaaeb6ddd4e16f98d00a9e2ddad3a08/ciso8601-2.1.3.tar.gz\n",
      "Building wheels for collected packages: ciso8601\n",
      "  Building wheel for ciso8601 (setup.py) ... \u001b[?25l\u001b[?25hdone\n",
      "  Created wheel for ciso8601: filename=ciso8601-2.1.3-cp37-cp37m-linux_x86_64.whl size=29073 sha256=649658d68bf8ca56b00763284659abe5a084dafebb790504ccc385ba2283dfe7\n",
      "  Stored in directory: /root/.cache/pip/wheels/eb/32/e4/13bdaf7e245f82667b21e0cfb03d21224691a47fa9f9bc80a6\n",
      "Successfully built ciso8601\n",
      "Installing collected packages: ciso8601, pmlab-lite\n",
      "Successfully installed ciso8601-2.1.3 pmlab-lite-0.4.5\n"
     ]
    }
   ],
   "source": [
    "!pip3 install pmlab_lite==0.4.5"
   ]
  },
  {
   "cell_type": "code",
   "execution_count": 1,
   "metadata": {
    "id": "R5itIcV0yLVP"
   },
   "outputs": [],
   "source": [
    "from pmlab_lite.helper.io import xes\n",
    "from pprint import pprint \n",
    "import graphviz as gr\n",
    "from graphviz import Digraph"
   ]
  },
  {
   "cell_type": "code",
   "execution_count": 2,
   "metadata": {
    "id": "Uht51bciKrUy"
   },
   "outputs": [],
   "source": [
    "case_ids_ = {\"bpic17\": \"Application_419883832\",\n",
    "             \"b1\": \"48\",\n",
    "             \"b2\": \"825\",\n",
    "             \"c1\": \"64\",\n",
    "             \"c2\": \"303\",\n",
    "             \"d1\": \"1013\",\n",
    "             \"d2\": \"190\",\n",
    "             \"x1\": \"858\", \n",
    "             \"x2\": \"287\"}"
   ]
  },
  {
   "cell_type": "markdown",
   "metadata": {
    "id": "Regm2fIFke54"
   },
   "source": [
    "## Verification Functions\n",
    "---"
   ]
  },
  {
   "cell_type": "code",
   "execution_count": 57,
   "metadata": {
    "id": "o_8IhyB3keNB"
   },
   "outputs": [],
   "source": [
    "import random\n",
    "\n",
    "def verify_log(log):\n",
    "  \"\"\"Prints the number of traces, events, the classifiers and a random trace of a log.\"\"\"\n",
    "\n",
    "  print(\"The log contains\", len(log.traces), \"traces and\", len(log.events), \"events.\")\n",
    "  print(\"Classifiers contained:\", log.classifiers)\n",
    "  idx = random.randint(0, len(log.traces)-1)\n",
    "  log.print_traces(idx,1)\n",
    "\n",
    "def print_rand_trace(log, attributes=None):\n",
    "  idx = random.randint(0, len(log.traces)-1)\n",
    "  print(\"Concept name of the trace:\", log.traces[idx]['concept:name'], \"(the same as the TRACE_ID below)\")\n",
    "  log.print_traces(idx,1, attributes)\n",
    "\n",
    "def print_specific_case(log, trace_id, attributes=None):\n",
    "\n",
    "  for idx, trace in log.traces.items():\n",
    "    if trace['concept:name'] == trace_id:\n",
    "      print(\"Concept name of the trace:\", log.traces[idx]['concept:name'], \"(the same as the TRACE_ID below)\")\n",
    "      log.print_traces(idx,1, attributes)\n",
    "\n",
    "def print_specific_case2(log, trace_id):\n",
    "  index = None\n",
    "  for idx, trace in log.traces.items():\n",
    "    if trace['concept:name'] == trace_id:\n",
    "      index = idx\n",
    "\n",
    "  print('Concept name of the trace:', log.traces[index]['concept:name'])\n",
    "  print('Events belonging to this trace:')\n",
    "  for event in log.get_traces()[index]:\n",
    "    pprint(event)\n",
    "    print()\n",
    "\n",
    "def print_reimport(log):\n",
    "  print(\"Number of traces in the log:\", len(log.traces))\n",
    "  print(\"Number of events in the log:\", len(log.events))\n",
    "  print(\"Classifiers in the log:\", log.classifiers)\n",
    "  print()\n",
    "  print(\"Exporting and reimporting the log...\")\n",
    "\n",
    "  export = xes.export_to_xes(log, \"test.xes\")\n",
    "  reimport = xes.import_xes(\"/content/test.xes\")\n",
    "\n",
    "  print()\n",
    "  print(\"Number of traces in the reimported log:\", len(reimport.traces))\n",
    "  print(\"Number of events in the reimported log:\", len(reimport.events))\n",
    "  print(\"Classifiers in the reimported log:\", reimport.classifiers)\n",
    "\n",
    "def verify_filter_by_classifier(log, equal_events, classifier) -> bool:\n",
    "  for i in range(len(equal_events)):\n",
    "    for j in range(i+1, len(equal_events)):\n",
    "      if not log.equal_by_classifier(equal_events[i], equal_events[j], classifier):\n",
    "        return False\n",
    "  return True\n",
    "\n",
    "def dfg(log, lifecycle_present=True):\n",
    "  \n",
    "  activity_count, connections = {}, {}\n",
    "\n",
    "  for trace_num in log.traces:\n",
    "    \n",
    "    # the dfg nodes in the report are named by activity name and lifecycle\n",
    "    if lifecycle_present:\n",
    "      event_list = [event['concept:name'] + '+' + event['lifecycle:transition'] for event in log.traces[trace_num] ['events']]\n",
    "    elif len(list(log.classifiers.values())) > 0:\n",
    "      classis = list(log.classifiers.values())[0]\n",
    "      event_list = [event[classis[0]] + '+' + event[classis[1]] for event in log.traces[trace_num] ['events']]\n",
    "    else:\n",
    "      event_list = [event['concept:name'] for event in log.traces[trace_num] ['events']]\n",
    "    \n",
    "    for i in range(len(event_list)-1):\n",
    "      activity_count[event_list[i]] = activity_count.get(event_list[i], 0) + 1\n",
    "      if i == len(event_list)-2:\n",
    "        activity_count[event_list[i+1]] = activity_count.get(event_list[i+1], 0) + 1\n",
    "      connections[(event_list[i],event_list[i+1])] = connections.get((event_list[i],event_list[i+1]), 0) + 1\n",
    "    \n",
    "  return activity_count, connections\n",
    "\n",
    "def draw_dfg(log, filename, threshold, format='png', save=True, lifecycle_present=True):  \n",
    "  colors = ['edf8e9', \"darkslategray2\", \"darkslategray3\", \"darkslategray4\"]\n",
    "\n",
    "  activity_count, connections = dfg(log, lifecycle_present)\n",
    "\n",
    "  dot = Digraph(name=filename, format=format)\n",
    "\n",
    "  dot.attr(rankdir='LR', fontsize=\"10\", nodesep=\"0.35\", ranksep=\"0.25 equally\")\n",
    "  # draw nodes\n",
    "  dot.attr('node', penwidth=\"1\", fontsize=\"10\",\n",
    "  \t\t fontname=\"Helvetica\", shape='box', style='filled', colorscheme='greens4')\n",
    "\n",
    "  for activity, amount in activity_count.items():\n",
    "    if amount > 1500:\n",
    "      color = '4'\n",
    "    elif amount > 1000:\n",
    "      color = '3'\n",
    "    elif amount > 500:\n",
    "      color = '2'\n",
    "    else:\n",
    "      color = '1'\n",
    "\n",
    "    dot.node(str(activity) + ' (' + str(amount) + ')', color=color)\n",
    "\n",
    "  # draw edges\n",
    "  for node in connections:\n",
    "    if connections[node] > threshold:\n",
    "  \t  dot.edge(str(node[0]+ ' (' + str(activity_count[node[0]]) + ')'), str(node[1]+ ' (' + str(activity_count[node[1]]) + ')'),\n",
    "             label=str(connections[node]))\n",
    "\n",
    "  if save:\n",
    "    dot.format = 'png'\n",
    "    dot.render('./' + filename + '.gv', view=False)\n",
    "\n",
    "  return dot"
   ]
  },
  {
   "cell_type": "code",
   "execution_count": 6,
   "metadata": {
    "colab": {
     "base_uri": "https://localhost:8080/"
    },
    "id": "pX-1NC9_pKJP",
    "outputId": "2c97ebd8-beb3-4b3f-85ec-68b910f9dd88"
   },
   "outputs": [
    {
     "name": "stdout",
     "output_type": "stream",
     "text": [
      "--2021-03-08 18:55:55--  http://www.win.tue.nl/ieeetfpm/lib/exe/fetch.php?media=shared:downloads:xes_certification_import_logs.zip\n",
      "Resolving www.win.tue.nl (www.win.tue.nl)... 131.155.11.13\n",
      "Connecting to www.win.tue.nl (www.win.tue.nl)|131.155.11.13|:80... connected.\n",
      "HTTP request sent, awaiting response... 302 Found\n",
      "Location: https://www.win.tue.nl/ieeetfpm/lib/exe/fetch.php?media=shared:downloads:xes_certification_import_logs.zip [following]\n",
      "--2021-03-08 18:55:55--  https://www.win.tue.nl/ieeetfpm/lib/exe/fetch.php?media=shared:downloads:xes_certification_import_logs.zip\n",
      "Connecting to www.win.tue.nl (www.win.tue.nl)|131.155.11.13|:443... connected.\n",
      "HTTP request sent, awaiting response... 200 OK\n",
      "Length: 54685689 (52M) [application/zip]\n",
      "Saving to: ‘import_logs.zip’\n",
      "\n",
      "import_logs.zip     100%[===================>]  52.15M  11.4MB/s    in 8.5s    \n",
      "\n",
      "2021-03-08 18:56:04 (6.15 MB/s) - ‘import_logs.zip’ saved [54685689/54685689]\n",
      "\n"
     ]
    }
   ],
   "source": [
    "!wget -O import_logs.zip http://www.win.tue.nl/ieeetfpm/lib/exe/fetch.php?media=shared:downloads:xes_certification_import_logs.zip"
   ]
  },
  {
   "cell_type": "code",
   "execution_count": 7,
   "metadata": {
    "colab": {
     "base_uri": "https://localhost:8080/"
    },
    "id": "tCJP6rIVpKJQ",
    "outputId": "12061910-f8b6-4b39-a8b1-0b6293dff722"
   },
   "outputs": [
    {
     "name": "stdout",
     "output_type": "stream",
     "text": [
      "Archive:  import_logs.zip\n",
      "   creating: XES certification import logs/\n",
      "   creating: XES certification import logs/Artificial/\n",
      "  inflating: XES certification import logs/Artificial/FlagX1.xes  \n",
      "  inflating: XES certification import logs/Artificial/FlagX2.xes  \n",
      "  inflating: XES certification import logs/Artificial/LevelA1.xes  \n",
      "  inflating: XES certification import logs/Artificial/LevelA2.xes  \n",
      "  inflating: XES certification import logs/Artificial/LevelB1.xes  \n",
      "  inflating: XES certification import logs/Artificial/LevelB2.xes  \n",
      "  inflating: XES certification import logs/Artificial/LevelC1.xes  \n",
      "  inflating: XES certification import logs/Artificial/LevelC2.xes  \n",
      "  inflating: XES certification import logs/Artificial/LevelD1.xes  \n",
      "  inflating: XES certification import logs/Artificial/LevelD2.xes  \n",
      "   creating: XES certification import logs/Real-life/\n",
      "  inflating: XES certification import logs/Real-life/BPIC12.xes  \n",
      "  inflating: XES certification import logs/Real-life/BPIC13_closed_problems.xes  \n",
      "  inflating: XES certification import logs/Real-life/BPIC13_incidents.xes  \n",
      "  inflating: XES certification import logs/Real-life/BPIC13_open_problems.xes  \n",
      "  inflating: XES certification import logs/Real-life/BPIC15_1.xes  \n",
      "  inflating: XES certification import logs/Real-life/BPIC15_2.xes  \n",
      "  inflating: XES certification import logs/Real-life/BPIC15_3.xes  \n",
      "  inflating: XES certification import logs/Real-life/BPIC15_4.xes  \n",
      "  inflating: XES certification import logs/Real-life/BPIC15_5.xes  \n",
      "  inflating: XES certification import logs/Real-life/BPIC17 - Offer log.xes  \n",
      "  inflating: XES certification import logs/Real-life/BPIC17.xes  \n"
     ]
    }
   ],
   "source": [
    "!unzip import_logs.zip && mv \"XES certification import logs\" XES_certification_import_logs"
   ]
  },
  {
   "cell_type": "markdown",
   "metadata": {
    "id": "6HVGwFenxXVL"
   },
   "source": [
    "## File Paths\n",
    "---"
   ]
  },
  {
   "cell_type": "markdown",
   "metadata": {
    "id": "mUnYbtemfeEC"
   },
   "source": [
    "### File Paths to the Real Life Logs"
   ]
  },
  {
   "cell_type": "code",
   "execution_count": 109,
   "metadata": {
    "id": "9DIyhEAaypK0"
   },
   "outputs": [],
   "source": [
    "a = './XES_certification_import_logs/Real-life/BPIC12.xes'                    \n",
    "b = './XES_certification_import_logs/Real-life/BPIC13_closed_problems.xes'    \n",
    "c = './XES_certification_import_logs/Real-life/BPIC13_incidents.xes'      \n",
    "d = './XES_certification_import_logs/Real-life/BPIC13_open_problems.xes'  \n",
    "e = './XES_certification_import_logs/Real-life/BPIC15_1.xes'                       \n",
    "f = './XES_certification_import_logs/Real-life/BPIC15_2.xes'                \n",
    "g = './XES_certification_import_logs/Real-life/BPIC15_3.xes'                 \n",
    "h = './XES_certification_import_logs/Real-life/BPIC15_4.xes'                 \n",
    "i = './XES_certification_import_logs/Real-life/BPIC15_5.xes'                 \n",
    "j = './XES_certification_import_logs/Real-life/BPIC17 - Offer log.xes'    \n",
    "k = './XES_certification_import_logs/Real-life/BPIC17.xes'                     "
   ]
  },
  {
   "cell_type": "markdown",
   "metadata": {
    "id": "igG4nB15pfVp"
   },
   "source": [
    "### File Paths to the Artificial Logs\n"
   ]
  },
  {
   "cell_type": "code",
   "execution_count": 5,
   "metadata": {
    "id": "hQd2fyek60Fs"
   },
   "outputs": [],
   "source": [
    "pa1 = './XES_certification_import_logs/Artificial/LevelA1.xes'\n",
    "pa2 = './XES_certification_import_logs/Artificial/LevelA2.xes'\n",
    "pb1 = './XES_certification_import_logs/Artificial/LevelB1.xes'\n",
    "pb2 = './XES_certification_import_logs/Artificial/LevelB2.xes'\n",
    "pc1 = './XES_certification_import_logs/Artificial/LevelC1.xes'\n",
    "pc2 = './XES_certification_import_logs/Artificial/LevelC2.xes'\n",
    "pd1 = './XES_certification_import_logs/Artificial/LevelD1.xes'\n",
    "pd2 = './XES_certification_import_logs/Artificial/LevelD2.xes'\n",
    "px1 = './XES_certification_import_logs/Artificial/FlagX1.xes'\n",
    "px2 = './XES_certification_import_logs/Artificial/FlagX2.xes' "
   ]
  },
  {
   "cell_type": "markdown",
   "metadata": {
    "id": "NuyRdLKz60xP"
   },
   "source": [
    "# **1 Importing**\n",
    "---\n",
    "---"
   ]
  },
  {
   "cell_type": "markdown",
   "metadata": {
    "id": "3baW8SGL6-EI"
   },
   "source": [
    "## 1.1 Importing the Real-life Logs\n",
    "---"
   ]
  },
  {
   "cell_type": "markdown",
   "metadata": {
    "id": "ZDH3zjt2HQta"
   },
   "source": [
    "### BPIC12 Log"
   ]
  },
  {
   "cell_type": "code",
   "execution_count": 55,
   "metadata": {
    "colab": {
     "base_uri": "https://localhost:8080/"
    },
    "id": "0EKaBD6wP6xA",
    "outputId": "57bad11d-906e-4e15-f0c4-593190c3fca2"
   },
   "outputs": [
    {
     "name": "stderr",
     "output_type": "stream",
     "text": [
      "18900it [00:00, 188997.03it/s]"
     ]
    },
    {
     "name": "stdout",
     "output_type": "stream",
     "text": [
      "Processing log...\n"
     ]
    },
    {
     "name": "stderr",
     "output_type": "stream",
     "text": [
      "2716052it [00:09, 271680.84it/s]"
     ]
    },
    {
     "name": "stdout",
     "output_type": "stream",
     "text": [
      "The log contains 13087 traces and 262200 events.\n",
      "Classifiers contained: {'Activity classifier': ['concept:name', 'lifecycle:transition']}\n",
      "TRACE_ID: 196990 (trace number 7476 )\n",
      "  concept:name               lifecycle:transition                time:timestamp \n",
      "> A_SUBMITTED                COMPLETE                            01/01/2012 18:44:17.191000\n",
      "> A_PARTLYSUBMITTED          COMPLETE                            01/01/2012 18:44:17.384000\n",
      "> A_DECLINED                 COMPLETE                            01/01/2012 18:44:58.566000\n",
      "\n"
     ]
    },
    {
     "name": "stderr",
     "output_type": "stream",
     "text": [
      "\n"
     ]
    }
   ],
   "source": [
    "log1 = xes.import_xes(a)\n",
    "verify_log(log1)"
   ]
  },
  {
   "cell_type": "markdown",
   "metadata": {
    "id": "1JLENItLHU8V"
   },
   "source": [
    "### BPIC13_closed_problems Log"
   ]
  },
  {
   "cell_type": "code",
   "execution_count": 110,
   "metadata": {
    "colab": {
     "base_uri": "https://localhost:8080/"
    },
    "id": "jL8zPFDNP7st",
    "outputId": "ffa14ce4-e52a-40c6-9039-7f166eb50a0c"
   },
   "outputs": [
    {
     "name": "stderr",
     "output_type": "stream",
     "text": [
      "15095it [00:00, 150921.00it/s]"
     ]
    },
    {
     "name": "stdout",
     "output_type": "stream",
     "text": [
      "Processing log...\n"
     ]
    },
    {
     "name": "stderr",
     "output_type": "stream",
     "text": [
      "176720it [00:01, 124916.65it/s]"
     ]
    },
    {
     "name": "stdout",
     "output_type": "stream",
     "text": [
      "The log contains 1487 traces and 6660 events.\n",
      "Classifiers contained: {'Activity classifier': ['concept:name', 'lifecycle:transition'], 'Resource classifier': ['org:resource']}\n",
      "TRACE_ID: 909 (trace number 909 )\n",
      "  concept:name            lifecycle:transition                time:timestamp \n",
      "> Accepted                In Progress                         01/17/2012 17:59:52.000000\n",
      "> Completed               Closed                              01/17/2012 18:00:41.000000\n",
      "\n"
     ]
    },
    {
     "name": "stderr",
     "output_type": "stream",
     "text": [
      "\n"
     ]
    }
   ],
   "source": [
    "log2 = xes.import_xes(b)\n",
    "verify_log(log2)"
   ]
  },
  {
   "cell_type": "code",
   "execution_count": 111,
   "metadata": {},
   "outputs": [
    {
     "data": {
      "image/svg+xml": [
       "<?xml version=\"1.0\" encoding=\"UTF-8\" standalone=\"no\"?>\n",
       "<!DOCTYPE svg PUBLIC \"-//W3C//DTD SVG 1.1//EN\"\n",
       " \"http://www.w3.org/Graphics/SVG/1.1/DTD/svg11.dtd\">\n",
       "<!-- Generated by graphviz version 2.38.0 (20140413.2041)\n",
       " -->\n",
       "<!-- Title: log2 Pages: 1 -->\n",
       "<svg width=\"1220pt\" height=\"651pt\"\n",
       " viewBox=\"0.00 0.00 1220.00 650.87\" xmlns=\"http://www.w3.org/2000/svg\" xmlns:xlink=\"http://www.w3.org/1999/xlink\">\n",
       "<g id=\"graph0\" class=\"graph\" transform=\"scale(1 1) rotate(0) translate(4 646.869)\">\n",
       "<title>log2</title>\n",
       "<polygon fill=\"white\" stroke=\"none\" points=\"-4,4 -4,-646.869 1216,-646.869 1216,4 -4,4\"/>\n",
       "<!-- Queued+Awaiting Assignment (875) -->\n",
       "<g id=\"node1\" class=\"node\"><title>Queued+Awaiting Assignment (875)</title>\n",
       "<polygon fill=\"#bae4b3\" stroke=\"#bae4b3\" points=\"173,-189.869 0,-189.869 0,-153.869 173,-153.869 173,-189.869\"/>\n",
       "<text text-anchor=\"middle\" x=\"86.5\" y=\"-169.369\" font-family=\"Helvetica,sans-Serif\" font-size=\"10.00\">Queued+Awaiting Assignment (875)</text>\n",
       "</g>\n",
       "<!-- Queued+Awaiting Assignment (875)&#45;&gt;Queued+Awaiting Assignment (875) -->\n",
       "<g id=\"edge14\" class=\"edge\"><title>Queued+Awaiting Assignment (875)&#45;&gt;Queued+Awaiting Assignment (875)</title>\n",
       "<path fill=\"none\" stroke=\"black\" d=\"M68.5659,-189.985C63.1313,-202.523 69.1094,-214.869 86.5,-214.869 99.1354,-214.869 105.746,-208.352 106.332,-199.979\"/>\n",
       "<polygon fill=\"black\" stroke=\"black\" points=\"109.739,-199.156 104.434,-189.985 102.862,-200.462 109.739,-199.156\"/>\n",
       "<text text-anchor=\"middle\" x=\"86.5\" y=\"-218.669\" font-family=\"Times,serif\" font-size=\"14.00\">66</text>\n",
       "</g>\n",
       "<!-- Accepted+In Progress (3066) -->\n",
       "<g id=\"node2\" class=\"node\"><title>Accepted+In Progress (3066)</title>\n",
       "<polygon fill=\"#238b45\" stroke=\"#238b45\" points=\"370.5,-303.869 226.5,-303.869 226.5,-267.869 370.5,-267.869 370.5,-303.869\"/>\n",
       "<text text-anchor=\"middle\" x=\"298.5\" y=\"-283.369\" font-family=\"Helvetica,sans-Serif\" font-size=\"10.00\">Accepted+In Progress (3066)</text>\n",
       "</g>\n",
       "<!-- Queued+Awaiting Assignment (875)&#45;&gt;Accepted+In Progress (3066) -->\n",
       "<g id=\"edge1\" class=\"edge\"><title>Queued+Awaiting Assignment (875)&#45;&gt;Accepted+In Progress (3066)</title>\n",
       "<path fill=\"none\" stroke=\"black\" d=\"M123.079,-189.886C146.016,-201.616 176.415,-217.376 203,-231.869 221.058,-241.714 240.843,-252.949 257.623,-262.612\"/>\n",
       "<polygon fill=\"black\" stroke=\"black\" points=\"256.195,-265.83 266.605,-267.8 259.696,-259.768 256.195,-265.83\"/>\n",
       "<text text-anchor=\"middle\" x=\"192.5\" y=\"-235.669\" font-family=\"Times,serif\" font-size=\"14.00\">738</text>\n",
       "</g>\n",
       "<!-- Accepted+Assigned (614) -->\n",
       "<g id=\"node3\" class=\"node\"><title>Accepted+Assigned (614)</title>\n",
       "<polygon fill=\"#bae4b3\" stroke=\"#bae4b3\" points=\"575,-72.8692 446,-72.8692 446,-36.8692 575,-36.8692 575,-72.8692\"/>\n",
       "<text text-anchor=\"middle\" x=\"510.5\" y=\"-52.3692\" font-family=\"Helvetica,sans-Serif\" font-size=\"10.00\">Accepted+Assigned (614)</text>\n",
       "</g>\n",
       "<!-- Queued+Awaiting Assignment (875)&#45;&gt;Accepted+Assigned (614) -->\n",
       "<g id=\"edge10\" class=\"edge\"><title>Queued+Awaiting Assignment (875)&#45;&gt;Accepted+Assigned (614)</title>\n",
       "<path fill=\"none\" stroke=\"black\" d=\"M94.7512,-153.614C111.215,-115.363 155.583,-28.7009 226.5,-8.86917 305.576,13.2443 400.248,-12.2399 457.584,-33.1629\"/>\n",
       "<polygon fill=\"black\" stroke=\"black\" points=\"456.557,-36.5156 467.149,-36.7383 459.008,-29.9586 456.557,-36.5156\"/>\n",
       "<text text-anchor=\"middle\" x=\"298.5\" y=\"-12.6692\" font-family=\"Times,serif\" font-size=\"14.00\">71</text>\n",
       "</g>\n",
       "<!-- Accepted+In Progress (3066)&#45;&gt;Queued+Awaiting Assignment (875) -->\n",
       "<g id=\"edge9\" class=\"edge\"><title>Accepted+In Progress (3066)&#45;&gt;Queued+Awaiting Assignment (875)</title>\n",
       "<path fill=\"none\" stroke=\"black\" d=\"M226.751,-267.824C211.544,-262.689 195.882,-256.397 182,-248.869 156.51,-235.047 131.235,-213.964 113.247,-197.351\"/>\n",
       "<polygon fill=\"black\" stroke=\"black\" points=\"115.2,-194.382 105.52,-190.075 110.401,-199.478 115.2,-194.382\"/>\n",
       "<text text-anchor=\"middle\" x=\"192.5\" y=\"-261.669\" font-family=\"Times,serif\" font-size=\"14.00\">630</text>\n",
       "</g>\n",
       "<!-- Accepted+In Progress (3066)&#45;&gt;Accepted+In Progress (3066) -->\n",
       "<g id=\"edge5\" class=\"edge\"><title>Accepted+In Progress (3066)&#45;&gt;Accepted+In Progress (3066)</title>\n",
       "<path fill=\"none\" stroke=\"black\" d=\"M280.566,-303.985C275.131,-316.523 281.109,-328.869 298.5,-328.869 311.135,-328.869 317.746,-322.352 318.332,-313.979\"/>\n",
       "<polygon fill=\"black\" stroke=\"black\" points=\"321.739,-313.156 316.434,-303.985 314.862,-314.462 321.739,-313.156\"/>\n",
       "<text text-anchor=\"middle\" x=\"298.5\" y=\"-332.669\" font-family=\"Times,serif\" font-size=\"14.00\">330</text>\n",
       "</g>\n",
       "<!-- Accepted+In Progress (3066)&#45;&gt;Accepted+Assigned (614) -->\n",
       "<g id=\"edge2\" class=\"edge\"><title>Accepted+In Progress (3066)&#45;&gt;Accepted+Assigned (614)</title>\n",
       "<path fill=\"none\" stroke=\"black\" d=\"M315.951,-267.785C338.356,-243.155 379.717,-197.682 415,-158.869 439.301,-132.137 467.108,-101.533 486.234,-80.4807\"/>\n",
       "<polygon fill=\"black\" stroke=\"black\" points=\"488.98,-82.6631 493.113,-72.9079 483.799,-77.9561 488.98,-82.6631\"/>\n",
       "<text text-anchor=\"middle\" x=\"404.5\" y=\"-182.669\" font-family=\"Times,serif\" font-size=\"14.00\">421</text>\n",
       "</g>\n",
       "<!-- Completed+Closed (1564) -->\n",
       "<g id=\"node4\" class=\"node\"><title>Completed+Closed (1564)</title>\n",
       "<polygon fill=\"#238b45\" stroke=\"#238b45\" points=\"1212,-403.869 1081,-403.869 1081,-367.869 1212,-367.869 1212,-403.869\"/>\n",
       "<text text-anchor=\"middle\" x=\"1146.5\" y=\"-383.369\" font-family=\"Helvetica,sans-Serif\" font-size=\"10.00\">Completed+Closed (1564)</text>\n",
       "</g>\n",
       "<!-- Accepted+In Progress (3066)&#45;&gt;Completed+Closed (1564) -->\n",
       "<g id=\"edge4\" class=\"edge\"><title>Accepted+In Progress (3066)&#45;&gt;Completed+Closed (1564)</title>\n",
       "<path fill=\"none\" stroke=\"black\" d=\"M306.816,-304.115C328.904,-355.866 400.188,-499.869 509.5,-499.869 509.5,-499.869 509.5,-499.869 935.5,-499.869 1009.67,-499.869 1082.66,-444.269 1119.95,-410.727\"/>\n",
       "<polygon fill=\"black\" stroke=\"black\" points=\"1122.35,-413.273 1127.35,-403.933 1117.62,-408.116 1122.35,-413.273\"/>\n",
       "<text text-anchor=\"middle\" x=\"722.5\" y=\"-503.669\" font-family=\"Times,serif\" font-size=\"14.00\">1266</text>\n",
       "</g>\n",
       "<!-- Accepted+Wait (527) -->\n",
       "<g id=\"node5\" class=\"node\"><title>Accepted+Wait (527)</title>\n",
       "<polygon fill=\"#bae4b3\" stroke=\"#bae4b3\" points=\"777,-224.869 668,-224.869 668,-188.869 777,-188.869 777,-224.869\"/>\n",
       "<text text-anchor=\"middle\" x=\"722.5\" y=\"-204.369\" font-family=\"Helvetica,sans-Serif\" font-size=\"10.00\">Accepted+Wait (527)</text>\n",
       "</g>\n",
       "<!-- Accepted+In Progress (3066)&#45;&gt;Accepted+Wait (527) -->\n",
       "<g id=\"edge6\" class=\"edge\"><title>Accepted+In Progress (3066)&#45;&gt;Accepted+Wait (527)</title>\n",
       "<path fill=\"none\" stroke=\"black\" d=\"M330.282,-267.861C359.116,-252.016 403.952,-229.946 446,-219.869 517.015,-202.85 601.192,-201.495 657.647,-203.181\"/>\n",
       "<polygon fill=\"black\" stroke=\"black\" points=\"657.743,-206.686 667.856,-203.528 657.98,-199.69 657.743,-206.686\"/>\n",
       "<text text-anchor=\"middle\" x=\"510.5\" y=\"-223.669\" font-family=\"Times,serif\" font-size=\"14.00\">408</text>\n",
       "</g>\n",
       "<!-- Unmatched+Unmatched (10) -->\n",
       "<g id=\"node6\" class=\"node\"><title>Unmatched+Unmatched (10)</title>\n",
       "<polygon fill=\"#edf8e9\" stroke=\"#edf8e9\" points=\"1006,-403.869 863,-403.869 863,-367.869 1006,-367.869 1006,-403.869\"/>\n",
       "<text text-anchor=\"middle\" x=\"934.5\" y=\"-383.369\" font-family=\"Helvetica,sans-Serif\" font-size=\"10.00\">Unmatched+Unmatched (10)</text>\n",
       "</g>\n",
       "<!-- Accepted+In Progress (3066)&#45;&gt;Unmatched+Unmatched (10) -->\n",
       "<g id=\"edge12\" class=\"edge\"><title>Accepted+In Progress (3066)&#45;&gt;Unmatched+Unmatched (10)</title>\n",
       "<path fill=\"none\" stroke=\"black\" d=\"M337.797,-303.984C354.682,-311.254 374.975,-319.04 394,-323.869 416.549,-329.593 422.888,-327.208 446,-329.869 589.25,-346.361 756.184,-365.525 852.862,-376.619\"/>\n",
       "<polygon fill=\"black\" stroke=\"black\" points=\"852.524,-380.103 862.858,-377.766 853.322,-373.149 852.524,-380.103\"/>\n",
       "<text text-anchor=\"middle\" x=\"616.5\" y=\"-353.669\" font-family=\"Times,serif\" font-size=\"14.00\">8</text>\n",
       "</g>\n",
       "<!-- Completed+Cancelled (3) -->\n",
       "<g id=\"node7\" class=\"node\"><title>Completed+Cancelled (3)</title>\n",
       "<polygon fill=\"#edf8e9\" stroke=\"#edf8e9\" points=\"574.5,-282.869 446.5,-282.869 446.5,-246.869 574.5,-246.869 574.5,-282.869\"/>\n",
       "<text text-anchor=\"middle\" x=\"510.5\" y=\"-262.369\" font-family=\"Helvetica,sans-Serif\" font-size=\"10.00\">Completed+Cancelled (3)</text>\n",
       "</g>\n",
       "<!-- Accepted+In Progress (3066)&#45;&gt;Completed+Cancelled (3) -->\n",
       "<g id=\"edge26\" class=\"edge\"><title>Accepted+In Progress (3066)&#45;&gt;Completed+Cancelled (3)</title>\n",
       "<path fill=\"none\" stroke=\"black\" d=\"M370.755,-283.349C385.41,-282.499 400.722,-281.369 415,-279.869 421.826,-279.152 428.911,-278.276 435.993,-277.31\"/>\n",
       "<polygon fill=\"black\" stroke=\"black\" points=\"436.928,-280.712 446.336,-275.84 435.943,-273.782 436.928,-280.712\"/>\n",
       "<text text-anchor=\"middle\" x=\"404.5\" y=\"-284.669\" font-family=\"Times,serif\" font-size=\"14.00\">3</text>\n",
       "</g>\n",
       "<!-- Accepted+Assigned (614)&#45;&gt;Queued+Awaiting Assignment (875) -->\n",
       "<g id=\"edge11\" class=\"edge\"><title>Accepted+Assigned (614)&#45;&gt;Queued+Awaiting Assignment (875)</title>\n",
       "<path fill=\"none\" stroke=\"black\" d=\"M445.813,-61.0536C378.22,-69.2537 269.326,-87.2005 182,-123.869 164.413,-131.254 145.575,-140.528 129.383,-148.951\"/>\n",
       "<polygon fill=\"black\" stroke=\"black\" points=\"127.404,-146.037 120.184,-153.791 130.663,-152.232 127.404,-146.037\"/>\n",
       "<text text-anchor=\"middle\" x=\"298.5\" y=\"-110.669\" font-family=\"Times,serif\" font-size=\"14.00\">62</text>\n",
       "</g>\n",
       "<!-- Accepted+Assigned (614)&#45;&gt;Accepted+In Progress (3066) -->\n",
       "<g id=\"edge3\" class=\"edge\"><title>Accepted+Assigned (614)&#45;&gt;Accepted+In Progress (3066)</title>\n",
       "<path fill=\"none\" stroke=\"black\" d=\"M445.772,-68.5176C427.486,-74.8099 408.575,-83.8795 394,-96.8692 344.494,-140.991 317.784,-217.037 306.361,-257.925\"/>\n",
       "<polygon fill=\"black\" stroke=\"black\" points=\"302.934,-257.193 303.72,-267.759 309.694,-259.008 302.934,-257.193\"/>\n",
       "<text text-anchor=\"middle\" x=\"404.5\" y=\"-100.669\" font-family=\"Times,serif\" font-size=\"14.00\">384</text>\n",
       "</g>\n",
       "<!-- Accepted+Assigned (614)&#45;&gt;Accepted+Assigned (614) -->\n",
       "<g id=\"edge20\" class=\"edge\"><title>Accepted+Assigned (614)&#45;&gt;Accepted+Assigned (614)</title>\n",
       "<path fill=\"none\" stroke=\"black\" d=\"M492.566,-72.9849C487.131,-85.5235 493.109,-97.8692 510.5,-97.8692 523.135,-97.8692 529.746,-91.352 530.332,-82.9787\"/>\n",
       "<polygon fill=\"black\" stroke=\"black\" points=\"533.739,-82.1561 528.434,-72.9849 526.862,-83.4623 533.739,-82.1561\"/>\n",
       "<text text-anchor=\"middle\" x=\"510.5\" y=\"-101.669\" font-family=\"Times,serif\" font-size=\"14.00\">62</text>\n",
       "</g>\n",
       "<!-- Accepted+Assigned (614)&#45;&gt;Completed+Closed (1564) -->\n",
       "<g id=\"edge16\" class=\"edge\"><title>Accepted+Assigned (614)&#45;&gt;Completed+Closed (1564)</title>\n",
       "<path fill=\"none\" stroke=\"black\" d=\"M575.232,-53.6495C630.511,-54.6967 711.683,-61.3766 777,-87.8692 930.649,-150.189 1070.74,-299.056 1123.41,-359.593\"/>\n",
       "<polygon fill=\"black\" stroke=\"black\" points=\"1121.08,-362.243 1130.26,-367.531 1126.38,-357.672 1121.08,-362.243\"/>\n",
       "<text text-anchor=\"middle\" x=\"828.5\" y=\"-119.669\" font-family=\"Times,serif\" font-size=\"14.00\">31</text>\n",
       "</g>\n",
       "<!-- Accepted+Assigned (614)&#45;&gt;Accepted+Wait (527) -->\n",
       "<g id=\"edge21\" class=\"edge\"><title>Accepted+Assigned (614)&#45;&gt;Accepted+Wait (527)</title>\n",
       "<path fill=\"none\" stroke=\"black\" d=\"M536.414,-72.9025C574.226,-100.271 646.15,-152.33 688.342,-182.869\"/>\n",
       "<polygon fill=\"black\" stroke=\"black\" points=\"686.465,-185.831 696.618,-188.859 690.569,-180.161 686.465,-185.831\"/>\n",
       "<text text-anchor=\"middle\" x=\"616.5\" y=\"-138.669\" font-family=\"Times,serif\" font-size=\"14.00\">75</text>\n",
       "</g>\n",
       "<!-- Completed+Closed (1564)&#45;&gt;Accepted+In Progress (3066) -->\n",
       "<g id=\"edge24\" class=\"edge\"><title>Completed+Closed (1564)&#45;&gt;Accepted+In Progress (3066)</title>\n",
       "<path fill=\"none\" stroke=\"black\" d=\"M1135.7,-404.018C1109.66,-449.525 1033.95,-564.869 935.5,-564.869 509.5,-564.869 509.5,-564.869 509.5,-564.869 384.944,-564.869 325.055,-385.168 306.26,-314.205\"/>\n",
       "<polygon fill=\"black\" stroke=\"black\" points=\"309.562,-312.992 303.688,-304.175 302.782,-314.731 309.562,-312.992\"/>\n",
       "<text text-anchor=\"middle\" x=\"722.5\" y=\"-568.669\" font-family=\"Times,serif\" font-size=\"14.00\">78</text>\n",
       "</g>\n",
       "<!-- Accepted+Wait (527)&#45;&gt;Queued+Awaiting Assignment (875) -->\n",
       "<g id=\"edge8\" class=\"edge\"><title>Accepted+Wait (527)&#45;&gt;Queued+Awaiting Assignment (875)</title>\n",
       "<path fill=\"none\" stroke=\"black\" d=\"M667.856,-190.99C607.147,-173.916 504.988,-147.873 415,-137.869 335.022,-128.978 243.972,-140.146 178.211,-152.002\"/>\n",
       "<polygon fill=\"black\" stroke=\"black\" points=\"177.488,-148.576 168.288,-153.83 178.757,-155.46 177.488,-148.576\"/>\n",
       "<text text-anchor=\"middle\" x=\"404.5\" y=\"-141.669\" font-family=\"Times,serif\" font-size=\"14.00\">62</text>\n",
       "</g>\n",
       "<!-- Accepted+Wait (527)&#45;&gt;Accepted+In Progress (3066) -->\n",
       "<g id=\"edge7\" class=\"edge\"><title>Accepted+Wait (527)&#45;&gt;Accepted+In Progress (3066)</title>\n",
       "<path fill=\"none\" stroke=\"black\" d=\"M699.892,-224.949C672.732,-246.441 623.739,-281.234 575,-295.869 511.78,-314.852 436.718,-310.479 380.922,-302.406\"/>\n",
       "<polygon fill=\"black\" stroke=\"black\" points=\"381.147,-298.9 370.735,-300.86 380.097,-305.821 381.147,-298.9\"/>\n",
       "<text text-anchor=\"middle\" x=\"510.5\" y=\"-312.669\" font-family=\"Times,serif\" font-size=\"14.00\">135</text>\n",
       "</g>\n",
       "<!-- Accepted+Wait (527)&#45;&gt;Accepted+Assigned (614) -->\n",
       "<g id=\"edge19\" class=\"edge\"><title>Accepted+Wait (527)&#45;&gt;Accepted+Assigned (614)</title>\n",
       "<path fill=\"none\" stroke=\"black\" d=\"M709.648,-188.813C693.026,-164.768 660.63,-122.32 623.5,-96.8692 611.67,-88.7604 598.072,-81.9701 584.521,-76.3769\"/>\n",
       "<polygon fill=\"black\" stroke=\"black\" points=\"585.756,-73.1017 575.169,-72.6945 583.191,-79.6149 585.756,-73.1017\"/>\n",
       "<text text-anchor=\"middle\" x=\"616.5\" y=\"-100.669\" font-family=\"Times,serif\" font-size=\"14.00\">47</text>\n",
       "</g>\n",
       "<!-- Accepted+Wait (527)&#45;&gt;Completed+Closed (1564) -->\n",
       "<g id=\"edge15\" class=\"edge\"><title>Accepted+Wait (527)&#45;&gt;Completed+Closed (1564)</title>\n",
       "<path fill=\"none\" stroke=\"black\" d=\"M766.286,-225.018C844.268,-258.095 1009.24,-328.071 1093.54,-363.828\"/>\n",
       "<polygon fill=\"black\" stroke=\"black\" points=\"1092.34,-367.123 1102.91,-367.806 1095.08,-360.679 1092.34,-367.123\"/>\n",
       "<text text-anchor=\"middle\" x=\"934.5\" y=\"-328.669\" font-family=\"Times,serif\" font-size=\"14.00\">262</text>\n",
       "</g>\n",
       "<!-- Accepted+Wait (527)&#45;&gt;Accepted+Wait (527) -->\n",
       "<g id=\"edge25\" class=\"edge\"><title>Accepted+Wait (527)&#45;&gt;Accepted+Wait (527)</title>\n",
       "<path fill=\"none\" stroke=\"black\" d=\"M704.566,-224.985C699.131,-237.523 705.109,-249.869 722.5,-249.869 735.135,-249.869 741.746,-243.352 742.332,-234.979\"/>\n",
       "<polygon fill=\"black\" stroke=\"black\" points=\"745.739,-234.156 740.434,-224.985 738.862,-235.462 745.739,-234.156\"/>\n",
       "<text text-anchor=\"middle\" x=\"722.5\" y=\"-253.669\" font-family=\"Times,serif\" font-size=\"14.00\">20</text>\n",
       "</g>\n",
       "<!-- Accepted+Wait (527)&#45;&gt;Unmatched+Unmatched (10) -->\n",
       "<g id=\"edge17\" class=\"edge\"><title>Accepted+Wait (527)&#45;&gt;Unmatched+Unmatched (10)</title>\n",
       "<path fill=\"none\" stroke=\"black\" d=\"M744.792,-225.018C782.604,-257.248 861.517,-324.512 904.342,-361.016\"/>\n",
       "<polygon fill=\"black\" stroke=\"black\" points=\"902.271,-363.849 912.152,-367.673 906.812,-358.522 902.271,-363.849\"/>\n",
       "<text text-anchor=\"middle\" x=\"828.5\" y=\"-304.669\" font-family=\"Times,serif\" font-size=\"14.00\">1</text>\n",
       "</g>\n",
       "<!-- Unmatched+Unmatched (10)&#45;&gt;Queued+Awaiting Assignment (875) -->\n",
       "<g id=\"edge18\" class=\"edge\"><title>Unmatched+Unmatched (10)&#45;&gt;Queued+Awaiting Assignment (875)</title>\n",
       "<path fill=\"none\" stroke=\"black\" d=\"M927.745,-404.059C908.682,-460.338 841.986,-627.869 723.5,-627.869 297.5,-627.869 297.5,-627.869 297.5,-627.869 108.27,-627.869 88.9641,-299.888 87.4655,-200.241\"/>\n",
       "<polygon fill=\"black\" stroke=\"black\" points=\"90.9633,-199.991 87.3641,-190.026 83.9637,-200.061 90.9633,-199.991\"/>\n",
       "<text text-anchor=\"middle\" x=\"510.5\" y=\"-631.669\" font-family=\"Times,serif\" font-size=\"14.00\">2</text>\n",
       "</g>\n",
       "<!-- Unmatched+Unmatched (10)&#45;&gt;Accepted+In Progress (3066) -->\n",
       "<g id=\"edge23\" class=\"edge\"><title>Unmatched+Unmatched (10)&#45;&gt;Accepted+In Progress (3066)</title>\n",
       "<path fill=\"none\" stroke=\"black\" d=\"M862.724,-392.541C849.051,-393.194 834.834,-393.433 821.5,-392.869 653.953,-385.787 611.357,-383.785 446,-355.869 422.612,-351.921 415.95,-352.857 394,-343.869 372.459,-335.049 350.183,-321.62 332.673,-309.905\"/>\n",
       "<polygon fill=\"black\" stroke=\"black\" points=\"334.212,-306.718 323.98,-303.968 330.264,-312.498 334.212,-306.718\"/>\n",
       "<text text-anchor=\"middle\" x=\"616.5\" y=\"-384.669\" font-family=\"Times,serif\" font-size=\"14.00\">2</text>\n",
       "</g>\n",
       "<!-- Unmatched+Unmatched (10)&#45;&gt;Accepted+Assigned (614) -->\n",
       "<g id=\"edge22\" class=\"edge\"><title>Unmatched+Unmatched (10)&#45;&gt;Accepted+Assigned (614)</title>\n",
       "<path fill=\"none\" stroke=\"black\" d=\"M891.574,-367.794C881.291,-361.915 870.963,-354.605 863,-345.869 842.967,-323.89 847.998,-311.854 835.5,-284.869 810.059,-229.94 819.128,-205.34 777,-161.869 725.589,-108.82 644.364,-81.301 585.283,-67.55\"/>\n",
       "<polygon fill=\"black\" stroke=\"black\" points=\"585.786,-64.0757 575.262,-65.2994 584.252,-70.9056 585.786,-64.0757\"/>\n",
       "<text text-anchor=\"middle\" x=\"722.5\" y=\"-165.669\" font-family=\"Times,serif\" font-size=\"14.00\">1</text>\n",
       "</g>\n",
       "<!-- Unmatched+Unmatched (10)&#45;&gt;Completed+Closed (1564) -->\n",
       "<g id=\"edge13\" class=\"edge\"><title>Unmatched+Unmatched (10)&#45;&gt;Completed+Closed (1564)</title>\n",
       "<path fill=\"none\" stroke=\"black\" d=\"M1006.01,-385.869C1026.8,-385.869 1049.61,-385.869 1070.66,-385.869\"/>\n",
       "<polygon fill=\"black\" stroke=\"black\" points=\"1070.84,-389.369 1080.84,-385.869 1070.84,-382.369 1070.84,-389.369\"/>\n",
       "<text text-anchor=\"middle\" x=\"1040.5\" y=\"-389.669\" font-family=\"Times,serif\" font-size=\"14.00\">5</text>\n",
       "</g>\n",
       "<!-- Completed+Cancelled (3)&#45;&gt;Accepted+In Progress (3066) -->\n",
       "<g id=\"edge27\" class=\"edge\"><title>Completed+Cancelled (3)&#45;&gt;Accepted+In Progress (3066)</title>\n",
       "<path fill=\"none\" stroke=\"black\" d=\"M446.369,-257.246C429.314,-256.368 410.902,-256.502 394,-258.869 383.756,-260.304 373.064,-262.573 362.711,-265.202\"/>\n",
       "<polygon fill=\"black\" stroke=\"black\" points=\"361.673,-261.856 352.914,-267.816 363.478,-268.619 361.673,-261.856\"/>\n",
       "<text text-anchor=\"middle\" x=\"404.5\" y=\"-262.669\" font-family=\"Times,serif\" font-size=\"14.00\">3</text>\n",
       "</g>\n",
       "</g>\n",
       "</svg>\n"
      ],
      "text/plain": [
       "<graphviz.dot.Digraph at 0x7fdbe62629a0>"
      ]
     },
     "execution_count": 111,
     "metadata": {},
     "output_type": "execute_result"
    }
   ],
   "source": [
    "draw_dfg(log2, \"log2\", 0, save=False, lifecycle_present=True)"
   ]
  },
  {
   "cell_type": "markdown",
   "metadata": {
    "id": "_EyzFDzjYFeJ"
   },
   "source": [
    "### BPIC13_incidents Log"
   ]
  },
  {
   "cell_type": "code",
   "execution_count": null,
   "metadata": {
    "colab": {
     "base_uri": "https://localhost:8080/"
    },
    "id": "GfehGKFpQAph",
    "outputId": "7eda38e5-0cf5-408c-f0c2-e928ec0b5f2d"
   },
   "outputs": [
    {
     "name": "stderr",
     "output_type": "stream",
     "text": [
      "25854it [00:00, 258492.18it/s]"
     ]
    },
    {
     "name": "stdout",
     "output_type": "stream",
     "text": [
      "Processing log...\n"
     ]
    },
    {
     "name": "stderr",
     "output_type": "stream",
     "text": [
      "1634004it [00:05, 281513.26it/s]"
     ]
    },
    {
     "name": "stdout",
     "output_type": "stream",
     "text": [
      "The log contains 7554 traces and 65533 events.\n",
      "Classifiers contained: {'Activity classifier': ['concept:name', 'lifecycle:transition'], 'Resource classifier': ['org:resource']}\n",
      "TRACE_ID: 7522 (trace number 7522 )\n",
      "  concept:name            lifecycle:transition                time:timestamp \n",
      "> Accepted                In Progress                         05/04/2012 22:00:25.000000\n",
      "> Accepted                In Progress                         05/04/2012 22:01:20.000000\n",
      "> Completed               In Call                             05/04/2012 22:02:17.000000\n",
      "\n"
     ]
    },
    {
     "name": "stderr",
     "output_type": "stream",
     "text": [
      "\n"
     ]
    }
   ],
   "source": [
    "log3 = xes.import_xes(c)\n",
    "verify_log(log3)"
   ]
  },
  {
   "cell_type": "markdown",
   "metadata": {
    "id": "XzpbdTXjYj2k"
   },
   "source": [
    "### BPIC13_open_problems Log"
   ]
  },
  {
   "cell_type": "code",
   "execution_count": 112,
   "metadata": {
    "colab": {
     "base_uri": "https://localhost:8080/"
    },
    "id": "SMDOR1J6QDMx",
    "outputId": "828d19c7-4158-469f-ab6d-c8ca16c250b6"
   },
   "outputs": [
    {
     "name": "stderr",
     "output_type": "stream",
     "text": [
      "11858it [00:00, 118568.81it/s]"
     ]
    },
    {
     "name": "stdout",
     "output_type": "stream",
     "text": [
      "Processing log...\n"
     ]
    },
    {
     "name": "stderr",
     "output_type": "stream",
     "text": [
      "60864it [00:00, 125798.98it/s]"
     ]
    },
    {
     "name": "stdout",
     "output_type": "stream",
     "text": [
      "The log contains 819 traces and 2351 events.\n",
      "Classifiers contained: {'Activity classifier': ['concept:name', 'lifecycle:transition'], 'Resource classifier': ['org:resource']}\n",
      "TRACE_ID: 473 (trace number 473 )\n",
      "  concept:name            lifecycle:transition                time:timestamp \n",
      "> Queued                  Awaiting Assignment                 05/04/2012 13:43:49.000000\n",
      "> Accepted                In Progress                         05/04/2012 13:46:02.000000\n",
      "> Queued                  Awaiting Assignment                 05/04/2012 13:54:17.000000\n",
      "> Accepted                In Progress                         05/07/2012 11:47:48.000000\n",
      "> Queued                  Awaiting Assignment                 05/07/2012 11:47:57.000000\n",
      "> Accepted                In Progress                         05/07/2012 11:59:32.000000\n",
      "> Queued                  Awaiting Assignment                 05/08/2012 14:06:45.000000\n",
      "> Queued                  Awaiting Assignment                 05/16/2012 10:55:45.000000\n",
      "> Accepted                In Progress                         06/06/2012 18:07:05.000000\n",
      "> Queued                  Awaiting Assignment                 06/06/2012 18:08:59.000000\n",
      "\n"
     ]
    },
    {
     "name": "stderr",
     "output_type": "stream",
     "text": [
      "\n"
     ]
    }
   ],
   "source": [
    "log4 = xes.import_xes(d)\n",
    "verify_log(log4)"
   ]
  },
  {
   "cell_type": "code",
   "execution_count": 113,
   "metadata": {},
   "outputs": [
    {
     "data": {
      "image/svg+xml": [
       "<?xml version=\"1.0\" encoding=\"UTF-8\" standalone=\"no\"?>\n",
       "<!DOCTYPE svg PUBLIC \"-//W3C//DTD SVG 1.1//EN\"\n",
       " \"http://www.w3.org/Graphics/SVG/1.1/DTD/svg11.dtd\">\n",
       "<!-- Generated by graphviz version 2.38.0 (20140413.2041)\n",
       " -->\n",
       "<!-- Title: log4 Pages: 1 -->\n",
       "<svg width=\"987pt\" height=\"444pt\"\n",
       " viewBox=\"0.00 0.00 986.50 444.00\" xmlns=\"http://www.w3.org/2000/svg\" xmlns:xlink=\"http://www.w3.org/1999/xlink\">\n",
       "<g id=\"graph0\" class=\"graph\" transform=\"scale(1 1) rotate(0) translate(4 440)\">\n",
       "<title>log4</title>\n",
       "<polygon fill=\"white\" stroke=\"none\" points=\"-4,4 -4,-440 982.5,-440 982.5,4 -4,4\"/>\n",
       "<!-- Accepted+In Progress (1031) -->\n",
       "<g id=\"node1\" class=\"node\"><title>Accepted+In Progress (1031)</title>\n",
       "<polygon fill=\"#74c476\" stroke=\"#74c476\" points=\"144,-217 0,-217 0,-181 144,-181 144,-217\"/>\n",
       "<text text-anchor=\"middle\" x=\"72\" y=\"-196.5\" font-family=\"Helvetica,sans-Serif\" font-size=\"10.00\">Accepted+In Progress (1031)</text>\n",
       "</g>\n",
       "<!-- Accepted+In Progress (1031)&#45;&gt;Accepted+In Progress (1031) -->\n",
       "<g id=\"edge1\" class=\"edge\"><title>Accepted+In Progress (1031)&#45;&gt;Accepted+In Progress (1031)</title>\n",
       "<path fill=\"none\" stroke=\"black\" d=\"M54.7427,-217.116C49.5132,-229.654 55.2656,-242 72,-242 84.1586,-242 90.5199,-235.483 91.0838,-227.11\"/>\n",
       "<polygon fill=\"black\" stroke=\"black\" points=\"94.4982,-226.323 89.2573,-217.116 87.6123,-227.582 94.4982,-226.323\"/>\n",
       "<text text-anchor=\"middle\" x=\"72\" y=\"-245.8\" font-family=\"Times,serif\" font-size=\"14.00\">85</text>\n",
       "</g>\n",
       "<!-- Accepted+Wait (199) -->\n",
       "<g id=\"node2\" class=\"node\"><title>Accepted+Wait (199)</title>\n",
       "<polygon fill=\"#edf8e9\" stroke=\"#edf8e9\" points=\"331.5,-316 222.5,-316 222.5,-280 331.5,-280 331.5,-316\"/>\n",
       "<text text-anchor=\"middle\" x=\"277\" y=\"-295.5\" font-family=\"Helvetica,sans-Serif\" font-size=\"10.00\">Accepted+Wait (199)</text>\n",
       "</g>\n",
       "<!-- Accepted+In Progress (1031)&#45;&gt;Accepted+Wait (199) -->\n",
       "<g id=\"edge2\" class=\"edge\"><title>Accepted+In Progress (1031)&#45;&gt;Accepted+Wait (199)</title>\n",
       "<path fill=\"none\" stroke=\"black\" d=\"M107.396,-217.198C124.353,-226.059 145.159,-236.766 164,-246 184.524,-256.059 207.378,-266.759 227.062,-275.821\"/>\n",
       "<polygon fill=\"black\" stroke=\"black\" points=\"225.606,-279.003 236.154,-279.994 228.526,-272.641 225.606,-279.003\"/>\n",
       "<text text-anchor=\"middle\" x=\"174.5\" y=\"-259.8\" font-family=\"Times,serif\" font-size=\"14.00\">169</text>\n",
       "</g>\n",
       "<!-- Queued+Awaiting Assignment (366) -->\n",
       "<g id=\"node3\" class=\"node\"><title>Queued+Awaiting Assignment (366)</title>\n",
       "<polygon fill=\"#edf8e9\" stroke=\"#edf8e9\" points=\"978.5,-270 805.5,-270 805.5,-234 978.5,-234 978.5,-270\"/>\n",
       "<text text-anchor=\"middle\" x=\"892\" y=\"-249.5\" font-family=\"Helvetica,sans-Serif\" font-size=\"10.00\">Queued+Awaiting Assignment (366)</text>\n",
       "</g>\n",
       "<!-- Accepted+In Progress (1031)&#45;&gt;Queued+Awaiting Assignment (366) -->\n",
       "<g id=\"edge11\" class=\"edge\"><title>Accepted+In Progress (1031)&#45;&gt;Queued+Awaiting Assignment (366)</title>\n",
       "<path fill=\"none\" stroke=\"black\" d=\"M79.3974,-217.167C99.3538,-270.187 165.804,-421 276,-421 276,-421 276,-421 688,-421 775.885,-421 845.954,-326.285 875.627,-278.668\"/>\n",
       "<polygon fill=\"black\" stroke=\"black\" points=\"878.642,-280.447 880.855,-270.086 872.663,-276.805 878.642,-280.447\"/>\n",
       "<text text-anchor=\"middle\" x=\"482\" y=\"-424.8\" font-family=\"Times,serif\" font-size=\"14.00\">236</text>\n",
       "</g>\n",
       "<!-- Accepted+Assigned (213) -->\n",
       "<g id=\"node4\" class=\"node\"><title>Accepted+Assigned (213)</title>\n",
       "<polygon fill=\"#edf8e9\" stroke=\"#edf8e9\" points=\"751.5,-225 622.5,-225 622.5,-189 751.5,-189 751.5,-225\"/>\n",
       "<text text-anchor=\"middle\" x=\"687\" y=\"-204.5\" font-family=\"Helvetica,sans-Serif\" font-size=\"10.00\">Accepted+Assigned (213)</text>\n",
       "</g>\n",
       "<!-- Accepted+In Progress (1031)&#45;&gt;Accepted+Assigned (213) -->\n",
       "<g id=\"edge6\" class=\"edge\"><title>Accepted+In Progress (1031)&#45;&gt;Accepted+Assigned (213)</title>\n",
       "<path fill=\"none\" stroke=\"black\" d=\"M81.8039,-180.75C95.4437,-154.668 124.308,-107.413 164,-85 252.085,-35.2604 289.066,-51.2677 390,-58 480.156,-64.0133 513.199,-39.9102 591.5,-85 629.672,-106.981 657.792,-151.05 673.026,-179.768\"/>\n",
       "<polygon fill=\"black\" stroke=\"black\" points=\"670.015,-181.566 677.694,-188.865 676.242,-178.37 670.015,-181.566\"/>\n",
       "<text text-anchor=\"middle\" x=\"379.5\" y=\"-61.8\" font-family=\"Times,serif\" font-size=\"14.00\">141</text>\n",
       "</g>\n",
       "<!-- Completed+Closed (386) -->\n",
       "<g id=\"node5\" class=\"node\"><title>Completed+Closed (386)</title>\n",
       "<polygon fill=\"#edf8e9\" stroke=\"#edf8e9\" points=\"544.5,-190 419.5,-190 419.5,-154 544.5,-154 544.5,-190\"/>\n",
       "<text text-anchor=\"middle\" x=\"482\" y=\"-169.5\" font-family=\"Helvetica,sans-Serif\" font-size=\"10.00\">Completed+Closed (386)</text>\n",
       "</g>\n",
       "<!-- Accepted+In Progress (1031)&#45;&gt;Completed+Closed (386) -->\n",
       "<g id=\"edge8\" class=\"edge\"><title>Accepted+In Progress (1031)&#45;&gt;Completed+Closed (386)</title>\n",
       "<path fill=\"none\" stroke=\"black\" d=\"M144.066,-192.343C168.869,-190.146 196.902,-187.806 222.5,-186 285.546,-181.553 357.33,-177.767 409.227,-175.258\"/>\n",
       "<polygon fill=\"black\" stroke=\"black\" points=\"409.513,-178.748 419.333,-174.773 409.177,-171.756 409.513,-178.748\"/>\n",
       "<text text-anchor=\"middle\" x=\"277\" y=\"-189.8\" font-family=\"Times,serif\" font-size=\"14.00\">318</text>\n",
       "</g>\n",
       "<!-- Accepted+Wait (199)&#45;&gt;Accepted+In Progress (1031) -->\n",
       "<g id=\"edge3\" class=\"edge\"><title>Accepted+Wait (199)&#45;&gt;Accepted+In Progress (1031)</title>\n",
       "<path fill=\"none\" stroke=\"black\" d=\"M222.36,-293.726C203.252,-290.727 182.018,-285.637 164,-277 137.803,-264.442 113.113,-242.382 96.0793,-224.919\"/>\n",
       "<polygon fill=\"black\" stroke=\"black\" points=\"98.2383,-222.11 88.8136,-217.27 93.1629,-226.931 98.2383,-222.11\"/>\n",
       "<text text-anchor=\"middle\" x=\"174.5\" y=\"-287.8\" font-family=\"Times,serif\" font-size=\"14.00\">44</text>\n",
       "</g>\n",
       "<!-- Accepted+Wait (199)&#45;&gt;Accepted+Wait (199) -->\n",
       "<g id=\"edge14\" class=\"edge\"><title>Accepted+Wait (199)&#45;&gt;Accepted+Wait (199)</title>\n",
       "<path fill=\"none\" stroke=\"black\" d=\"M259.743,-316.116C254.513,-328.654 260.266,-341 277,-341 289.159,-341 295.52,-334.483 296.084,-326.11\"/>\n",
       "<polygon fill=\"black\" stroke=\"black\" points=\"299.498,-325.323 294.257,-316.116 292.612,-326.582 299.498,-325.323\"/>\n",
       "<text text-anchor=\"middle\" x=\"277\" y=\"-344.8\" font-family=\"Times,serif\" font-size=\"14.00\">7</text>\n",
       "</g>\n",
       "<!-- Accepted+Wait (199)&#45;&gt;Queued+Awaiting Assignment (366) -->\n",
       "<g id=\"edge4\" class=\"edge\"><title>Accepted+Wait (199)&#45;&gt;Queued+Awaiting Assignment (366)</title>\n",
       "<path fill=\"none\" stroke=\"black\" d=\"M331.605,-311.102C343.822,-313.553 356.799,-315.74 369,-317 527.685,-333.389 712.859,-297.147 814.487,-272.47\"/>\n",
       "<polygon fill=\"black\" stroke=\"black\" points=\"815.481,-275.829 824.357,-270.045 813.811,-269.032 815.481,-275.829\"/>\n",
       "<text text-anchor=\"middle\" x=\"584.5\" y=\"-317.8\" font-family=\"Times,serif\" font-size=\"14.00\">20</text>\n",
       "</g>\n",
       "<!-- Accepted+Wait (199)&#45;&gt;Accepted+Assigned (213) -->\n",
       "<g id=\"edge9\" class=\"edge\"><title>Accepted+Wait (199)&#45;&gt;Accepted+Assigned (213)</title>\n",
       "<path fill=\"none\" stroke=\"black\" d=\"M331.506,-282.216C357.878,-274.703 390.229,-265.879 419.5,-259 484.275,-243.777 558.639,-229.533 612.326,-219.815\"/>\n",
       "<polygon fill=\"black\" stroke=\"black\" points=\"613.219,-223.211 622.44,-217.994 611.978,-216.322 613.219,-223.211\"/>\n",
       "<text text-anchor=\"middle\" x=\"482\" y=\"-262.8\" font-family=\"Times,serif\" font-size=\"14.00\">4</text>\n",
       "</g>\n",
       "<!-- Accepted+Wait (199)&#45;&gt;Completed+Closed (386) -->\n",
       "<g id=\"edge12\" class=\"edge\"><title>Accepted+Wait (199)&#45;&gt;Completed+Closed (386)</title>\n",
       "<path fill=\"none\" stroke=\"black\" d=\"M306.206,-279.85C324.139,-268.353 347.875,-253.214 369,-240 391.327,-226.033 396.994,-222.677 419.5,-209 426.847,-204.535 434.702,-199.789 442.256,-195.238\"/>\n",
       "<polygon fill=\"black\" stroke=\"black\" points=\"444.175,-198.168 450.938,-190.013 440.565,-192.17 444.175,-198.168\"/>\n",
       "<text text-anchor=\"middle\" x=\"379.5\" y=\"-243.8\" font-family=\"Times,serif\" font-size=\"14.00\">59</text>\n",
       "</g>\n",
       "<!-- Queued+Awaiting Assignment (366)&#45;&gt;Accepted+In Progress (1031) -->\n",
       "<g id=\"edge5\" class=\"edge\"><title>Queued+Awaiting Assignment (366)&#45;&gt;Accepted+In Progress (1031)</title>\n",
       "<path fill=\"none\" stroke=\"black\" d=\"M886.109,-233.877C869.303,-176.095 808.224,-0 688,-0 276,-0 276,-0 276,-0 178.928,-0 111.186,-117.473 85.0083,-171.905\"/>\n",
       "<polygon fill=\"black\" stroke=\"black\" points=\"81.8253,-170.449 80.7451,-180.989 88.1622,-173.424 81.8253,-170.449\"/>\n",
       "<text text-anchor=\"middle\" x=\"482\" y=\"-3.8\" font-family=\"Times,serif\" font-size=\"14.00\">200</text>\n",
       "</g>\n",
       "<!-- Queued+Awaiting Assignment (366)&#45;&gt;Queued+Awaiting Assignment (366) -->\n",
       "<g id=\"edge16\" class=\"edge\"><title>Queued+Awaiting Assignment (366)&#45;&gt;Queued+Awaiting Assignment (366)</title>\n",
       "<path fill=\"none\" stroke=\"black\" d=\"M874.743,-270.116C869.513,-282.654 875.266,-295 892,-295 904.159,-295 910.52,-288.483 911.084,-280.11\"/>\n",
       "<polygon fill=\"black\" stroke=\"black\" points=\"914.498,-279.323 909.257,-270.116 907.612,-280.582 914.498,-279.323\"/>\n",
       "<text text-anchor=\"middle\" x=\"892\" y=\"-298.8\" font-family=\"Times,serif\" font-size=\"14.00\">55</text>\n",
       "</g>\n",
       "<!-- Queued+Awaiting Assignment (366)&#45;&gt;Accepted+Assigned (213) -->\n",
       "<g id=\"edge13\" class=\"edge\"><title>Queued+Awaiting Assignment (366)&#45;&gt;Accepted+Assigned (213)</title>\n",
       "<path fill=\"none\" stroke=\"black\" d=\"M862.484,-233.885C844.362,-223.47 819.97,-211.409 796.5,-206 785.426,-203.448 773.546,-202.154 761.854,-201.667\"/>\n",
       "<polygon fill=\"black\" stroke=\"black\" points=\"761.731,-198.164 751.654,-201.436 761.572,-205.162 761.731,-198.164\"/>\n",
       "<text text-anchor=\"middle\" x=\"789.5\" y=\"-209.8\" font-family=\"Times,serif\" font-size=\"14.00\">35</text>\n",
       "</g>\n",
       "<!-- Accepted+Assigned (213)&#45;&gt;Accepted+In Progress (1031) -->\n",
       "<g id=\"edge7\" class=\"edge\"><title>Accepted+Assigned (213)&#45;&gt;Accepted+In Progress (1031)</title>\n",
       "<path fill=\"none\" stroke=\"black\" d=\"M660.251,-188.99C641.86,-176.9 616.116,-161.501 591.5,-152 571.576,-144.31 565.739,-144.234 544.5,-142 406.043,-127.434 245.115,-156.878 151.59,-178.615\"/>\n",
       "<polygon fill=\"black\" stroke=\"black\" points=\"150.571,-175.259 141.64,-180.958 152.176,-182.072 150.571,-175.259\"/>\n",
       "<text text-anchor=\"middle\" x=\"379.5\" y=\"-145.8\" font-family=\"Times,serif\" font-size=\"14.00\">70</text>\n",
       "</g>\n",
       "<!-- Accepted+Assigned (213)&#45;&gt;Accepted+Wait (199) -->\n",
       "<g id=\"edge10\" class=\"edge\"><title>Accepted+Assigned (213)&#45;&gt;Accepted+Wait (199)</title>\n",
       "<path fill=\"none\" stroke=\"black\" d=\"M657.181,-225.034C629.444,-241.408 585.746,-264.672 544.5,-276 476.999,-294.539 396.561,-298.871 341.843,-299.301\"/>\n",
       "<polygon fill=\"black\" stroke=\"black\" points=\"341.581,-295.802 331.594,-299.338 341.606,-302.802 341.581,-295.802\"/>\n",
       "<text text-anchor=\"middle\" x=\"482\" y=\"-299.8\" font-family=\"Times,serif\" font-size=\"14.00\">18</text>\n",
       "</g>\n",
       "<!-- Accepted+Assigned (213)&#45;&gt;Queued+Awaiting Assignment (366) -->\n",
       "<g id=\"edge18\" class=\"edge\"><title>Accepted+Assigned (213)&#45;&gt;Queued+Awaiting Assignment (366)</title>\n",
       "<path fill=\"none\" stroke=\"black\" d=\"M751.673,-221.115C766.887,-224.487 783.425,-228.153 799.615,-231.742\"/>\n",
       "<polygon fill=\"black\" stroke=\"black\" points=\"799.116,-235.216 809.636,-233.964 800.631,-228.382 799.116,-235.216\"/>\n",
       "<text text-anchor=\"middle\" x=\"789.5\" y=\"-233.8\" font-family=\"Times,serif\" font-size=\"14.00\">13</text>\n",
       "</g>\n",
       "<!-- Accepted+Assigned (213)&#45;&gt;Accepted+Assigned (213) -->\n",
       "<g id=\"edge17\" class=\"edge\"><title>Accepted+Assigned (213)&#45;&gt;Accepted+Assigned (213)</title>\n",
       "<path fill=\"none\" stroke=\"black\" d=\"M669.743,-225.116C664.513,-237.654 670.266,-250 687,-250 699.159,-250 705.52,-243.483 706.084,-235.11\"/>\n",
       "<polygon fill=\"black\" stroke=\"black\" points=\"709.498,-234.323 704.257,-225.116 702.612,-235.582 709.498,-234.323\"/>\n",
       "<text text-anchor=\"middle\" x=\"687\" y=\"-253.8\" font-family=\"Times,serif\" font-size=\"14.00\">18</text>\n",
       "</g>\n",
       "<!-- Accepted+Assigned (213)&#45;&gt;Completed+Closed (386) -->\n",
       "<g id=\"edge15\" class=\"edge\"><title>Accepted+Assigned (213)&#45;&gt;Completed+Closed (386)</title>\n",
       "<path fill=\"none\" stroke=\"black\" d=\"M657.484,-188.885C639.362,-178.47 614.97,-166.409 591.5,-161 579.753,-158.293 567.137,-157.613 554.812,-158.119\"/>\n",
       "<polygon fill=\"black\" stroke=\"black\" points=\"554.296,-154.645 544.552,-158.804 554.763,-161.63 554.296,-154.645\"/>\n",
       "<text text-anchor=\"middle\" x=\"584.5\" y=\"-164.8\" font-family=\"Times,serif\" font-size=\"14.00\">9</text>\n",
       "</g>\n",
       "<!-- Completed+Closed (386)&#45;&gt;Accepted+In Progress (1031) -->\n",
       "<g id=\"edge19\" class=\"edge\"><title>Completed+Closed (386)&#45;&gt;Accepted+In Progress (1031)</title>\n",
       "<path fill=\"none\" stroke=\"black\" d=\"M419.199,-187.281C392.412,-193.262 360.582,-199.514 331.5,-203 242.878,-213.622 215.133,-210.522 164,-208 160.928,-207.848 157.799,-207.668 154.641,-207.465\"/>\n",
       "<polygon fill=\"black\" stroke=\"black\" points=\"154.707,-203.961 144.483,-206.741 154.209,-210.943 154.707,-203.961\"/>\n",
       "<text text-anchor=\"middle\" x=\"277\" y=\"-213.8\" font-family=\"Times,serif\" font-size=\"14.00\">30</text>\n",
       "</g>\n",
       "<!-- Completed+Closed (386)&#45;&gt;Accepted+Assigned (213) -->\n",
       "<g id=\"edge20\" class=\"edge\"><title>Completed+Closed (386)&#45;&gt;Accepted+Assigned (213)</title>\n",
       "<path fill=\"none\" stroke=\"black\" d=\"M544.734,-182.644C566.077,-186.324 590.208,-190.484 612.407,-194.312\"/>\n",
       "<polygon fill=\"black\" stroke=\"black\" points=\"612.005,-197.794 622.454,-196.044 613.194,-190.896 612.005,-197.794\"/>\n",
       "<text text-anchor=\"middle\" x=\"584.5\" y=\"-193.8\" font-family=\"Times,serif\" font-size=\"14.00\">1</text>\n",
       "</g>\n",
       "</g>\n",
       "</svg>\n"
      ],
      "text/plain": [
       "<graphviz.dot.Digraph at 0x7fdbe7723d00>"
      ]
     },
     "execution_count": 113,
     "metadata": {},
     "output_type": "execute_result"
    }
   ],
   "source": [
    "draw_dfg(log4, \"log4\", 0, save=False, lifecycle_present=True)"
   ]
  },
  {
   "cell_type": "markdown",
   "metadata": {
    "id": "XDp4-rUqYyEK"
   },
   "source": [
    "### BPIC15_1 Log"
   ]
  },
  {
   "cell_type": "code",
   "execution_count": null,
   "metadata": {
    "colab": {
     "base_uri": "https://localhost:8080/"
    },
    "id": "gBKBOycQQDJi",
    "outputId": "2ed3d669-f650-462f-9d39-cc532a0ac8f5"
   },
   "outputs": [
    {
     "name": "stderr",
     "output_type": "stream",
     "text": [
      "25540it [00:00, 254418.19it/s]"
     ]
    },
    {
     "name": "stdout",
     "output_type": "stream",
     "text": [
      "Processing log...\n"
     ]
    },
    {
     "name": "stderr",
     "output_type": "stream",
     "text": [
      "1302812it [00:04, 294778.74it/s]"
     ]
    },
    {
     "name": "stdout",
     "output_type": "stream",
     "text": [
      "The log contains 1199 traces and 52217 events.\n",
      "Classifiers contained: {'Activity classifier': ['concept:name', 'lifecycle:transition'], 'Activity classifier activityNameNL': ['activityNameNL', 'lifecycle:transition'], 'Activity classifier activityNameEN': ['activityNameEN', 'lifecycle:transition'], 'Resource': ['org:resource']}\n",
      "TRACE_ID: 782 (trace number 782 )\n",
      "  concept:name            lifecycle:transition                time:timestamp \n",
      "> 01_HOOFD_010            complete                            05/31/2012 00:00:00.000000\n",
      "> 01_HOOFD_011            complete                            06/07/2012 10:12:18.000000\n",
      "> 01_HOOFD_015            complete                            06/07/2012 10:12:18.000000\n",
      "> 01_HOOFD_020            complete                            06/07/2012 10:12:21.000000\n",
      "> 01_HOOFD_810            complete                            12/20/2012 14:32:11.000000\n",
      "> 05_EIND_010             complete                            04/09/2013 14:30:29.000000\n",
      "> 05_EIND_020             complete                            04/09/2013 14:32:19.000000\n",
      "> 05_EIND_025             complete                            04/09/2013 14:32:21.000000\n",
      "> 05_EIND_030_1           complete                            04/09/2013 16:43:19.000000\n",
      "> 05_EIND_030_2           complete                            04/09/2013 16:43:19.000000\n",
      "> 05_EIND_065             complete                            04/09/2013 16:43:33.000000\n",
      "> 01_HOOFD_814            complete                            04/09/2013 16:43:35.000000\n",
      "> 01_HOOFD_815            complete                            04/09/2013 16:43:36.000000\n",
      "> 01_HOOFD_820            complete                            04/09/2013 16:43:42.000000\n",
      "\n"
     ]
    },
    {
     "name": "stderr",
     "output_type": "stream",
     "text": [
      "\n"
     ]
    }
   ],
   "source": [
    "log5 = xes.import_xes(e)\n",
    "verify_log(log5)"
   ]
  },
  {
   "cell_type": "markdown",
   "metadata": {
    "id": "1WG8TzpZY_Tw"
   },
   "source": [
    "### BPIC15_2 Log"
   ]
  },
  {
   "cell_type": "code",
   "execution_count": null,
   "metadata": {
    "colab": {
     "base_uri": "https://localhost:8080/"
    },
    "id": "o4PulenaQDGz",
    "outputId": "d15266be-848c-41e7-e7fc-d452ae4166c7"
   },
   "outputs": [
    {
     "name": "stderr",
     "output_type": "stream",
     "text": [
      "24566it [00:00, 245552.51it/s]"
     ]
    },
    {
     "name": "stdout",
     "output_type": "stream",
     "text": [
      "Processing log...\n"
     ]
    },
    {
     "name": "stderr",
     "output_type": "stream",
     "text": [
      "1089156it [00:03, 299900.34it/s]"
     ]
    },
    {
     "name": "stdout",
     "output_type": "stream",
     "text": [
      "The log contains 832 traces and 44354 events.\n",
      "Classifiers contained: {'Activity classifier': ['concept:name', 'lifecycle:transition'], 'Activity classifier activityNameNL': ['activityNameNL', 'lifecycle:transition'], 'Activity classifier activityNameEN': ['activityNameEN', 'lifecycle:transition'], 'Resource': ['org:resource']}\n",
      "TRACE_ID: 186 (trace number 186 )\n",
      "  concept:name            lifecycle:transition                time:timestamp \n",
      "> 01_HOOFD_010            complete                            03/21/2013 00:00:00.000000\n",
      "> 01_HOOFD_011            complete                            03/21/2013 14:36:10.000000\n",
      "> 01_HOOFD_020            complete                            03/21/2013 14:36:10.000000\n",
      "> 01_HOOFD_015            complete                            03/21/2013 14:36:10.000000\n",
      "> 03_GBH_005              complete                            03/21/2013 14:36:11.000000\n",
      "> 05_EIND_010             complete                            03/21/2013 14:36:11.000000\n",
      "> 16_LGSV_010             complete                            03/21/2013 14:36:11.000000\n",
      "> 06_VD_060_2a            complete                            04/02/2013 00:00:00.000000\n",
      "> 06_VD_030_5a            complete                            04/02/2013 00:00:00.000000\n",
      "> 02_DRZ_010              complete                            04/02/2013 14:17:14.000000\n",
      "> 01_HOOFD_030_1          complete                            04/02/2013 14:17:14.000000\n",
      "> 01_HOOFD_030_2          complete                            04/02/2013 14:17:14.000000\n",
      "> 04_BPT_005              complete                            04/02/2013 14:17:23.000000\n",
      "> 01_HOOFD_061            complete                            04/02/2013 14:17:23.000000\n",
      "> 01_HOOFD_065_0          complete                            04/02/2013 14:17:24.000000\n",
      "> 06_VD_010               complete                            04/02/2013 14:48:55.000000\n",
      "> 06_VD_020               complete                            04/02/2013 14:48:57.000000\n",
      "> 06_VD_030_1             complete                            04/02/2013 14:48:58.000000\n",
      "> 06_VD_030_1a            complete                            04/02/2013 14:49:28.000000\n",
      "> 06_VD_030_2             complete                            04/02/2013 14:49:29.000000\n",
      "> 06_VD_030_4             complete                            04/02/2013 14:50:31.000000\n",
      "> 06_VD_030_5             complete                            04/02/2013 14:50:32.000000\n",
      "> 03_VD_060_0             complete                            04/02/2013 14:50:36.000000\n",
      "> 06_VD_035               complete                            04/02/2013 14:50:36.000000\n",
      "> 06_VD_060_2             complete                            04/02/2013 14:50:36.000000\n",
      "> 06_VD_060_3             complete                            04/02/2013 14:50:44.000000\n",
      "> 01_HOOFD_110_0          complete                            04/18/2013 15:40:52.000000\n",
      "> 01_HOOFD_110_1          complete                            04/18/2013 15:40:55.000000\n",
      "> 01_HOOFD_180            complete                            04/18/2013 15:40:56.000000\n",
      "> 01_HOOFD_110_2          complete                            04/18/2013 15:40:56.000000\n",
      "> 08_AWB45_005            complete                            04/18/2013 15:41:00.000000\n",
      "> 08_AWB45_010            complete                            04/18/2013 15:41:02.000000\n",
      "> 08_AWB45_020_1          complete                            04/23/2013 00:00:00.000000\n",
      "> 08_AWB45_025            complete                            04/23/2013 00:00:00.000000\n",
      "> 08_AWB45_020_2          complete                            04/23/2013 12:36:01.000000\n",
      "> 08_AWB45_030            complete                            06/10/2013 00:00:00.000000\n",
      "> 08_AWB45_040            complete                            06/10/2013 00:00:00.000000\n",
      "> 08_AWB45_051_0          complete                            06/10/2013 00:00:00.000000\n",
      "> 08_AWB45_045            complete                            06/10/2013 00:00:00.000000\n",
      "> 01_HOOFD_193            complete                            06/12/2013 00:00:00.000000\n",
      "> 08_AWB45_005            complete                            06/12/2013 00:00:00.000000\n",
      "> 01_HOOFD_196            complete                            06/12/2013 00:00:00.000000\n",
      "> 01_HOOFD_200            complete                            06/12/2013 00:00:00.000000\n",
      "> 01_HOOFD_250_1          complete                            06/12/2013 00:00:00.000000\n",
      "> 01_HOOFD_190_1          complete                            06/12/2013 00:00:00.000000\n",
      "> 01_HOOFD_195            complete                            06/12/2013 00:00:00.000000\n",
      "> 01_HOOFD_190_2          complete                            06/12/2013 00:00:00.000000\n",
      "> 01_HOOFD_330            complete                            08/20/2013 00:00:00.000000\n",
      "> 09_AH_I_010             complete                            08/20/2013 00:00:00.000000\n",
      "> 01_HOOFD_380            complete                            08/20/2013 00:00:00.000000\n",
      "> 01_HOOFD_430            complete                            08/20/2013 00:00:00.000000\n",
      "> 11_AH_II_010            complete                            08/20/2013 00:00:00.000000\n",
      "> 13_CRD_010              complete                            08/20/2013 00:00:00.000000\n",
      "> 01_HOOFD_480            complete                            08/20/2013 00:00:00.000000\n",
      "> 01_HOOFD_490_2          complete                            08/20/2013 00:00:00.000000\n",
      "> 01_HOOFD_491            complete                            08/20/2013 00:00:00.000000\n",
      "> 01_HOOFD_500            complete                            08/20/2013 00:00:00.000000\n",
      "> 16_LGSD_010             complete                            08/20/2013 00:00:00.000000\n",
      "> 01_HOOFD_510_0          complete                            08/20/2013 00:00:00.000000\n",
      "> 01_HOOFD_490_5a         complete                            08/20/2013 00:00:00.000000\n",
      "> 01_HOOFD_510_2          complete                            08/20/2013 00:00:00.000000\n",
      "> 01_HOOFD_375            complete                            08/20/2013 00:00:00.000000\n",
      "> 01_HOOFD_510_1          complete                            08/20/2013 00:00:00.000000\n",
      "> 01_HOOFD_490_4          complete                            08/20/2013 00:00:00.000000\n",
      "> 01_HOOFD_370            complete                            08/20/2013 00:00:00.000000\n",
      "> 01_HOOFD_495            complete                            08/20/2013 00:00:00.000000\n",
      "> 01_HOOFD_490_1          complete                            08/20/2013 00:00:00.000000\n",
      "> 01_HOOFD_510_4          complete                            08/20/2013 00:00:00.000000\n",
      "> 01_HOOFD_250_2          complete                            08/20/2013 00:00:00.000000\n",
      "> 01_HOOFD_510_2a         complete                            08/20/2013 00:00:00.000000\n",
      "> 01_HOOFD_490_1a         complete                            08/20/2013 00:00:00.000000\n",
      "> 01_HOOFD_494a           complete                            08/20/2013 00:00:00.000000\n",
      "> 01_HOOFD_490_5          complete                            08/20/2013 16:01:22.000000\n",
      "> 01_HOOFD_519            complete                            10/10/2013 00:00:00.000000\n",
      "> 01_HOOFD_510_3          complete                            10/10/2013 00:00:00.000000\n",
      "> 01_HOOFD_515            complete                            10/10/2013 00:00:00.000000\n",
      "> 01_BB_540               complete                            10/29/2013 00:00:00.000000\n",
      "> 01_HOOFD_815            complete                            10/29/2013 00:00:00.000000\n",
      "> 01_HOOFD_809            complete                            10/29/2013 00:00:00.000000\n",
      "> 01_HOOFD_814            complete                            10/29/2013 00:00:00.000000\n",
      "> 01_BB_775               complete                            10/29/2013 00:00:00.000000\n",
      "> 01_HOOFD_820            complete                            10/29/2013 00:00:00.000000\n",
      "> 01_HOOFD_811            complete                            10/29/2013 00:00:00.000000\n",
      "> 01_BB_770               complete                            10/29/2013 13:38:48.000000\n",
      "> 01_HOOFD_810            complete                            10/29/2013 13:38:49.000000\n",
      "\n"
     ]
    },
    {
     "name": "stderr",
     "output_type": "stream",
     "text": [
      "\n"
     ]
    }
   ],
   "source": [
    "log6 = xes.import_xes(f)\n",
    "verify_log(log6)"
   ]
  },
  {
   "cell_type": "markdown",
   "metadata": {
    "id": "9qzhBokGdybu"
   },
   "source": [
    "### BPIC15_3 Log"
   ]
  },
  {
   "cell_type": "code",
   "execution_count": null,
   "metadata": {
    "colab": {
     "base_uri": "https://localhost:8080/"
    },
    "id": "M4xHI-JpQC_u",
    "outputId": "23c4fda1-68a6-4510-f23b-299b0ee5035e"
   },
   "outputs": [
    {
     "name": "stderr",
     "output_type": "stream",
     "text": [
      "22619it [00:00, 226186.44it/s]"
     ]
    },
    {
     "name": "stdout",
     "output_type": "stream",
     "text": [
      "Processing log...\n"
     ]
    },
    {
     "name": "stderr",
     "output_type": "stream",
     "text": [
      "1483078it [00:05, 274399.57it/s]"
     ]
    },
    {
     "name": "stdout",
     "output_type": "stream",
     "text": [
      "The log contains 1409 traces and 59681 events.\n",
      "Classifiers contained: {'Activity classifier': ['concept:name', 'lifecycle:transition'], 'Activity classifier activityNameNL': ['activityNameNL', 'lifecycle:transition'], 'Activity classifier activityNameEN': ['activityNameEN', 'lifecycle:transition'], 'Resource': ['org:resource']}\n",
      "TRACE_ID: 1037 (trace number 1037 )\n",
      "  concept:name            lifecycle:transition                time:timestamp \n",
      "> 01_HOOFD_010            complete                            10/18/2013 00:00:00.000000\n",
      "> 01_HOOFD_011            complete                            10/23/2013 00:00:00.000000\n",
      "> 01_HOOFD_020            complete                            10/23/2013 00:00:00.000000\n",
      "> 03_GBH_005              complete                            10/23/2013 00:00:00.000000\n",
      "> 01_HOOFD_030_1          complete                            10/23/2013 00:00:00.000000\n",
      "> 01_HOOFD_015            complete                            10/23/2013 00:00:00.000000\n",
      "> 01_HOOFD_030_2          complete                            10/23/2013 09:24:09.000000\n",
      "> 02_DRZ_010              complete                            11/12/2013 00:00:00.000000\n",
      "> 04_BPT_005              complete                            11/12/2013 00:00:00.000000\n",
      "> 04_BPT_010              complete                            11/12/2013 00:00:00.000000\n",
      "> 04_BPT_020              complete                            11/12/2013 00:00:00.000000\n",
      "> 04_BPT_030              complete                            11/12/2013 00:00:00.000000\n",
      "> 01_HOOFD_065_0          complete                            11/12/2013 00:00:00.000000\n",
      "> 01_HOOFD_090            complete                            11/12/2013 00:00:00.000000\n",
      "> 01_HOOFD_110_0          complete                            11/12/2013 00:00:00.000000\n",
      "> 04_BPT_029              complete                            11/12/2013 00:00:00.000000\n",
      "> 01_HOOFD_065_1          complete                            11/12/2013 00:00:00.000000\n",
      "> 01_HOOFD_110_1          complete                            11/12/2013 00:00:00.000000\n",
      "> 04_BPT_021              complete                            11/12/2013 00:00:00.000000\n",
      "> 01_HOOFD_180            complete                            01/09/2014 00:00:00.000000\n",
      "> 08_AWB45_005            complete                            01/09/2014 00:00:00.000000\n",
      "> 08_AWB45_010            complete                            01/09/2014 00:00:00.000000\n",
      "> 08_AWB45_020_0          complete                            01/09/2014 00:00:00.000000\n",
      "> 01_HOOFD_110_2          complete                            01/09/2014 00:00:00.000000\n",
      "> 08_AWB45_030            complete                            03/18/2014 00:00:00.000000\n",
      "> 08_AWB45_040            complete                            03/18/2014 00:00:00.000000\n",
      "> 08_AWB45_051_0          complete                            03/18/2014 00:00:00.000000\n",
      "> 08_AWB45_005            complete                            03/18/2014 00:00:00.000000\n",
      "> 01_HOOFD_196            complete                            03/18/2014 00:00:00.000000\n",
      "> 01_HOOFD_200            complete                            03/18/2014 00:00:00.000000\n",
      "> 01_HOOFD_330            complete                            03/18/2014 00:00:00.000000\n",
      "> 09_AH_I_010             complete                            03/18/2014 00:00:00.000000\n",
      "> 01_HOOFD_380            complete                            03/18/2014 00:00:00.000000\n",
      "> 01_HOOFD_446            complete                            03/18/2014 00:00:00.000000\n",
      "> 01_HOOFD_455            complete                            03/18/2014 00:00:00.000000\n",
      "> 10_UOV_010              complete                            03/18/2014 00:00:00.000000\n",
      "> 10_UOV_039              complete                            03/18/2014 00:00:00.000000\n",
      "> 10_UOV_050_0            complete                            03/18/2014 00:00:00.000000\n",
      "> 08_AWB45_020_1          complete                            03/18/2014 00:00:00.000000\n",
      "> 01_HOOFD_375            complete                            03/18/2014 00:00:00.000000\n",
      "> 01_HOOFD_460a           complete                            03/18/2014 00:00:00.000000\n",
      "> 01_HOOFD_370            complete                            03/18/2014 00:00:00.000000\n",
      "> 01_HOOFD_250_2          complete                            03/18/2014 00:00:00.000000\n",
      "> 10_UOV_040              complete                            03/18/2014 00:00:00.000000\n",
      "> 01_HOOFD_195            complete                            03/18/2014 00:00:00.000000\n",
      "> 01_HOOFD_459            complete                            03/18/2014 00:00:00.000000\n",
      "> 01_HOOFD_445            complete                            03/18/2014 00:00:00.000000\n",
      "> 01_HOOFD_465            complete                            03/18/2014 00:00:00.000000\n",
      "> 01_HOOFD_190_2          complete                            03/18/2014 00:00:00.000000\n",
      "> 01_HOOFD_440_1a         complete                            03/18/2014 00:00:00.000000\n",
      "> 01_HOOFD_440_2          complete                            03/18/2014 00:00:00.000000\n",
      "> 08_AWB45_045            complete                            03/18/2014 00:00:00.000000\n",
      "> 01_HOOFD_250_1          complete                            03/18/2014 00:00:00.000000\n",
      "> 01_HOOFD_190_1          complete                            03/18/2014 00:00:00.000000\n",
      "> 01_HOOFD_440_1          complete                            03/18/2014 00:00:00.000000\n",
      "> 08_AWB45_025            complete                            03/18/2014 00:00:00.000000\n",
      "> 08_AWB45_020_2          complete                            03/18/2014 08:07:08.000000\n",
      "> 01_HOOFD_450            complete                            03/18/2014 08:45:18.000000\n",
      "> 01_HOOFD_460            complete                            03/18/2014 08:45:42.000000\n",
      "> 10_UOV_050_2            complete                            03/20/2014 00:00:00.000000\n",
      "> 10_UOV_050_2a           complete                            03/20/2014 00:00:00.000000\n",
      "> 10_UOV_030              complete                            03/27/2014 00:00:00.000000\n",
      "> 10_UOV_030a             complete                            03/27/2014 00:00:00.000000\n",
      "> 10_UOV_060              complete                            05/08/2014 00:00:00.000000\n",
      "> 11_AH_II_010            complete                            05/08/2014 00:00:00.000000\n",
      "> 13_CRD_010              complete                            05/08/2014 00:00:00.000000\n",
      "> 01_HOOFD_490_2          complete                            05/08/2014 00:00:00.000000\n",
      "> 01_HOOFD_491            complete                            05/08/2014 00:00:00.000000\n",
      "> 01_HOOFD_500            complete                            05/08/2014 00:00:00.000000\n",
      "> 01_HOOFD_510_0          complete                            05/08/2014 00:00:00.000000\n",
      "> 01_HOOFD_490_1          complete                            05/08/2014 00:00:00.000000\n",
      "> 01_HOOFD_494a           complete                            05/08/2014 00:00:00.000000\n",
      "> 01_HOOFD_495            complete                            05/08/2014 00:00:00.000000\n",
      "> 01_HOOFD_490_1a         complete                            05/08/2014 00:00:00.000000\n",
      "> 01_HOOFD_510_3          complete                            05/08/2014 00:00:00.000000\n",
      "> 10_UOV_050_1            complete                            05/08/2014 00:00:00.000000\n",
      "> 01_HOOFD_809b           complete                            05/08/2014 00:00:00.000000\n",
      "> 01_HOOFD_490_4          complete                            05/08/2014 00:00:00.000000\n",
      "> 10_UOV_041b             complete                            05/08/2014 00:00:00.000000\n",
      "> 01_HOOFD_510_4          complete                            05/08/2014 00:00:00.000000\n",
      "> 01_HOOFD_515            complete                            05/08/2014 00:00:00.000000\n",
      "> 10_UOV_050_3            complete                            05/08/2014 00:00:00.000000\n",
      "> 01_HOOFD_510_1          complete                            05/08/2014 00:00:00.000000\n",
      "> 10_UOV_050_4            complete                            05/08/2014 14:13:11.000000\n",
      "> 01_HOOFD_510_2a         complete                            05/09/2014 00:00:00.000000\n",
      "> 01_HOOFD_490_5a         complete                            05/09/2014 00:00:00.000000\n",
      "> 01_HOOFD_510_2          complete                            05/09/2014 00:00:00.000000\n",
      "> 01_HOOFD_490_5          complete                            05/09/2014 00:00:00.000000\n",
      "> 01_HOOFD_516            complete                            05/22/2014 00:00:00.000000\n",
      "> 01_HOOFD_516a           complete                            05/22/2014 00:00:00.000000\n",
      "\n"
     ]
    },
    {
     "name": "stderr",
     "output_type": "stream",
     "text": [
      "\n"
     ]
    }
   ],
   "source": [
    "log7 = xes.import_xes(g)\n",
    "verify_log(log7)"
   ]
  },
  {
   "cell_type": "markdown",
   "metadata": {
    "id": "KQxR0N2KeEW2"
   },
   "source": [
    "### BPIC15_4 Log"
   ]
  },
  {
   "cell_type": "code",
   "execution_count": null,
   "metadata": {
    "colab": {
     "base_uri": "https://localhost:8080/"
    },
    "id": "cDOyzPIVQCzA",
    "outputId": "2aceb295-d59f-47c5-a8bc-90a325db9279"
   },
   "outputs": [
    {
     "name": "stderr",
     "output_type": "stream",
     "text": [
      "24106it [00:00, 240774.35it/s]"
     ]
    },
    {
     "name": "stdout",
     "output_type": "stream",
     "text": [
      "Processing log...\n"
     ]
    },
    {
     "name": "stderr",
     "output_type": "stream",
     "text": [
      "1171112it [00:04, 282651.45it/s]"
     ]
    },
    {
     "name": "stdout",
     "output_type": "stream",
     "text": [
      "The log contains 1053 traces and 47293 events.\n",
      "Classifiers contained: {'Activity classifier': ['concept:name', 'lifecycle:transition'], 'Activity classifier activityNameNL': ['activityNameNL', 'lifecycle:transition'], 'Activity classifier activityNameEN': ['activityNameEN', 'lifecycle:transition'], 'Resource': ['org:resource']}\n",
      "TRACE_ID: 684 (trace number 684 )\n",
      "  concept:name            lifecycle:transition                time:timestamp \n",
      "> 01_HOOFD_010            complete                            12/18/2012 00:00:00.000000\n",
      "> 01_HOOFD_011            complete                            12/20/2012 08:54:27.000000\n",
      "> 01_HOOFD_020            complete                            12/20/2012 08:54:28.000000\n",
      "> 03_GBH_005              complete                            12/20/2012 08:54:28.000000\n",
      "> 16_LGSV_010             complete                            12/20/2012 08:54:28.000000\n",
      "> 02_DRZ_010              complete                            12/20/2012 08:54:28.000000\n",
      "> 01_HOOFD_015            complete                            12/20/2012 08:54:28.000000\n",
      "> 04_BPT_005              complete                            12/20/2012 08:54:32.000000\n",
      "> 01_HOOFD_061            complete                            12/20/2012 08:54:32.000000\n",
      "> 01_HOOFD_065_0          complete                            12/20/2012 08:54:34.000000\n",
      "> 01_HOOFD_065_1          complete                            12/20/2012 08:54:35.000000\n",
      "> 01_HOOFD_110_0          complete                            12/20/2012 08:54:36.000000\n",
      "> 01_HOOFD_180            complete                            12/20/2012 08:54:36.000000\n",
      "> 08_AWB45_005            complete                            01/07/2013 09:14:08.000000\n",
      "> 01_HOOFD_196            complete                            01/07/2013 09:14:09.000000\n",
      "> 01_HOOFD_195            complete                            01/07/2013 09:14:09.000000\n",
      "> 01_HOOFD_200            complete                            01/07/2013 09:14:10.000000\n",
      "> 01_HOOFD_250_1          complete                            01/07/2013 09:14:13.000000\n",
      "> 01_HOOFD_250_2          complete                            01/07/2013 09:14:16.000000\n",
      "> 01_HOOFD_330            complete                            01/07/2013 09:14:35.000000\n",
      "> 09_AH_I_010             complete                            01/07/2013 09:14:35.000000\n",
      "> 01_HOOFD_380            complete                            01/07/2013 09:14:36.000000\n",
      "> 01_HOOFD_370            complete                            01/07/2013 09:14:36.000000\n",
      "> 01_HOOFD_375            complete                            01/07/2013 09:14:36.000000\n",
      "> 01_HOOFD_430            complete                            01/07/2013 09:14:37.000000\n",
      "> 11_AH_II_010            complete                            01/07/2013 09:14:37.000000\n",
      "> 13_CRD_010              complete                            01/07/2013 09:14:37.000000\n",
      "> 01_HOOFD_480            complete                            01/07/2013 09:14:37.000000\n",
      "> 01_HOOFD_490_1          complete                            01/07/2013 09:14:38.000000\n",
      "> 01_HOOFD_490_2          complete                            01/07/2013 09:14:40.000000\n",
      "> 01_HOOFD_490_1a         complete                            01/07/2013 09:14:40.000000\n",
      "> 01_HOOFD_490_5a         complete                            01/09/2013 00:00:00.000000\n",
      "> 01_HOOFD_491            complete                            01/09/2013 08:38:52.000000\n",
      "> 01_HOOFD_490_4          complete                            01/09/2013 08:38:52.000000\n",
      "> 01_HOOFD_490_5          complete                            01/09/2013 08:38:53.000000\n",
      "> 01_HOOFD_494a           complete                            01/09/2013 08:38:53.000000\n",
      "> 01_HOOFD_495            complete                            01/09/2013 08:38:58.000000\n",
      "> 01_HOOFD_500            complete                            01/09/2013 08:38:59.000000\n",
      "> 16_LGSD_010             complete                            01/09/2013 08:38:59.000000\n",
      "> 01_HOOFD_510_0          complete                            01/09/2013 08:38:59.000000\n",
      "> 01_HOOFD_510_1          complete                            01/09/2013 08:39:02.000000\n",
      "> 01_HOOFD_510_4          complete                            01/10/2013 00:00:00.000000\n",
      "> 01_HOOFD_510_2          complete                            01/10/2013 00:00:00.000000\n",
      "> 01_HOOFD_510_2a         complete                            01/10/2013 00:00:00.000000\n",
      "> 01_HOOFD_510_3          complete                            04/17/2013 09:30:05.000000\n",
      "> 01_HOOFD_519            complete                            04/17/2013 09:30:06.000000\n",
      "> 01_HOOFD_515            complete                            04/17/2013 09:30:06.000000\n",
      "> 01_BB_540               complete                            04/17/2013 09:30:27.000000\n",
      "> 01_BB_770               complete                            04/17/2013 09:30:27.000000\n",
      "> 01_BB_775               complete                            04/17/2013 09:30:30.000000\n",
      "> 01_HOOFD_809            complete                            04/17/2013 09:30:31.000000\n",
      "\n"
     ]
    },
    {
     "name": "stderr",
     "output_type": "stream",
     "text": [
      "\n"
     ]
    }
   ],
   "source": [
    "log8 = xes.import_xes(h)\n",
    "verify_log(log8)"
   ]
  },
  {
   "cell_type": "markdown",
   "metadata": {
    "id": "7PueuHameicP"
   },
   "source": [
    "### BPIC15_5 Log\n"
   ]
  },
  {
   "cell_type": "code",
   "execution_count": null,
   "metadata": {
    "colab": {
     "base_uri": "https://localhost:8080/"
    },
    "id": "iQPAanzJQCqD",
    "outputId": "36afc5d9-b2cd-4731-b307-248b07ba0ac9"
   },
   "outputs": [
    {
     "name": "stderr",
     "output_type": "stream",
     "text": [
      "19251it [00:00, 192454.20it/s]"
     ]
    },
    {
     "name": "stdout",
     "output_type": "stream",
     "text": [
      "Processing log...\n"
     ]
    },
    {
     "name": "stderr",
     "output_type": "stream",
     "text": [
      "1458092it [00:05, 287559.25it/s]"
     ]
    },
    {
     "name": "stdout",
     "output_type": "stream",
     "text": [
      "The log contains 1156 traces and 59083 events.\n",
      "Classifiers contained: {'Activity classifier': ['concept:name', 'lifecycle:transition'], 'Activity classifier activityNameNL': ['activityNameNL', 'lifecycle:transition'], 'Activity classifier activityNameEN': ['activityNameEN', 'lifecycle:transition'], 'Resource': ['org:resource']}\n",
      "TRACE_ID: 326 (trace number 326 )\n",
      "  concept:name            lifecycle:transition                time:timestamp \n",
      "> 01_HOOFD_010            complete                            12/13/2010 00:00:00.000000\n",
      "> 01_HOOFD_030_2          complete                            12/14/2010 00:00:00.000000\n",
      "> 01_HOOFD_015            complete                            12/14/2010 12:05:34.000000\n",
      "> 01_HOOFD_020            complete                            12/14/2010 12:05:51.000000\n",
      "> 01_HOOFD_030_1          complete                            12/14/2010 12:09:13.000000\n",
      "> 01_HOOFD_065_2          complete                            01/28/2011 00:00:00.000000\n",
      "> 01_HOOFD_100            complete                            01/28/2011 00:00:00.000000\n",
      "> 01_HOOFD_190_2          complete                            01/28/2011 00:00:00.000000\n",
      "> 01_HOOFD_040            complete                            01/28/2011 09:06:21.000000\n",
      "> 01_HOOFD_060            complete                            01/28/2011 09:06:25.000000\n",
      "> 01_HOOFD_065_1          complete                            01/28/2011 09:06:28.000000\n",
      "> 06_VD_010               complete                            01/28/2011 09:07:04.000000\n",
      "> 01_HOOFD_100            complete                            01/28/2011 09:07:08.000000\n",
      "> 01_HOOFD_110            complete                            01/28/2011 09:07:17.000000\n",
      "> 01_HOOFD_130            complete                            01/28/2011 09:07:20.000000\n",
      "> 01_HOOFD_050            complete                            01/28/2011 09:07:25.000000\n",
      "> 05_EIND_010             complete                            01/28/2011 09:07:27.000000\n",
      "> 01_HOOFD_120            complete                            01/28/2011 09:07:34.000000\n",
      "> 01_HOOFD_180            complete                            01/28/2011 09:07:39.000000\n",
      "> 01_HOOFD_190_1          complete                            01/28/2011 09:07:41.000000\n",
      "> 01_HOOFD_200            complete                            01/28/2011 09:07:55.000000\n",
      "> 01_HOOFD_205            complete                            01/28/2011 09:07:55.000000\n",
      "> 01_HOOFD_270            complete                            01/28/2011 09:08:04.000000\n",
      "> 01_HOOFD_250            complete                            01/28/2011 09:08:07.000000\n",
      "> 01_HOOFD_260            complete                            01/28/2011 09:08:08.000000\n",
      "> 09_AH_I_010             complete                            01/28/2011 09:08:11.000000\n",
      "> 01_HOOFD_375            complete                            01/28/2011 09:08:13.000000\n",
      "> 01_HOOFD_370            complete                            01/28/2011 09:08:13.000000\n",
      "> 01_HOOFD_380            complete                            01/28/2011 09:08:14.000000\n",
      "> 01_HOOFD_430            complete                            01/28/2011 09:08:16.000000\n",
      "> 01_HOOFD_470            complete                            01/28/2011 09:08:19.000000\n",
      "> 01_HOOFD_480            complete                            01/28/2011 09:08:20.000000\n",
      "> 01_HOOFD_490_1          complete                            01/28/2011 09:08:20.000000\n",
      "> 01_HOOFD_490_2          complete                            01/28/2011 09:08:22.000000\n",
      "> 01_HOOFD_490_3          complete                            02/01/2011 00:00:00.000000\n",
      "> 01_HOOFD_510_2          complete                            02/01/2011 00:00:00.000000\n",
      "> 01_HOOFD_500            complete                            02/01/2011 12:27:20.000000\n",
      "> 01_HOOFD_510_1          complete                            02/01/2011 12:28:30.000000\n",
      "> 01_HOOFD_520            complete                            02/01/2011 12:28:42.000000\n",
      "> 01_HOOFD_530            complete                            02/16/2011 00:00:00.000000\n",
      "> 01_BB_540               complete                            03/17/2011 15:59:12.000000\n",
      "> 01_HOOFD_790            complete                            03/17/2011 15:59:14.000000\n",
      "> 01_BB_770               complete                            03/17/2011 15:59:14.000000\n",
      "\n"
     ]
    },
    {
     "name": "stderr",
     "output_type": "stream",
     "text": [
      "\n"
     ]
    }
   ],
   "source": [
    "log9 = xes.import_xes(i)\n",
    "verify_log(log9)"
   ]
  },
  {
   "cell_type": "markdown",
   "metadata": {
    "id": "-A-xV0Oue3nT"
   },
   "source": [
    "### BPIC17 - Offer log"
   ]
  },
  {
   "cell_type": "code",
   "execution_count": 115,
   "metadata": {
    "colab": {
     "base_uri": "https://localhost:8080/"
    },
    "id": "87awUqtQQCeY",
    "outputId": "112e5627-abe9-4770-cc8f-75e8240d8d51"
   },
   "outputs": [
    {
     "name": "stderr",
     "output_type": "stream",
     "text": [
      "11108it [00:00, 111068.45it/s]"
     ]
    },
    {
     "name": "stdout",
     "output_type": "stream",
     "text": [
      "Processing log...\n"
     ]
    },
    {
     "name": "stderr",
     "output_type": "stream",
     "text": [
      "4303894it [00:34, 123248.18it/s]\n"
     ]
    },
    {
     "name": "stdout",
     "output_type": "stream",
     "text": [
      "The log contains 42995 traces and 193849 events.\n",
      "Classifiers contained: {'Event Name': ['concept:name'], 'MXML Legacy Classifier': ['concept:name', 'lifecycle:transition'], 'Resource': ['org:resource']}\n",
      "TRACE_ID: 39533 (trace number 39533 )\n",
      "  concept:name            lifecycle:transition                time:timestamp \n",
      "> O_Create Offer          complete                            12/01/2016 12:52:31.547000\n",
      "> O_Created               complete                            12/01/2016 12:52:32.134000\n",
      "> O_Sent (mail and online)complete                            12/01/2016 12:52:39.401000\n",
      "> O_Returned              complete                            12/13/2016 09:57:55.114000\n",
      "> O_Refused               complete                            12/14/2016 11:55:15.318000\n",
      "\n"
     ]
    }
   ],
   "source": [
    "log10 = xes.import_xes(j)\n",
    "verify_log(log10)"
   ]
  },
  {
   "cell_type": "code",
   "execution_count": 116,
   "metadata": {},
   "outputs": [
    {
     "data": {
      "image/svg+xml": [
       "<?xml version=\"1.0\" encoding=\"UTF-8\" standalone=\"no\"?>\n",
       "<!DOCTYPE svg PUBLIC \"-//W3C//DTD SVG 1.1//EN\"\n",
       " \"http://www.w3.org/Graphics/SVG/1.1/DTD/svg11.dtd\">\n",
       "<!-- Generated by graphviz version 2.38.0 (20140413.2041)\n",
       " -->\n",
       "<!-- Title: log10 Pages: 1 -->\n",
       "<svg width=\"1195pt\" height=\"273pt\"\n",
       " viewBox=\"0.00 0.00 1195.00 273.00\" xmlns=\"http://www.w3.org/2000/svg\" xmlns:xlink=\"http://www.w3.org/1999/xlink\">\n",
       "<g id=\"graph0\" class=\"graph\" transform=\"scale(1 1) rotate(0) translate(4 269)\">\n",
       "<title>log10</title>\n",
       "<polygon fill=\"white\" stroke=\"none\" points=\"-4,4 -4,-269 1191,-269 1191,4 -4,4\"/>\n",
       "<!-- O_Create Offer+complete (42995) -->\n",
       "<g id=\"node1\" class=\"node\"><title>O_Create Offer+complete (42995)</title>\n",
       "<polygon fill=\"#238b45\" stroke=\"#238b45\" points=\"164,-152 0,-152 0,-116 164,-116 164,-152\"/>\n",
       "<text text-anchor=\"middle\" x=\"82\" y=\"-131.5\" font-family=\"Helvetica,sans-Serif\" font-size=\"10.00\">O_Create Offer+complete (42995)</text>\n",
       "</g>\n",
       "<!-- O_Created+complete (42995) -->\n",
       "<g id=\"node2\" class=\"node\"><title>O_Created+complete (42995)</title>\n",
       "<polygon fill=\"#238b45\" stroke=\"#238b45\" points=\"411.5,-152 266.5,-152 266.5,-116 411.5,-116 411.5,-152\"/>\n",
       "<text text-anchor=\"middle\" x=\"339\" y=\"-131.5\" font-family=\"Helvetica,sans-Serif\" font-size=\"10.00\">O_Created+complete (42995)</text>\n",
       "</g>\n",
       "<!-- O_Create Offer+complete (42995)&#45;&gt;O_Created+complete (42995) -->\n",
       "<g id=\"edge1\" class=\"edge\"><title>O_Create Offer+complete (42995)&#45;&gt;O_Created+complete (42995)</title>\n",
       "<path fill=\"none\" stroke=\"black\" d=\"M164.034,-134C193.386,-134 226.545,-134 255.981,-134\"/>\n",
       "<polygon fill=\"black\" stroke=\"black\" points=\"256.225,-137.5 266.225,-134 256.225,-130.5 256.225,-137.5\"/>\n",
       "<text text-anchor=\"middle\" x=\"210.5\" y=\"-137.8\" font-family=\"Times,serif\" font-size=\"14.00\">42995</text>\n",
       "</g>\n",
       "<!-- O_Sent (online only)+complete (2026) -->\n",
       "<g id=\"node3\" class=\"node\"><title>O_Sent (online only)+complete (2026)</title>\n",
       "<polygon fill=\"#238b45\" stroke=\"#238b45\" points=\"686.5,-122 505.5,-122 505.5,-86 686.5,-86 686.5,-122\"/>\n",
       "<text text-anchor=\"middle\" x=\"596\" y=\"-101.5\" font-family=\"Helvetica,sans-Serif\" font-size=\"10.00\">O_Sent (online only)+complete (2026)</text>\n",
       "</g>\n",
       "<!-- O_Created+complete (42995)&#45;&gt;O_Sent (online only)+complete (2026) -->\n",
       "<g id=\"edge2\" class=\"edge\"><title>O_Created+complete (42995)&#45;&gt;O_Sent (online only)+complete (2026)</title>\n",
       "<path fill=\"none\" stroke=\"black\" d=\"M411.777,-120.648C424.639,-118.544 437.943,-116.554 450.5,-115 464.904,-113.217 480.154,-111.68 495.137,-110.367\"/>\n",
       "<polygon fill=\"black\" stroke=\"black\" points=\"495.784,-113.825 505.454,-109.494 495.194,-106.85 495.784,-113.825\"/>\n",
       "<text text-anchor=\"middle\" x=\"467.5\" y=\"-118.8\" font-family=\"Times,serif\" font-size=\"14.00\">2026</text>\n",
       "</g>\n",
       "<!-- O_Cancelled+complete (20898) -->\n",
       "<g id=\"node4\" class=\"node\"><title>O_Cancelled+complete (20898)</title>\n",
       "<polygon fill=\"#238b45\" stroke=\"#238b45\" points=\"1187,-247 1033,-247 1033,-211 1187,-211 1187,-247\"/>\n",
       "<text text-anchor=\"middle\" x=\"1110\" y=\"-226.5\" font-family=\"Helvetica,sans-Serif\" font-size=\"10.00\">O_Cancelled+complete (20898)</text>\n",
       "</g>\n",
       "<!-- O_Created+complete (42995)&#45;&gt;O_Cancelled+complete (20898) -->\n",
       "<g id=\"edge9\" class=\"edge\"><title>O_Created+complete (42995)&#45;&gt;O_Cancelled+complete (20898)</title>\n",
       "<path fill=\"none\" stroke=\"black\" d=\"M379.055,-152.045C409.668,-165.631 453.616,-183.916 493.5,-196 617.087,-233.443 649.54,-241.82 778,-255 844.319,-261.804 861.34,-255.945 928,-255 959.343,-254.556 967.384,-256.787 998.5,-253 1007.14,-251.949 1016.1,-250.542 1025,-248.935\"/>\n",
       "<polygon fill=\"black\" stroke=\"black\" points=\"1025.85,-252.338 1035.02,-247.043 1024.55,-245.459 1025.85,-252.338\"/>\n",
       "<text text-anchor=\"middle\" x=\"724.5\" y=\"-253.8\" font-family=\"Times,serif\" font-size=\"14.00\">1203</text>\n",
       "</g>\n",
       "<!-- O_Sent (mail and online)+complete (39707) -->\n",
       "<g id=\"node5\" class=\"node\"><title>O_Sent (mail and online)+complete (39707)</title>\n",
       "<polygon fill=\"#238b45\" stroke=\"#238b45\" points=\"698.5,-183 493.5,-183 493.5,-147 698.5,-147 698.5,-183\"/>\n",
       "<text text-anchor=\"middle\" x=\"596\" y=\"-162.5\" font-family=\"Helvetica,sans-Serif\" font-size=\"10.00\">O_Sent (mail and online)+complete (39707)</text>\n",
       "</g>\n",
       "<!-- O_Created+complete (42995)&#45;&gt;O_Sent (mail and online)+complete (39707) -->\n",
       "<g id=\"edge4\" class=\"edge\"><title>O_Created+complete (42995)&#45;&gt;O_Sent (mail and online)+complete (39707)</title>\n",
       "<path fill=\"none\" stroke=\"black\" d=\"M411.71,-142.718C433.979,-145.425 459.077,-148.476 483.391,-151.432\"/>\n",
       "<polygon fill=\"black\" stroke=\"black\" points=\"483.038,-154.915 493.387,-152.647 483.883,-147.966 483.038,-154.915\"/>\n",
       "<text text-anchor=\"middle\" x=\"467.5\" y=\"-154.8\" font-family=\"Times,serif\" font-size=\"14.00\">39707</text>\n",
       "</g>\n",
       "<!-- O_Refused+complete (4695) -->\n",
       "<g id=\"node8\" class=\"node\"><title>O_Refused+complete (4695)</title>\n",
       "<polygon fill=\"#238b45\" stroke=\"#238b45\" points=\"1181,-36 1039,-36 1039,-0 1181,-0 1181,-36\"/>\n",
       "<text text-anchor=\"middle\" x=\"1110\" y=\"-15.5\" font-family=\"Helvetica,sans-Serif\" font-size=\"10.00\">O_Refused+complete (4695)</text>\n",
       "</g>\n",
       "<!-- O_Created+complete (42995)&#45;&gt;O_Refused+complete (4695) -->\n",
       "<g id=\"edge12\" class=\"edge\"><title>O_Created+complete (42995)&#45;&gt;O_Refused+complete (4695)</title>\n",
       "<path fill=\"none\" stroke=\"black\" d=\"M383.316,-115.971C413.873,-103.524 455.895,-86.9483 493.5,-74 587.365,-41.6801 609.6,-26.459 707.5,-10 738.428,-4.80041 746.645,-7.66682 778,-7 844.652,-5.58252 861.364,-4.97702 928,-7 961.079,-8.00424 997.512,-10.0386 1028.97,-12.0877\"/>\n",
       "<polygon fill=\"black\" stroke=\"black\" points=\"1028.78,-15.5832 1038.99,-12.7522 1029.25,-8.59848 1028.78,-15.5832\"/>\n",
       "<text text-anchor=\"middle\" x=\"724.5\" y=\"-13.8\" font-family=\"Times,serif\" font-size=\"14.00\">59</text>\n",
       "</g>\n",
       "<!-- O_Sent (online only)+complete (2026)&#45;&gt;O_Cancelled+complete (20898) -->\n",
       "<g id=\"edge3\" class=\"edge\"><title>O_Sent (online only)+complete (2026)&#45;&gt;O_Cancelled+complete (20898)</title>\n",
       "<path fill=\"none\" stroke=\"black\" d=\"M681.805,-122.264C687.926,-125.792 693.605,-129.994 698.5,-135 708.83,-145.562 696.441,-157.204 707.5,-167 708.979,-168.31 905.286,-198.191 1022.82,-215.984\"/>\n",
       "<polygon fill=\"black\" stroke=\"black\" points=\"1022.48,-219.472 1032.89,-217.508 1023.53,-212.551 1022.48,-219.472\"/>\n",
       "<text text-anchor=\"middle\" x=\"853\" y=\"-203.8\" font-family=\"Times,serif\" font-size=\"14.00\">875</text>\n",
       "</g>\n",
       "<!-- O_Returned+complete (23305) -->\n",
       "<g id=\"node6\" class=\"node\"><title>O_Returned+complete (23305)</title>\n",
       "<polygon fill=\"#238b45\" stroke=\"#238b45\" points=\"928,-142 778,-142 778,-106 928,-106 928,-142\"/>\n",
       "<text text-anchor=\"middle\" x=\"853\" y=\"-121.5\" font-family=\"Helvetica,sans-Serif\" font-size=\"10.00\">O_Returned+complete (23305)</text>\n",
       "</g>\n",
       "<!-- O_Sent (online only)+complete (2026)&#45;&gt;O_Returned+complete (23305) -->\n",
       "<g id=\"edge14\" class=\"edge\"><title>O_Sent (online only)+complete (2026)&#45;&gt;O_Returned+complete (23305)</title>\n",
       "<path fill=\"none\" stroke=\"black\" d=\"M686.863,-107.394C704.968,-108.348 723.854,-109.536 741.5,-111 750.032,-111.708 758.921,-112.56 767.789,-113.486\"/>\n",
       "<polygon fill=\"black\" stroke=\"black\" points=\"767.455,-116.97 777.772,-114.558 768.203,-110.01 767.455,-116.97\"/>\n",
       "<text text-anchor=\"middle\" x=\"724.5\" y=\"-114.8\" font-family=\"Times,serif\" font-size=\"14.00\">1033</text>\n",
       "</g>\n",
       "<!-- O_Sent (online only)+complete (2026)&#45;&gt;O_Refused+complete (4695) -->\n",
       "<g id=\"edge13\" class=\"edge\"><title>O_Sent (online only)+complete (2026)&#45;&gt;O_Refused+complete (4695)</title>\n",
       "<path fill=\"none\" stroke=\"black\" d=\"M629.897,-85.8171C651.629,-74.1089 680.903,-58.909 707.5,-47 738.123,-33.2882 745.04,-26.2786 778,-20 859.429,-4.48846 881.608,-18.4445 964.5,-18 985.304,-17.8885 1007.79,-17.8492 1028.69,-17.8471\"/>\n",
       "<polygon fill=\"black\" stroke=\"black\" points=\"1028.81,-21.347 1038.81,-17.8488 1028.81,-14.347 1028.81,-21.347\"/>\n",
       "<text text-anchor=\"middle\" x=\"853\" y=\"-23.8\" font-family=\"Times,serif\" font-size=\"14.00\">101</text>\n",
       "</g>\n",
       "<!-- O_Sent (mail and online)+complete (39707)&#45;&gt;O_Cancelled+complete (20898) -->\n",
       "<g id=\"edge5\" class=\"edge\"><title>O_Sent (mail and online)+complete (39707)&#45;&gt;O_Cancelled+complete (20898)</title>\n",
       "<path fill=\"none\" stroke=\"black\" d=\"M631.795,-183.184C653.052,-193.344 681.135,-205.114 707.5,-211 814.22,-234.824 940.739,-236.225 1022.82,-233.728\"/>\n",
       "<polygon fill=\"black\" stroke=\"black\" points=\"1022.98,-237.225 1032.86,-233.397 1022.75,-230.229 1022.98,-237.225\"/>\n",
       "<text text-anchor=\"middle\" x=\"853\" y=\"-237.8\" font-family=\"Times,serif\" font-size=\"14.00\">16365</text>\n",
       "</g>\n",
       "<!-- O_Sent (mail and online)+complete (39707)&#45;&gt;O_Returned+complete (23305) -->\n",
       "<g id=\"edge6\" class=\"edge\"><title>O_Sent (mail and online)+complete (39707)&#45;&gt;O_Returned+complete (23305)</title>\n",
       "<path fill=\"none\" stroke=\"black\" d=\"M698.515,-148.678C721.52,-144.979 745.703,-141.091 767.895,-137.523\"/>\n",
       "<polygon fill=\"black\" stroke=\"black\" points=\"768.622,-140.951 777.94,-135.908 767.511,-134.04 768.622,-140.951\"/>\n",
       "<text text-anchor=\"middle\" x=\"724.5\" y=\"-149.8\" font-family=\"Times,serif\" font-size=\"14.00\">22272</text>\n",
       "</g>\n",
       "<!-- O_Sent (mail and online)+complete (39707)&#45;&gt;O_Refused+complete (4695) -->\n",
       "<g id=\"edge8\" class=\"edge\"><title>O_Sent (mail and online)+complete (39707)&#45;&gt;O_Refused+complete (4695)</title>\n",
       "<path fill=\"none\" stroke=\"black\" d=\"M683.268,-146.803C688.834,-143.495 694.001,-139.595 698.5,-135 709.135,-124.137 697.017,-113.01 707.5,-102 730.226,-78.1296 746.056,-87.1158 778,-79 862.708,-57.4787 961.424,-40.2824 1028.86,-29.7038\"/>\n",
       "<polygon fill=\"black\" stroke=\"black\" points=\"1029.65,-33.1232 1039,-28.1273 1028.58,-26.2064 1029.65,-33.1232\"/>\n",
       "<text text-anchor=\"middle\" x=\"853\" y=\"-82.8\" font-family=\"Times,serif\" font-size=\"14.00\">962</text>\n",
       "</g>\n",
       "<!-- O_Returned+complete (23305)&#45;&gt;O_Cancelled+complete (20898) -->\n",
       "<g id=\"edge10\" class=\"edge\"><title>O_Returned+complete (23305)&#45;&gt;O_Cancelled+complete (20898)</title>\n",
       "<path fill=\"none\" stroke=\"black\" d=\"M923.768,-142.049C947.833,-149.109 974.708,-157.941 998.5,-168 1023.75,-178.677 1050.72,-193.49 1071.69,-205.844\"/>\n",
       "<polygon fill=\"black\" stroke=\"black\" points=\"1069.91,-208.855 1080.29,-210.969 1073.49,-202.843 1069.91,-208.855\"/>\n",
       "<text text-anchor=\"middle\" x=\"981.5\" y=\"-171.8\" font-family=\"Times,serif\" font-size=\"14.00\">2455</text>\n",
       "</g>\n",
       "<!-- O_Accepted+complete (17228) -->\n",
       "<g id=\"node7\" class=\"node\"><title>O_Accepted+complete (17228)</title>\n",
       "<polygon fill=\"#238b45\" stroke=\"#238b45\" points=\"1186,-142 1034,-142 1034,-106 1186,-106 1186,-142\"/>\n",
       "<text text-anchor=\"middle\" x=\"1110\" y=\"-121.5\" font-family=\"Helvetica,sans-Serif\" font-size=\"10.00\">O_Accepted+complete (17228)</text>\n",
       "</g>\n",
       "<!-- O_Returned+complete (23305)&#45;&gt;O_Accepted+complete (17228) -->\n",
       "<g id=\"edge7\" class=\"edge\"><title>O_Returned+complete (23305)&#45;&gt;O_Accepted+complete (17228)</title>\n",
       "<path fill=\"none\" stroke=\"black\" d=\"M928,-123.238C940.195,-123.139 952.701,-123.053 964.5,-123 983.62,-122.913 1004.16,-122.967 1023.59,-123.085\"/>\n",
       "<polygon fill=\"black\" stroke=\"black\" points=\"1023.61,-126.585 1033.63,-123.152 1023.65,-119.585 1023.61,-126.585\"/>\n",
       "<text text-anchor=\"middle\" x=\"981.5\" y=\"-126.8\" font-family=\"Times,serif\" font-size=\"14.00\">17228</text>\n",
       "</g>\n",
       "<!-- O_Returned+complete (23305)&#45;&gt;O_Refused+complete (4695) -->\n",
       "<g id=\"edge11\" class=\"edge\"><title>O_Returned+complete (23305)&#45;&gt;O_Refused+complete (4695)</title>\n",
       "<path fill=\"none\" stroke=\"black\" d=\"M897.546,-105.898C941.463,-87.643 1009.3,-59.4437 1056.24,-39.9302\"/>\n",
       "<polygon fill=\"black\" stroke=\"black\" points=\"1057.74,-43.0973 1065.63,-36.0269 1055.06,-36.6336 1057.74,-43.0973\"/>\n",
       "<text text-anchor=\"middle\" x=\"981.5\" y=\"-80.8\" font-family=\"Times,serif\" font-size=\"14.00\">3573</text>\n",
       "</g>\n",
       "</g>\n",
       "</svg>\n"
      ],
      "text/plain": [
       "<graphviz.dot.Digraph at 0x7fdbe77e5130>"
      ]
     },
     "execution_count": 116,
     "metadata": {},
     "output_type": "execute_result"
    }
   ],
   "source": [
    "draw_dfg(log10, \"log10\", 0, save=False, lifecycle_present=True)"
   ]
  },
  {
   "cell_type": "markdown",
   "metadata": {
    "id": "PPdVEBC0fPtZ"
   },
   "source": [
    "### BPIC17 Log"
   ]
  },
  {
   "cell_type": "code",
   "execution_count": 46,
   "metadata": {
    "colab": {
     "base_uri": "https://localhost:8080/"
    },
    "id": "0GbL2aGIQTBh",
    "outputId": "9098f66c-98f4-43ab-ea38-9d23968a09d5"
   },
   "outputs": [
    {
     "name": "stderr",
     "output_type": "stream",
     "text": [
      "16673it [00:00, 166689.62it/s]"
     ]
    },
    {
     "name": "stdout",
     "output_type": "stream",
     "text": [
      "Processing log...\n"
     ]
    },
    {
     "name": "stderr",
     "output_type": "stream",
     "text": [
      "20586158it [01:10, 292374.01it/s]"
     ]
    },
    {
     "name": "stdout",
     "output_type": "stream",
     "text": [
      "The log contains 31509 traces and 1202267 events.\n",
      "Classifiers contained: {'Event Name': ['concept:name'], 'MXML Legacy Classifier': ['concept:name', 'lifecycle:transition'], 'Resource': ['org:resource']}\n",
      "TRACE_ID: Application_1953341305 (trace number 14708 )\n",
      "  concept:name               lifecycle:transition                time:timestamp \n",
      "> A_Create Application       complete                            07/04/2016 18:21:37.236000\n",
      "> A_Submitted                complete                            07/04/2016 18:21:37.293000\n",
      "> W_Handle leads             schedule                            07/04/2016 18:21:37.711000\n",
      "> W_Handle leads             withdraw                            07/04/2016 18:22:55.696000\n",
      "> W_Complete application     schedule                            07/04/2016 18:22:55.712000\n",
      "> A_Concept                  complete                            07/04/2016 18:22:55.719000\n",
      "> W_Complete application     start                               07/04/2016 18:30:48.870000\n",
      "> W_Complete application     suspend                             07/04/2016 18:31:51.497000\n",
      "> A_Accepted                 complete                            07/05/2016 16:38:44.056000\n",
      "> O_Create Offer             complete                            07/05/2016 16:40:53.603000\n",
      "> O_Created                  complete                            07/05/2016 16:40:54.952000\n",
      "> O_Sent (mail and online)   complete                            07/05/2016 16:41:11.776000\n",
      "> W_Complete application     ate_abort                           07/05/2016 16:41:11.791000\n",
      "> W_Call after offers        schedule                            07/05/2016 16:41:11.798000\n",
      "> W_Call after offers        start                               07/05/2016 16:41:11.800000\n",
      "> A_Complete                 complete                            07/05/2016 16:41:11.816000\n",
      "> W_Call after offers        suspend                             07/05/2016 16:42:50.730000\n",
      "> W_Call after offers        resume                              07/12/2016 07:18:59.914000\n",
      "> W_Call after offers        suspend                             07/12/2016 07:19:26.228000\n",
      "> W_Call after offers        ate_abort                           07/25/2016 13:38:45.456000\n",
      "> W_Validate application     schedule                            07/25/2016 13:38:45.466000\n",
      "> W_Validate application     start                               07/25/2016 13:38:45.469000\n",
      "> A_Validating               complete                            07/25/2016 13:38:46.280000\n",
      "> O_Returned                 complete                            07/25/2016 13:38:52.431000\n",
      "> W_Validate application     complete                            07/25/2016 13:42:30.045000\n",
      "> W_Call incomplete files    schedule                            07/25/2016 13:42:30.051000\n",
      "> W_Call incomplete files    start                               07/25/2016 13:42:30.052000\n",
      "> A_Incomplete               complete                            07/25/2016 13:42:30.054000\n",
      "> W_Call incomplete files    suspend                             07/25/2016 13:42:36.114000\n",
      "> W_Call incomplete files    resume                              07/25/2016 16:22:01.631000\n",
      "> W_Call incomplete files    suspend                             07/25/2016 16:23:50.901000\n",
      "> W_Call incomplete files    ate_abort                           07/26/2016 09:55:39.121000\n",
      "> W_Validate application     schedule                            07/26/2016 09:55:39.133000\n",
      "> W_Validate application     start                               07/26/2016 09:55:39.137000\n",
      "> A_Validating               complete                            07/26/2016 09:55:39.221000\n",
      "> W_Validate application     suspend                             07/26/2016 09:56:24.497000\n",
      "> A_Denied                   complete                            07/28/2016 12:16:21.577000\n",
      "> O_Refused                  complete                            07/28/2016 12:16:21.625000\n",
      "> W_Validate application     ate_abort                           07/28/2016 12:16:21.637000\n",
      "\n"
     ]
    },
    {
     "name": "stderr",
     "output_type": "stream",
     "text": [
      "\n"
     ]
    }
   ],
   "source": [
    "log11 = xes.import_xes(k)\n",
    "verify_log(log11)"
   ]
  },
  {
   "cell_type": "code",
   "execution_count": null,
   "metadata": {
    "colab": {
     "base_uri": "https://localhost:8080/"
    },
    "id": "_WjXCrDclDEx",
    "outputId": "e23caeb2-8b90-4547-8009-0c71d8fe714b"
   },
   "outputs": [
    {
     "name": "stdout",
     "output_type": "stream",
     "text": [
      "Concept name of the trace: Application_598655970\n",
      "Events belonging to this trace:\n",
      "{'Action': 'Created',\n",
      " 'EventID': 'Application_598655970',\n",
      " 'EventOrigin': 'Application',\n",
      " 'concept:name': 'A_Create Application',\n",
      " 'lifecycle:transition': 'complete',\n",
      " 'org:resource': 'User_1',\n",
      " 'time:timestamp': datetime.datetime(2016, 10, 18, 19, 14, 25, 126000, tzinfo=datetime.timezone.utc)}\n",
      "\n",
      "{'Action': 'statechange',\n",
      " 'EventID': 'ApplState_222919653',\n",
      " 'EventOrigin': 'Application',\n",
      " 'concept:name': 'A_Submitted',\n",
      " 'lifecycle:transition': 'complete',\n",
      " 'org:resource': 'User_1',\n",
      " 'time:timestamp': datetime.datetime(2016, 10, 18, 19, 14, 25, 906000, tzinfo=datetime.timezone.utc)}\n",
      "\n",
      "{'Action': 'Created',\n",
      " 'EventID': 'Workitem_1524404378',\n",
      " 'EventOrigin': 'Workflow',\n",
      " 'concept:name': 'W_Handle leads',\n",
      " 'lifecycle:transition': 'schedule',\n",
      " 'org:resource': 'User_1',\n",
      " 'time:timestamp': datetime.datetime(2016, 10, 18, 19, 14, 26, 49000, tzinfo=datetime.timezone.utc)}\n",
      "\n",
      "{'Action': 'Deleted',\n",
      " 'EventID': 'Workitem_243445426',\n",
      " 'EventOrigin': 'Workflow',\n",
      " 'concept:name': 'W_Handle leads',\n",
      " 'lifecycle:transition': 'withdraw',\n",
      " 'org:resource': 'User_1',\n",
      " 'time:timestamp': datetime.datetime(2016, 10, 18, 19, 15, 32, 293000, tzinfo=datetime.timezone.utc)}\n",
      "\n",
      "{'Action': 'Created',\n",
      " 'EventID': 'Workitem_257773110',\n",
      " 'EventOrigin': 'Workflow',\n",
      " 'concept:name': 'W_Complete application',\n",
      " 'lifecycle:transition': 'schedule',\n",
      " 'org:resource': 'User_1',\n",
      " 'time:timestamp': datetime.datetime(2016, 10, 18, 19, 15, 32, 300000, tzinfo=datetime.timezone.utc)}\n",
      "\n",
      "{'Action': 'statechange',\n",
      " 'EventID': 'ApplState_135163505',\n",
      " 'EventOrigin': 'Application',\n",
      " 'concept:name': 'A_Concept',\n",
      " 'lifecycle:transition': 'complete',\n",
      " 'org:resource': 'User_1',\n",
      " 'time:timestamp': datetime.datetime(2016, 10, 18, 19, 15, 32, 304000, tzinfo=datetime.timezone.utc)}\n",
      "\n",
      "{'Action': 'statechange',\n",
      " 'EventID': 'ApplState_939884032',\n",
      " 'EventOrigin': 'Application',\n",
      " 'concept:name': 'A_Accepted',\n",
      " 'lifecycle:transition': 'complete',\n",
      " 'org:resource': 'User_80',\n",
      " 'time:timestamp': datetime.datetime(2016, 10, 19, 18, 49, 4, 819000, tzinfo=datetime.timezone.utc)}\n",
      "\n",
      "{'Accepted': False,\n",
      " 'Action': 'Created',\n",
      " 'CreditScore': 0,\n",
      " 'EventID': 'Offer_1776047615',\n",
      " 'EventOrigin': 'Offer',\n",
      " 'FirstWithdrawalAmount': 5500.0,\n",
      " 'MonthlyCost': 168.1,\n",
      " 'NumberOfTerms': 36,\n",
      " 'OfferedAmount': 5500.0,\n",
      " 'Selected': False,\n",
      " 'concept:name': 'O_Create Offer',\n",
      " 'lifecycle:transition': 'complete',\n",
      " 'org:resource': 'User_80',\n",
      " 'time:timestamp': datetime.datetime(2016, 10, 19, 18, 55, 33, 120000, tzinfo=datetime.timezone.utc)}\n",
      "\n",
      "{'Action': 'statechange',\n",
      " 'EventID': 'OfferState_486762412',\n",
      " 'EventOrigin': 'Offer',\n",
      " 'OfferID': 'Offer_1776047615',\n",
      " 'concept:name': 'O_Created',\n",
      " 'lifecycle:transition': 'complete',\n",
      " 'org:resource': 'User_80',\n",
      " 'time:timestamp': datetime.datetime(2016, 10, 19, 18, 55, 33, 676000, tzinfo=datetime.timezone.utc)}\n",
      "\n",
      "{'Action': 'statechange',\n",
      " 'EventID': 'OfferState_1307289447',\n",
      " 'EventOrigin': 'Offer',\n",
      " 'OfferID': 'Offer_1776047615',\n",
      " 'concept:name': 'O_Sent (mail and online)',\n",
      " 'lifecycle:transition': 'complete',\n",
      " 'org:resource': 'User_80',\n",
      " 'time:timestamp': datetime.datetime(2016, 10, 19, 18, 57, 37, 280000, tzinfo=datetime.timezone.utc)}\n",
      "\n",
      "{'Action': 'Deleted',\n",
      " 'EventID': 'Workitem_1773828967',\n",
      " 'EventOrigin': 'Workflow',\n",
      " 'concept:name': 'W_Complete application',\n",
      " 'lifecycle:transition': 'withdraw',\n",
      " 'org:resource': 'User_80',\n",
      " 'time:timestamp': datetime.datetime(2016, 10, 19, 18, 57, 37, 292000, tzinfo=datetime.timezone.utc)}\n",
      "\n",
      "{'Action': 'Created',\n",
      " 'EventID': 'Workitem_1146171423',\n",
      " 'EventOrigin': 'Workflow',\n",
      " 'concept:name': 'W_Call after offers',\n",
      " 'lifecycle:transition': 'schedule',\n",
      " 'org:resource': 'User_80',\n",
      " 'time:timestamp': datetime.datetime(2016, 10, 19, 18, 57, 37, 299000, tzinfo=datetime.timezone.utc)}\n",
      "\n",
      "{'Action': 'Obtained',\n",
      " 'EventID': 'Workitem_854099369',\n",
      " 'EventOrigin': 'Workflow',\n",
      " 'concept:name': 'W_Call after offers',\n",
      " 'lifecycle:transition': 'start',\n",
      " 'org:resource': 'User_80',\n",
      " 'time:timestamp': datetime.datetime(2016, 10, 19, 18, 57, 37, 301000, tzinfo=datetime.timezone.utc)}\n",
      "\n",
      "{'Action': 'statechange',\n",
      " 'EventID': 'ApplState_1717209794',\n",
      " 'EventOrigin': 'Application',\n",
      " 'concept:name': 'A_Complete',\n",
      " 'lifecycle:transition': 'complete',\n",
      " 'org:resource': 'User_80',\n",
      " 'time:timestamp': datetime.datetime(2016, 10, 19, 18, 57, 37, 302000, tzinfo=datetime.timezone.utc)}\n",
      "\n",
      "{'Action': 'Released',\n",
      " 'EventID': 'Workitem_1365083754',\n",
      " 'EventOrigin': 'Workflow',\n",
      " 'concept:name': 'W_Call after offers',\n",
      " 'lifecycle:transition': 'suspend',\n",
      " 'org:resource': 'User_80',\n",
      " 'time:timestamp': datetime.datetime(2016, 10, 19, 18, 59, 51, 677000, tzinfo=datetime.timezone.utc)}\n",
      "\n",
      "{'Action': 'Obtained',\n",
      " 'EventID': 'Workitem_452556833',\n",
      " 'EventOrigin': 'Workflow',\n",
      " 'concept:name': 'W_Call after offers',\n",
      " 'lifecycle:transition': 'resume',\n",
      " 'org:resource': 'User_49',\n",
      " 'time:timestamp': datetime.datetime(2016, 10, 24, 12, 51, 58, 470000, tzinfo=datetime.timezone.utc)}\n",
      "\n",
      "{'Action': 'Released',\n",
      " 'EventID': 'Workitem_1438649692',\n",
      " 'EventOrigin': 'Workflow',\n",
      " 'concept:name': 'W_Call after offers',\n",
      " 'lifecycle:transition': 'suspend',\n",
      " 'org:resource': 'User_49',\n",
      " 'time:timestamp': datetime.datetime(2016, 10, 24, 12, 52, 19, 942000, tzinfo=datetime.timezone.utc)}\n",
      "\n",
      "{'Action': 'statechange',\n",
      " 'EventID': 'ApplState_1138298125',\n",
      " 'EventOrigin': 'Application',\n",
      " 'concept:name': 'A_Cancelled',\n",
      " 'lifecycle:transition': 'complete',\n",
      " 'org:resource': 'User_58',\n",
      " 'time:timestamp': datetime.datetime(2016, 10, 24, 13, 48, 29, 990000, tzinfo=datetime.timezone.utc)}\n",
      "\n",
      "{'Action': 'statechange',\n",
      " 'EventID': 'OfferState_1511532589',\n",
      " 'EventOrigin': 'Offer',\n",
      " 'OfferID': 'Offer_1776047615',\n",
      " 'concept:name': 'O_Cancelled',\n",
      " 'lifecycle:transition': 'complete',\n",
      " 'org:resource': 'User_58',\n",
      " 'time:timestamp': datetime.datetime(2016, 10, 24, 13, 48, 30, 10000, tzinfo=datetime.timezone.utc)}\n",
      "\n",
      "{'Action': 'Deleted',\n",
      " 'EventID': 'Workitem_154157523',\n",
      " 'EventOrigin': 'Workflow',\n",
      " 'concept:name': 'W_Call after offers',\n",
      " 'lifecycle:transition': 'ate_abort',\n",
      " 'org:resource': 'User_58',\n",
      " 'time:timestamp': datetime.datetime(2016, 10, 24, 13, 48, 30, 18000, tzinfo=datetime.timezone.utc)}\n",
      "\n"
     ]
    }
   ],
   "source": [
    "#print random trace\n",
    "idx = random.randint(0, len(log11.traces)-1)\n",
    "\n",
    "print('Concept name of the trace:', log11.traces[idx]['concept:name'])\n",
    "print('Events belonging to this trace:')\n",
    "for event in log11.get_traces()[idx]:\n",
    "  pprint(event)\n",
    "  print()"
   ]
  },
  {
   "cell_type": "code",
   "execution_count": 47,
   "metadata": {
    "colab": {
     "base_uri": "https://localhost:8080/"
    },
    "id": "lCYm013wTsy7",
    "outputId": "ab7afaad-2624-4163-e497-6d9cbc7ccc33"
   },
   "outputs": [
    {
     "name": "stdout",
     "output_type": "stream",
     "text": [
      "Concept name of the trace: Application_419883832\n",
      "Events belonging to this trace:\n",
      "{'Action': 'Created',\n",
      " 'EventID': 'Application_419883832',\n",
      " 'EventOrigin': 'Application',\n",
      " 'concept:name': 'A_Create Application',\n",
      " 'lifecycle:transition': 'complete',\n",
      " 'org:resource': 'User_46',\n",
      " 'time:timestamp': datetime.datetime(2016, 3, 30, 12, 15, 28, 708000, tzinfo=datetime.timezone.utc)}\n",
      "\n",
      "{'Action': 'Created',\n",
      " 'EventID': 'Workitem_1369577084',\n",
      " 'EventOrigin': 'Workflow',\n",
      " 'concept:name': 'W_Complete application',\n",
      " 'lifecycle:transition': 'schedule',\n",
      " 'org:resource': 'User_46',\n",
      " 'time:timestamp': datetime.datetime(2016, 3, 30, 12, 15, 28, 718000, tzinfo=datetime.timezone.utc)}\n",
      "\n",
      "{'Action': 'Obtained',\n",
      " 'EventID': 'Workitem_936047951',\n",
      " 'EventOrigin': 'Workflow',\n",
      " 'concept:name': 'W_Complete application',\n",
      " 'lifecycle:transition': 'start',\n",
      " 'org:resource': 'User_46',\n",
      " 'time:timestamp': datetime.datetime(2016, 3, 30, 12, 15, 28, 722000, tzinfo=datetime.timezone.utc)}\n",
      "\n",
      "{'Action': 'statechange',\n",
      " 'EventID': 'ApplState_374252998',\n",
      " 'EventOrigin': 'Application',\n",
      " 'concept:name': 'A_Concept',\n",
      " 'lifecycle:transition': 'complete',\n",
      " 'org:resource': 'User_46',\n",
      " 'time:timestamp': datetime.datetime(2016, 3, 30, 12, 15, 28, 730000, tzinfo=datetime.timezone.utc)}\n",
      "\n",
      "{'Action': 'statechange',\n",
      " 'EventID': 'ApplState_1443200745',\n",
      " 'EventOrigin': 'Application',\n",
      " 'concept:name': 'A_Accepted',\n",
      " 'lifecycle:transition': 'complete',\n",
      " 'org:resource': 'User_46',\n",
      " 'time:timestamp': datetime.datetime(2016, 3, 30, 12, 20, 43, 352000, tzinfo=datetime.timezone.utc)}\n",
      "\n",
      "{'Accepted': False,\n",
      " 'Action': 'Created',\n",
      " 'CreditScore': 0,\n",
      " 'EventID': 'Offer_2145781332',\n",
      " 'EventOrigin': 'Offer',\n",
      " 'FirstWithdrawalAmount': 2000.0,\n",
      " 'MonthlyCost': 204.86,\n",
      " 'NumberOfTerms': 120,\n",
      " 'OfferedAmount': 19500.0,\n",
      " 'Selected': False,\n",
      " 'concept:name': 'O_Create Offer',\n",
      " 'lifecycle:transition': 'complete',\n",
      " 'org:resource': 'User_46',\n",
      " 'time:timestamp': datetime.datetime(2016, 3, 30, 12, 28, 31, 131000, tzinfo=datetime.timezone.utc)}\n",
      "\n",
      "{'Action': 'statechange',\n",
      " 'EventID': 'OfferState_1098713979',\n",
      " 'EventOrigin': 'Offer',\n",
      " 'OfferID': 'Offer_2145781332',\n",
      " 'concept:name': 'O_Created',\n",
      " 'lifecycle:transition': 'complete',\n",
      " 'org:resource': 'User_46',\n",
      " 'time:timestamp': datetime.datetime(2016, 3, 30, 12, 28, 32, 359000, tzinfo=datetime.timezone.utc)}\n",
      "\n",
      "{'Action': 'statechange',\n",
      " 'EventID': 'ApplState_396073397',\n",
      " 'EventOrigin': 'Application',\n",
      " 'concept:name': 'A_Cancelled',\n",
      " 'lifecycle:transition': 'complete',\n",
      " 'org:resource': 'User_46',\n",
      " 'time:timestamp': datetime.datetime(2016, 3, 30, 12, 30, 27, 137000, tzinfo=datetime.timezone.utc)}\n",
      "\n",
      "{'Action': 'statechange',\n",
      " 'EventID': 'OfferState_1726498422',\n",
      " 'EventOrigin': 'Offer',\n",
      " 'OfferID': 'Offer_2145781332',\n",
      " 'concept:name': 'O_Cancelled',\n",
      " 'lifecycle:transition': 'complete',\n",
      " 'org:resource': 'User_46',\n",
      " 'time:timestamp': datetime.datetime(2016, 3, 30, 12, 30, 27, 161000, tzinfo=datetime.timezone.utc)}\n",
      "\n",
      "{'Action': 'Deleted',\n",
      " 'EventID': 'Workitem_969556786',\n",
      " 'EventOrigin': 'Workflow',\n",
      " 'concept:name': 'W_Complete application',\n",
      " 'lifecycle:transition': 'complete',\n",
      " 'org:resource': 'User_46',\n",
      " 'time:timestamp': datetime.datetime(2016, 3, 30, 12, 30, 27, 172000, tzinfo=datetime.timezone.utc)}\n",
      "\n"
     ]
    }
   ],
   "source": [
    "trace_id = case_ids_['bpic17']\n",
    "print_specific_case2(log11, trace_id)"
   ]
  },
  {
   "cell_type": "markdown",
   "metadata": {
    "id": "1oGJA_yQ7DRw"
   },
   "source": [
    "## 1.2 Importing and Verifying the Artifical Logs\n",
    "---"
   ]
  },
  {
   "cell_type": "markdown",
   "metadata": {
    "id": "KXiaLrj_TZd4"
   },
   "source": [
    "### A1"
   ]
  },
  {
   "cell_type": "code",
   "execution_count": 41,
   "metadata": {
    "colab": {
     "base_uri": "https://localhost:8080/"
    },
    "id": "pKQsiFCE8Sb-",
    "outputId": "3daa703a-f951-4ab0-8160-188d773fe9fb"
   },
   "outputs": [
    {
     "name": "stderr",
     "output_type": "stream",
     "text": [
      "25555it [00:00, 131370.32it/s]"
     ]
    },
    {
     "name": "stdout",
     "output_type": "stream",
     "text": [
      "Processing log...\n"
     ]
    },
    {
     "name": "stderr",
     "output_type": "stream",
     "text": [
      "51850it [00:00, 136169.07it/s]\n"
     ]
    }
   ],
   "source": [
    "a1 = xes.import_xes(pa1)"
   ]
  },
  {
   "cell_type": "code",
   "execution_count": 42,
   "metadata": {
    "colab": {
     "base_uri": "https://localhost:8080/"
    },
    "id": "LjtelJZVIYLZ",
    "outputId": "808ce464-2dfa-43df-8fcb-0bb97b191515"
   },
   "outputs": [
    {
     "name": "stdout",
     "output_type": "stream",
     "text": [
      "Traces: 1104 Events: 11855\n"
     ]
    }
   ],
   "source": [
    "print(\"Traces:\", len(a1.traces), \"Events:\", len(a1.events))"
   ]
  },
  {
   "cell_type": "code",
   "execution_count": 59,
   "metadata": {},
   "outputs": [
    {
     "data": {
      "image/svg+xml": [
       "<?xml version=\"1.0\" encoding=\"UTF-8\" standalone=\"no\"?>\n",
       "<!DOCTYPE svg PUBLIC \"-//W3C//DTD SVG 1.1//EN\"\n",
       " \"http://www.w3.org/Graphics/SVG/1.1/DTD/svg11.dtd\">\n",
       "<!-- Generated by graphviz version 2.38.0 (20140413.2041)\n",
       " -->\n",
       "<!-- Title: a1 Pages: 1 -->\n",
       "<svg width=\"2210pt\" height=\"640pt\"\n",
       " viewBox=\"0.00 0.00 2210.00 640.00\" xmlns=\"http://www.w3.org/2000/svg\" xmlns:xlink=\"http://www.w3.org/1999/xlink\">\n",
       "<g id=\"graph0\" class=\"graph\" transform=\"scale(1 1) rotate(0) translate(4 636)\">\n",
       "<title>a1</title>\n",
       "<polygon fill=\"white\" stroke=\"none\" points=\"-4,4 -4,-636 2206,-636 2206,4 -4,4\"/>\n",
       "<!-- Register+complete (1104) -->\n",
       "<g id=\"node1\" class=\"node\"><title>Register+complete (1104)</title>\n",
       "<polygon fill=\"#74c476\" stroke=\"#74c476\" points=\"129,-186 0,-186 0,-150 129,-150 129,-186\"/>\n",
       "<text text-anchor=\"middle\" x=\"64.5\" y=\"-165.5\" font-family=\"Helvetica,sans-Serif\" font-size=\"10.00\">Register+complete (1104)</text>\n",
       "</g>\n",
       "<!-- Analyze Defect+start (1104) -->\n",
       "<g id=\"node2\" class=\"node\"><title>Analyze Defect+start (1104)</title>\n",
       "<polygon fill=\"#74c476\" stroke=\"#74c476\" points=\"340.5,-186 200.5,-186 200.5,-150 340.5,-150 340.5,-186\"/>\n",
       "<text text-anchor=\"middle\" x=\"270.5\" y=\"-165.5\" font-family=\"Helvetica,sans-Serif\" font-size=\"10.00\">Analyze Defect+start (1104)</text>\n",
       "</g>\n",
       "<!-- Register+complete (1104)&#45;&gt;Analyze Defect+start (1104) -->\n",
       "<g id=\"edge1\" class=\"edge\"><title>Register+complete (1104)&#45;&gt;Analyze Defect+start (1104)</title>\n",
       "<path fill=\"none\" stroke=\"black\" d=\"M129.208,-168C148.51,-168 169.952,-168 190.146,-168\"/>\n",
       "<polygon fill=\"black\" stroke=\"black\" points=\"190.259,-171.5 200.259,-168 190.259,-164.5 190.259,-171.5\"/>\n",
       "<text text-anchor=\"middle\" x=\"167.5\" y=\"-171.8\" font-family=\"Times,serif\" font-size=\"14.00\">1104</text>\n",
       "</g>\n",
       "<!-- Analyze Defect+complete (1104) -->\n",
       "<g id=\"node3\" class=\"node\"><title>Analyze Defect+complete (1104)</title>\n",
       "<polygon fill=\"#74c476\" stroke=\"#74c476\" points=\"556.5,-186 396.5,-186 396.5,-150 556.5,-150 556.5,-186\"/>\n",
       "<text text-anchor=\"middle\" x=\"476.5\" y=\"-165.5\" font-family=\"Helvetica,sans-Serif\" font-size=\"10.00\">Analyze Defect+complete (1104)</text>\n",
       "</g>\n",
       "<!-- Analyze Defect+start (1104)&#45;&gt;Analyze Defect+complete (1104) -->\n",
       "<g id=\"edge2\" class=\"edge\"><title>Analyze Defect+start (1104)&#45;&gt;Analyze Defect+complete (1104)</title>\n",
       "<path fill=\"none\" stroke=\"black\" d=\"M340.565,-168C355.262,-168 370.981,-168 386.308,-168\"/>\n",
       "<polygon fill=\"black\" stroke=\"black\" points=\"386.309,-171.5 396.309,-168 386.309,-164.5 386.309,-171.5\"/>\n",
       "<text text-anchor=\"middle\" x=\"373.5\" y=\"-171.8\" font-family=\"Times,serif\" font-size=\"14.00\">1104</text>\n",
       "</g>\n",
       "<!-- Repair (Complex)+start (725) -->\n",
       "<g id=\"node4\" class=\"node\"><title>Repair (Complex)+start (725)</title>\n",
       "<polygon fill=\"#bae4b3\" stroke=\"#bae4b3\" points=\"754,-186 611,-186 611,-150 754,-150 754,-186\"/>\n",
       "<text text-anchor=\"middle\" x=\"682.5\" y=\"-165.5\" font-family=\"Helvetica,sans-Serif\" font-size=\"10.00\">Repair (Complex)+start (725)</text>\n",
       "</g>\n",
       "<!-- Analyze Defect+complete (1104)&#45;&gt;Repair (Complex)+start (725) -->\n",
       "<g id=\"edge3\" class=\"edge\"><title>Analyze Defect+complete (1104)&#45;&gt;Repair (Complex)+start (725)</title>\n",
       "<path fill=\"none\" stroke=\"black\" d=\"M556.664,-168C570.993,-168 585.957,-168 600.342,-168\"/>\n",
       "<polygon fill=\"black\" stroke=\"black\" points=\"600.698,-171.5 610.698,-168 600.698,-164.5 600.698,-171.5\"/>\n",
       "<text text-anchor=\"middle\" x=\"579.5\" y=\"-171.8\" font-family=\"Times,serif\" font-size=\"14.00\">528</text>\n",
       "</g>\n",
       "<!-- Inform User+complete (1102) -->\n",
       "<g id=\"node8\" class=\"node\"><title>Inform User+complete (1102)</title>\n",
       "<polygon fill=\"#74c476\" stroke=\"#74c476\" points=\"1578.5,-331 1434.5,-331 1434.5,-295 1578.5,-295 1578.5,-331\"/>\n",
       "<text text-anchor=\"middle\" x=\"1506.5\" y=\"-310.5\" font-family=\"Helvetica,sans-Serif\" font-size=\"10.00\">Inform User+complete (1102)</text>\n",
       "</g>\n",
       "<!-- Analyze Defect+complete (1104)&#45;&gt;Inform User+complete (1102) -->\n",
       "<g id=\"edge21\" class=\"edge\"><title>Analyze Defect+complete (1104)&#45;&gt;Inform User+complete (1102)</title>\n",
       "<path fill=\"none\" stroke=\"black\" d=\"M477.275,-186.157C477.259,-270.158 488.855,-617 681.5,-617 681.5,-617 681.5,-617 1301.5,-617 1358.17,-617 1376.64,-599.61 1414,-557 1470.41,-492.663 1493.41,-390.218 1501.58,-341.083\"/>\n",
       "<polygon fill=\"black\" stroke=\"black\" points=\"1505.04,-341.588 1503.14,-331.165 1498.13,-340.496 1505.04,-341.588\"/>\n",
       "<text text-anchor=\"middle\" x=\"991.5\" y=\"-620.8\" font-family=\"Times,serif\" font-size=\"14.00\">155</text>\n",
       "</g>\n",
       "<!-- Repair (Simple)+start (785) -->\n",
       "<g id=\"node10\" class=\"node\"><title>Repair (Simple)+start (785)</title>\n",
       "<polygon fill=\"#bae4b3\" stroke=\"#bae4b3\" points=\"1985.5,-266 1851.5,-266 1851.5,-230 1985.5,-230 1985.5,-266\"/>\n",
       "<text text-anchor=\"middle\" x=\"1918.5\" y=\"-245.5\" font-family=\"Helvetica,sans-Serif\" font-size=\"10.00\">Repair (Simple)+start (785)</text>\n",
       "</g>\n",
       "<!-- Analyze Defect+complete (1104)&#45;&gt;Repair (Simple)+start (785) -->\n",
       "<g id=\"edge9\" class=\"edge\"><title>Analyze Defect+complete (1104)&#45;&gt;Repair (Simple)+start (785)</title>\n",
       "<path fill=\"none\" stroke=\"black\" d=\"M487.94,-149.701C514.297,-106.159 588.133,-0 681.5,-0 681.5,-0 681.5,-0 1713.5,-0 1826.48,-0 1888.43,-155.418 1909.34,-220.185\"/>\n",
       "<polygon fill=\"black\" stroke=\"black\" points=\"1906.01,-221.27 1912.34,-229.764 1912.69,-219.175 1906.01,-221.27\"/>\n",
       "<text text-anchor=\"middle\" x=\"1197.5\" y=\"-3.8\" font-family=\"Times,serif\" font-size=\"14.00\">421</text>\n",
       "</g>\n",
       "<!-- Repair (Complex)+complete (724) -->\n",
       "<g id=\"node5\" class=\"node\"><title>Repair (Complex)+complete (724)</title>\n",
       "<polygon fill=\"#bae4b3\" stroke=\"#bae4b3\" points=\"970.5,-517 806.5,-517 806.5,-481 970.5,-481 970.5,-517\"/>\n",
       "<text text-anchor=\"middle\" x=\"888.5\" y=\"-496.5\" font-family=\"Helvetica,sans-Serif\" font-size=\"10.00\">Repair (Complex)+complete (724)</text>\n",
       "</g>\n",
       "<!-- Repair (Complex)+start (725)&#45;&gt;Repair (Complex)+complete (724) -->\n",
       "<g id=\"edge4\" class=\"edge\"><title>Repair (Complex)+start (725)&#45;&gt;Repair (Complex)+complete (724)</title>\n",
       "<path fill=\"none\" stroke=\"black\" d=\"M694.759,-186.267C728.753,-241.425 830.488,-406.495 870.791,-471.889\"/>\n",
       "<polygon fill=\"black\" stroke=\"black\" points=\"868.05,-474.112 876.276,-480.789 874.009,-470.44 868.05,-474.112\"/>\n",
       "<text text-anchor=\"middle\" x=\"785.5\" y=\"-346.8\" font-family=\"Times,serif\" font-size=\"14.00\">414</text>\n",
       "</g>\n",
       "<!-- Repair (Complex)+start (725)&#45;&gt;Inform User+complete (1102) -->\n",
       "<g id=\"edge17\" class=\"edge\"><title>Repair (Complex)+start (725)&#45;&gt;Inform User+complete (1102)</title>\n",
       "<path fill=\"none\" stroke=\"black\" d=\"M726.012,-149.869C766.691,-134.181 830.164,-114 887.5,-114 887.5,-114 887.5,-114 1301.5,-114 1366.09,-114 1377.14,-152.958 1414,-206 1430.08,-229.142 1417.27,-243.697 1434.5,-266 1441.42,-274.957 1450.55,-282.761 1459.95,-289.299\"/>\n",
       "<polygon fill=\"black\" stroke=\"black\" points=\"1458.32,-292.412 1468.6,-294.945 1462.14,-286.55 1458.32,-292.412\"/>\n",
       "<text text-anchor=\"middle\" x=\"1094.5\" y=\"-117.8\" font-family=\"Times,serif\" font-size=\"14.00\">310</text>\n",
       "</g>\n",
       "<!-- Test Repair+start (1508) -->\n",
       "<g id=\"node6\" class=\"node\"><title>Test Repair+start (1508)</title>\n",
       "<polygon fill=\"#238b45\" stroke=\"#238b45\" points=\"1156,-429 1033,-429 1033,-393 1156,-393 1156,-429\"/>\n",
       "<text text-anchor=\"middle\" x=\"1094.5\" y=\"-408.5\" font-family=\"Helvetica,sans-Serif\" font-size=\"10.00\">Test Repair+start (1508)</text>\n",
       "</g>\n",
       "<!-- Repair (Complex)+complete (724)&#45;&gt;Test Repair+start (1508) -->\n",
       "<g id=\"edge5\" class=\"edge\"><title>Repair (Complex)+complete (724)&#45;&gt;Test Repair+start (1508)</title>\n",
       "<path fill=\"none\" stroke=\"black\" d=\"M931.275,-480.98C963.346,-467.145 1007.79,-447.971 1042.06,-433.191\"/>\n",
       "<polygon fill=\"black\" stroke=\"black\" points=\"1043.64,-436.322 1051.43,-429.147 1040.86,-429.895 1043.64,-436.322\"/>\n",
       "<text text-anchor=\"middle\" x=\"991.5\" y=\"-460.8\" font-family=\"Times,serif\" font-size=\"14.00\">720</text>\n",
       "</g>\n",
       "<!-- Repair (Complex)+complete (724)&#45;&gt;Inform User+complete (1102) -->\n",
       "<g id=\"edge28\" class=\"edge\"><title>Repair (Complex)+complete (724)&#45;&gt;Inform User+complete (1102)</title>\n",
       "<path fill=\"none\" stroke=\"black\" d=\"M970.758,-501.817C1036.39,-502.459 1130.79,-499.673 1211.5,-483 1286.08,-467.595 1306.04,-461.069 1372,-423 1413.25,-399.192 1454.63,-362.665 1480.14,-338.316\"/>\n",
       "<polygon fill=\"black\" stroke=\"black\" points=\"1482.77,-340.643 1487.53,-331.178 1477.91,-335.607 1482.77,-340.643\"/>\n",
       "<text text-anchor=\"middle\" x=\"1197.5\" y=\"-490.8\" font-family=\"Times,serif\" font-size=\"14.00\">3</text>\n",
       "</g>\n",
       "<!-- Test Repair+complete (1508) -->\n",
       "<g id=\"node7\" class=\"node\"><title>Test Repair+complete (1508)</title>\n",
       "<polygon fill=\"#238b45\" stroke=\"#238b45\" points=\"1372,-296 1229,-296 1229,-260 1372,-260 1372,-296\"/>\n",
       "<text text-anchor=\"middle\" x=\"1300.5\" y=\"-275.5\" font-family=\"Helvetica,sans-Serif\" font-size=\"10.00\">Test Repair+complete (1508)</text>\n",
       "</g>\n",
       "<!-- Test Repair+start (1508)&#45;&gt;Test Repair+complete (1508) -->\n",
       "<g id=\"edge6\" class=\"edge\"><title>Test Repair+start (1508)&#45;&gt;Test Repair+complete (1508)</title>\n",
       "<path fill=\"none\" stroke=\"black\" d=\"M1106.91,-392.854C1121.85,-370.58 1150.09,-333.165 1183.5,-312 1194.45,-305.065 1206.87,-299.497 1219.41,-295.04\"/>\n",
       "<polygon fill=\"black\" stroke=\"black\" points=\"1220.62,-298.326 1229,-291.845 1218.4,-291.685 1220.62,-298.326\"/>\n",
       "<text text-anchor=\"middle\" x=\"1197.5\" y=\"-315.8\" font-family=\"Times,serif\" font-size=\"14.00\">1333</text>\n",
       "</g>\n",
       "<!-- Test Repair+start (1508)&#45;&gt;Inform User+complete (1102) -->\n",
       "<g id=\"edge19\" class=\"edge\"><title>Test Repair+start (1508)&#45;&gt;Inform User+complete (1102)</title>\n",
       "<path fill=\"none\" stroke=\"black\" d=\"M1156.05,-408.938C1221.31,-405.193 1327.45,-394.655 1414,-365 1433.98,-358.154 1454.57,-346.888 1471.15,-336.59\"/>\n",
       "<polygon fill=\"black\" stroke=\"black\" points=\"1473.37,-339.328 1479.92,-331.002 1469.6,-333.425 1473.37,-339.328\"/>\n",
       "<text text-anchor=\"middle\" x=\"1300.5\" y=\"-405.8\" font-family=\"Times,serif\" font-size=\"14.00\">175</text>\n",
       "</g>\n",
       "<!-- Test Repair+complete (1508)&#45;&gt;Inform User+complete (1102) -->\n",
       "<g id=\"edge7\" class=\"edge\"><title>Test Repair+complete (1508)&#45;&gt;Inform User+complete (1102)</title>\n",
       "<path fill=\"none\" stroke=\"black\" d=\"M1372.28,-290.143C1389.02,-293.015 1407,-296.1 1424.16,-299.045\"/>\n",
       "<polygon fill=\"black\" stroke=\"black\" points=\"1423.71,-302.518 1434.16,-300.76 1424.89,-295.619 1423.71,-302.518\"/>\n",
       "<text text-anchor=\"middle\" x=\"1403.5\" y=\"-299.8\" font-family=\"Times,serif\" font-size=\"14.00\">297</text>\n",
       "</g>\n",
       "<!-- Archive Repair+complete (1000) -->\n",
       "<g id=\"node9\" class=\"node\"><title>Archive Repair+complete (1000)</title>\n",
       "<polygon fill=\"#bae4b3\" stroke=\"#bae4b3\" points=\"1791,-198 1634,-198 1634,-162 1791,-162 1791,-198\"/>\n",
       "<text text-anchor=\"middle\" x=\"1712.5\" y=\"-177.5\" font-family=\"Helvetica,sans-Serif\" font-size=\"10.00\">Archive Repair+complete (1000)</text>\n",
       "</g>\n",
       "<!-- Test Repair+complete (1508)&#45;&gt;Archive Repair+complete (1000) -->\n",
       "<g id=\"edge16\" class=\"edge\"><title>Test Repair+complete (1508)&#45;&gt;Archive Repair+complete (1000)</title>\n",
       "<path fill=\"none\" stroke=\"black\" d=\"M1372.45,-261.042C1442.86,-244.212 1550.84,-218.402 1625.96,-200.447\"/>\n",
       "<polygon fill=\"black\" stroke=\"black\" points=\"1626.96,-203.807 1635.87,-198.078 1625.33,-196.999 1626.96,-203.807\"/>\n",
       "<text text-anchor=\"middle\" x=\"1506.5\" y=\"-248.8\" font-family=\"Times,serif\" font-size=\"14.00\">795</text>\n",
       "</g>\n",
       "<!-- Restart Repair+complete (406) -->\n",
       "<g id=\"node12\" class=\"node\"><title>Restart Repair+complete (406)</title>\n",
       "<polygon fill=\"#edf8e9\" stroke=\"#edf8e9\" points=\"1788,-137 1637,-137 1637,-101 1788,-101 1788,-137\"/>\n",
       "<text text-anchor=\"middle\" x=\"1712.5\" y=\"-116.5\" font-family=\"Helvetica,sans-Serif\" font-size=\"10.00\">Restart Repair+complete (406)</text>\n",
       "</g>\n",
       "<!-- Test Repair+complete (1508)&#45;&gt;Restart Repair+complete (406) -->\n",
       "<g id=\"edge12\" class=\"edge\"><title>Test Repair+complete (1508)&#45;&gt;Restart Repair+complete (406)</title>\n",
       "<path fill=\"none\" stroke=\"black\" d=\"M1326.09,-259.78C1352.13,-241.009 1394.86,-211.657 1434.5,-191 1504.36,-154.594 1522.08,-141.993 1599,-125 1607.91,-123.033 1617.3,-121.583 1626.71,-120.527\"/>\n",
       "<polygon fill=\"black\" stroke=\"black\" points=\"1627.29,-123.987 1636.9,-119.531 1626.61,-117.02 1627.29,-123.987\"/>\n",
       "<text text-anchor=\"middle\" x=\"1506.5\" y=\"-194.8\" font-family=\"Times,serif\" font-size=\"14.00\">341</text>\n",
       "</g>\n",
       "<!-- Inform User+complete (1102)&#45;&gt;Repair (Complex)+start (725) -->\n",
       "<g id=\"edge23\" class=\"edge\"><title>Inform User+complete (1102)&#45;&gt;Repair (Complex)+start (725)</title>\n",
       "<path fill=\"none\" stroke=\"black\" d=\"M1474.24,-294.98C1456.79,-285.247 1434.49,-273.345 1414,-264 1325.21,-223.515 1296.08,-222 1198.5,-222 887.5,-222 887.5,-222 887.5,-222 834.419,-222 776.079,-204.703 735.434,-189.689\"/>\n",
       "<polygon fill=\"black\" stroke=\"black\" points=\"736.604,-186.389 726.012,-186.131 734.131,-192.938 736.604,-186.389\"/>\n",
       "<text text-anchor=\"middle\" x=\"1094.5\" y=\"-225.8\" font-family=\"Times,serif\" font-size=\"14.00\">92</text>\n",
       "</g>\n",
       "<!-- Inform User+complete (1102)&#45;&gt;Repair (Complex)+complete (724) -->\n",
       "<g id=\"edge18\" class=\"edge\"><title>Inform User+complete (1102)&#45;&gt;Repair (Complex)+complete (724)</title>\n",
       "<path fill=\"none\" stroke=\"black\" d=\"M1504.37,-331.104C1500.54,-374.949 1484.03,-486.699 1414,-534 1334.26,-587.859 1075.53,-551.946 981,-534 966.337,-531.216 950.976,-526.229 937.118,-520.875\"/>\n",
       "<polygon fill=\"black\" stroke=\"black\" points=\"938.375,-517.609 927.791,-517.133 935.768,-524.105 938.375,-517.609\"/>\n",
       "<text text-anchor=\"middle\" x=\"1197.5\" y=\"-564.8\" font-family=\"Times,serif\" font-size=\"14.00\">310</text>\n",
       "</g>\n",
       "<!-- Inform User+complete (1102)&#45;&gt;Test Repair+start (1508) -->\n",
       "<g id=\"edge27\" class=\"edge\"><title>Inform User+complete (1102)&#45;&gt;Test Repair+start (1508)</title>\n",
       "<path fill=\"none\" stroke=\"black\" d=\"M1434.38,-319.831C1377.97,-326.318 1297.49,-337.964 1229,-357 1199.63,-365.163 1167.95,-377.799 1142.83,-388.796\"/>\n",
       "<polygon fill=\"black\" stroke=\"black\" points=\"1141.26,-385.663 1133.54,-392.918 1144.1,-392.061 1141.26,-385.663\"/>\n",
       "<text text-anchor=\"middle\" x=\"1300.5\" y=\"-360.8\" font-family=\"Times,serif\" font-size=\"14.00\">5</text>\n",
       "</g>\n",
       "<!-- Inform User+complete (1102)&#45;&gt;Test Repair+complete (1508) -->\n",
       "<g id=\"edge20\" class=\"edge\"><title>Inform User+complete (1102)&#45;&gt;Test Repair+complete (1508)</title>\n",
       "<path fill=\"none\" stroke=\"black\" d=\"M1473.13,-294.942C1456.1,-286.463 1434.53,-277.292 1414,-273 1403.85,-270.878 1393.07,-269.85 1382.37,-269.554\"/>\n",
       "<polygon fill=\"black\" stroke=\"black\" points=\"1382.18,-266.053 1372.15,-269.483 1382.13,-273.053 1382.18,-266.053\"/>\n",
       "<text text-anchor=\"middle\" x=\"1403.5\" y=\"-276.8\" font-family=\"Times,serif\" font-size=\"14.00\">175</text>\n",
       "</g>\n",
       "<!-- Inform User+complete (1102)&#45;&gt;Archive Repair+complete (1000) -->\n",
       "<g id=\"edge8\" class=\"edge\"><title>Inform User+complete (1102)&#45;&gt;Archive Repair+complete (1000)</title>\n",
       "<path fill=\"none\" stroke=\"black\" d=\"M1528.48,-294.946C1552.83,-274.512 1594.68,-240.959 1634,-217 1642.32,-211.933 1651.43,-207.043 1660.4,-202.569\"/>\n",
       "<polygon fill=\"black\" stroke=\"black\" points=\"1662.19,-205.59 1669.65,-198.068 1659.13,-199.296 1662.19,-205.59\"/>\n",
       "<text text-anchor=\"middle\" x=\"1609.5\" y=\"-241.8\" font-family=\"Times,serif\" font-size=\"14.00\">205</text>\n",
       "</g>\n",
       "<!-- Inform User+complete (1102)&#45;&gt;Repair (Simple)+start (785) -->\n",
       "<g id=\"edge22\" class=\"edge\"><title>Inform User+complete (1102)&#45;&gt;Repair (Simple)+start (785)</title>\n",
       "<path fill=\"none\" stroke=\"black\" d=\"M1578.78,-309.179C1636.42,-305.26 1719.45,-297.73 1791,-284 1811.14,-280.135 1832.72,-274.55 1852.25,-268.928\"/>\n",
       "<polygon fill=\"black\" stroke=\"black\" points=\"1853.35,-272.254 1861.96,-266.083 1851.38,-265.537 1853.35,-272.254\"/>\n",
       "<text text-anchor=\"middle\" x=\"1712.5\" y=\"-307.8\" font-family=\"Times,serif\" font-size=\"14.00\">64</text>\n",
       "</g>\n",
       "<!-- Repair (Simple)+complete (785) -->\n",
       "<g id=\"node11\" class=\"node\"><title>Repair (Simple)+complete (785)</title>\n",
       "<polygon fill=\"#bae4b3\" stroke=\"#bae4b3\" points=\"2202,-409 2047,-409 2047,-373 2202,-373 2202,-409\"/>\n",
       "<text text-anchor=\"middle\" x=\"2124.5\" y=\"-388.5\" font-family=\"Helvetica,sans-Serif\" font-size=\"10.00\">Repair (Simple)+complete (785)</text>\n",
       "</g>\n",
       "<!-- Inform User+complete (1102)&#45;&gt;Repair (Simple)+complete (785) -->\n",
       "<g id=\"edge15\" class=\"edge\"><title>Inform User+complete (1102)&#45;&gt;Repair (Simple)+complete (785)</title>\n",
       "<path fill=\"none\" stroke=\"black\" d=\"M1578.92,-322.404C1585.71,-323.286 1592.48,-324.163 1599,-325 1752.95,-344.781 1932.39,-367.23 2036.46,-380.189\"/>\n",
       "<polygon fill=\"black\" stroke=\"black\" points=\"2036.25,-383.69 2046.61,-381.452 2037.12,-376.743 2036.25,-383.69\"/>\n",
       "<text text-anchor=\"middle\" x=\"1815.5\" y=\"-356.8\" font-family=\"Times,serif\" font-size=\"14.00\">159</text>\n",
       "</g>\n",
       "<!-- Inform User+complete (1102)&#45;&gt;Restart Repair+complete (406) -->\n",
       "<g id=\"edge25\" class=\"edge\"><title>Inform User+complete (1102)&#45;&gt;Restart Repair+complete (406)</title>\n",
       "<path fill=\"none\" stroke=\"black\" d=\"M1521.28,-294.721C1552.56,-253.297 1626.79,-155.429 1634,-150 1637.92,-147.049 1642.15,-144.336 1646.56,-141.851\"/>\n",
       "<polygon fill=\"black\" stroke=\"black\" points=\"1648.51,-144.778 1655.77,-137.064 1645.29,-138.565 1648.51,-144.778\"/>\n",
       "<text text-anchor=\"middle\" x=\"1609.5\" y=\"-195.8\" font-family=\"Times,serif\" font-size=\"14.00\">65</text>\n",
       "</g>\n",
       "<!-- Repair (Simple)+start (785)&#45;&gt;Inform User+complete (1102) -->\n",
       "<g id=\"edge14\" class=\"edge\"><title>Repair (Simple)+start (785)&#45;&gt;Inform User+complete (1102)</title>\n",
       "<path fill=\"none\" stroke=\"black\" d=\"M1851.48,-247.199C1793.56,-247.73 1707.37,-251.528 1634,-267 1608.09,-272.464 1580.33,-282.103 1557.44,-291.151\"/>\n",
       "<polygon fill=\"black\" stroke=\"black\" points=\"1555.91,-287.993 1547.95,-294.979 1558.53,-294.486 1555.91,-287.993\"/>\n",
       "<text text-anchor=\"middle\" x=\"1712.5\" y=\"-270.8\" font-family=\"Times,serif\" font-size=\"14.00\">159</text>\n",
       "</g>\n",
       "<!-- Repair (Simple)+start (785)&#45;&gt;Repair (Simple)+complete (785) -->\n",
       "<g id=\"edge10\" class=\"edge\"><title>Repair (Simple)+start (785)&#45;&gt;Repair (Simple)+complete (785)</title>\n",
       "<path fill=\"none\" stroke=\"black\" d=\"M1945.34,-266.111C1981.87,-291.721 2048.69,-338.562 2089.3,-367.029\"/>\n",
       "<polygon fill=\"black\" stroke=\"black\" points=\"2087.35,-369.937 2097.55,-372.811 2091.37,-364.205 2087.35,-369.937\"/>\n",
       "<text text-anchor=\"middle\" x=\"2021.5\" y=\"-326.8\" font-family=\"Times,serif\" font-size=\"14.00\">626</text>\n",
       "</g>\n",
       "<!-- Repair (Simple)+complete (785)&#45;&gt;Test Repair+start (1508) -->\n",
       "<g id=\"edge11\" class=\"edge\"><title>Repair (Simple)+complete (785)&#45;&gt;Test Repair+start (1508)</title>\n",
       "<path fill=\"none\" stroke=\"black\" d=\"M2066.37,-409.013C2055.09,-411.886 2043.25,-414.427 2032,-416 1670.82,-466.471 1576.18,-423 1211.5,-425 1199.06,-425.068 1195.91,-425.981 1183.5,-425 1178.01,-424.566 1172.34,-423.981 1166.65,-423.297\"/>\n",
       "<polygon fill=\"black\" stroke=\"black\" points=\"1166.79,-419.785 1156.42,-421.967 1165.89,-426.727 1166.79,-419.785\"/>\n",
       "<text text-anchor=\"middle\" x=\"1609.5\" y=\"-441.8\" font-family=\"Times,serif\" font-size=\"14.00\">783</text>\n",
       "</g>\n",
       "<!-- Repair (Simple)+complete (785)&#45;&gt;Inform User+complete (1102) -->\n",
       "<g id=\"edge26\" class=\"edge\"><title>Repair (Simple)+complete (785)&#45;&gt;Inform User+complete (1102)</title>\n",
       "<path fill=\"none\" stroke=\"black\" d=\"M2046.96,-397.014C2034.93,-397.402 2022.63,-397.473 2011,-397 1842.69,-390.152 1798,-396.464 1634,-358 1609.18,-352.178 1582.48,-343.117 1560.03,-334.647\"/>\n",
       "<polygon fill=\"black\" stroke=\"black\" points=\"1561.28,-331.377 1550.69,-331.064 1558.77,-337.913 1561.28,-331.377\"/>\n",
       "<text text-anchor=\"middle\" x=\"1815.5\" y=\"-392.8\" font-family=\"Times,serif\" font-size=\"14.00\">2</text>\n",
       "</g>\n",
       "<!-- Restart Repair+complete (406)&#45;&gt;Repair (Complex)+start (725) -->\n",
       "<g id=\"edge24\" class=\"edge\"><title>Restart Repair+complete (406)&#45;&gt;Repair (Complex)+start (725)</title>\n",
       "<path fill=\"none\" stroke=\"black\" d=\"M1679.04,-100.956C1639.69,-80.8104 1570.78,-51 1507.5,-51 887.5,-51 887.5,-51 887.5,-51 814.432,-51 743.827,-108.18 707.951,-142.592\"/>\n",
       "<polygon fill=\"black\" stroke=\"black\" points=\"705.111,-140.475 700.421,-149.975 710.012,-145.474 705.111,-140.475\"/>\n",
       "<text text-anchor=\"middle\" x=\"1197.5\" y=\"-54.8\" font-family=\"Times,serif\" font-size=\"14.00\">105</text>\n",
       "</g>\n",
       "<!-- Restart Repair+complete (406)&#45;&gt;Inform User+complete (1102) -->\n",
       "<g id=\"edge29\" class=\"edge\"><title>Restart Repair+complete (406)&#45;&gt;Inform User+complete (1102)</title>\n",
       "<path fill=\"none\" stroke=\"black\" d=\"M1636.87,-124.543C1622.91,-128.619 1609.44,-135.035 1599,-145 1574.62,-168.267 1593.39,-187.771 1578.5,-218 1566.03,-243.307 1546.57,-268.738 1531.17,-286.911\"/>\n",
       "<polygon fill=\"black\" stroke=\"black\" points=\"1528.31,-284.868 1524.43,-294.723 1533.61,-289.443 1528.31,-284.868\"/>\n",
       "<text text-anchor=\"middle\" x=\"1609.5\" y=\"-148.8\" font-family=\"Times,serif\" font-size=\"14.00\">1</text>\n",
       "</g>\n",
       "<!-- Restart Repair+complete (406)&#45;&gt;Repair (Simple)+start (785) -->\n",
       "<g id=\"edge13\" class=\"edge\"><title>Restart Repair+complete (406)&#45;&gt;Repair (Simple)+start (785)</title>\n",
       "<path fill=\"none\" stroke=\"black\" d=\"M1764.48,-137.03C1773.53,-140.888 1782.7,-145.249 1791,-150 1827.61,-170.953 1865.29,-201.525 1889.9,-222.936\"/>\n",
       "<polygon fill=\"black\" stroke=\"black\" points=\"1887.9,-225.84 1897.72,-229.818 1892.52,-220.585 1887.9,-225.84\"/>\n",
       "<text text-anchor=\"middle\" x=\"1815.5\" y=\"-174.8\" font-family=\"Times,serif\" font-size=\"14.00\">300</text>\n",
       "</g>\n",
       "</g>\n",
       "</svg>\n"
      ],
      "text/plain": [
       "<graphviz.dot.Digraph at 0x7fdbf308a7c0>"
      ]
     },
     "execution_count": 59,
     "metadata": {},
     "output_type": "execute_result"
    }
   ],
   "source": [
    "draw_dfg(a1, \"a1\", 0, save=False, lifecycle_present=False)"
   ]
  },
  {
   "cell_type": "code",
   "execution_count": 8,
   "metadata": {
    "colab": {
     "base_uri": "https://localhost:8080/"
    },
    "id": "FeULniRpD7mG",
    "outputId": "4f6ad99f-1585-495e-e8f6-9e8595e2c932"
   },
   "outputs": [
    {
     "name": "stdout",
     "output_type": "stream",
     "text": [
      "{'case:id': 100, 'concept:name': 'Test Repair+complete'}\n"
     ]
    }
   ],
   "source": [
    "#print random event\n",
    "idx = random.randint(0, len(a1.traces)-1)\n",
    "pprint(a1.events[idx])                    # last idx 108, as seen in cell output"
   ]
  },
  {
   "cell_type": "code",
   "execution_count": null,
   "metadata": {
    "colab": {
     "base_uri": "https://localhost:8080/"
    },
    "id": "do1qyFX7Uhb5",
    "outputId": "f199854e-2e45-43fc-f6d1-dee783dd2d1c"
   },
   "outputs": [],
   "source": [
    "print_reimport(a1)"
   ]
  },
  {
   "cell_type": "markdown",
   "metadata": {
    "id": "V3_QSkMU2AHr"
   },
   "source": [
    "### A2"
   ]
  },
  {
   "cell_type": "code",
   "execution_count": 23,
   "metadata": {
    "colab": {
     "base_uri": "https://localhost:8080/"
    },
    "id": "t2ywO_x3TY89",
    "outputId": "0511b685-2dcc-4dba-b2c3-3d9548f0bec8"
   },
   "outputs": [
    {
     "name": "stderr",
     "output_type": "stream",
     "text": [
      "10712it [00:00, 106758.92it/s]"
     ]
    },
    {
     "name": "stdout",
     "output_type": "stream",
     "text": [
      "Processing log...\n"
     ]
    },
    {
     "name": "stderr",
     "output_type": "stream",
     "text": [
      "75566it [00:00, 140309.11it/s]\n"
     ]
    }
   ],
   "source": [
    "a2 = xes.import_xes(pa2)"
   ]
  },
  {
   "cell_type": "code",
   "execution_count": null,
   "metadata": {
    "colab": {
     "base_uri": "https://localhost:8080/"
    },
    "id": "EWNzbQklIUZ_",
    "outputId": "62613434-3076-4720-fc7d-68decdaa1824"
   },
   "outputs": [
    {
     "name": "stdout",
     "output_type": "stream",
     "text": [
      "Traces: 1104 Events: 11855\n"
     ]
    }
   ],
   "source": [
    "print(\"Traces:\", len(a2.traces), \"Events:\", len(a2.events))"
   ]
  },
  {
   "cell_type": "code",
   "execution_count": 62,
   "metadata": {},
   "outputs": [
    {
     "data": {
      "image/svg+xml": [
       "<?xml version=\"1.0\" encoding=\"UTF-8\" standalone=\"no\"?>\n",
       "<!DOCTYPE svg PUBLIC \"-//W3C//DTD SVG 1.1//EN\"\n",
       " \"http://www.w3.org/Graphics/SVG/1.1/DTD/svg11.dtd\">\n",
       "<!-- Generated by graphviz version 2.38.0 (20140413.2041)\n",
       " -->\n",
       "<!-- Title: a2 Pages: 1 -->\n",
       "<svg width=\"2210pt\" height=\"640pt\"\n",
       " viewBox=\"0.00 0.00 2210.00 640.00\" xmlns=\"http://www.w3.org/2000/svg\" xmlns:xlink=\"http://www.w3.org/1999/xlink\">\n",
       "<g id=\"graph0\" class=\"graph\" transform=\"scale(1 1) rotate(0) translate(4 636)\">\n",
       "<title>a2</title>\n",
       "<polygon fill=\"white\" stroke=\"none\" points=\"-4,4 -4,-636 2206,-636 2206,4 -4,4\"/>\n",
       "<!-- Register+complete (1104) -->\n",
       "<g id=\"node1\" class=\"node\"><title>Register+complete (1104)</title>\n",
       "<polygon fill=\"#74c476\" stroke=\"#74c476\" points=\"129,-186 0,-186 0,-150 129,-150 129,-186\"/>\n",
       "<text text-anchor=\"middle\" x=\"64.5\" y=\"-165.5\" font-family=\"Helvetica,sans-Serif\" font-size=\"10.00\">Register+complete (1104)</text>\n",
       "</g>\n",
       "<!-- Analyze Defect+start (1104) -->\n",
       "<g id=\"node2\" class=\"node\"><title>Analyze Defect+start (1104)</title>\n",
       "<polygon fill=\"#74c476\" stroke=\"#74c476\" points=\"340.5,-186 200.5,-186 200.5,-150 340.5,-150 340.5,-186\"/>\n",
       "<text text-anchor=\"middle\" x=\"270.5\" y=\"-165.5\" font-family=\"Helvetica,sans-Serif\" font-size=\"10.00\">Analyze Defect+start (1104)</text>\n",
       "</g>\n",
       "<!-- Register+complete (1104)&#45;&gt;Analyze Defect+start (1104) -->\n",
       "<g id=\"edge1\" class=\"edge\"><title>Register+complete (1104)&#45;&gt;Analyze Defect+start (1104)</title>\n",
       "<path fill=\"none\" stroke=\"black\" d=\"M129.208,-168C148.51,-168 169.952,-168 190.146,-168\"/>\n",
       "<polygon fill=\"black\" stroke=\"black\" points=\"190.259,-171.5 200.259,-168 190.259,-164.5 190.259,-171.5\"/>\n",
       "<text text-anchor=\"middle\" x=\"167.5\" y=\"-171.8\" font-family=\"Times,serif\" font-size=\"14.00\">1104</text>\n",
       "</g>\n",
       "<!-- Analyze Defect+complete (1104) -->\n",
       "<g id=\"node3\" class=\"node\"><title>Analyze Defect+complete (1104)</title>\n",
       "<polygon fill=\"#74c476\" stroke=\"#74c476\" points=\"556.5,-186 396.5,-186 396.5,-150 556.5,-150 556.5,-186\"/>\n",
       "<text text-anchor=\"middle\" x=\"476.5\" y=\"-165.5\" font-family=\"Helvetica,sans-Serif\" font-size=\"10.00\">Analyze Defect+complete (1104)</text>\n",
       "</g>\n",
       "<!-- Analyze Defect+start (1104)&#45;&gt;Analyze Defect+complete (1104) -->\n",
       "<g id=\"edge2\" class=\"edge\"><title>Analyze Defect+start (1104)&#45;&gt;Analyze Defect+complete (1104)</title>\n",
       "<path fill=\"none\" stroke=\"black\" d=\"M340.565,-168C355.262,-168 370.981,-168 386.308,-168\"/>\n",
       "<polygon fill=\"black\" stroke=\"black\" points=\"386.309,-171.5 396.309,-168 386.309,-164.5 386.309,-171.5\"/>\n",
       "<text text-anchor=\"middle\" x=\"373.5\" y=\"-171.8\" font-family=\"Times,serif\" font-size=\"14.00\">1104</text>\n",
       "</g>\n",
       "<!-- Repair (Complex)+start (725) -->\n",
       "<g id=\"node4\" class=\"node\"><title>Repair (Complex)+start (725)</title>\n",
       "<polygon fill=\"#bae4b3\" stroke=\"#bae4b3\" points=\"754,-186 611,-186 611,-150 754,-150 754,-186\"/>\n",
       "<text text-anchor=\"middle\" x=\"682.5\" y=\"-165.5\" font-family=\"Helvetica,sans-Serif\" font-size=\"10.00\">Repair (Complex)+start (725)</text>\n",
       "</g>\n",
       "<!-- Analyze Defect+complete (1104)&#45;&gt;Repair (Complex)+start (725) -->\n",
       "<g id=\"edge3\" class=\"edge\"><title>Analyze Defect+complete (1104)&#45;&gt;Repair (Complex)+start (725)</title>\n",
       "<path fill=\"none\" stroke=\"black\" d=\"M556.664,-168C570.993,-168 585.957,-168 600.342,-168\"/>\n",
       "<polygon fill=\"black\" stroke=\"black\" points=\"600.698,-171.5 610.698,-168 600.698,-164.5 600.698,-171.5\"/>\n",
       "<text text-anchor=\"middle\" x=\"579.5\" y=\"-171.8\" font-family=\"Times,serif\" font-size=\"14.00\">528</text>\n",
       "</g>\n",
       "<!-- Inform User+complete (1102) -->\n",
       "<g id=\"node8\" class=\"node\"><title>Inform User+complete (1102)</title>\n",
       "<polygon fill=\"#74c476\" stroke=\"#74c476\" points=\"1578.5,-331 1434.5,-331 1434.5,-295 1578.5,-295 1578.5,-331\"/>\n",
       "<text text-anchor=\"middle\" x=\"1506.5\" y=\"-310.5\" font-family=\"Helvetica,sans-Serif\" font-size=\"10.00\">Inform User+complete (1102)</text>\n",
       "</g>\n",
       "<!-- Analyze Defect+complete (1104)&#45;&gt;Inform User+complete (1102) -->\n",
       "<g id=\"edge21\" class=\"edge\"><title>Analyze Defect+complete (1104)&#45;&gt;Inform User+complete (1102)</title>\n",
       "<path fill=\"none\" stroke=\"black\" d=\"M477.275,-186.157C477.259,-270.158 488.855,-617 681.5,-617 681.5,-617 681.5,-617 1301.5,-617 1358.17,-617 1376.64,-599.61 1414,-557 1470.41,-492.663 1493.41,-390.218 1501.58,-341.083\"/>\n",
       "<polygon fill=\"black\" stroke=\"black\" points=\"1505.04,-341.588 1503.14,-331.165 1498.13,-340.496 1505.04,-341.588\"/>\n",
       "<text text-anchor=\"middle\" x=\"991.5\" y=\"-620.8\" font-family=\"Times,serif\" font-size=\"14.00\">155</text>\n",
       "</g>\n",
       "<!-- Repair (Simple)+start (785) -->\n",
       "<g id=\"node10\" class=\"node\"><title>Repair (Simple)+start (785)</title>\n",
       "<polygon fill=\"#bae4b3\" stroke=\"#bae4b3\" points=\"1985.5,-266 1851.5,-266 1851.5,-230 1985.5,-230 1985.5,-266\"/>\n",
       "<text text-anchor=\"middle\" x=\"1918.5\" y=\"-245.5\" font-family=\"Helvetica,sans-Serif\" font-size=\"10.00\">Repair (Simple)+start (785)</text>\n",
       "</g>\n",
       "<!-- Analyze Defect+complete (1104)&#45;&gt;Repair (Simple)+start (785) -->\n",
       "<g id=\"edge9\" class=\"edge\"><title>Analyze Defect+complete (1104)&#45;&gt;Repair (Simple)+start (785)</title>\n",
       "<path fill=\"none\" stroke=\"black\" d=\"M487.94,-149.701C514.297,-106.159 588.133,-0 681.5,-0 681.5,-0 681.5,-0 1713.5,-0 1826.48,-0 1888.43,-155.418 1909.34,-220.185\"/>\n",
       "<polygon fill=\"black\" stroke=\"black\" points=\"1906.01,-221.27 1912.34,-229.764 1912.69,-219.175 1906.01,-221.27\"/>\n",
       "<text text-anchor=\"middle\" x=\"1197.5\" y=\"-3.8\" font-family=\"Times,serif\" font-size=\"14.00\">421</text>\n",
       "</g>\n",
       "<!-- Repair (Complex)+complete (724) -->\n",
       "<g id=\"node5\" class=\"node\"><title>Repair (Complex)+complete (724)</title>\n",
       "<polygon fill=\"#bae4b3\" stroke=\"#bae4b3\" points=\"970.5,-517 806.5,-517 806.5,-481 970.5,-481 970.5,-517\"/>\n",
       "<text text-anchor=\"middle\" x=\"888.5\" y=\"-496.5\" font-family=\"Helvetica,sans-Serif\" font-size=\"10.00\">Repair (Complex)+complete (724)</text>\n",
       "</g>\n",
       "<!-- Repair (Complex)+start (725)&#45;&gt;Repair (Complex)+complete (724) -->\n",
       "<g id=\"edge4\" class=\"edge\"><title>Repair (Complex)+start (725)&#45;&gt;Repair (Complex)+complete (724)</title>\n",
       "<path fill=\"none\" stroke=\"black\" d=\"M694.759,-186.267C728.753,-241.425 830.488,-406.495 870.791,-471.889\"/>\n",
       "<polygon fill=\"black\" stroke=\"black\" points=\"868.05,-474.112 876.276,-480.789 874.009,-470.44 868.05,-474.112\"/>\n",
       "<text text-anchor=\"middle\" x=\"785.5\" y=\"-346.8\" font-family=\"Times,serif\" font-size=\"14.00\">414</text>\n",
       "</g>\n",
       "<!-- Repair (Complex)+start (725)&#45;&gt;Inform User+complete (1102) -->\n",
       "<g id=\"edge17\" class=\"edge\"><title>Repair (Complex)+start (725)&#45;&gt;Inform User+complete (1102)</title>\n",
       "<path fill=\"none\" stroke=\"black\" d=\"M726.012,-149.869C766.691,-134.181 830.164,-114 887.5,-114 887.5,-114 887.5,-114 1301.5,-114 1366.09,-114 1377.14,-152.958 1414,-206 1430.08,-229.142 1417.27,-243.697 1434.5,-266 1441.42,-274.957 1450.55,-282.761 1459.95,-289.299\"/>\n",
       "<polygon fill=\"black\" stroke=\"black\" points=\"1458.32,-292.412 1468.6,-294.945 1462.14,-286.55 1458.32,-292.412\"/>\n",
       "<text text-anchor=\"middle\" x=\"1094.5\" y=\"-117.8\" font-family=\"Times,serif\" font-size=\"14.00\">310</text>\n",
       "</g>\n",
       "<!-- Test Repair+start (1508) -->\n",
       "<g id=\"node6\" class=\"node\"><title>Test Repair+start (1508)</title>\n",
       "<polygon fill=\"#238b45\" stroke=\"#238b45\" points=\"1156,-429 1033,-429 1033,-393 1156,-393 1156,-429\"/>\n",
       "<text text-anchor=\"middle\" x=\"1094.5\" y=\"-408.5\" font-family=\"Helvetica,sans-Serif\" font-size=\"10.00\">Test Repair+start (1508)</text>\n",
       "</g>\n",
       "<!-- Repair (Complex)+complete (724)&#45;&gt;Test Repair+start (1508) -->\n",
       "<g id=\"edge5\" class=\"edge\"><title>Repair (Complex)+complete (724)&#45;&gt;Test Repair+start (1508)</title>\n",
       "<path fill=\"none\" stroke=\"black\" d=\"M931.275,-480.98C963.346,-467.145 1007.79,-447.971 1042.06,-433.191\"/>\n",
       "<polygon fill=\"black\" stroke=\"black\" points=\"1043.64,-436.322 1051.43,-429.147 1040.86,-429.895 1043.64,-436.322\"/>\n",
       "<text text-anchor=\"middle\" x=\"991.5\" y=\"-460.8\" font-family=\"Times,serif\" font-size=\"14.00\">720</text>\n",
       "</g>\n",
       "<!-- Repair (Complex)+complete (724)&#45;&gt;Inform User+complete (1102) -->\n",
       "<g id=\"edge28\" class=\"edge\"><title>Repair (Complex)+complete (724)&#45;&gt;Inform User+complete (1102)</title>\n",
       "<path fill=\"none\" stroke=\"black\" d=\"M970.758,-501.817C1036.39,-502.459 1130.79,-499.673 1211.5,-483 1286.08,-467.595 1306.04,-461.069 1372,-423 1413.25,-399.192 1454.63,-362.665 1480.14,-338.316\"/>\n",
       "<polygon fill=\"black\" stroke=\"black\" points=\"1482.77,-340.643 1487.53,-331.178 1477.91,-335.607 1482.77,-340.643\"/>\n",
       "<text text-anchor=\"middle\" x=\"1197.5\" y=\"-490.8\" font-family=\"Times,serif\" font-size=\"14.00\">3</text>\n",
       "</g>\n",
       "<!-- Test Repair+complete (1508) -->\n",
       "<g id=\"node7\" class=\"node\"><title>Test Repair+complete (1508)</title>\n",
       "<polygon fill=\"#238b45\" stroke=\"#238b45\" points=\"1372,-296 1229,-296 1229,-260 1372,-260 1372,-296\"/>\n",
       "<text text-anchor=\"middle\" x=\"1300.5\" y=\"-275.5\" font-family=\"Helvetica,sans-Serif\" font-size=\"10.00\">Test Repair+complete (1508)</text>\n",
       "</g>\n",
       "<!-- Test Repair+start (1508)&#45;&gt;Test Repair+complete (1508) -->\n",
       "<g id=\"edge6\" class=\"edge\"><title>Test Repair+start (1508)&#45;&gt;Test Repair+complete (1508)</title>\n",
       "<path fill=\"none\" stroke=\"black\" d=\"M1106.91,-392.854C1121.85,-370.58 1150.09,-333.165 1183.5,-312 1194.45,-305.065 1206.87,-299.497 1219.41,-295.04\"/>\n",
       "<polygon fill=\"black\" stroke=\"black\" points=\"1220.62,-298.326 1229,-291.845 1218.4,-291.685 1220.62,-298.326\"/>\n",
       "<text text-anchor=\"middle\" x=\"1197.5\" y=\"-315.8\" font-family=\"Times,serif\" font-size=\"14.00\">1333</text>\n",
       "</g>\n",
       "<!-- Test Repair+start (1508)&#45;&gt;Inform User+complete (1102) -->\n",
       "<g id=\"edge19\" class=\"edge\"><title>Test Repair+start (1508)&#45;&gt;Inform User+complete (1102)</title>\n",
       "<path fill=\"none\" stroke=\"black\" d=\"M1156.05,-408.938C1221.31,-405.193 1327.45,-394.655 1414,-365 1433.98,-358.154 1454.57,-346.888 1471.15,-336.59\"/>\n",
       "<polygon fill=\"black\" stroke=\"black\" points=\"1473.37,-339.328 1479.92,-331.002 1469.6,-333.425 1473.37,-339.328\"/>\n",
       "<text text-anchor=\"middle\" x=\"1300.5\" y=\"-405.8\" font-family=\"Times,serif\" font-size=\"14.00\">175</text>\n",
       "</g>\n",
       "<!-- Test Repair+complete (1508)&#45;&gt;Inform User+complete (1102) -->\n",
       "<g id=\"edge7\" class=\"edge\"><title>Test Repair+complete (1508)&#45;&gt;Inform User+complete (1102)</title>\n",
       "<path fill=\"none\" stroke=\"black\" d=\"M1372.28,-290.143C1389.02,-293.015 1407,-296.1 1424.16,-299.045\"/>\n",
       "<polygon fill=\"black\" stroke=\"black\" points=\"1423.71,-302.518 1434.16,-300.76 1424.89,-295.619 1423.71,-302.518\"/>\n",
       "<text text-anchor=\"middle\" x=\"1403.5\" y=\"-299.8\" font-family=\"Times,serif\" font-size=\"14.00\">297</text>\n",
       "</g>\n",
       "<!-- Archive Repair+complete (1000) -->\n",
       "<g id=\"node9\" class=\"node\"><title>Archive Repair+complete (1000)</title>\n",
       "<polygon fill=\"#bae4b3\" stroke=\"#bae4b3\" points=\"1791,-198 1634,-198 1634,-162 1791,-162 1791,-198\"/>\n",
       "<text text-anchor=\"middle\" x=\"1712.5\" y=\"-177.5\" font-family=\"Helvetica,sans-Serif\" font-size=\"10.00\">Archive Repair+complete (1000)</text>\n",
       "</g>\n",
       "<!-- Test Repair+complete (1508)&#45;&gt;Archive Repair+complete (1000) -->\n",
       "<g id=\"edge16\" class=\"edge\"><title>Test Repair+complete (1508)&#45;&gt;Archive Repair+complete (1000)</title>\n",
       "<path fill=\"none\" stroke=\"black\" d=\"M1372.45,-261.042C1442.86,-244.212 1550.84,-218.402 1625.96,-200.447\"/>\n",
       "<polygon fill=\"black\" stroke=\"black\" points=\"1626.96,-203.807 1635.87,-198.078 1625.33,-196.999 1626.96,-203.807\"/>\n",
       "<text text-anchor=\"middle\" x=\"1506.5\" y=\"-248.8\" font-family=\"Times,serif\" font-size=\"14.00\">795</text>\n",
       "</g>\n",
       "<!-- Restart Repair+complete (406) -->\n",
       "<g id=\"node12\" class=\"node\"><title>Restart Repair+complete (406)</title>\n",
       "<polygon fill=\"#edf8e9\" stroke=\"#edf8e9\" points=\"1788,-137 1637,-137 1637,-101 1788,-101 1788,-137\"/>\n",
       "<text text-anchor=\"middle\" x=\"1712.5\" y=\"-116.5\" font-family=\"Helvetica,sans-Serif\" font-size=\"10.00\">Restart Repair+complete (406)</text>\n",
       "</g>\n",
       "<!-- Test Repair+complete (1508)&#45;&gt;Restart Repair+complete (406) -->\n",
       "<g id=\"edge12\" class=\"edge\"><title>Test Repair+complete (1508)&#45;&gt;Restart Repair+complete (406)</title>\n",
       "<path fill=\"none\" stroke=\"black\" d=\"M1326.09,-259.78C1352.13,-241.009 1394.86,-211.657 1434.5,-191 1504.36,-154.594 1522.08,-141.993 1599,-125 1607.91,-123.033 1617.3,-121.583 1626.71,-120.527\"/>\n",
       "<polygon fill=\"black\" stroke=\"black\" points=\"1627.29,-123.987 1636.9,-119.531 1626.61,-117.02 1627.29,-123.987\"/>\n",
       "<text text-anchor=\"middle\" x=\"1506.5\" y=\"-194.8\" font-family=\"Times,serif\" font-size=\"14.00\">341</text>\n",
       "</g>\n",
       "<!-- Inform User+complete (1102)&#45;&gt;Repair (Complex)+start (725) -->\n",
       "<g id=\"edge23\" class=\"edge\"><title>Inform User+complete (1102)&#45;&gt;Repair (Complex)+start (725)</title>\n",
       "<path fill=\"none\" stroke=\"black\" d=\"M1474.24,-294.98C1456.79,-285.247 1434.49,-273.345 1414,-264 1325.21,-223.515 1296.08,-222 1198.5,-222 887.5,-222 887.5,-222 887.5,-222 834.419,-222 776.079,-204.703 735.434,-189.689\"/>\n",
       "<polygon fill=\"black\" stroke=\"black\" points=\"736.604,-186.389 726.012,-186.131 734.131,-192.938 736.604,-186.389\"/>\n",
       "<text text-anchor=\"middle\" x=\"1094.5\" y=\"-225.8\" font-family=\"Times,serif\" font-size=\"14.00\">92</text>\n",
       "</g>\n",
       "<!-- Inform User+complete (1102)&#45;&gt;Repair (Complex)+complete (724) -->\n",
       "<g id=\"edge18\" class=\"edge\"><title>Inform User+complete (1102)&#45;&gt;Repair (Complex)+complete (724)</title>\n",
       "<path fill=\"none\" stroke=\"black\" d=\"M1504.37,-331.104C1500.54,-374.949 1484.03,-486.699 1414,-534 1334.26,-587.859 1075.53,-551.946 981,-534 966.337,-531.216 950.976,-526.229 937.118,-520.875\"/>\n",
       "<polygon fill=\"black\" stroke=\"black\" points=\"938.375,-517.609 927.791,-517.133 935.768,-524.105 938.375,-517.609\"/>\n",
       "<text text-anchor=\"middle\" x=\"1197.5\" y=\"-564.8\" font-family=\"Times,serif\" font-size=\"14.00\">310</text>\n",
       "</g>\n",
       "<!-- Inform User+complete (1102)&#45;&gt;Test Repair+start (1508) -->\n",
       "<g id=\"edge27\" class=\"edge\"><title>Inform User+complete (1102)&#45;&gt;Test Repair+start (1508)</title>\n",
       "<path fill=\"none\" stroke=\"black\" d=\"M1434.38,-319.831C1377.97,-326.318 1297.49,-337.964 1229,-357 1199.63,-365.163 1167.95,-377.799 1142.83,-388.796\"/>\n",
       "<polygon fill=\"black\" stroke=\"black\" points=\"1141.26,-385.663 1133.54,-392.918 1144.1,-392.061 1141.26,-385.663\"/>\n",
       "<text text-anchor=\"middle\" x=\"1300.5\" y=\"-360.8\" font-family=\"Times,serif\" font-size=\"14.00\">5</text>\n",
       "</g>\n",
       "<!-- Inform User+complete (1102)&#45;&gt;Test Repair+complete (1508) -->\n",
       "<g id=\"edge20\" class=\"edge\"><title>Inform User+complete (1102)&#45;&gt;Test Repair+complete (1508)</title>\n",
       "<path fill=\"none\" stroke=\"black\" d=\"M1473.13,-294.942C1456.1,-286.463 1434.53,-277.292 1414,-273 1403.85,-270.878 1393.07,-269.85 1382.37,-269.554\"/>\n",
       "<polygon fill=\"black\" stroke=\"black\" points=\"1382.18,-266.053 1372.15,-269.483 1382.13,-273.053 1382.18,-266.053\"/>\n",
       "<text text-anchor=\"middle\" x=\"1403.5\" y=\"-276.8\" font-family=\"Times,serif\" font-size=\"14.00\">175</text>\n",
       "</g>\n",
       "<!-- Inform User+complete (1102)&#45;&gt;Archive Repair+complete (1000) -->\n",
       "<g id=\"edge8\" class=\"edge\"><title>Inform User+complete (1102)&#45;&gt;Archive Repair+complete (1000)</title>\n",
       "<path fill=\"none\" stroke=\"black\" d=\"M1528.48,-294.946C1552.83,-274.512 1594.68,-240.959 1634,-217 1642.32,-211.933 1651.43,-207.043 1660.4,-202.569\"/>\n",
       "<polygon fill=\"black\" stroke=\"black\" points=\"1662.19,-205.59 1669.65,-198.068 1659.13,-199.296 1662.19,-205.59\"/>\n",
       "<text text-anchor=\"middle\" x=\"1609.5\" y=\"-241.8\" font-family=\"Times,serif\" font-size=\"14.00\">205</text>\n",
       "</g>\n",
       "<!-- Inform User+complete (1102)&#45;&gt;Repair (Simple)+start (785) -->\n",
       "<g id=\"edge22\" class=\"edge\"><title>Inform User+complete (1102)&#45;&gt;Repair (Simple)+start (785)</title>\n",
       "<path fill=\"none\" stroke=\"black\" d=\"M1578.78,-309.179C1636.42,-305.26 1719.45,-297.73 1791,-284 1811.14,-280.135 1832.72,-274.55 1852.25,-268.928\"/>\n",
       "<polygon fill=\"black\" stroke=\"black\" points=\"1853.35,-272.254 1861.96,-266.083 1851.38,-265.537 1853.35,-272.254\"/>\n",
       "<text text-anchor=\"middle\" x=\"1712.5\" y=\"-307.8\" font-family=\"Times,serif\" font-size=\"14.00\">64</text>\n",
       "</g>\n",
       "<!-- Repair (Simple)+complete (785) -->\n",
       "<g id=\"node11\" class=\"node\"><title>Repair (Simple)+complete (785)</title>\n",
       "<polygon fill=\"#bae4b3\" stroke=\"#bae4b3\" points=\"2202,-409 2047,-409 2047,-373 2202,-373 2202,-409\"/>\n",
       "<text text-anchor=\"middle\" x=\"2124.5\" y=\"-388.5\" font-family=\"Helvetica,sans-Serif\" font-size=\"10.00\">Repair (Simple)+complete (785)</text>\n",
       "</g>\n",
       "<!-- Inform User+complete (1102)&#45;&gt;Repair (Simple)+complete (785) -->\n",
       "<g id=\"edge15\" class=\"edge\"><title>Inform User+complete (1102)&#45;&gt;Repair (Simple)+complete (785)</title>\n",
       "<path fill=\"none\" stroke=\"black\" d=\"M1578.92,-322.404C1585.71,-323.286 1592.48,-324.163 1599,-325 1752.95,-344.781 1932.39,-367.23 2036.46,-380.189\"/>\n",
       "<polygon fill=\"black\" stroke=\"black\" points=\"2036.25,-383.69 2046.61,-381.452 2037.12,-376.743 2036.25,-383.69\"/>\n",
       "<text text-anchor=\"middle\" x=\"1815.5\" y=\"-356.8\" font-family=\"Times,serif\" font-size=\"14.00\">159</text>\n",
       "</g>\n",
       "<!-- Inform User+complete (1102)&#45;&gt;Restart Repair+complete (406) -->\n",
       "<g id=\"edge25\" class=\"edge\"><title>Inform User+complete (1102)&#45;&gt;Restart Repair+complete (406)</title>\n",
       "<path fill=\"none\" stroke=\"black\" d=\"M1521.28,-294.721C1552.56,-253.297 1626.79,-155.429 1634,-150 1637.92,-147.049 1642.15,-144.336 1646.56,-141.851\"/>\n",
       "<polygon fill=\"black\" stroke=\"black\" points=\"1648.51,-144.778 1655.77,-137.064 1645.29,-138.565 1648.51,-144.778\"/>\n",
       "<text text-anchor=\"middle\" x=\"1609.5\" y=\"-195.8\" font-family=\"Times,serif\" font-size=\"14.00\">65</text>\n",
       "</g>\n",
       "<!-- Repair (Simple)+start (785)&#45;&gt;Inform User+complete (1102) -->\n",
       "<g id=\"edge14\" class=\"edge\"><title>Repair (Simple)+start (785)&#45;&gt;Inform User+complete (1102)</title>\n",
       "<path fill=\"none\" stroke=\"black\" d=\"M1851.48,-247.199C1793.56,-247.73 1707.37,-251.528 1634,-267 1608.09,-272.464 1580.33,-282.103 1557.44,-291.151\"/>\n",
       "<polygon fill=\"black\" stroke=\"black\" points=\"1555.91,-287.993 1547.95,-294.979 1558.53,-294.486 1555.91,-287.993\"/>\n",
       "<text text-anchor=\"middle\" x=\"1712.5\" y=\"-270.8\" font-family=\"Times,serif\" font-size=\"14.00\">159</text>\n",
       "</g>\n",
       "<!-- Repair (Simple)+start (785)&#45;&gt;Repair (Simple)+complete (785) -->\n",
       "<g id=\"edge10\" class=\"edge\"><title>Repair (Simple)+start (785)&#45;&gt;Repair (Simple)+complete (785)</title>\n",
       "<path fill=\"none\" stroke=\"black\" d=\"M1945.34,-266.111C1981.87,-291.721 2048.69,-338.562 2089.3,-367.029\"/>\n",
       "<polygon fill=\"black\" stroke=\"black\" points=\"2087.35,-369.937 2097.55,-372.811 2091.37,-364.205 2087.35,-369.937\"/>\n",
       "<text text-anchor=\"middle\" x=\"2021.5\" y=\"-326.8\" font-family=\"Times,serif\" font-size=\"14.00\">626</text>\n",
       "</g>\n",
       "<!-- Repair (Simple)+complete (785)&#45;&gt;Test Repair+start (1508) -->\n",
       "<g id=\"edge11\" class=\"edge\"><title>Repair (Simple)+complete (785)&#45;&gt;Test Repair+start (1508)</title>\n",
       "<path fill=\"none\" stroke=\"black\" d=\"M2066.37,-409.013C2055.09,-411.886 2043.25,-414.427 2032,-416 1670.82,-466.471 1576.18,-423 1211.5,-425 1199.06,-425.068 1195.91,-425.981 1183.5,-425 1178.01,-424.566 1172.34,-423.981 1166.65,-423.297\"/>\n",
       "<polygon fill=\"black\" stroke=\"black\" points=\"1166.79,-419.785 1156.42,-421.967 1165.89,-426.727 1166.79,-419.785\"/>\n",
       "<text text-anchor=\"middle\" x=\"1609.5\" y=\"-441.8\" font-family=\"Times,serif\" font-size=\"14.00\">783</text>\n",
       "</g>\n",
       "<!-- Repair (Simple)+complete (785)&#45;&gt;Inform User+complete (1102) -->\n",
       "<g id=\"edge26\" class=\"edge\"><title>Repair (Simple)+complete (785)&#45;&gt;Inform User+complete (1102)</title>\n",
       "<path fill=\"none\" stroke=\"black\" d=\"M2046.96,-397.014C2034.93,-397.402 2022.63,-397.473 2011,-397 1842.69,-390.152 1798,-396.464 1634,-358 1609.18,-352.178 1582.48,-343.117 1560.03,-334.647\"/>\n",
       "<polygon fill=\"black\" stroke=\"black\" points=\"1561.28,-331.377 1550.69,-331.064 1558.77,-337.913 1561.28,-331.377\"/>\n",
       "<text text-anchor=\"middle\" x=\"1815.5\" y=\"-392.8\" font-family=\"Times,serif\" font-size=\"14.00\">2</text>\n",
       "</g>\n",
       "<!-- Restart Repair+complete (406)&#45;&gt;Repair (Complex)+start (725) -->\n",
       "<g id=\"edge24\" class=\"edge\"><title>Restart Repair+complete (406)&#45;&gt;Repair (Complex)+start (725)</title>\n",
       "<path fill=\"none\" stroke=\"black\" d=\"M1679.04,-100.956C1639.69,-80.8104 1570.78,-51 1507.5,-51 887.5,-51 887.5,-51 887.5,-51 814.432,-51 743.827,-108.18 707.951,-142.592\"/>\n",
       "<polygon fill=\"black\" stroke=\"black\" points=\"705.111,-140.475 700.421,-149.975 710.012,-145.474 705.111,-140.475\"/>\n",
       "<text text-anchor=\"middle\" x=\"1197.5\" y=\"-54.8\" font-family=\"Times,serif\" font-size=\"14.00\">105</text>\n",
       "</g>\n",
       "<!-- Restart Repair+complete (406)&#45;&gt;Inform User+complete (1102) -->\n",
       "<g id=\"edge29\" class=\"edge\"><title>Restart Repair+complete (406)&#45;&gt;Inform User+complete (1102)</title>\n",
       "<path fill=\"none\" stroke=\"black\" d=\"M1636.87,-124.543C1622.91,-128.619 1609.44,-135.035 1599,-145 1574.62,-168.267 1593.39,-187.771 1578.5,-218 1566.03,-243.307 1546.57,-268.738 1531.17,-286.911\"/>\n",
       "<polygon fill=\"black\" stroke=\"black\" points=\"1528.31,-284.868 1524.43,-294.723 1533.61,-289.443 1528.31,-284.868\"/>\n",
       "<text text-anchor=\"middle\" x=\"1609.5\" y=\"-148.8\" font-family=\"Times,serif\" font-size=\"14.00\">1</text>\n",
       "</g>\n",
       "<!-- Restart Repair+complete (406)&#45;&gt;Repair (Simple)+start (785) -->\n",
       "<g id=\"edge13\" class=\"edge\"><title>Restart Repair+complete (406)&#45;&gt;Repair (Simple)+start (785)</title>\n",
       "<path fill=\"none\" stroke=\"black\" d=\"M1764.48,-137.03C1773.53,-140.888 1782.7,-145.249 1791,-150 1827.61,-170.953 1865.29,-201.525 1889.9,-222.936\"/>\n",
       "<polygon fill=\"black\" stroke=\"black\" points=\"1887.9,-225.84 1897.72,-229.818 1892.52,-220.585 1887.9,-225.84\"/>\n",
       "<text text-anchor=\"middle\" x=\"1815.5\" y=\"-174.8\" font-family=\"Times,serif\" font-size=\"14.00\">300</text>\n",
       "</g>\n",
       "</g>\n",
       "</svg>\n"
      ],
      "text/plain": [
       "<graphviz.dot.Digraph at 0x7fdbf308af70>"
      ]
     },
     "execution_count": 62,
     "metadata": {},
     "output_type": "execute_result"
    }
   ],
   "source": [
    "draw_dfg(a1, \"a2\", 0, save=False, lifecycle_present=False)"
   ]
  },
  {
   "cell_type": "code",
   "execution_count": null,
   "metadata": {
    "colab": {
     "base_uri": "https://localhost:8080/"
    },
    "id": "u_ftpidJEge2",
    "outputId": "9e08bf87-0c23-450c-b76f-73f6bb72e4ca"
   },
   "outputs": [
    {
     "name": "stdout",
     "output_type": "stream",
     "text": [
      "{'case:id': 42,\n",
      " 'concept:name': 'Inform User',\n",
      " 'lifecycle:transition': 'complete'}\n"
     ]
    }
   ],
   "source": [
    "#print random event\n",
    "idx = random.randint(0, len(a2.traces)-1)\n",
    "pprint(a2.events[idx])                    # last idx = 42, as seen in the cell output"
   ]
  },
  {
   "cell_type": "code",
   "execution_count": null,
   "metadata": {
    "colab": {
     "base_uri": "https://localhost:8080/"
    },
    "id": "VcwwjQf_Esrk",
    "outputId": "0a75ea87-5009-4d5f-f550-d8e394280f05"
   },
   "outputs": [
    {
     "data": {
      "text/plain": [
       "{'(Name AND Transition)': ['concept:name', 'lifecycle:transition']}"
      ]
     },
     "execution_count": 32,
     "metadata": {
      "tags": []
     },
     "output_type": "execute_result"
    }
   ],
   "source": [
    "a2.classifiers"
   ]
  },
  {
   "cell_type": "code",
   "execution_count": null,
   "metadata": {
    "colab": {
     "base_uri": "https://localhost:8080/"
    },
    "id": "gG0TUXEAEvlg",
    "outputId": "35b73d99-9048-468d-80db-4892902a9f8d"
   },
   "outputs": [
    {
     "data": {
      "text/plain": [
       "True"
      ]
     },
     "execution_count": 33,
     "metadata": {
      "tags": []
     },
     "output_type": "execute_result"
    }
   ],
   "source": [
    "#build the set of event that is equal to the first event by our classifier\n",
    "first_classifier = list(a2.classifiers.keys())[0]\n",
    "equal_events = a2.filter_by_classifier(a2.events[0], first_classifier)\n",
    "verify_filter_by_classifier(a2, equal_events, first_classifier)"
   ]
  },
  {
   "cell_type": "markdown",
   "metadata": {
    "id": "lacpQoPZThKl"
   },
   "source": [
    "### B1"
   ]
  },
  {
   "cell_type": "code",
   "execution_count": 63,
   "metadata": {
    "colab": {
     "base_uri": "https://localhost:8080/"
    },
    "id": "pfyi0_RjTY3U",
    "outputId": "048b4327-94fd-40e8-f6a1-50f21fb8a98e"
   },
   "outputs": [
    {
     "name": "stderr",
     "output_type": "stream",
     "text": [
      "9314it [00:00, 92838.62it/s]"
     ]
    },
    {
     "name": "stdout",
     "output_type": "stream",
     "text": [
      "Processing log...\n"
     ]
    },
    {
     "name": "stderr",
     "output_type": "stream",
     "text": [
      "99278it [00:00, 127345.98it/s]\n"
     ]
    }
   ],
   "source": [
    "b1 = xes.import_xes(pb1)"
   ]
  },
  {
   "cell_type": "code",
   "execution_count": 64,
   "metadata": {
    "colab": {
     "base_uri": "https://localhost:8080/"
    },
    "id": "MkNjWxN_rOyY",
    "outputId": "de7b31f6-88b3-43df-99b8-c0d35b8fc3c2"
   },
   "outputs": [
    {
     "name": "stdout",
     "output_type": "stream",
     "text": [
      "The log contains 1104 traces and 11855 events.\n",
      "Classifiers contained: {}\n",
      "TRACE_ID: 814 (trace number 814 )\n",
      "  concept:name            lifecycle:transition                time:timestamp \n",
      "> Register                complete                            02/07/1970 05:11:00.858000\n",
      "> Analyze Defect          start                               02/07/1970 05:12:40.859000\n",
      "> Analyze Defect          complete                            02/07/1970 05:21:44.210000\n",
      "> Repair (Simple)         start                               02/07/1970 05:26:28.955000\n",
      "> Repair (Simple)         complete                            02/07/1970 05:36:21.305000\n",
      "> Test Repair             start                               02/07/1970 05:40:00.536000\n",
      "> Test Repair             complete                            02/07/1970 05:53:04.187000\n",
      "> Restart Repair          complete                            02/07/1970 06:03:02.591000\n",
      "> Repair (Simple)         start                               02/07/1970 06:07:02.095000\n",
      "> Repair (Simple)         complete                            02/07/1970 06:25:28.787000\n",
      "> Test Repair             start                               02/07/1970 06:28:39.558000\n",
      "> Test Repair             complete                            02/07/1970 06:38:03.191000\n",
      "> Inform User             complete                            02/07/1970 06:45:14.875000\n",
      "> Archive Repair          complete                            02/07/1970 06:53:04.795000\n",
      "\n"
     ]
    }
   ],
   "source": [
    "verify_log(b1)"
   ]
  },
  {
   "cell_type": "code",
   "execution_count": 105,
   "metadata": {},
   "outputs": [
    {
     "data": {
      "image/svg+xml": [
       "<?xml version=\"1.0\" encoding=\"UTF-8\" standalone=\"no\"?>\n",
       "<!DOCTYPE svg PUBLIC \"-//W3C//DTD SVG 1.1//EN\"\n",
       " \"http://www.w3.org/Graphics/SVG/1.1/DTD/svg11.dtd\">\n",
       "<!-- Generated by graphviz version 2.38.0 (20140413.2041)\n",
       " -->\n",
       "<!-- Title: b1 Pages: 1 -->\n",
       "<svg width=\"1079pt\" height=\"467pt\"\n",
       " viewBox=\"0.00 0.00 1078.50 466.71\" xmlns=\"http://www.w3.org/2000/svg\" xmlns:xlink=\"http://www.w3.org/1999/xlink\">\n",
       "<g id=\"graph0\" class=\"graph\" transform=\"scale(1 1) rotate(0) translate(4 462.706)\">\n",
       "<title>b1</title>\n",
       "<polygon fill=\"white\" stroke=\"none\" points=\"-4,4 -4,-462.706 1074.5,-462.706 1074.5,4 -4,4\"/>\n",
       "<!-- Register (1104) -->\n",
       "<g id=\"node1\" class=\"node\"><title>Register (1104)</title>\n",
       "<polygon fill=\"#74c476\" stroke=\"#74c476\" points=\"83,-69 0,-69 0,-33 83,-33 83,-69\"/>\n",
       "<text text-anchor=\"middle\" x=\"41.5\" y=\"-48.5\" font-family=\"Helvetica,sans-Serif\" font-size=\"10.00\">Register (1104)</text>\n",
       "</g>\n",
       "<!-- Analyze Defect (2208) -->\n",
       "<g id=\"node2\" class=\"node\"><title>Analyze Defect (2208)</title>\n",
       "<polygon fill=\"#238b45\" stroke=\"#238b45\" points=\"260.5,-69 146.5,-69 146.5,-33 260.5,-33 260.5,-69\"/>\n",
       "<text text-anchor=\"middle\" x=\"203.5\" y=\"-48.5\" font-family=\"Helvetica,sans-Serif\" font-size=\"10.00\">Analyze Defect (2208)</text>\n",
       "</g>\n",
       "<!-- Register (1104)&#45;&gt;Analyze Defect (2208) -->\n",
       "<g id=\"edge1\" class=\"edge\"><title>Register (1104)&#45;&gt;Analyze Defect (2208)</title>\n",
       "<path fill=\"none\" stroke=\"black\" d=\"M83.2887,-51C99.3846,-51 118.294,-51 136.25,-51\"/>\n",
       "<polygon fill=\"black\" stroke=\"black\" points=\"136.393,-54.5001 146.393,-51 136.393,-47.5001 136.393,-54.5001\"/>\n",
       "<text text-anchor=\"middle\" x=\"122.5\" y=\"-54.8\" font-family=\"Times,serif\" font-size=\"14.00\">1104</text>\n",
       "</g>\n",
       "<!-- Analyze Defect (2208)&#45;&gt;Analyze Defect (2208) -->\n",
       "<g id=\"edge2\" class=\"edge\"><title>Analyze Defect (2208)&#45;&gt;Analyze Defect (2208)</title>\n",
       "<path fill=\"none\" stroke=\"black\" d=\"M189.965,-69.1157C185.863,-81.6543 190.375,-94 203.5,-94 213.036,-94 218.025,-87.4828 218.468,-79.1095\"/>\n",
       "<polygon fill=\"black\" stroke=\"black\" points=\"221.919,-78.5179 217.035,-69.1157 214.99,-79.5112 221.919,-78.5179\"/>\n",
       "<text text-anchor=\"middle\" x=\"203.5\" y=\"-97.8\" font-family=\"Times,serif\" font-size=\"14.00\">1104</text>\n",
       "</g>\n",
       "<!-- Repair (Complex) (1449) -->\n",
       "<g id=\"node3\" class=\"node\"><title>Repair (Complex) (1449)</title>\n",
       "<polygon fill=\"#74c476\" stroke=\"#74c476\" points=\"427,-197 304,-197 304,-161 427,-161 427,-197\"/>\n",
       "<text text-anchor=\"middle\" x=\"365.5\" y=\"-176.5\" font-family=\"Helvetica,sans-Serif\" font-size=\"10.00\">Repair (Complex) (1449)</text>\n",
       "</g>\n",
       "<!-- Analyze Defect (2208)&#45;&gt;Repair (Complex) (1449) -->\n",
       "<g id=\"edge3\" class=\"edge\"><title>Analyze Defect (2208)&#45;&gt;Repair (Complex) (1449)</title>\n",
       "<path fill=\"none\" stroke=\"black\" d=\"M227.085,-69.0678C254.998,-91.3985 302.622,-129.497 333.826,-154.46\"/>\n",
       "<polygon fill=\"black\" stroke=\"black\" points=\"331.777,-157.303 341.772,-160.817 336.149,-151.837 331.777,-157.303\"/>\n",
       "<text text-anchor=\"middle\" x=\"284.5\" y=\"-125.8\" font-family=\"Times,serif\" font-size=\"14.00\">528</text>\n",
       "</g>\n",
       "<!-- Inform User (1102) -->\n",
       "<g id=\"node5\" class=\"node\"><title>Inform User (1102)</title>\n",
       "<polygon fill=\"#74c476\" stroke=\"#74c476\" points=\"738.5,-189 640.5,-189 640.5,-153 738.5,-153 738.5,-189\"/>\n",
       "<text text-anchor=\"middle\" x=\"689.5\" y=\"-168.5\" font-family=\"Helvetica,sans-Serif\" font-size=\"10.00\">Inform User (1102)</text>\n",
       "</g>\n",
       "<!-- Analyze Defect (2208)&#45;&gt;Inform User (1102) -->\n",
       "<g id=\"edge20\" class=\"edge\"><title>Analyze Defect (2208)&#45;&gt;Inform User (1102)</title>\n",
       "<path fill=\"none\" stroke=\"black\" d=\"M260.747,-60.7691C333.735,-73.6326 464.952,-97.3941 576.5,-121 595.484,-125.017 600.956,-123.863 619,-131 630.314,-135.475 642.004,-141.557 652.493,-147.627\"/>\n",
       "<polygon fill=\"black\" stroke=\"black\" points=\"650.982,-150.801 661.363,-152.917 654.568,-144.789 650.982,-150.801\"/>\n",
       "<text text-anchor=\"middle\" x=\"446.5\" y=\"-100.8\" font-family=\"Times,serif\" font-size=\"14.00\">155</text>\n",
       "</g>\n",
       "<!-- Repair (Simple) (1570) -->\n",
       "<g id=\"node7\" class=\"node\"><title>Repair (Simple) (1570)</title>\n",
       "<polygon fill=\"#238b45\" stroke=\"#238b45\" points=\"1070.5,-146 956.5,-146 956.5,-110 1070.5,-110 1070.5,-146\"/>\n",
       "<text text-anchor=\"middle\" x=\"1013.5\" y=\"-125.5\" font-family=\"Helvetica,sans-Serif\" font-size=\"10.00\">Repair (Simple) (1570)</text>\n",
       "</g>\n",
       "<!-- Analyze Defect (2208)&#45;&gt;Repair (Simple) (1570) -->\n",
       "<g id=\"edge9\" class=\"edge\"><title>Analyze Defect (2208)&#45;&gt;Repair (Simple) (1570)</title>\n",
       "<path fill=\"none\" stroke=\"black\" d=\"M239.698,-32.8757C271.455,-18.2168 319.893,-0 364.5,-0 364.5,-0 364.5,-0 852.5,-0 916.883,-0 970.204,-63.9794 995.923,-101.472\"/>\n",
       "<polygon fill=\"black\" stroke=\"black\" points=\"993.106,-103.557 1001.57,-109.932 998.929,-99.6713 993.106,-103.557\"/>\n",
       "<text text-anchor=\"middle\" x=\"608.5\" y=\"-3.8\" font-family=\"Times,serif\" font-size=\"14.00\">421</text>\n",
       "</g>\n",
       "<!-- Repair (Complex) (1449)&#45;&gt;Repair (Complex) (1449) -->\n",
       "<g id=\"edge4\" class=\"edge\"><title>Repair (Complex) (1449)&#45;&gt;Repair (Complex) (1449)</title>\n",
       "<path fill=\"none\" stroke=\"black\" d=\"M351.965,-197.116C347.863,-209.654 352.375,-222 365.5,-222 375.036,-222 380.025,-215.483 380.468,-207.11\"/>\n",
       "<polygon fill=\"black\" stroke=\"black\" points=\"383.919,-206.518 379.035,-197.116 376.99,-207.511 383.919,-206.518\"/>\n",
       "<text text-anchor=\"middle\" x=\"365.5\" y=\"-225.8\" font-family=\"Times,serif\" font-size=\"14.00\">414</text>\n",
       "</g>\n",
       "<!-- Test Repair (3016) -->\n",
       "<g id=\"node4\" class=\"node\"><title>Test Repair (3016)</title>\n",
       "<polygon fill=\"#238b45\" stroke=\"#238b45\" points=\"576.5,-295 478.5,-295 478.5,-259 576.5,-259 576.5,-295\"/>\n",
       "<text text-anchor=\"middle\" x=\"527.5\" y=\"-274.5\" font-family=\"Helvetica,sans-Serif\" font-size=\"10.00\">Test Repair (3016)</text>\n",
       "</g>\n",
       "<!-- Repair (Complex) (1449)&#45;&gt;Test Repair (3016) -->\n",
       "<g id=\"edge5\" class=\"edge\"><title>Repair (Complex) (1449)&#45;&gt;Test Repair (3016)</title>\n",
       "<path fill=\"none\" stroke=\"black\" d=\"M396.22,-197.203C422.152,-213.087 459.937,-236.23 488.145,-253.507\"/>\n",
       "<polygon fill=\"black\" stroke=\"black\" points=\"486.584,-256.656 496.939,-258.894 490.24,-250.686 486.584,-256.656\"/>\n",
       "<text text-anchor=\"middle\" x=\"446.5\" y=\"-236.8\" font-family=\"Times,serif\" font-size=\"14.00\">720</text>\n",
       "</g>\n",
       "<!-- Repair (Complex) (1449)&#45;&gt;Inform User (1102) -->\n",
       "<g id=\"edge17\" class=\"edge\"><title>Repair (Complex) (1449)&#45;&gt;Inform User (1102)</title>\n",
       "<path fill=\"none\" stroke=\"black\" d=\"M400.715,-160.859C422.351,-150.435 451.278,-138.373 478.5,-133 521.231,-124.567 533.526,-125.908 576.5,-133 596.598,-136.317 617.939,-142.77 636.542,-149.43\"/>\n",
       "<polygon fill=\"black\" stroke=\"black\" points=\"635.405,-152.741 645.998,-152.916 637.826,-146.173 635.405,-152.741\"/>\n",
       "<text text-anchor=\"middle\" x=\"527.5\" y=\"-136.8\" font-family=\"Times,serif\" font-size=\"14.00\">313</text>\n",
       "</g>\n",
       "<!-- Test Repair (3016)&#45;&gt;Test Repair (3016) -->\n",
       "<g id=\"edge6\" class=\"edge\"><title>Test Repair (3016)&#45;&gt;Test Repair (3016)</title>\n",
       "<path fill=\"none\" stroke=\"black\" d=\"M513.965,-295.116C509.863,-307.654 514.375,-320 527.5,-320 537.036,-320 542.025,-313.483 542.468,-305.11\"/>\n",
       "<polygon fill=\"black\" stroke=\"black\" points=\"545.919,-304.518 541.035,-295.116 538.99,-305.511 545.919,-304.518\"/>\n",
       "<text text-anchor=\"middle\" x=\"527.5\" y=\"-323.8\" font-family=\"Times,serif\" font-size=\"14.00\">1333</text>\n",
       "</g>\n",
       "<!-- Test Repair (3016)&#45;&gt;Inform User (1102) -->\n",
       "<g id=\"edge7\" class=\"edge\"><title>Test Repair (3016)&#45;&gt;Inform User (1102)</title>\n",
       "<path fill=\"none\" stroke=\"black\" d=\"M569.325,-258.854C585.307,-251.089 603.489,-241.413 619,-231 634.344,-220.699 650.045,-207.423 662.632,-195.978\"/>\n",
       "<polygon fill=\"black\" stroke=\"black\" points=\"665.069,-198.491 670.035,-189.132 660.317,-193.351 665.069,-198.491\"/>\n",
       "<text text-anchor=\"middle\" x=\"608.5\" y=\"-245.8\" font-family=\"Times,serif\" font-size=\"14.00\">472</text>\n",
       "</g>\n",
       "<!-- Archive Repair (1000) -->\n",
       "<g id=\"node6\" class=\"node\"><title>Archive Repair (1000)</title>\n",
       "<polygon fill=\"#bae4b3\" stroke=\"#bae4b3\" points=\"907,-211 796,-211 796,-175 907,-175 907,-211\"/>\n",
       "<text text-anchor=\"middle\" x=\"851.5\" y=\"-190.5\" font-family=\"Helvetica,sans-Serif\" font-size=\"10.00\">Archive Repair (1000)</text>\n",
       "</g>\n",
       "<!-- Test Repair (3016)&#45;&gt;Archive Repair (1000) -->\n",
       "<g id=\"edge16\" class=\"edge\"><title>Test Repair (3016)&#45;&gt;Archive Repair (1000)</title>\n",
       "<path fill=\"none\" stroke=\"black\" d=\"M576.803,-287.978C631.298,-297.487 720.236,-304.031 781,-263 794.017,-254.21 785.88,-243.012 796,-231 800.146,-226.079 805.072,-221.499 810.243,-217.344\"/>\n",
       "<polygon fill=\"black\" stroke=\"black\" points=\"812.577,-219.969 818.491,-211.178 808.386,-214.362 812.577,-219.969\"/>\n",
       "<text text-anchor=\"middle\" x=\"689.5\" y=\"-298.8\" font-family=\"Times,serif\" font-size=\"14.00\">795</text>\n",
       "</g>\n",
       "<!-- Restart Repair (406) -->\n",
       "<g id=\"node8\" class=\"node\"><title>Restart Repair (406)</title>\n",
       "<polygon fill=\"#edf8e9\" stroke=\"#edf8e9\" points=\"904,-279 799,-279 799,-243 904,-243 904,-279\"/>\n",
       "<text text-anchor=\"middle\" x=\"851.5\" y=\"-258.5\" font-family=\"Helvetica,sans-Serif\" font-size=\"10.00\">Restart Repair (406)</text>\n",
       "</g>\n",
       "<!-- Test Repair (3016)&#45;&gt;Restart Repair (406) -->\n",
       "<g id=\"edge12\" class=\"edge\"><title>Test Repair (3016)&#45;&gt;Restart Repair (406)</title>\n",
       "<path fill=\"none\" stroke=\"black\" d=\"M557.516,-295.037C569.583,-301.612 584.019,-308.329 598,-312 676.668,-332.656 704.132,-339.582 781,-313 797.356,-307.344 813.024,-296.298 825.33,-285.836\"/>\n",
       "<polygon fill=\"black\" stroke=\"black\" points=\"827.752,-288.365 832.904,-279.107 823.103,-283.132 827.752,-288.365\"/>\n",
       "<text text-anchor=\"middle\" x=\"689.5\" y=\"-333.8\" font-family=\"Times,serif\" font-size=\"14.00\">341</text>\n",
       "</g>\n",
       "<!-- Inform User (1102)&#45;&gt;Repair (Complex) (1449) -->\n",
       "<g id=\"edge18\" class=\"edge\"><title>Inform User (1102)&#45;&gt;Repair (Complex) (1449)</title>\n",
       "<path fill=\"none\" stroke=\"black\" d=\"M640.28,-172.198C586.41,-173.536 498.695,-175.716 437.1,-177.246\"/>\n",
       "<polygon fill=\"black\" stroke=\"black\" points=\"436.976,-173.748 427.066,-177.495 437.15,-180.746 436.976,-173.748\"/>\n",
       "<text text-anchor=\"middle\" x=\"527.5\" y=\"-179.8\" font-family=\"Times,serif\" font-size=\"14.00\">402</text>\n",
       "</g>\n",
       "<!-- Inform User (1102)&#45;&gt;Test Repair (3016) -->\n",
       "<g id=\"edge19\" class=\"edge\"><title>Inform User (1102)&#45;&gt;Test Repair (3016)</title>\n",
       "<path fill=\"none\" stroke=\"black\" d=\"M640.331,-187.973C626.145,-193.957 610.963,-201.377 598,-210 580.619,-221.562 563.699,-237.733 550.906,-251.292\"/>\n",
       "<polygon fill=\"black\" stroke=\"black\" points=\"548.081,-249.193 543.878,-258.919 553.228,-253.937 548.081,-249.193\"/>\n",
       "<text text-anchor=\"middle\" x=\"608.5\" y=\"-213.8\" font-family=\"Times,serif\" font-size=\"14.00\">180</text>\n",
       "</g>\n",
       "<!-- Inform User (1102)&#45;&gt;Archive Repair (1000) -->\n",
       "<g id=\"edge8\" class=\"edge\"><title>Inform User (1102)&#45;&gt;Archive Repair (1000)</title>\n",
       "<path fill=\"none\" stroke=\"black\" d=\"M738.633,-167.431C752.389,-167.23 767.349,-167.8 781,-170 784.843,-170.619 788.761,-171.42 792.681,-172.349\"/>\n",
       "<polygon fill=\"black\" stroke=\"black\" points=\"791.828,-175.743 802.388,-174.894 793.603,-168.972 791.828,-175.743\"/>\n",
       "<text text-anchor=\"middle\" x=\"770.5\" y=\"-173.8\" font-family=\"Times,serif\" font-size=\"14.00\">205</text>\n",
       "</g>\n",
       "<!-- Inform User (1102)&#45;&gt;Repair (Simple) (1570) -->\n",
       "<g id=\"edge15\" class=\"edge\"><title>Inform User (1102)&#45;&gt;Repair (Simple) (1570)</title>\n",
       "<path fill=\"none\" stroke=\"black\" d=\"M738.586,-159.216C756.517,-155.166 777.103,-150.921 796,-148 846.076,-140.258 903.165,-135.136 946.143,-132.015\"/>\n",
       "<polygon fill=\"black\" stroke=\"black\" points=\"946.469,-135.501 956.196,-131.303 945.974,-128.519 946.469,-135.501\"/>\n",
       "<text text-anchor=\"middle\" x=\"851.5\" y=\"-151.8\" font-family=\"Times,serif\" font-size=\"14.00\">223</text>\n",
       "</g>\n",
       "<!-- Inform User (1102)&#45;&gt;Restart Repair (406) -->\n",
       "<g id=\"edge22\" class=\"edge\"><title>Inform User (1102)&#45;&gt;Restart Repair (406)</title>\n",
       "<path fill=\"none\" stroke=\"black\" d=\"M730.736,-189.162C746.636,-196.7 764.916,-205.821 781,-215 787.973,-218.979 801.959,-228.152 815.569,-237.268\"/>\n",
       "<polygon fill=\"black\" stroke=\"black\" points=\"813.677,-240.214 823.928,-242.89 817.584,-234.405 813.677,-240.214\"/>\n",
       "<text text-anchor=\"middle\" x=\"770.5\" y=\"-218.8\" font-family=\"Times,serif\" font-size=\"14.00\">65</text>\n",
       "</g>\n",
       "<!-- Repair (Simple) (1570)&#45;&gt;Test Repair (3016) -->\n",
       "<g id=\"edge11\" class=\"edge\"><title>Repair (Simple) (1570)&#45;&gt;Test Repair (3016)</title>\n",
       "<path fill=\"none\" stroke=\"black\" d=\"M1005.58,-146.076C991.859,-179.619 958.031,-251.738 907,-292 844.707,-341.148 816.725,-337.701 738.5,-351 676.436,-361.552 652.015,-365.337 598,-333 583.168,-324.12 568.064,-312.345 555.742,-301.884\"/>\n",
       "<polygon fill=\"black\" stroke=\"black\" points=\"557.927,-299.146 548.078,-295.243 553.343,-304.437 557.927,-299.146\"/>\n",
       "<text text-anchor=\"middle\" x=\"770.5\" y=\"-350.8\" font-family=\"Times,serif\" font-size=\"14.00\">783</text>\n",
       "</g>\n",
       "<!-- Repair (Simple) (1570)&#45;&gt;Inform User (1102) -->\n",
       "<g id=\"edge14\" class=\"edge\"><title>Repair (Simple) (1570)&#45;&gt;Inform User (1102)</title>\n",
       "<path fill=\"none\" stroke=\"black\" d=\"M980.395,-109.867C960.062,-99.4459 932.82,-87.3842 907,-82 858.706,-71.9292 842.802,-66.3994 796,-82 761.176,-93.6081 730.252,-123.192 711.03,-145.082\"/>\n",
       "<polygon fill=\"black\" stroke=\"black\" points=\"708.316,-142.871 704.493,-152.751 713.644,-147.412 708.316,-142.871\"/>\n",
       "<text text-anchor=\"middle\" x=\"851.5\" y=\"-85.8\" font-family=\"Times,serif\" font-size=\"14.00\">161</text>\n",
       "</g>\n",
       "<!-- Repair (Simple) (1570)&#45;&gt;Repair (Simple) (1570) -->\n",
       "<g id=\"edge10\" class=\"edge\"><title>Repair (Simple) (1570)&#45;&gt;Repair (Simple) (1570)</title>\n",
       "<path fill=\"none\" stroke=\"black\" d=\"M999.965,-146.116C995.863,-158.654 1000.38,-171 1013.5,-171 1023.04,-171 1028.03,-164.483 1028.47,-156.11\"/>\n",
       "<polygon fill=\"black\" stroke=\"black\" points=\"1031.92,-155.518 1027.04,-146.116 1024.99,-156.511 1031.92,-155.518\"/>\n",
       "<text text-anchor=\"middle\" x=\"1013.5\" y=\"-174.8\" font-family=\"Times,serif\" font-size=\"14.00\">626</text>\n",
       "</g>\n",
       "<!-- Restart Repair (406)&#45;&gt;Repair (Complex) (1449) -->\n",
       "<g id=\"edge21\" class=\"edge\"><title>Restart Repair (406)&#45;&gt;Repair (Complex) (1449)</title>\n",
       "<path fill=\"none\" stroke=\"black\" d=\"M849.398,-279.277C846.098,-315.74 832.975,-397.02 781,-432 713.521,-477.414 675.048,-456.068 598,-430 487.057,-392.464 409.472,-263.367 379.836,-206.392\"/>\n",
       "<polygon fill=\"black\" stroke=\"black\" points=\"382.839,-204.576 375.176,-197.259 376.603,-207.758 382.839,-204.576\"/>\n",
       "<text text-anchor=\"middle\" x=\"608.5\" y=\"-440.8\" font-family=\"Times,serif\" font-size=\"14.00\">105</text>\n",
       "</g>\n",
       "<!-- Restart Repair (406)&#45;&gt;Inform User (1102) -->\n",
       "<g id=\"edge23\" class=\"edge\"><title>Restart Repair (406)&#45;&gt;Inform User (1102)</title>\n",
       "<path fill=\"none\" stroke=\"black\" d=\"M798.696,-248.413C785.619,-244.168 771.916,-238.747 760,-232 743.341,-222.567 727.121,-208.686 714.546,-196.547\"/>\n",
       "<polygon fill=\"black\" stroke=\"black\" points=\"716.779,-193.832 707.217,-189.27 711.847,-198.799 716.779,-193.832\"/>\n",
       "<text text-anchor=\"middle\" x=\"770.5\" y=\"-245.8\" font-family=\"Times,serif\" font-size=\"14.00\">1</text>\n",
       "</g>\n",
       "<!-- Restart Repair (406)&#45;&gt;Repair (Simple) (1570) -->\n",
       "<g id=\"edge13\" class=\"edge\"><title>Restart Repair (406)&#45;&gt;Repair (Simple) (1570)</title>\n",
       "<path fill=\"none\" stroke=\"black\" d=\"M880.768,-242.918C889.373,-237.122 898.736,-230.512 907,-224 935.584,-201.477 966.116,-173.178 986.94,-153.157\"/>\n",
       "<polygon fill=\"black\" stroke=\"black\" points=\"989.397,-155.649 994.151,-146.181 984.53,-150.618 989.397,-155.649\"/>\n",
       "<text text-anchor=\"middle\" x=\"932.5\" y=\"-214.8\" font-family=\"Times,serif\" font-size=\"14.00\">300</text>\n",
       "</g>\n",
       "</g>\n",
       "</svg>\n"
      ],
      "text/plain": [
       "<graphviz.dot.Digraph at 0x7fdbe741a430>"
      ]
     },
     "execution_count": 105,
     "metadata": {},
     "output_type": "execute_result"
    }
   ],
   "source": [
    "draw_dfg(b1, \"b1\", 0, save=False, lifecycle_present=False)"
   ]
  },
  {
   "cell_type": "code",
   "execution_count": null,
   "metadata": {
    "colab": {
     "base_uri": "https://localhost:8080/"
    },
    "id": "xfuDBT8FuLXM",
    "outputId": "72196685-7616-4fc1-ec1d-56918576db44"
   },
   "outputs": [
    {
     "name": "stdout",
     "output_type": "stream",
     "text": [
      "Concept name of the trace: 48 (the same as the TRACE_ID below)\n",
      "TRACE_ID: 48 (trace number 527 )\n",
      "  concept:name               lifecycle:transition                time:timestamp \n",
      "> Register                   complete                            01/16/1970 15:13:21.730000\n",
      "> Analyze Defect             start                               01/16/1970 15:16:20.158000\n",
      "> Analyze Defect             complete                            01/16/1970 15:28:51.184000\n",
      "> Repair (Simple)            start                               01/16/1970 15:59:56.116000\n",
      "> Repair (Simple)            complete                            01/16/1970 16:09:42.081000\n",
      "> Test Repair                start                               01/16/1970 16:12:59.906000\n",
      "> Inform User                complete                            01/16/1970 16:20:27.840000\n",
      "> Test Repair                complete                            01/16/1970 16:27:08.720000\n",
      "> Restart Repair             complete                            01/16/1970 16:37:56.742000\n",
      "> Repair (Simple)            start                               01/16/1970 16:41:48.089000\n",
      "> Repair (Simple)            complete                            01/16/1970 16:50:39.195000\n",
      "> Test Repair                start                               01/16/1970 16:53:19.824000\n",
      "> Test Repair                complete                            01/16/1970 17:06:58.698000\n",
      "> Restart Repair             complete                            01/16/1970 17:14:29.855000\n",
      "> Repair (Simple)            start                               01/16/1970 17:18:22.109000\n",
      "> Repair (Simple)            complete                            01/16/1970 17:32:48.832000\n",
      "> Test Repair                start                               01/16/1970 17:35:15.231000\n",
      "> Test Repair                complete                            01/16/1970 17:46:49.136000\n",
      "> Archive Repair             complete                            01/16/1970 18:00:11.165000\n",
      "\n"
     ]
    }
   ],
   "source": [
    "print_rand_trace(b1)"
   ]
  },
  {
   "cell_type": "code",
   "execution_count": 23,
   "metadata": {
    "colab": {
     "base_uri": "https://localhost:8080/"
    },
    "id": "JhM0wJz6NhVn",
    "outputId": "b5d8e2aa-8ee0-457c-c22d-5685218fe942"
   },
   "outputs": [
    {
     "name": "stdout",
     "output_type": "stream",
     "text": [
      "Concept name of the trace: 48 (the same as the TRACE_ID below)\n",
      "TRACE_ID: 48 (trace number 527 )\n",
      "  concept:name               lifecycle:transition                time:timestamp \n",
      "> Register                   complete                            01/16/1970 15:13:21.730000\n",
      "> Analyze Defect             start                               01/16/1970 15:16:20.158000\n",
      "> Analyze Defect             complete                            01/16/1970 15:28:51.184000\n",
      "> Repair (Simple)            start                               01/16/1970 15:59:56.116000\n",
      "> Repair (Simple)            complete                            01/16/1970 16:09:42.081000\n",
      "> Test Repair                start                               01/16/1970 16:12:59.906000\n",
      "> Inform User                complete                            01/16/1970 16:20:27.840000\n",
      "> Test Repair                complete                            01/16/1970 16:27:08.720000\n",
      "> Restart Repair             complete                            01/16/1970 16:37:56.742000\n",
      "> Repair (Simple)            start                               01/16/1970 16:41:48.089000\n",
      "> Repair (Simple)            complete                            01/16/1970 16:50:39.195000\n",
      "> Test Repair                start                               01/16/1970 16:53:19.824000\n",
      "> Test Repair                complete                            01/16/1970 17:06:58.698000\n",
      "> Restart Repair             complete                            01/16/1970 17:14:29.855000\n",
      "> Repair (Simple)            start                               01/16/1970 17:18:22.109000\n",
      "> Repair (Simple)            complete                            01/16/1970 17:32:48.832000\n",
      "> Test Repair                start                               01/16/1970 17:35:15.231000\n",
      "> Test Repair                complete                            01/16/1970 17:46:49.136000\n",
      "> Archive Repair             complete                            01/16/1970 18:00:11.165000\n",
      "\n"
     ]
    }
   ],
   "source": [
    "trace_id = case_ids_[\"b1\"]\n",
    "print_specific_case(b1, trace_id) "
   ]
  },
  {
   "cell_type": "markdown",
   "metadata": {
    "id": "753me7fS1337"
   },
   "source": [
    "### B2"
   ]
  },
  {
   "cell_type": "code",
   "execution_count": 66,
   "metadata": {
    "colab": {
     "base_uri": "https://localhost:8080/"
    },
    "id": "mESBezPnTYyw",
    "outputId": "4756ea08-e9a5-4b49-a07c-159db0bb8a17"
   },
   "outputs": [
    {
     "name": "stderr",
     "output_type": "stream",
     "text": [
      "9423it [00:00, 94220.43it/s]"
     ]
    },
    {
     "name": "stdout",
     "output_type": "stream",
     "text": [
      "Processing log...\n"
     ]
    },
    {
     "name": "stderr",
     "output_type": "stream",
     "text": [
      "99280it [00:00, 137616.01it/s]\n"
     ]
    }
   ],
   "source": [
    "b2 = xes.import_xes(pb2)"
   ]
  },
  {
   "cell_type": "code",
   "execution_count": 67,
   "metadata": {
    "colab": {
     "base_uri": "https://localhost:8080/"
    },
    "id": "8Jcq6wLOtA2e",
    "outputId": "ee7e4ecf-0d35-4d1a-d7a2-97eb208c6566"
   },
   "outputs": [
    {
     "name": "stdout",
     "output_type": "stream",
     "text": [
      "The log contains 1104 traces and 11855 events.\n",
      "Classifiers contained: {'(Name AND Transition)': ['concept:name', 'lifecycle:transition']}\n",
      "TRACE_ID: 685 (trace number 685 )\n",
      "  concept:name            lifecycle:transition                time:timestamp \n",
      "> Register                complete                            01/29/1970 07:55:07.499000\n",
      "> Analyze Defect          start                               01/29/1970 07:58:08.113000\n",
      "> Analyze Defect          complete                            01/29/1970 08:09:15.296000\n",
      "> Repair (Simple)         start                               01/29/1970 08:25:54.418000\n",
      "> Repair (Simple)         complete                            01/29/1970 08:36:09.862000\n",
      "> Test Repair             start                               01/29/1970 08:40:34.629000\n",
      "> Inform User             complete                            01/29/1970 08:47:05.403000\n",
      "> Test Repair             complete                            01/29/1970 08:53:00.038000\n",
      "> Restart Repair          complete                            01/29/1970 09:03:11.007000\n",
      "> Repair (Simple)         start                               01/29/1970 09:06:33.785000\n",
      "> Repair (Simple)         complete                            01/29/1970 09:22:08.647000\n",
      "> Test Repair             start                               01/29/1970 09:24:58.152000\n",
      "> Test Repair             complete                            01/29/1970 09:37:37.138000\n",
      "> Archive Repair          complete                            01/29/1970 09:48:18.038000\n",
      "\n"
     ]
    }
   ],
   "source": [
    "verify_log(b2)"
   ]
  },
  {
   "cell_type": "code",
   "execution_count": 68,
   "metadata": {},
   "outputs": [
    {
     "data": {
      "image/svg+xml": [
       "<?xml version=\"1.0\" encoding=\"UTF-8\" standalone=\"no\"?>\n",
       "<!DOCTYPE svg PUBLIC \"-//W3C//DTD SVG 1.1//EN\"\n",
       " \"http://www.w3.org/Graphics/SVG/1.1/DTD/svg11.dtd\">\n",
       "<!-- Generated by graphviz version 2.38.0 (20140413.2041)\n",
       " -->\n",
       "<!-- Title: b2 Pages: 1 -->\n",
       "<svg width=\"2210pt\" height=\"640pt\"\n",
       " viewBox=\"0.00 0.00 2210.00 640.00\" xmlns=\"http://www.w3.org/2000/svg\" xmlns:xlink=\"http://www.w3.org/1999/xlink\">\n",
       "<g id=\"graph0\" class=\"graph\" transform=\"scale(1 1) rotate(0) translate(4 636)\">\n",
       "<title>b2</title>\n",
       "<polygon fill=\"white\" stroke=\"none\" points=\"-4,4 -4,-636 2206,-636 2206,4 -4,4\"/>\n",
       "<!-- Register+complete (1104) -->\n",
       "<g id=\"node1\" class=\"node\"><title>Register+complete (1104)</title>\n",
       "<polygon fill=\"#74c476\" stroke=\"#74c476\" points=\"129,-186 0,-186 0,-150 129,-150 129,-186\"/>\n",
       "<text text-anchor=\"middle\" x=\"64.5\" y=\"-165.5\" font-family=\"Helvetica,sans-Serif\" font-size=\"10.00\">Register+complete (1104)</text>\n",
       "</g>\n",
       "<!-- Analyze Defect+start (1104) -->\n",
       "<g id=\"node2\" class=\"node\"><title>Analyze Defect+start (1104)</title>\n",
       "<polygon fill=\"#74c476\" stroke=\"#74c476\" points=\"340.5,-186 200.5,-186 200.5,-150 340.5,-150 340.5,-186\"/>\n",
       "<text text-anchor=\"middle\" x=\"270.5\" y=\"-165.5\" font-family=\"Helvetica,sans-Serif\" font-size=\"10.00\">Analyze Defect+start (1104)</text>\n",
       "</g>\n",
       "<!-- Register+complete (1104)&#45;&gt;Analyze Defect+start (1104) -->\n",
       "<g id=\"edge1\" class=\"edge\"><title>Register+complete (1104)&#45;&gt;Analyze Defect+start (1104)</title>\n",
       "<path fill=\"none\" stroke=\"black\" d=\"M129.208,-168C148.51,-168 169.952,-168 190.146,-168\"/>\n",
       "<polygon fill=\"black\" stroke=\"black\" points=\"190.259,-171.5 200.259,-168 190.259,-164.5 190.259,-171.5\"/>\n",
       "<text text-anchor=\"middle\" x=\"167.5\" y=\"-171.8\" font-family=\"Times,serif\" font-size=\"14.00\">1104</text>\n",
       "</g>\n",
       "<!-- Analyze Defect+complete (1104) -->\n",
       "<g id=\"node3\" class=\"node\"><title>Analyze Defect+complete (1104)</title>\n",
       "<polygon fill=\"#74c476\" stroke=\"#74c476\" points=\"556.5,-186 396.5,-186 396.5,-150 556.5,-150 556.5,-186\"/>\n",
       "<text text-anchor=\"middle\" x=\"476.5\" y=\"-165.5\" font-family=\"Helvetica,sans-Serif\" font-size=\"10.00\">Analyze Defect+complete (1104)</text>\n",
       "</g>\n",
       "<!-- Analyze Defect+start (1104)&#45;&gt;Analyze Defect+complete (1104) -->\n",
       "<g id=\"edge2\" class=\"edge\"><title>Analyze Defect+start (1104)&#45;&gt;Analyze Defect+complete (1104)</title>\n",
       "<path fill=\"none\" stroke=\"black\" d=\"M340.565,-168C355.262,-168 370.981,-168 386.308,-168\"/>\n",
       "<polygon fill=\"black\" stroke=\"black\" points=\"386.309,-171.5 396.309,-168 386.309,-164.5 386.309,-171.5\"/>\n",
       "<text text-anchor=\"middle\" x=\"373.5\" y=\"-171.8\" font-family=\"Times,serif\" font-size=\"14.00\">1104</text>\n",
       "</g>\n",
       "<!-- Repair (Complex)+start (725) -->\n",
       "<g id=\"node4\" class=\"node\"><title>Repair (Complex)+start (725)</title>\n",
       "<polygon fill=\"#bae4b3\" stroke=\"#bae4b3\" points=\"754,-186 611,-186 611,-150 754,-150 754,-186\"/>\n",
       "<text text-anchor=\"middle\" x=\"682.5\" y=\"-165.5\" font-family=\"Helvetica,sans-Serif\" font-size=\"10.00\">Repair (Complex)+start (725)</text>\n",
       "</g>\n",
       "<!-- Analyze Defect+complete (1104)&#45;&gt;Repair (Complex)+start (725) -->\n",
       "<g id=\"edge3\" class=\"edge\"><title>Analyze Defect+complete (1104)&#45;&gt;Repair (Complex)+start (725)</title>\n",
       "<path fill=\"none\" stroke=\"black\" d=\"M556.664,-168C570.993,-168 585.957,-168 600.342,-168\"/>\n",
       "<polygon fill=\"black\" stroke=\"black\" points=\"600.698,-171.5 610.698,-168 600.698,-164.5 600.698,-171.5\"/>\n",
       "<text text-anchor=\"middle\" x=\"579.5\" y=\"-171.8\" font-family=\"Times,serif\" font-size=\"14.00\">528</text>\n",
       "</g>\n",
       "<!-- Inform User+complete (1102) -->\n",
       "<g id=\"node8\" class=\"node\"><title>Inform User+complete (1102)</title>\n",
       "<polygon fill=\"#74c476\" stroke=\"#74c476\" points=\"1578.5,-331 1434.5,-331 1434.5,-295 1578.5,-295 1578.5,-331\"/>\n",
       "<text text-anchor=\"middle\" x=\"1506.5\" y=\"-310.5\" font-family=\"Helvetica,sans-Serif\" font-size=\"10.00\">Inform User+complete (1102)</text>\n",
       "</g>\n",
       "<!-- Analyze Defect+complete (1104)&#45;&gt;Inform User+complete (1102) -->\n",
       "<g id=\"edge21\" class=\"edge\"><title>Analyze Defect+complete (1104)&#45;&gt;Inform User+complete (1102)</title>\n",
       "<path fill=\"none\" stroke=\"black\" d=\"M477.275,-186.157C477.259,-270.158 488.855,-617 681.5,-617 681.5,-617 681.5,-617 1301.5,-617 1358.17,-617 1376.64,-599.61 1414,-557 1470.41,-492.663 1493.41,-390.218 1501.58,-341.083\"/>\n",
       "<polygon fill=\"black\" stroke=\"black\" points=\"1505.04,-341.588 1503.14,-331.165 1498.13,-340.496 1505.04,-341.588\"/>\n",
       "<text text-anchor=\"middle\" x=\"991.5\" y=\"-620.8\" font-family=\"Times,serif\" font-size=\"14.00\">155</text>\n",
       "</g>\n",
       "<!-- Repair (Simple)+start (785) -->\n",
       "<g id=\"node10\" class=\"node\"><title>Repair (Simple)+start (785)</title>\n",
       "<polygon fill=\"#bae4b3\" stroke=\"#bae4b3\" points=\"1985.5,-266 1851.5,-266 1851.5,-230 1985.5,-230 1985.5,-266\"/>\n",
       "<text text-anchor=\"middle\" x=\"1918.5\" y=\"-245.5\" font-family=\"Helvetica,sans-Serif\" font-size=\"10.00\">Repair (Simple)+start (785)</text>\n",
       "</g>\n",
       "<!-- Analyze Defect+complete (1104)&#45;&gt;Repair (Simple)+start (785) -->\n",
       "<g id=\"edge9\" class=\"edge\"><title>Analyze Defect+complete (1104)&#45;&gt;Repair (Simple)+start (785)</title>\n",
       "<path fill=\"none\" stroke=\"black\" d=\"M487.94,-149.701C514.297,-106.159 588.133,-0 681.5,-0 681.5,-0 681.5,-0 1713.5,-0 1826.48,-0 1888.43,-155.418 1909.34,-220.185\"/>\n",
       "<polygon fill=\"black\" stroke=\"black\" points=\"1906.01,-221.27 1912.34,-229.764 1912.69,-219.175 1906.01,-221.27\"/>\n",
       "<text text-anchor=\"middle\" x=\"1197.5\" y=\"-3.8\" font-family=\"Times,serif\" font-size=\"14.00\">421</text>\n",
       "</g>\n",
       "<!-- Repair (Complex)+complete (724) -->\n",
       "<g id=\"node5\" class=\"node\"><title>Repair (Complex)+complete (724)</title>\n",
       "<polygon fill=\"#bae4b3\" stroke=\"#bae4b3\" points=\"970.5,-517 806.5,-517 806.5,-481 970.5,-481 970.5,-517\"/>\n",
       "<text text-anchor=\"middle\" x=\"888.5\" y=\"-496.5\" font-family=\"Helvetica,sans-Serif\" font-size=\"10.00\">Repair (Complex)+complete (724)</text>\n",
       "</g>\n",
       "<!-- Repair (Complex)+start (725)&#45;&gt;Repair (Complex)+complete (724) -->\n",
       "<g id=\"edge4\" class=\"edge\"><title>Repair (Complex)+start (725)&#45;&gt;Repair (Complex)+complete (724)</title>\n",
       "<path fill=\"none\" stroke=\"black\" d=\"M694.759,-186.267C728.753,-241.425 830.488,-406.495 870.791,-471.889\"/>\n",
       "<polygon fill=\"black\" stroke=\"black\" points=\"868.05,-474.112 876.276,-480.789 874.009,-470.44 868.05,-474.112\"/>\n",
       "<text text-anchor=\"middle\" x=\"785.5\" y=\"-346.8\" font-family=\"Times,serif\" font-size=\"14.00\">414</text>\n",
       "</g>\n",
       "<!-- Repair (Complex)+start (725)&#45;&gt;Inform User+complete (1102) -->\n",
       "<g id=\"edge17\" class=\"edge\"><title>Repair (Complex)+start (725)&#45;&gt;Inform User+complete (1102)</title>\n",
       "<path fill=\"none\" stroke=\"black\" d=\"M726.012,-149.869C766.691,-134.181 830.164,-114 887.5,-114 887.5,-114 887.5,-114 1301.5,-114 1366.09,-114 1377.14,-152.958 1414,-206 1430.08,-229.142 1417.27,-243.697 1434.5,-266 1441.42,-274.957 1450.55,-282.761 1459.95,-289.299\"/>\n",
       "<polygon fill=\"black\" stroke=\"black\" points=\"1458.32,-292.412 1468.6,-294.945 1462.14,-286.55 1458.32,-292.412\"/>\n",
       "<text text-anchor=\"middle\" x=\"1094.5\" y=\"-117.8\" font-family=\"Times,serif\" font-size=\"14.00\">310</text>\n",
       "</g>\n",
       "<!-- Test Repair+start (1508) -->\n",
       "<g id=\"node6\" class=\"node\"><title>Test Repair+start (1508)</title>\n",
       "<polygon fill=\"#238b45\" stroke=\"#238b45\" points=\"1156,-429 1033,-429 1033,-393 1156,-393 1156,-429\"/>\n",
       "<text text-anchor=\"middle\" x=\"1094.5\" y=\"-408.5\" font-family=\"Helvetica,sans-Serif\" font-size=\"10.00\">Test Repair+start (1508)</text>\n",
       "</g>\n",
       "<!-- Repair (Complex)+complete (724)&#45;&gt;Test Repair+start (1508) -->\n",
       "<g id=\"edge5\" class=\"edge\"><title>Repair (Complex)+complete (724)&#45;&gt;Test Repair+start (1508)</title>\n",
       "<path fill=\"none\" stroke=\"black\" d=\"M931.275,-480.98C963.346,-467.145 1007.79,-447.971 1042.06,-433.191\"/>\n",
       "<polygon fill=\"black\" stroke=\"black\" points=\"1043.64,-436.322 1051.43,-429.147 1040.86,-429.895 1043.64,-436.322\"/>\n",
       "<text text-anchor=\"middle\" x=\"991.5\" y=\"-460.8\" font-family=\"Times,serif\" font-size=\"14.00\">720</text>\n",
       "</g>\n",
       "<!-- Repair (Complex)+complete (724)&#45;&gt;Inform User+complete (1102) -->\n",
       "<g id=\"edge28\" class=\"edge\"><title>Repair (Complex)+complete (724)&#45;&gt;Inform User+complete (1102)</title>\n",
       "<path fill=\"none\" stroke=\"black\" d=\"M970.758,-501.817C1036.39,-502.459 1130.79,-499.673 1211.5,-483 1286.08,-467.595 1306.04,-461.069 1372,-423 1413.25,-399.192 1454.63,-362.665 1480.14,-338.316\"/>\n",
       "<polygon fill=\"black\" stroke=\"black\" points=\"1482.77,-340.643 1487.53,-331.178 1477.91,-335.607 1482.77,-340.643\"/>\n",
       "<text text-anchor=\"middle\" x=\"1197.5\" y=\"-490.8\" font-family=\"Times,serif\" font-size=\"14.00\">3</text>\n",
       "</g>\n",
       "<!-- Test Repair+complete (1508) -->\n",
       "<g id=\"node7\" class=\"node\"><title>Test Repair+complete (1508)</title>\n",
       "<polygon fill=\"#238b45\" stroke=\"#238b45\" points=\"1372,-296 1229,-296 1229,-260 1372,-260 1372,-296\"/>\n",
       "<text text-anchor=\"middle\" x=\"1300.5\" y=\"-275.5\" font-family=\"Helvetica,sans-Serif\" font-size=\"10.00\">Test Repair+complete (1508)</text>\n",
       "</g>\n",
       "<!-- Test Repair+start (1508)&#45;&gt;Test Repair+complete (1508) -->\n",
       "<g id=\"edge6\" class=\"edge\"><title>Test Repair+start (1508)&#45;&gt;Test Repair+complete (1508)</title>\n",
       "<path fill=\"none\" stroke=\"black\" d=\"M1106.91,-392.854C1121.85,-370.58 1150.09,-333.165 1183.5,-312 1194.45,-305.065 1206.87,-299.497 1219.41,-295.04\"/>\n",
       "<polygon fill=\"black\" stroke=\"black\" points=\"1220.62,-298.326 1229,-291.845 1218.4,-291.685 1220.62,-298.326\"/>\n",
       "<text text-anchor=\"middle\" x=\"1197.5\" y=\"-315.8\" font-family=\"Times,serif\" font-size=\"14.00\">1333</text>\n",
       "</g>\n",
       "<!-- Test Repair+start (1508)&#45;&gt;Inform User+complete (1102) -->\n",
       "<g id=\"edge19\" class=\"edge\"><title>Test Repair+start (1508)&#45;&gt;Inform User+complete (1102)</title>\n",
       "<path fill=\"none\" stroke=\"black\" d=\"M1156.05,-408.938C1221.31,-405.193 1327.45,-394.655 1414,-365 1433.98,-358.154 1454.57,-346.888 1471.15,-336.59\"/>\n",
       "<polygon fill=\"black\" stroke=\"black\" points=\"1473.37,-339.328 1479.92,-331.002 1469.6,-333.425 1473.37,-339.328\"/>\n",
       "<text text-anchor=\"middle\" x=\"1300.5\" y=\"-405.8\" font-family=\"Times,serif\" font-size=\"14.00\">175</text>\n",
       "</g>\n",
       "<!-- Test Repair+complete (1508)&#45;&gt;Inform User+complete (1102) -->\n",
       "<g id=\"edge7\" class=\"edge\"><title>Test Repair+complete (1508)&#45;&gt;Inform User+complete (1102)</title>\n",
       "<path fill=\"none\" stroke=\"black\" d=\"M1372.28,-290.143C1389.02,-293.015 1407,-296.1 1424.16,-299.045\"/>\n",
       "<polygon fill=\"black\" stroke=\"black\" points=\"1423.71,-302.518 1434.16,-300.76 1424.89,-295.619 1423.71,-302.518\"/>\n",
       "<text text-anchor=\"middle\" x=\"1403.5\" y=\"-299.8\" font-family=\"Times,serif\" font-size=\"14.00\">297</text>\n",
       "</g>\n",
       "<!-- Archive Repair+complete (1000) -->\n",
       "<g id=\"node9\" class=\"node\"><title>Archive Repair+complete (1000)</title>\n",
       "<polygon fill=\"#bae4b3\" stroke=\"#bae4b3\" points=\"1791,-198 1634,-198 1634,-162 1791,-162 1791,-198\"/>\n",
       "<text text-anchor=\"middle\" x=\"1712.5\" y=\"-177.5\" font-family=\"Helvetica,sans-Serif\" font-size=\"10.00\">Archive Repair+complete (1000)</text>\n",
       "</g>\n",
       "<!-- Test Repair+complete (1508)&#45;&gt;Archive Repair+complete (1000) -->\n",
       "<g id=\"edge16\" class=\"edge\"><title>Test Repair+complete (1508)&#45;&gt;Archive Repair+complete (1000)</title>\n",
       "<path fill=\"none\" stroke=\"black\" d=\"M1372.45,-261.042C1442.86,-244.212 1550.84,-218.402 1625.96,-200.447\"/>\n",
       "<polygon fill=\"black\" stroke=\"black\" points=\"1626.96,-203.807 1635.87,-198.078 1625.33,-196.999 1626.96,-203.807\"/>\n",
       "<text text-anchor=\"middle\" x=\"1506.5\" y=\"-248.8\" font-family=\"Times,serif\" font-size=\"14.00\">795</text>\n",
       "</g>\n",
       "<!-- Restart Repair+complete (406) -->\n",
       "<g id=\"node12\" class=\"node\"><title>Restart Repair+complete (406)</title>\n",
       "<polygon fill=\"#edf8e9\" stroke=\"#edf8e9\" points=\"1788,-137 1637,-137 1637,-101 1788,-101 1788,-137\"/>\n",
       "<text text-anchor=\"middle\" x=\"1712.5\" y=\"-116.5\" font-family=\"Helvetica,sans-Serif\" font-size=\"10.00\">Restart Repair+complete (406)</text>\n",
       "</g>\n",
       "<!-- Test Repair+complete (1508)&#45;&gt;Restart Repair+complete (406) -->\n",
       "<g id=\"edge12\" class=\"edge\"><title>Test Repair+complete (1508)&#45;&gt;Restart Repair+complete (406)</title>\n",
       "<path fill=\"none\" stroke=\"black\" d=\"M1326.09,-259.78C1352.13,-241.009 1394.86,-211.657 1434.5,-191 1504.36,-154.594 1522.08,-141.993 1599,-125 1607.91,-123.033 1617.3,-121.583 1626.71,-120.527\"/>\n",
       "<polygon fill=\"black\" stroke=\"black\" points=\"1627.29,-123.987 1636.9,-119.531 1626.61,-117.02 1627.29,-123.987\"/>\n",
       "<text text-anchor=\"middle\" x=\"1506.5\" y=\"-194.8\" font-family=\"Times,serif\" font-size=\"14.00\">341</text>\n",
       "</g>\n",
       "<!-- Inform User+complete (1102)&#45;&gt;Repair (Complex)+start (725) -->\n",
       "<g id=\"edge23\" class=\"edge\"><title>Inform User+complete (1102)&#45;&gt;Repair (Complex)+start (725)</title>\n",
       "<path fill=\"none\" stroke=\"black\" d=\"M1474.24,-294.98C1456.79,-285.247 1434.49,-273.345 1414,-264 1325.21,-223.515 1296.08,-222 1198.5,-222 887.5,-222 887.5,-222 887.5,-222 834.419,-222 776.079,-204.703 735.434,-189.689\"/>\n",
       "<polygon fill=\"black\" stroke=\"black\" points=\"736.604,-186.389 726.012,-186.131 734.131,-192.938 736.604,-186.389\"/>\n",
       "<text text-anchor=\"middle\" x=\"1094.5\" y=\"-225.8\" font-family=\"Times,serif\" font-size=\"14.00\">92</text>\n",
       "</g>\n",
       "<!-- Inform User+complete (1102)&#45;&gt;Repair (Complex)+complete (724) -->\n",
       "<g id=\"edge18\" class=\"edge\"><title>Inform User+complete (1102)&#45;&gt;Repair (Complex)+complete (724)</title>\n",
       "<path fill=\"none\" stroke=\"black\" d=\"M1504.37,-331.104C1500.54,-374.949 1484.03,-486.699 1414,-534 1334.26,-587.859 1075.53,-551.946 981,-534 966.337,-531.216 950.976,-526.229 937.118,-520.875\"/>\n",
       "<polygon fill=\"black\" stroke=\"black\" points=\"938.375,-517.609 927.791,-517.133 935.768,-524.105 938.375,-517.609\"/>\n",
       "<text text-anchor=\"middle\" x=\"1197.5\" y=\"-564.8\" font-family=\"Times,serif\" font-size=\"14.00\">310</text>\n",
       "</g>\n",
       "<!-- Inform User+complete (1102)&#45;&gt;Test Repair+start (1508) -->\n",
       "<g id=\"edge27\" class=\"edge\"><title>Inform User+complete (1102)&#45;&gt;Test Repair+start (1508)</title>\n",
       "<path fill=\"none\" stroke=\"black\" d=\"M1434.38,-319.831C1377.97,-326.318 1297.49,-337.964 1229,-357 1199.63,-365.163 1167.95,-377.799 1142.83,-388.796\"/>\n",
       "<polygon fill=\"black\" stroke=\"black\" points=\"1141.26,-385.663 1133.54,-392.918 1144.1,-392.061 1141.26,-385.663\"/>\n",
       "<text text-anchor=\"middle\" x=\"1300.5\" y=\"-360.8\" font-family=\"Times,serif\" font-size=\"14.00\">5</text>\n",
       "</g>\n",
       "<!-- Inform User+complete (1102)&#45;&gt;Test Repair+complete (1508) -->\n",
       "<g id=\"edge20\" class=\"edge\"><title>Inform User+complete (1102)&#45;&gt;Test Repair+complete (1508)</title>\n",
       "<path fill=\"none\" stroke=\"black\" d=\"M1473.13,-294.942C1456.1,-286.463 1434.53,-277.292 1414,-273 1403.85,-270.878 1393.07,-269.85 1382.37,-269.554\"/>\n",
       "<polygon fill=\"black\" stroke=\"black\" points=\"1382.18,-266.053 1372.15,-269.483 1382.13,-273.053 1382.18,-266.053\"/>\n",
       "<text text-anchor=\"middle\" x=\"1403.5\" y=\"-276.8\" font-family=\"Times,serif\" font-size=\"14.00\">175</text>\n",
       "</g>\n",
       "<!-- Inform User+complete (1102)&#45;&gt;Archive Repair+complete (1000) -->\n",
       "<g id=\"edge8\" class=\"edge\"><title>Inform User+complete (1102)&#45;&gt;Archive Repair+complete (1000)</title>\n",
       "<path fill=\"none\" stroke=\"black\" d=\"M1528.48,-294.946C1552.83,-274.512 1594.68,-240.959 1634,-217 1642.32,-211.933 1651.43,-207.043 1660.4,-202.569\"/>\n",
       "<polygon fill=\"black\" stroke=\"black\" points=\"1662.19,-205.59 1669.65,-198.068 1659.13,-199.296 1662.19,-205.59\"/>\n",
       "<text text-anchor=\"middle\" x=\"1609.5\" y=\"-241.8\" font-family=\"Times,serif\" font-size=\"14.00\">205</text>\n",
       "</g>\n",
       "<!-- Inform User+complete (1102)&#45;&gt;Repair (Simple)+start (785) -->\n",
       "<g id=\"edge22\" class=\"edge\"><title>Inform User+complete (1102)&#45;&gt;Repair (Simple)+start (785)</title>\n",
       "<path fill=\"none\" stroke=\"black\" d=\"M1578.78,-309.179C1636.42,-305.26 1719.45,-297.73 1791,-284 1811.14,-280.135 1832.72,-274.55 1852.25,-268.928\"/>\n",
       "<polygon fill=\"black\" stroke=\"black\" points=\"1853.35,-272.254 1861.96,-266.083 1851.38,-265.537 1853.35,-272.254\"/>\n",
       "<text text-anchor=\"middle\" x=\"1712.5\" y=\"-307.8\" font-family=\"Times,serif\" font-size=\"14.00\">64</text>\n",
       "</g>\n",
       "<!-- Repair (Simple)+complete (785) -->\n",
       "<g id=\"node11\" class=\"node\"><title>Repair (Simple)+complete (785)</title>\n",
       "<polygon fill=\"#bae4b3\" stroke=\"#bae4b3\" points=\"2202,-409 2047,-409 2047,-373 2202,-373 2202,-409\"/>\n",
       "<text text-anchor=\"middle\" x=\"2124.5\" y=\"-388.5\" font-family=\"Helvetica,sans-Serif\" font-size=\"10.00\">Repair (Simple)+complete (785)</text>\n",
       "</g>\n",
       "<!-- Inform User+complete (1102)&#45;&gt;Repair (Simple)+complete (785) -->\n",
       "<g id=\"edge15\" class=\"edge\"><title>Inform User+complete (1102)&#45;&gt;Repair (Simple)+complete (785)</title>\n",
       "<path fill=\"none\" stroke=\"black\" d=\"M1578.92,-322.404C1585.71,-323.286 1592.48,-324.163 1599,-325 1752.95,-344.781 1932.39,-367.23 2036.46,-380.189\"/>\n",
       "<polygon fill=\"black\" stroke=\"black\" points=\"2036.25,-383.69 2046.61,-381.452 2037.12,-376.743 2036.25,-383.69\"/>\n",
       "<text text-anchor=\"middle\" x=\"1815.5\" y=\"-356.8\" font-family=\"Times,serif\" font-size=\"14.00\">159</text>\n",
       "</g>\n",
       "<!-- Inform User+complete (1102)&#45;&gt;Restart Repair+complete (406) -->\n",
       "<g id=\"edge25\" class=\"edge\"><title>Inform User+complete (1102)&#45;&gt;Restart Repair+complete (406)</title>\n",
       "<path fill=\"none\" stroke=\"black\" d=\"M1521.28,-294.721C1552.56,-253.297 1626.79,-155.429 1634,-150 1637.92,-147.049 1642.15,-144.336 1646.56,-141.851\"/>\n",
       "<polygon fill=\"black\" stroke=\"black\" points=\"1648.51,-144.778 1655.77,-137.064 1645.29,-138.565 1648.51,-144.778\"/>\n",
       "<text text-anchor=\"middle\" x=\"1609.5\" y=\"-195.8\" font-family=\"Times,serif\" font-size=\"14.00\">65</text>\n",
       "</g>\n",
       "<!-- Repair (Simple)+start (785)&#45;&gt;Inform User+complete (1102) -->\n",
       "<g id=\"edge14\" class=\"edge\"><title>Repair (Simple)+start (785)&#45;&gt;Inform User+complete (1102)</title>\n",
       "<path fill=\"none\" stroke=\"black\" d=\"M1851.48,-247.199C1793.56,-247.73 1707.37,-251.528 1634,-267 1608.09,-272.464 1580.33,-282.103 1557.44,-291.151\"/>\n",
       "<polygon fill=\"black\" stroke=\"black\" points=\"1555.91,-287.993 1547.95,-294.979 1558.53,-294.486 1555.91,-287.993\"/>\n",
       "<text text-anchor=\"middle\" x=\"1712.5\" y=\"-270.8\" font-family=\"Times,serif\" font-size=\"14.00\">159</text>\n",
       "</g>\n",
       "<!-- Repair (Simple)+start (785)&#45;&gt;Repair (Simple)+complete (785) -->\n",
       "<g id=\"edge10\" class=\"edge\"><title>Repair (Simple)+start (785)&#45;&gt;Repair (Simple)+complete (785)</title>\n",
       "<path fill=\"none\" stroke=\"black\" d=\"M1945.34,-266.111C1981.87,-291.721 2048.69,-338.562 2089.3,-367.029\"/>\n",
       "<polygon fill=\"black\" stroke=\"black\" points=\"2087.35,-369.937 2097.55,-372.811 2091.37,-364.205 2087.35,-369.937\"/>\n",
       "<text text-anchor=\"middle\" x=\"2021.5\" y=\"-326.8\" font-family=\"Times,serif\" font-size=\"14.00\">626</text>\n",
       "</g>\n",
       "<!-- Repair (Simple)+complete (785)&#45;&gt;Test Repair+start (1508) -->\n",
       "<g id=\"edge11\" class=\"edge\"><title>Repair (Simple)+complete (785)&#45;&gt;Test Repair+start (1508)</title>\n",
       "<path fill=\"none\" stroke=\"black\" d=\"M2066.37,-409.013C2055.09,-411.886 2043.25,-414.427 2032,-416 1670.82,-466.471 1576.18,-423 1211.5,-425 1199.06,-425.068 1195.91,-425.981 1183.5,-425 1178.01,-424.566 1172.34,-423.981 1166.65,-423.297\"/>\n",
       "<polygon fill=\"black\" stroke=\"black\" points=\"1166.79,-419.785 1156.42,-421.967 1165.89,-426.727 1166.79,-419.785\"/>\n",
       "<text text-anchor=\"middle\" x=\"1609.5\" y=\"-441.8\" font-family=\"Times,serif\" font-size=\"14.00\">783</text>\n",
       "</g>\n",
       "<!-- Repair (Simple)+complete (785)&#45;&gt;Inform User+complete (1102) -->\n",
       "<g id=\"edge26\" class=\"edge\"><title>Repair (Simple)+complete (785)&#45;&gt;Inform User+complete (1102)</title>\n",
       "<path fill=\"none\" stroke=\"black\" d=\"M2046.96,-397.014C2034.93,-397.402 2022.63,-397.473 2011,-397 1842.69,-390.152 1798,-396.464 1634,-358 1609.18,-352.178 1582.48,-343.117 1560.03,-334.647\"/>\n",
       "<polygon fill=\"black\" stroke=\"black\" points=\"1561.28,-331.377 1550.69,-331.064 1558.77,-337.913 1561.28,-331.377\"/>\n",
       "<text text-anchor=\"middle\" x=\"1815.5\" y=\"-392.8\" font-family=\"Times,serif\" font-size=\"14.00\">2</text>\n",
       "</g>\n",
       "<!-- Restart Repair+complete (406)&#45;&gt;Repair (Complex)+start (725) -->\n",
       "<g id=\"edge24\" class=\"edge\"><title>Restart Repair+complete (406)&#45;&gt;Repair (Complex)+start (725)</title>\n",
       "<path fill=\"none\" stroke=\"black\" d=\"M1679.04,-100.956C1639.69,-80.8104 1570.78,-51 1507.5,-51 887.5,-51 887.5,-51 887.5,-51 814.432,-51 743.827,-108.18 707.951,-142.592\"/>\n",
       "<polygon fill=\"black\" stroke=\"black\" points=\"705.111,-140.475 700.421,-149.975 710.012,-145.474 705.111,-140.475\"/>\n",
       "<text text-anchor=\"middle\" x=\"1197.5\" y=\"-54.8\" font-family=\"Times,serif\" font-size=\"14.00\">105</text>\n",
       "</g>\n",
       "<!-- Restart Repair+complete (406)&#45;&gt;Inform User+complete (1102) -->\n",
       "<g id=\"edge29\" class=\"edge\"><title>Restart Repair+complete (406)&#45;&gt;Inform User+complete (1102)</title>\n",
       "<path fill=\"none\" stroke=\"black\" d=\"M1636.87,-124.543C1622.91,-128.619 1609.44,-135.035 1599,-145 1574.62,-168.267 1593.39,-187.771 1578.5,-218 1566.03,-243.307 1546.57,-268.738 1531.17,-286.911\"/>\n",
       "<polygon fill=\"black\" stroke=\"black\" points=\"1528.31,-284.868 1524.43,-294.723 1533.61,-289.443 1528.31,-284.868\"/>\n",
       "<text text-anchor=\"middle\" x=\"1609.5\" y=\"-148.8\" font-family=\"Times,serif\" font-size=\"14.00\">1</text>\n",
       "</g>\n",
       "<!-- Restart Repair+complete (406)&#45;&gt;Repair (Simple)+start (785) -->\n",
       "<g id=\"edge13\" class=\"edge\"><title>Restart Repair+complete (406)&#45;&gt;Repair (Simple)+start (785)</title>\n",
       "<path fill=\"none\" stroke=\"black\" d=\"M1764.48,-137.03C1773.53,-140.888 1782.7,-145.249 1791,-150 1827.61,-170.953 1865.29,-201.525 1889.9,-222.936\"/>\n",
       "<polygon fill=\"black\" stroke=\"black\" points=\"1887.9,-225.84 1897.72,-229.818 1892.52,-220.585 1887.9,-225.84\"/>\n",
       "<text text-anchor=\"middle\" x=\"1815.5\" y=\"-174.8\" font-family=\"Times,serif\" font-size=\"14.00\">300</text>\n",
       "</g>\n",
       "</g>\n",
       "</svg>\n"
      ],
      "text/plain": [
       "<graphviz.dot.Digraph at 0x7fdbf308ad30>"
      ]
     },
     "execution_count": 68,
     "metadata": {},
     "output_type": "execute_result"
    }
   ],
   "source": [
    "draw_dfg(b2, \"b2\", 0, save=False, lifecycle_present=True)"
   ]
  },
  {
   "cell_type": "code",
   "execution_count": null,
   "metadata": {
    "colab": {
     "base_uri": "https://localhost:8080/"
    },
    "id": "3T6PDfoztUk1",
    "outputId": "c5503ff3-8f91-4230-81a7-e2c374388901"
   },
   "outputs": [
    {
     "name": "stdout",
     "output_type": "stream",
     "text": [
      "Concept name of the trace: 825 (the same as the TRACE_ID below)\n",
      "TRACE_ID: 825 (trace number 911 )\n",
      "  concept:name               lifecycle:transition                time:timestamp \n",
      "> Register                   complete                            02/08/1970 21:00:14.152000\n",
      "> Analyze Defect             start                               02/08/1970 21:02:31.053000\n",
      "> Analyze Defect             complete                            02/08/1970 21:13:51.115000\n",
      "> Repair (Simple)            start                               02/08/1970 21:43:41.416000\n",
      "> Repair (Simple)            complete                            02/08/1970 21:54:13.299000\n",
      "> Test Repair                start                               02/08/1970 21:58:27.104000\n",
      "> Test Repair                complete                            02/08/1970 22:09:12.265000\n",
      "> Inform User                complete                            02/08/1970 22:18:01.828000\n",
      "> Restart Repair             complete                            02/08/1970 22:22:50.041000\n",
      "> Repair (Simple)            start                               02/08/1970 22:25:33.783000\n",
      "> Repair (Simple)            complete                            02/08/1970 22:39:19.224000\n",
      "> Test Repair                start                               02/08/1970 22:40:48.601000\n",
      "> Test Repair                complete                            02/08/1970 22:48:51.991000\n",
      "> Restart Repair             complete                            02/08/1970 23:01:46.772000\n",
      "> Repair (Simple)            start                               02/08/1970 23:04:45.564000\n",
      "> Repair (Simple)            complete                            02/08/1970 23:21:30.890000\n",
      "> Test Repair                start                               02/08/1970 23:24:51.048000\n",
      "> Test Repair                complete                            02/08/1970 23:36:16.253000\n",
      "> Archive Repair             complete                            02/08/1970 23:43:42.848000\n",
      "\n"
     ]
    }
   ],
   "source": [
    "print_rand_trace(b2)"
   ]
  },
  {
   "cell_type": "code",
   "execution_count": null,
   "metadata": {
    "colab": {
     "base_uri": "https://localhost:8080/"
    },
    "id": "xmntSf1ttazE",
    "outputId": "cd4ebf22-13a0-4684-9eca-440a221bf91d"
   },
   "outputs": [
    {
     "data": {
      "text/plain": [
       "{'(Name AND Transition)': ['concept:name', 'lifecycle:transition']}"
      ]
     },
     "execution_count": 40,
     "metadata": {
      "tags": []
     },
     "output_type": "execute_result"
    }
   ],
   "source": [
    "b2.classifiers"
   ]
  },
  {
   "cell_type": "code",
   "execution_count": null,
   "metadata": {
    "colab": {
     "base_uri": "https://localhost:8080/"
    },
    "id": "YOgMuvggHhlx",
    "outputId": "0b4c69b0-a90a-49e1-ee56-d78da4310b65"
   },
   "outputs": [
    {
     "data": {
      "text/plain": [
       "True"
      ]
     },
     "execution_count": 41,
     "metadata": {
      "tags": []
     },
     "output_type": "execute_result"
    }
   ],
   "source": [
    "#build the set of event that is equal to the first event by our classifier\n",
    "first_classifier = list(b2.classifiers.keys())[0]\n",
    "equal_events = b2.filter_by_classifier(b2.events[0], first_classifier)\n",
    "verify_filter_by_classifier(b2, equal_events, first_classifier)"
   ]
  },
  {
   "cell_type": "code",
   "execution_count": 25,
   "metadata": {
    "colab": {
     "base_uri": "https://localhost:8080/"
    },
    "id": "vqHhrwusPyVK",
    "outputId": "9be2eedd-f064-411c-8bfe-eca49663342a"
   },
   "outputs": [
    {
     "name": "stdout",
     "output_type": "stream",
     "text": [
      "Concept name of the trace: 825 (the same as the TRACE_ID below)\n",
      "TRACE_ID: 825 (trace number 911 )\n",
      "  concept:name               lifecycle:transition                time:timestamp \n",
      "> Register                   complete                            02/08/1970 21:00:14.152000\n",
      "> Analyze Defect             start                               02/08/1970 21:02:31.053000\n",
      "> Analyze Defect             complete                            02/08/1970 21:13:51.115000\n",
      "> Repair (Simple)            start                               02/08/1970 21:43:41.416000\n",
      "> Repair (Simple)            complete                            02/08/1970 21:54:13.299000\n",
      "> Test Repair                start                               02/08/1970 21:58:27.104000\n",
      "> Test Repair                complete                            02/08/1970 22:09:12.265000\n",
      "> Inform User                complete                            02/08/1970 22:18:01.828000\n",
      "> Restart Repair             complete                            02/08/1970 22:22:50.041000\n",
      "> Repair (Simple)            start                               02/08/1970 22:25:33.783000\n",
      "> Repair (Simple)            complete                            02/08/1970 22:39:19.224000\n",
      "> Test Repair                start                               02/08/1970 22:40:48.601000\n",
      "> Test Repair                complete                            02/08/1970 22:48:51.991000\n",
      "> Restart Repair             complete                            02/08/1970 23:01:46.772000\n",
      "> Repair (Simple)            start                               02/08/1970 23:04:45.564000\n",
      "> Repair (Simple)            complete                            02/08/1970 23:21:30.890000\n",
      "> Test Repair                start                               02/08/1970 23:24:51.048000\n",
      "> Test Repair                complete                            02/08/1970 23:36:16.253000\n",
      "> Archive Repair             complete                            02/08/1970 23:43:42.848000\n",
      "\n"
     ]
    }
   ],
   "source": [
    "trace_id = case_ids_[\"b2\"]\n",
    "print_specific_case(b2, trace_id) "
   ]
  },
  {
   "cell_type": "markdown",
   "metadata": {
    "id": "D9WncCzfTkOB"
   },
   "source": [
    "### C1"
   ]
  },
  {
   "cell_type": "code",
   "execution_count": 69,
   "metadata": {
    "colab": {
     "base_uri": "https://localhost:8080/"
    },
    "id": "8QkcM-hSTYqm",
    "outputId": "7765bbed-9dca-43c8-e693-88e0cc8c3abd"
   },
   "outputs": [
    {
     "name": "stderr",
     "output_type": "stream",
     "text": [
      "9685it [00:00, 96837.16it/s]"
     ]
    },
    {
     "name": "stdout",
     "output_type": "stream",
     "text": [
      "Processing log...\n"
     ]
    },
    {
     "name": "stderr",
     "output_type": "stream",
     "text": [
      "75564it [00:00, 142070.30it/s]\n"
     ]
    }
   ],
   "source": [
    "c1 = xes.import_xes(pc1)"
   ]
  },
  {
   "cell_type": "code",
   "execution_count": 70,
   "metadata": {
    "colab": {
     "base_uri": "https://localhost:8080/"
    },
    "id": "ClALBbDxH5uA",
    "outputId": "17096ad1-cd7b-4849-ee9e-b02a425d9ae4"
   },
   "outputs": [
    {
     "name": "stdout",
     "output_type": "stream",
     "text": [
      "Traces: 1104 Events: 11855\n"
     ]
    }
   ],
   "source": [
    "print(\"Traces:\", len(c1.traces), \"Events:\", len(c1.events))"
   ]
  },
  {
   "cell_type": "code",
   "execution_count": 71,
   "metadata": {
    "colab": {
     "base_uri": "https://localhost:8080/"
    },
    "id": "mhkYQFffH48F",
    "outputId": "277ddcaa-0e49-44cf-a3d6-0153cbedae3e"
   },
   "outputs": [
    {
     "name": "stdout",
     "output_type": "stream",
     "text": [
      "Concept name of the trace: 988 (the same as the TRACE_ID below)\n",
      "TRACE_ID: 1093 (trace number 1093 )\n",
      "  concept:name            org:resource                        \n",
      "> Register+complete       System                              \n",
      "> Analyze Defect+start    Tester2                             \n",
      "> Analyze Defect+complete Tester2                             \n",
      "> Inform User+complete    System                              \n",
      "> Repair (Simple)+start   SolverS2                            \n",
      "> Repair (Simple)+completeSolverS2                            \n",
      "> Test Repair+start       Tester5                             \n",
      "> Test Repair+complete    Tester5                             \n",
      "> Archive Repair+complete System                              \n",
      "\n"
     ]
    }
   ],
   "source": [
    "attributes = ['concept:name', 'org:resource']\n",
    "\n",
    "print_rand_trace(c1, attributes)"
   ]
  },
  {
   "cell_type": "code",
   "execution_count": 73,
   "metadata": {},
   "outputs": [
    {
     "data": {
      "image/svg+xml": [
       "<?xml version=\"1.0\" encoding=\"UTF-8\" standalone=\"no\"?>\n",
       "<!DOCTYPE svg PUBLIC \"-//W3C//DTD SVG 1.1//EN\"\n",
       " \"http://www.w3.org/Graphics/SVG/1.1/DTD/svg11.dtd\">\n",
       "<!-- Generated by graphviz version 2.38.0 (20140413.2041)\n",
       " -->\n",
       "<!-- Title: c1 Pages: 1 -->\n",
       "<svg width=\"2210pt\" height=\"640pt\"\n",
       " viewBox=\"0.00 0.00 2210.00 640.00\" xmlns=\"http://www.w3.org/2000/svg\" xmlns:xlink=\"http://www.w3.org/1999/xlink\">\n",
       "<g id=\"graph0\" class=\"graph\" transform=\"scale(1 1) rotate(0) translate(4 636)\">\n",
       "<title>c1</title>\n",
       "<polygon fill=\"white\" stroke=\"none\" points=\"-4,4 -4,-636 2206,-636 2206,4 -4,4\"/>\n",
       "<!-- Register+complete (1104) -->\n",
       "<g id=\"node1\" class=\"node\"><title>Register+complete (1104)</title>\n",
       "<polygon fill=\"#74c476\" stroke=\"#74c476\" points=\"129,-186 0,-186 0,-150 129,-150 129,-186\"/>\n",
       "<text text-anchor=\"middle\" x=\"64.5\" y=\"-165.5\" font-family=\"Helvetica,sans-Serif\" font-size=\"10.00\">Register+complete (1104)</text>\n",
       "</g>\n",
       "<!-- Analyze Defect+start (1104) -->\n",
       "<g id=\"node2\" class=\"node\"><title>Analyze Defect+start (1104)</title>\n",
       "<polygon fill=\"#74c476\" stroke=\"#74c476\" points=\"340.5,-186 200.5,-186 200.5,-150 340.5,-150 340.5,-186\"/>\n",
       "<text text-anchor=\"middle\" x=\"270.5\" y=\"-165.5\" font-family=\"Helvetica,sans-Serif\" font-size=\"10.00\">Analyze Defect+start (1104)</text>\n",
       "</g>\n",
       "<!-- Register+complete (1104)&#45;&gt;Analyze Defect+start (1104) -->\n",
       "<g id=\"edge1\" class=\"edge\"><title>Register+complete (1104)&#45;&gt;Analyze Defect+start (1104)</title>\n",
       "<path fill=\"none\" stroke=\"black\" d=\"M129.208,-168C148.51,-168 169.952,-168 190.146,-168\"/>\n",
       "<polygon fill=\"black\" stroke=\"black\" points=\"190.259,-171.5 200.259,-168 190.259,-164.5 190.259,-171.5\"/>\n",
       "<text text-anchor=\"middle\" x=\"167.5\" y=\"-171.8\" font-family=\"Times,serif\" font-size=\"14.00\">1104</text>\n",
       "</g>\n",
       "<!-- Analyze Defect+complete (1104) -->\n",
       "<g id=\"node3\" class=\"node\"><title>Analyze Defect+complete (1104)</title>\n",
       "<polygon fill=\"#74c476\" stroke=\"#74c476\" points=\"556.5,-186 396.5,-186 396.5,-150 556.5,-150 556.5,-186\"/>\n",
       "<text text-anchor=\"middle\" x=\"476.5\" y=\"-165.5\" font-family=\"Helvetica,sans-Serif\" font-size=\"10.00\">Analyze Defect+complete (1104)</text>\n",
       "</g>\n",
       "<!-- Analyze Defect+start (1104)&#45;&gt;Analyze Defect+complete (1104) -->\n",
       "<g id=\"edge2\" class=\"edge\"><title>Analyze Defect+start (1104)&#45;&gt;Analyze Defect+complete (1104)</title>\n",
       "<path fill=\"none\" stroke=\"black\" d=\"M340.565,-168C355.262,-168 370.981,-168 386.308,-168\"/>\n",
       "<polygon fill=\"black\" stroke=\"black\" points=\"386.309,-171.5 396.309,-168 386.309,-164.5 386.309,-171.5\"/>\n",
       "<text text-anchor=\"middle\" x=\"373.5\" y=\"-171.8\" font-family=\"Times,serif\" font-size=\"14.00\">1104</text>\n",
       "</g>\n",
       "<!-- Repair (Complex)+start (725) -->\n",
       "<g id=\"node4\" class=\"node\"><title>Repair (Complex)+start (725)</title>\n",
       "<polygon fill=\"#bae4b3\" stroke=\"#bae4b3\" points=\"754,-186 611,-186 611,-150 754,-150 754,-186\"/>\n",
       "<text text-anchor=\"middle\" x=\"682.5\" y=\"-165.5\" font-family=\"Helvetica,sans-Serif\" font-size=\"10.00\">Repair (Complex)+start (725)</text>\n",
       "</g>\n",
       "<!-- Analyze Defect+complete (1104)&#45;&gt;Repair (Complex)+start (725) -->\n",
       "<g id=\"edge3\" class=\"edge\"><title>Analyze Defect+complete (1104)&#45;&gt;Repair (Complex)+start (725)</title>\n",
       "<path fill=\"none\" stroke=\"black\" d=\"M556.664,-168C570.993,-168 585.957,-168 600.342,-168\"/>\n",
       "<polygon fill=\"black\" stroke=\"black\" points=\"600.698,-171.5 610.698,-168 600.698,-164.5 600.698,-171.5\"/>\n",
       "<text text-anchor=\"middle\" x=\"579.5\" y=\"-171.8\" font-family=\"Times,serif\" font-size=\"14.00\">528</text>\n",
       "</g>\n",
       "<!-- Inform User+complete (1102) -->\n",
       "<g id=\"node8\" class=\"node\"><title>Inform User+complete (1102)</title>\n",
       "<polygon fill=\"#74c476\" stroke=\"#74c476\" points=\"1578.5,-331 1434.5,-331 1434.5,-295 1578.5,-295 1578.5,-331\"/>\n",
       "<text text-anchor=\"middle\" x=\"1506.5\" y=\"-310.5\" font-family=\"Helvetica,sans-Serif\" font-size=\"10.00\">Inform User+complete (1102)</text>\n",
       "</g>\n",
       "<!-- Analyze Defect+complete (1104)&#45;&gt;Inform User+complete (1102) -->\n",
       "<g id=\"edge21\" class=\"edge\"><title>Analyze Defect+complete (1104)&#45;&gt;Inform User+complete (1102)</title>\n",
       "<path fill=\"none\" stroke=\"black\" d=\"M477.275,-186.157C477.259,-270.158 488.855,-617 681.5,-617 681.5,-617 681.5,-617 1301.5,-617 1358.17,-617 1376.64,-599.61 1414,-557 1470.41,-492.663 1493.41,-390.218 1501.58,-341.083\"/>\n",
       "<polygon fill=\"black\" stroke=\"black\" points=\"1505.04,-341.588 1503.14,-331.165 1498.13,-340.496 1505.04,-341.588\"/>\n",
       "<text text-anchor=\"middle\" x=\"991.5\" y=\"-620.8\" font-family=\"Times,serif\" font-size=\"14.00\">155</text>\n",
       "</g>\n",
       "<!-- Repair (Simple)+start (785) -->\n",
       "<g id=\"node10\" class=\"node\"><title>Repair (Simple)+start (785)</title>\n",
       "<polygon fill=\"#bae4b3\" stroke=\"#bae4b3\" points=\"1985.5,-266 1851.5,-266 1851.5,-230 1985.5,-230 1985.5,-266\"/>\n",
       "<text text-anchor=\"middle\" x=\"1918.5\" y=\"-245.5\" font-family=\"Helvetica,sans-Serif\" font-size=\"10.00\">Repair (Simple)+start (785)</text>\n",
       "</g>\n",
       "<!-- Analyze Defect+complete (1104)&#45;&gt;Repair (Simple)+start (785) -->\n",
       "<g id=\"edge9\" class=\"edge\"><title>Analyze Defect+complete (1104)&#45;&gt;Repair (Simple)+start (785)</title>\n",
       "<path fill=\"none\" stroke=\"black\" d=\"M487.94,-149.701C514.297,-106.159 588.133,-0 681.5,-0 681.5,-0 681.5,-0 1713.5,-0 1826.48,-0 1888.43,-155.418 1909.34,-220.185\"/>\n",
       "<polygon fill=\"black\" stroke=\"black\" points=\"1906.01,-221.27 1912.34,-229.764 1912.69,-219.175 1906.01,-221.27\"/>\n",
       "<text text-anchor=\"middle\" x=\"1197.5\" y=\"-3.8\" font-family=\"Times,serif\" font-size=\"14.00\">421</text>\n",
       "</g>\n",
       "<!-- Repair (Complex)+complete (724) -->\n",
       "<g id=\"node5\" class=\"node\"><title>Repair (Complex)+complete (724)</title>\n",
       "<polygon fill=\"#bae4b3\" stroke=\"#bae4b3\" points=\"970.5,-517 806.5,-517 806.5,-481 970.5,-481 970.5,-517\"/>\n",
       "<text text-anchor=\"middle\" x=\"888.5\" y=\"-496.5\" font-family=\"Helvetica,sans-Serif\" font-size=\"10.00\">Repair (Complex)+complete (724)</text>\n",
       "</g>\n",
       "<!-- Repair (Complex)+start (725)&#45;&gt;Repair (Complex)+complete (724) -->\n",
       "<g id=\"edge4\" class=\"edge\"><title>Repair (Complex)+start (725)&#45;&gt;Repair (Complex)+complete (724)</title>\n",
       "<path fill=\"none\" stroke=\"black\" d=\"M694.759,-186.267C728.753,-241.425 830.488,-406.495 870.791,-471.889\"/>\n",
       "<polygon fill=\"black\" stroke=\"black\" points=\"868.05,-474.112 876.276,-480.789 874.009,-470.44 868.05,-474.112\"/>\n",
       "<text text-anchor=\"middle\" x=\"785.5\" y=\"-346.8\" font-family=\"Times,serif\" font-size=\"14.00\">414</text>\n",
       "</g>\n",
       "<!-- Repair (Complex)+start (725)&#45;&gt;Inform User+complete (1102) -->\n",
       "<g id=\"edge17\" class=\"edge\"><title>Repair (Complex)+start (725)&#45;&gt;Inform User+complete (1102)</title>\n",
       "<path fill=\"none\" stroke=\"black\" d=\"M726.012,-149.869C766.691,-134.181 830.164,-114 887.5,-114 887.5,-114 887.5,-114 1301.5,-114 1366.09,-114 1377.14,-152.958 1414,-206 1430.08,-229.142 1417.27,-243.697 1434.5,-266 1441.42,-274.957 1450.55,-282.761 1459.95,-289.299\"/>\n",
       "<polygon fill=\"black\" stroke=\"black\" points=\"1458.32,-292.412 1468.6,-294.945 1462.14,-286.55 1458.32,-292.412\"/>\n",
       "<text text-anchor=\"middle\" x=\"1094.5\" y=\"-117.8\" font-family=\"Times,serif\" font-size=\"14.00\">310</text>\n",
       "</g>\n",
       "<!-- Test Repair+start (1508) -->\n",
       "<g id=\"node6\" class=\"node\"><title>Test Repair+start (1508)</title>\n",
       "<polygon fill=\"#238b45\" stroke=\"#238b45\" points=\"1156,-429 1033,-429 1033,-393 1156,-393 1156,-429\"/>\n",
       "<text text-anchor=\"middle\" x=\"1094.5\" y=\"-408.5\" font-family=\"Helvetica,sans-Serif\" font-size=\"10.00\">Test Repair+start (1508)</text>\n",
       "</g>\n",
       "<!-- Repair (Complex)+complete (724)&#45;&gt;Test Repair+start (1508) -->\n",
       "<g id=\"edge5\" class=\"edge\"><title>Repair (Complex)+complete (724)&#45;&gt;Test Repair+start (1508)</title>\n",
       "<path fill=\"none\" stroke=\"black\" d=\"M931.275,-480.98C963.346,-467.145 1007.79,-447.971 1042.06,-433.191\"/>\n",
       "<polygon fill=\"black\" stroke=\"black\" points=\"1043.64,-436.322 1051.43,-429.147 1040.86,-429.895 1043.64,-436.322\"/>\n",
       "<text text-anchor=\"middle\" x=\"991.5\" y=\"-460.8\" font-family=\"Times,serif\" font-size=\"14.00\">720</text>\n",
       "</g>\n",
       "<!-- Repair (Complex)+complete (724)&#45;&gt;Inform User+complete (1102) -->\n",
       "<g id=\"edge28\" class=\"edge\"><title>Repair (Complex)+complete (724)&#45;&gt;Inform User+complete (1102)</title>\n",
       "<path fill=\"none\" stroke=\"black\" d=\"M970.758,-501.817C1036.39,-502.459 1130.79,-499.673 1211.5,-483 1286.08,-467.595 1306.04,-461.069 1372,-423 1413.25,-399.192 1454.63,-362.665 1480.14,-338.316\"/>\n",
       "<polygon fill=\"black\" stroke=\"black\" points=\"1482.77,-340.643 1487.53,-331.178 1477.91,-335.607 1482.77,-340.643\"/>\n",
       "<text text-anchor=\"middle\" x=\"1197.5\" y=\"-490.8\" font-family=\"Times,serif\" font-size=\"14.00\">3</text>\n",
       "</g>\n",
       "<!-- Test Repair+complete (1508) -->\n",
       "<g id=\"node7\" class=\"node\"><title>Test Repair+complete (1508)</title>\n",
       "<polygon fill=\"#238b45\" stroke=\"#238b45\" points=\"1372,-296 1229,-296 1229,-260 1372,-260 1372,-296\"/>\n",
       "<text text-anchor=\"middle\" x=\"1300.5\" y=\"-275.5\" font-family=\"Helvetica,sans-Serif\" font-size=\"10.00\">Test Repair+complete (1508)</text>\n",
       "</g>\n",
       "<!-- Test Repair+start (1508)&#45;&gt;Test Repair+complete (1508) -->\n",
       "<g id=\"edge6\" class=\"edge\"><title>Test Repair+start (1508)&#45;&gt;Test Repair+complete (1508)</title>\n",
       "<path fill=\"none\" stroke=\"black\" d=\"M1106.91,-392.854C1121.85,-370.58 1150.09,-333.165 1183.5,-312 1194.45,-305.065 1206.87,-299.497 1219.41,-295.04\"/>\n",
       "<polygon fill=\"black\" stroke=\"black\" points=\"1220.62,-298.326 1229,-291.845 1218.4,-291.685 1220.62,-298.326\"/>\n",
       "<text text-anchor=\"middle\" x=\"1197.5\" y=\"-315.8\" font-family=\"Times,serif\" font-size=\"14.00\">1333</text>\n",
       "</g>\n",
       "<!-- Test Repair+start (1508)&#45;&gt;Inform User+complete (1102) -->\n",
       "<g id=\"edge19\" class=\"edge\"><title>Test Repair+start (1508)&#45;&gt;Inform User+complete (1102)</title>\n",
       "<path fill=\"none\" stroke=\"black\" d=\"M1156.05,-408.938C1221.31,-405.193 1327.45,-394.655 1414,-365 1433.98,-358.154 1454.57,-346.888 1471.15,-336.59\"/>\n",
       "<polygon fill=\"black\" stroke=\"black\" points=\"1473.37,-339.328 1479.92,-331.002 1469.6,-333.425 1473.37,-339.328\"/>\n",
       "<text text-anchor=\"middle\" x=\"1300.5\" y=\"-405.8\" font-family=\"Times,serif\" font-size=\"14.00\">175</text>\n",
       "</g>\n",
       "<!-- Test Repair+complete (1508)&#45;&gt;Inform User+complete (1102) -->\n",
       "<g id=\"edge7\" class=\"edge\"><title>Test Repair+complete (1508)&#45;&gt;Inform User+complete (1102)</title>\n",
       "<path fill=\"none\" stroke=\"black\" d=\"M1372.28,-290.143C1389.02,-293.015 1407,-296.1 1424.16,-299.045\"/>\n",
       "<polygon fill=\"black\" stroke=\"black\" points=\"1423.71,-302.518 1434.16,-300.76 1424.89,-295.619 1423.71,-302.518\"/>\n",
       "<text text-anchor=\"middle\" x=\"1403.5\" y=\"-299.8\" font-family=\"Times,serif\" font-size=\"14.00\">297</text>\n",
       "</g>\n",
       "<!-- Archive Repair+complete (1000) -->\n",
       "<g id=\"node9\" class=\"node\"><title>Archive Repair+complete (1000)</title>\n",
       "<polygon fill=\"#bae4b3\" stroke=\"#bae4b3\" points=\"1791,-198 1634,-198 1634,-162 1791,-162 1791,-198\"/>\n",
       "<text text-anchor=\"middle\" x=\"1712.5\" y=\"-177.5\" font-family=\"Helvetica,sans-Serif\" font-size=\"10.00\">Archive Repair+complete (1000)</text>\n",
       "</g>\n",
       "<!-- Test Repair+complete (1508)&#45;&gt;Archive Repair+complete (1000) -->\n",
       "<g id=\"edge16\" class=\"edge\"><title>Test Repair+complete (1508)&#45;&gt;Archive Repair+complete (1000)</title>\n",
       "<path fill=\"none\" stroke=\"black\" d=\"M1372.45,-261.042C1442.86,-244.212 1550.84,-218.402 1625.96,-200.447\"/>\n",
       "<polygon fill=\"black\" stroke=\"black\" points=\"1626.96,-203.807 1635.87,-198.078 1625.33,-196.999 1626.96,-203.807\"/>\n",
       "<text text-anchor=\"middle\" x=\"1506.5\" y=\"-248.8\" font-family=\"Times,serif\" font-size=\"14.00\">795</text>\n",
       "</g>\n",
       "<!-- Restart Repair+complete (406) -->\n",
       "<g id=\"node12\" class=\"node\"><title>Restart Repair+complete (406)</title>\n",
       "<polygon fill=\"#edf8e9\" stroke=\"#edf8e9\" points=\"1788,-137 1637,-137 1637,-101 1788,-101 1788,-137\"/>\n",
       "<text text-anchor=\"middle\" x=\"1712.5\" y=\"-116.5\" font-family=\"Helvetica,sans-Serif\" font-size=\"10.00\">Restart Repair+complete (406)</text>\n",
       "</g>\n",
       "<!-- Test Repair+complete (1508)&#45;&gt;Restart Repair+complete (406) -->\n",
       "<g id=\"edge12\" class=\"edge\"><title>Test Repair+complete (1508)&#45;&gt;Restart Repair+complete (406)</title>\n",
       "<path fill=\"none\" stroke=\"black\" d=\"M1326.09,-259.78C1352.13,-241.009 1394.86,-211.657 1434.5,-191 1504.36,-154.594 1522.08,-141.993 1599,-125 1607.91,-123.033 1617.3,-121.583 1626.71,-120.527\"/>\n",
       "<polygon fill=\"black\" stroke=\"black\" points=\"1627.29,-123.987 1636.9,-119.531 1626.61,-117.02 1627.29,-123.987\"/>\n",
       "<text text-anchor=\"middle\" x=\"1506.5\" y=\"-194.8\" font-family=\"Times,serif\" font-size=\"14.00\">341</text>\n",
       "</g>\n",
       "<!-- Inform User+complete (1102)&#45;&gt;Repair (Complex)+start (725) -->\n",
       "<g id=\"edge23\" class=\"edge\"><title>Inform User+complete (1102)&#45;&gt;Repair (Complex)+start (725)</title>\n",
       "<path fill=\"none\" stroke=\"black\" d=\"M1474.24,-294.98C1456.79,-285.247 1434.49,-273.345 1414,-264 1325.21,-223.515 1296.08,-222 1198.5,-222 887.5,-222 887.5,-222 887.5,-222 834.419,-222 776.079,-204.703 735.434,-189.689\"/>\n",
       "<polygon fill=\"black\" stroke=\"black\" points=\"736.604,-186.389 726.012,-186.131 734.131,-192.938 736.604,-186.389\"/>\n",
       "<text text-anchor=\"middle\" x=\"1094.5\" y=\"-225.8\" font-family=\"Times,serif\" font-size=\"14.00\">92</text>\n",
       "</g>\n",
       "<!-- Inform User+complete (1102)&#45;&gt;Repair (Complex)+complete (724) -->\n",
       "<g id=\"edge18\" class=\"edge\"><title>Inform User+complete (1102)&#45;&gt;Repair (Complex)+complete (724)</title>\n",
       "<path fill=\"none\" stroke=\"black\" d=\"M1504.37,-331.104C1500.54,-374.949 1484.03,-486.699 1414,-534 1334.26,-587.859 1075.53,-551.946 981,-534 966.337,-531.216 950.976,-526.229 937.118,-520.875\"/>\n",
       "<polygon fill=\"black\" stroke=\"black\" points=\"938.375,-517.609 927.791,-517.133 935.768,-524.105 938.375,-517.609\"/>\n",
       "<text text-anchor=\"middle\" x=\"1197.5\" y=\"-564.8\" font-family=\"Times,serif\" font-size=\"14.00\">310</text>\n",
       "</g>\n",
       "<!-- Inform User+complete (1102)&#45;&gt;Test Repair+start (1508) -->\n",
       "<g id=\"edge27\" class=\"edge\"><title>Inform User+complete (1102)&#45;&gt;Test Repair+start (1508)</title>\n",
       "<path fill=\"none\" stroke=\"black\" d=\"M1434.38,-319.831C1377.97,-326.318 1297.49,-337.964 1229,-357 1199.63,-365.163 1167.95,-377.799 1142.83,-388.796\"/>\n",
       "<polygon fill=\"black\" stroke=\"black\" points=\"1141.26,-385.663 1133.54,-392.918 1144.1,-392.061 1141.26,-385.663\"/>\n",
       "<text text-anchor=\"middle\" x=\"1300.5\" y=\"-360.8\" font-family=\"Times,serif\" font-size=\"14.00\">5</text>\n",
       "</g>\n",
       "<!-- Inform User+complete (1102)&#45;&gt;Test Repair+complete (1508) -->\n",
       "<g id=\"edge20\" class=\"edge\"><title>Inform User+complete (1102)&#45;&gt;Test Repair+complete (1508)</title>\n",
       "<path fill=\"none\" stroke=\"black\" d=\"M1473.13,-294.942C1456.1,-286.463 1434.53,-277.292 1414,-273 1403.85,-270.878 1393.07,-269.85 1382.37,-269.554\"/>\n",
       "<polygon fill=\"black\" stroke=\"black\" points=\"1382.18,-266.053 1372.15,-269.483 1382.13,-273.053 1382.18,-266.053\"/>\n",
       "<text text-anchor=\"middle\" x=\"1403.5\" y=\"-276.8\" font-family=\"Times,serif\" font-size=\"14.00\">175</text>\n",
       "</g>\n",
       "<!-- Inform User+complete (1102)&#45;&gt;Archive Repair+complete (1000) -->\n",
       "<g id=\"edge8\" class=\"edge\"><title>Inform User+complete (1102)&#45;&gt;Archive Repair+complete (1000)</title>\n",
       "<path fill=\"none\" stroke=\"black\" d=\"M1528.48,-294.946C1552.83,-274.512 1594.68,-240.959 1634,-217 1642.32,-211.933 1651.43,-207.043 1660.4,-202.569\"/>\n",
       "<polygon fill=\"black\" stroke=\"black\" points=\"1662.19,-205.59 1669.65,-198.068 1659.13,-199.296 1662.19,-205.59\"/>\n",
       "<text text-anchor=\"middle\" x=\"1609.5\" y=\"-241.8\" font-family=\"Times,serif\" font-size=\"14.00\">205</text>\n",
       "</g>\n",
       "<!-- Inform User+complete (1102)&#45;&gt;Repair (Simple)+start (785) -->\n",
       "<g id=\"edge22\" class=\"edge\"><title>Inform User+complete (1102)&#45;&gt;Repair (Simple)+start (785)</title>\n",
       "<path fill=\"none\" stroke=\"black\" d=\"M1578.78,-309.179C1636.42,-305.26 1719.45,-297.73 1791,-284 1811.14,-280.135 1832.72,-274.55 1852.25,-268.928\"/>\n",
       "<polygon fill=\"black\" stroke=\"black\" points=\"1853.35,-272.254 1861.96,-266.083 1851.38,-265.537 1853.35,-272.254\"/>\n",
       "<text text-anchor=\"middle\" x=\"1712.5\" y=\"-307.8\" font-family=\"Times,serif\" font-size=\"14.00\">64</text>\n",
       "</g>\n",
       "<!-- Repair (Simple)+complete (785) -->\n",
       "<g id=\"node11\" class=\"node\"><title>Repair (Simple)+complete (785)</title>\n",
       "<polygon fill=\"#bae4b3\" stroke=\"#bae4b3\" points=\"2202,-409 2047,-409 2047,-373 2202,-373 2202,-409\"/>\n",
       "<text text-anchor=\"middle\" x=\"2124.5\" y=\"-388.5\" font-family=\"Helvetica,sans-Serif\" font-size=\"10.00\">Repair (Simple)+complete (785)</text>\n",
       "</g>\n",
       "<!-- Inform User+complete (1102)&#45;&gt;Repair (Simple)+complete (785) -->\n",
       "<g id=\"edge15\" class=\"edge\"><title>Inform User+complete (1102)&#45;&gt;Repair (Simple)+complete (785)</title>\n",
       "<path fill=\"none\" stroke=\"black\" d=\"M1578.92,-322.404C1585.71,-323.286 1592.48,-324.163 1599,-325 1752.95,-344.781 1932.39,-367.23 2036.46,-380.189\"/>\n",
       "<polygon fill=\"black\" stroke=\"black\" points=\"2036.25,-383.69 2046.61,-381.452 2037.12,-376.743 2036.25,-383.69\"/>\n",
       "<text text-anchor=\"middle\" x=\"1815.5\" y=\"-356.8\" font-family=\"Times,serif\" font-size=\"14.00\">159</text>\n",
       "</g>\n",
       "<!-- Inform User+complete (1102)&#45;&gt;Restart Repair+complete (406) -->\n",
       "<g id=\"edge25\" class=\"edge\"><title>Inform User+complete (1102)&#45;&gt;Restart Repair+complete (406)</title>\n",
       "<path fill=\"none\" stroke=\"black\" d=\"M1521.28,-294.721C1552.56,-253.297 1626.79,-155.429 1634,-150 1637.92,-147.049 1642.15,-144.336 1646.56,-141.851\"/>\n",
       "<polygon fill=\"black\" stroke=\"black\" points=\"1648.51,-144.778 1655.77,-137.064 1645.29,-138.565 1648.51,-144.778\"/>\n",
       "<text text-anchor=\"middle\" x=\"1609.5\" y=\"-195.8\" font-family=\"Times,serif\" font-size=\"14.00\">65</text>\n",
       "</g>\n",
       "<!-- Repair (Simple)+start (785)&#45;&gt;Inform User+complete (1102) -->\n",
       "<g id=\"edge14\" class=\"edge\"><title>Repair (Simple)+start (785)&#45;&gt;Inform User+complete (1102)</title>\n",
       "<path fill=\"none\" stroke=\"black\" d=\"M1851.48,-247.199C1793.56,-247.73 1707.37,-251.528 1634,-267 1608.09,-272.464 1580.33,-282.103 1557.44,-291.151\"/>\n",
       "<polygon fill=\"black\" stroke=\"black\" points=\"1555.91,-287.993 1547.95,-294.979 1558.53,-294.486 1555.91,-287.993\"/>\n",
       "<text text-anchor=\"middle\" x=\"1712.5\" y=\"-270.8\" font-family=\"Times,serif\" font-size=\"14.00\">159</text>\n",
       "</g>\n",
       "<!-- Repair (Simple)+start (785)&#45;&gt;Repair (Simple)+complete (785) -->\n",
       "<g id=\"edge10\" class=\"edge\"><title>Repair (Simple)+start (785)&#45;&gt;Repair (Simple)+complete (785)</title>\n",
       "<path fill=\"none\" stroke=\"black\" d=\"M1945.34,-266.111C1981.87,-291.721 2048.69,-338.562 2089.3,-367.029\"/>\n",
       "<polygon fill=\"black\" stroke=\"black\" points=\"2087.35,-369.937 2097.55,-372.811 2091.37,-364.205 2087.35,-369.937\"/>\n",
       "<text text-anchor=\"middle\" x=\"2021.5\" y=\"-326.8\" font-family=\"Times,serif\" font-size=\"14.00\">626</text>\n",
       "</g>\n",
       "<!-- Repair (Simple)+complete (785)&#45;&gt;Test Repair+start (1508) -->\n",
       "<g id=\"edge11\" class=\"edge\"><title>Repair (Simple)+complete (785)&#45;&gt;Test Repair+start (1508)</title>\n",
       "<path fill=\"none\" stroke=\"black\" d=\"M2066.37,-409.013C2055.09,-411.886 2043.25,-414.427 2032,-416 1670.82,-466.471 1576.18,-423 1211.5,-425 1199.06,-425.068 1195.91,-425.981 1183.5,-425 1178.01,-424.566 1172.34,-423.981 1166.65,-423.297\"/>\n",
       "<polygon fill=\"black\" stroke=\"black\" points=\"1166.79,-419.785 1156.42,-421.967 1165.89,-426.727 1166.79,-419.785\"/>\n",
       "<text text-anchor=\"middle\" x=\"1609.5\" y=\"-441.8\" font-family=\"Times,serif\" font-size=\"14.00\">783</text>\n",
       "</g>\n",
       "<!-- Repair (Simple)+complete (785)&#45;&gt;Inform User+complete (1102) -->\n",
       "<g id=\"edge26\" class=\"edge\"><title>Repair (Simple)+complete (785)&#45;&gt;Inform User+complete (1102)</title>\n",
       "<path fill=\"none\" stroke=\"black\" d=\"M2046.96,-397.014C2034.93,-397.402 2022.63,-397.473 2011,-397 1842.69,-390.152 1798,-396.464 1634,-358 1609.18,-352.178 1582.48,-343.117 1560.03,-334.647\"/>\n",
       "<polygon fill=\"black\" stroke=\"black\" points=\"1561.28,-331.377 1550.69,-331.064 1558.77,-337.913 1561.28,-331.377\"/>\n",
       "<text text-anchor=\"middle\" x=\"1815.5\" y=\"-392.8\" font-family=\"Times,serif\" font-size=\"14.00\">2</text>\n",
       "</g>\n",
       "<!-- Restart Repair+complete (406)&#45;&gt;Repair (Complex)+start (725) -->\n",
       "<g id=\"edge24\" class=\"edge\"><title>Restart Repair+complete (406)&#45;&gt;Repair (Complex)+start (725)</title>\n",
       "<path fill=\"none\" stroke=\"black\" d=\"M1679.04,-100.956C1639.69,-80.8104 1570.78,-51 1507.5,-51 887.5,-51 887.5,-51 887.5,-51 814.432,-51 743.827,-108.18 707.951,-142.592\"/>\n",
       "<polygon fill=\"black\" stroke=\"black\" points=\"705.111,-140.475 700.421,-149.975 710.012,-145.474 705.111,-140.475\"/>\n",
       "<text text-anchor=\"middle\" x=\"1197.5\" y=\"-54.8\" font-family=\"Times,serif\" font-size=\"14.00\">105</text>\n",
       "</g>\n",
       "<!-- Restart Repair+complete (406)&#45;&gt;Inform User+complete (1102) -->\n",
       "<g id=\"edge29\" class=\"edge\"><title>Restart Repair+complete (406)&#45;&gt;Inform User+complete (1102)</title>\n",
       "<path fill=\"none\" stroke=\"black\" d=\"M1636.87,-124.543C1622.91,-128.619 1609.44,-135.035 1599,-145 1574.62,-168.267 1593.39,-187.771 1578.5,-218 1566.03,-243.307 1546.57,-268.738 1531.17,-286.911\"/>\n",
       "<polygon fill=\"black\" stroke=\"black\" points=\"1528.31,-284.868 1524.43,-294.723 1533.61,-289.443 1528.31,-284.868\"/>\n",
       "<text text-anchor=\"middle\" x=\"1609.5\" y=\"-148.8\" font-family=\"Times,serif\" font-size=\"14.00\">1</text>\n",
       "</g>\n",
       "<!-- Restart Repair+complete (406)&#45;&gt;Repair (Simple)+start (785) -->\n",
       "<g id=\"edge13\" class=\"edge\"><title>Restart Repair+complete (406)&#45;&gt;Repair (Simple)+start (785)</title>\n",
       "<path fill=\"none\" stroke=\"black\" d=\"M1764.48,-137.03C1773.53,-140.888 1782.7,-145.249 1791,-150 1827.61,-170.953 1865.29,-201.525 1889.9,-222.936\"/>\n",
       "<polygon fill=\"black\" stroke=\"black\" points=\"1887.9,-225.84 1897.72,-229.818 1892.52,-220.585 1887.9,-225.84\"/>\n",
       "<text text-anchor=\"middle\" x=\"1815.5\" y=\"-174.8\" font-family=\"Times,serif\" font-size=\"14.00\">300</text>\n",
       "</g>\n",
       "</g>\n",
       "</svg>\n"
      ],
      "text/plain": [
       "<graphviz.dot.Digraph at 0x7fdbf308a460>"
      ]
     },
     "execution_count": 73,
     "metadata": {},
     "output_type": "execute_result"
    }
   ],
   "source": [
    "draw_dfg(c1, \"c1\", 0, save=False, lifecycle_present=False)"
   ]
  },
  {
   "cell_type": "code",
   "execution_count": 28,
   "metadata": {
    "colab": {
     "base_uri": "https://localhost:8080/"
    },
    "id": "yVPqadKBP_AY",
    "outputId": "bdaaceda-cfa2-42b3-c5b4-0c14e96a583c"
   },
   "outputs": [
    {
     "name": "stdout",
     "output_type": "stream",
     "text": [
      "Concept name of the trace: 64 (the same as the TRACE_ID below)\n",
      "TRACE_ID: 64 (trace number 705 )\n",
      "  concept:name               org:resource                        \n",
      "> Register+complete          System                              \n",
      "> Analyze Defect+start       Tester5                             \n",
      "> Analyze Defect+complete    Tester5                             \n",
      "> Repair (Complex)+start     SolverC2                            \n",
      "> Repair (Complex)+complete  SolverC2                            \n",
      "> Test Repair+start          Tester1                             \n",
      "> Test Repair+complete       Tester1                             \n",
      "> Inform User+complete       System                              \n",
      "> Archive Repair+complete    System                              \n",
      "\n"
     ]
    }
   ],
   "source": [
    "trace_id = case_ids_[\"c1\"]\n",
    "attributes = ['concept:name', 'org:resource']\n",
    "print_specific_case(c1, trace_id, attributes) "
   ]
  },
  {
   "cell_type": "markdown",
   "metadata": {
    "id": "f-yQeTuC10KX"
   },
   "source": [
    "### C2"
   ]
  },
  {
   "cell_type": "code",
   "execution_count": 74,
   "metadata": {
    "colab": {
     "base_uri": "https://localhost:8080/"
    },
    "id": "5v9DlwVcTYiu",
    "outputId": "ba668ad2-c7a4-4826-acf2-dec3f909bd8b"
   },
   "outputs": [
    {
     "name": "stderr",
     "output_type": "stream",
     "text": [
      "5952it [00:00, 31413.38it/s]"
     ]
    },
    {
     "name": "stdout",
     "output_type": "stream",
     "text": [
      "Processing log...\n"
     ]
    },
    {
     "name": "stderr",
     "output_type": "stream",
     "text": [
      "99280it [00:00, 118826.81it/s]\n"
     ]
    }
   ],
   "source": [
    "c2 = xes.import_xes(pc2)"
   ]
  },
  {
   "cell_type": "code",
   "execution_count": 75,
   "metadata": {
    "colab": {
     "base_uri": "https://localhost:8080/"
    },
    "id": "gNxfs3aBIee7",
    "outputId": "1c07b21e-3194-466f-bccc-ad8402cec20d"
   },
   "outputs": [
    {
     "name": "stdout",
     "output_type": "stream",
     "text": [
      "Traces: 1104 Events: 11855\n"
     ]
    }
   ],
   "source": [
    "print(\"Traces:\", len(c2.traces), \"Events:\", len(c2.events))"
   ]
  },
  {
   "cell_type": "code",
   "execution_count": 76,
   "metadata": {
    "colab": {
     "base_uri": "https://localhost:8080/"
    },
    "id": "rREKMyeOIii_",
    "outputId": "79b4f235-cf4b-4447-984e-88a5d0c6c476"
   },
   "outputs": [
    {
     "name": "stdout",
     "output_type": "stream",
     "text": [
      "Concept name of the trace: 885 (the same as the TRACE_ID below)\n",
      "TRACE_ID: 979 (trace number 979 )\n",
      "  concept:name            lifecycle:transition                org:resource   \n",
      "> Register                complete                            System         \n",
      "> Analyze Defect          start                               Tester6        \n",
      "> Analyze Defect          complete                            Tester6        \n",
      "> Repair (Simple)         start                               SolverS3       \n",
      "> Repair (Simple)         complete                            SolverS3       \n",
      "> Test Repair             start                               Tester3        \n",
      "> Inform User             complete                            System         \n",
      "> Test Repair             complete                            Tester3        \n",
      "> Archive Repair          complete                            System         \n",
      "\n"
     ]
    }
   ],
   "source": [
    "attributes = ['concept:name', 'lifecycle:transition', 'org:resource']\n",
    "\n",
    "print_rand_trace(c2, attributes)"
   ]
  },
  {
   "cell_type": "code",
   "execution_count": 77,
   "metadata": {},
   "outputs": [
    {
     "data": {
      "image/svg+xml": [
       "<?xml version=\"1.0\" encoding=\"UTF-8\" standalone=\"no\"?>\n",
       "<!DOCTYPE svg PUBLIC \"-//W3C//DTD SVG 1.1//EN\"\n",
       " \"http://www.w3.org/Graphics/SVG/1.1/DTD/svg11.dtd\">\n",
       "<!-- Generated by graphviz version 2.38.0 (20140413.2041)\n",
       " -->\n",
       "<!-- Title: c2 Pages: 1 -->\n",
       "<svg width=\"2210pt\" height=\"640pt\"\n",
       " viewBox=\"0.00 0.00 2210.00 640.00\" xmlns=\"http://www.w3.org/2000/svg\" xmlns:xlink=\"http://www.w3.org/1999/xlink\">\n",
       "<g id=\"graph0\" class=\"graph\" transform=\"scale(1 1) rotate(0) translate(4 636)\">\n",
       "<title>c2</title>\n",
       "<polygon fill=\"white\" stroke=\"none\" points=\"-4,4 -4,-636 2206,-636 2206,4 -4,4\"/>\n",
       "<!-- Register+complete (1104) -->\n",
       "<g id=\"node1\" class=\"node\"><title>Register+complete (1104)</title>\n",
       "<polygon fill=\"#74c476\" stroke=\"#74c476\" points=\"129,-186 0,-186 0,-150 129,-150 129,-186\"/>\n",
       "<text text-anchor=\"middle\" x=\"64.5\" y=\"-165.5\" font-family=\"Helvetica,sans-Serif\" font-size=\"10.00\">Register+complete (1104)</text>\n",
       "</g>\n",
       "<!-- Analyze Defect+start (1104) -->\n",
       "<g id=\"node2\" class=\"node\"><title>Analyze Defect+start (1104)</title>\n",
       "<polygon fill=\"#74c476\" stroke=\"#74c476\" points=\"340.5,-186 200.5,-186 200.5,-150 340.5,-150 340.5,-186\"/>\n",
       "<text text-anchor=\"middle\" x=\"270.5\" y=\"-165.5\" font-family=\"Helvetica,sans-Serif\" font-size=\"10.00\">Analyze Defect+start (1104)</text>\n",
       "</g>\n",
       "<!-- Register+complete (1104)&#45;&gt;Analyze Defect+start (1104) -->\n",
       "<g id=\"edge1\" class=\"edge\"><title>Register+complete (1104)&#45;&gt;Analyze Defect+start (1104)</title>\n",
       "<path fill=\"none\" stroke=\"black\" d=\"M129.208,-168C148.51,-168 169.952,-168 190.146,-168\"/>\n",
       "<polygon fill=\"black\" stroke=\"black\" points=\"190.259,-171.5 200.259,-168 190.259,-164.5 190.259,-171.5\"/>\n",
       "<text text-anchor=\"middle\" x=\"167.5\" y=\"-171.8\" font-family=\"Times,serif\" font-size=\"14.00\">1104</text>\n",
       "</g>\n",
       "<!-- Analyze Defect+complete (1104) -->\n",
       "<g id=\"node3\" class=\"node\"><title>Analyze Defect+complete (1104)</title>\n",
       "<polygon fill=\"#74c476\" stroke=\"#74c476\" points=\"556.5,-186 396.5,-186 396.5,-150 556.5,-150 556.5,-186\"/>\n",
       "<text text-anchor=\"middle\" x=\"476.5\" y=\"-165.5\" font-family=\"Helvetica,sans-Serif\" font-size=\"10.00\">Analyze Defect+complete (1104)</text>\n",
       "</g>\n",
       "<!-- Analyze Defect+start (1104)&#45;&gt;Analyze Defect+complete (1104) -->\n",
       "<g id=\"edge2\" class=\"edge\"><title>Analyze Defect+start (1104)&#45;&gt;Analyze Defect+complete (1104)</title>\n",
       "<path fill=\"none\" stroke=\"black\" d=\"M340.565,-168C355.262,-168 370.981,-168 386.308,-168\"/>\n",
       "<polygon fill=\"black\" stroke=\"black\" points=\"386.309,-171.5 396.309,-168 386.309,-164.5 386.309,-171.5\"/>\n",
       "<text text-anchor=\"middle\" x=\"373.5\" y=\"-171.8\" font-family=\"Times,serif\" font-size=\"14.00\">1104</text>\n",
       "</g>\n",
       "<!-- Repair (Complex)+start (725) -->\n",
       "<g id=\"node4\" class=\"node\"><title>Repair (Complex)+start (725)</title>\n",
       "<polygon fill=\"#bae4b3\" stroke=\"#bae4b3\" points=\"754,-186 611,-186 611,-150 754,-150 754,-186\"/>\n",
       "<text text-anchor=\"middle\" x=\"682.5\" y=\"-165.5\" font-family=\"Helvetica,sans-Serif\" font-size=\"10.00\">Repair (Complex)+start (725)</text>\n",
       "</g>\n",
       "<!-- Analyze Defect+complete (1104)&#45;&gt;Repair (Complex)+start (725) -->\n",
       "<g id=\"edge3\" class=\"edge\"><title>Analyze Defect+complete (1104)&#45;&gt;Repair (Complex)+start (725)</title>\n",
       "<path fill=\"none\" stroke=\"black\" d=\"M556.664,-168C570.993,-168 585.957,-168 600.342,-168\"/>\n",
       "<polygon fill=\"black\" stroke=\"black\" points=\"600.698,-171.5 610.698,-168 600.698,-164.5 600.698,-171.5\"/>\n",
       "<text text-anchor=\"middle\" x=\"579.5\" y=\"-171.8\" font-family=\"Times,serif\" font-size=\"14.00\">528</text>\n",
       "</g>\n",
       "<!-- Inform User+complete (1102) -->\n",
       "<g id=\"node8\" class=\"node\"><title>Inform User+complete (1102)</title>\n",
       "<polygon fill=\"#74c476\" stroke=\"#74c476\" points=\"1578.5,-331 1434.5,-331 1434.5,-295 1578.5,-295 1578.5,-331\"/>\n",
       "<text text-anchor=\"middle\" x=\"1506.5\" y=\"-310.5\" font-family=\"Helvetica,sans-Serif\" font-size=\"10.00\">Inform User+complete (1102)</text>\n",
       "</g>\n",
       "<!-- Analyze Defect+complete (1104)&#45;&gt;Inform User+complete (1102) -->\n",
       "<g id=\"edge21\" class=\"edge\"><title>Analyze Defect+complete (1104)&#45;&gt;Inform User+complete (1102)</title>\n",
       "<path fill=\"none\" stroke=\"black\" d=\"M477.275,-186.157C477.259,-270.158 488.855,-617 681.5,-617 681.5,-617 681.5,-617 1301.5,-617 1358.17,-617 1376.64,-599.61 1414,-557 1470.41,-492.663 1493.41,-390.218 1501.58,-341.083\"/>\n",
       "<polygon fill=\"black\" stroke=\"black\" points=\"1505.04,-341.588 1503.14,-331.165 1498.13,-340.496 1505.04,-341.588\"/>\n",
       "<text text-anchor=\"middle\" x=\"991.5\" y=\"-620.8\" font-family=\"Times,serif\" font-size=\"14.00\">155</text>\n",
       "</g>\n",
       "<!-- Repair (Simple)+start (785) -->\n",
       "<g id=\"node10\" class=\"node\"><title>Repair (Simple)+start (785)</title>\n",
       "<polygon fill=\"#bae4b3\" stroke=\"#bae4b3\" points=\"1985.5,-266 1851.5,-266 1851.5,-230 1985.5,-230 1985.5,-266\"/>\n",
       "<text text-anchor=\"middle\" x=\"1918.5\" y=\"-245.5\" font-family=\"Helvetica,sans-Serif\" font-size=\"10.00\">Repair (Simple)+start (785)</text>\n",
       "</g>\n",
       "<!-- Analyze Defect+complete (1104)&#45;&gt;Repair (Simple)+start (785) -->\n",
       "<g id=\"edge9\" class=\"edge\"><title>Analyze Defect+complete (1104)&#45;&gt;Repair (Simple)+start (785)</title>\n",
       "<path fill=\"none\" stroke=\"black\" d=\"M487.94,-149.701C514.297,-106.159 588.133,-0 681.5,-0 681.5,-0 681.5,-0 1713.5,-0 1826.48,-0 1888.43,-155.418 1909.34,-220.185\"/>\n",
       "<polygon fill=\"black\" stroke=\"black\" points=\"1906.01,-221.27 1912.34,-229.764 1912.69,-219.175 1906.01,-221.27\"/>\n",
       "<text text-anchor=\"middle\" x=\"1197.5\" y=\"-3.8\" font-family=\"Times,serif\" font-size=\"14.00\">421</text>\n",
       "</g>\n",
       "<!-- Repair (Complex)+complete (724) -->\n",
       "<g id=\"node5\" class=\"node\"><title>Repair (Complex)+complete (724)</title>\n",
       "<polygon fill=\"#bae4b3\" stroke=\"#bae4b3\" points=\"970.5,-517 806.5,-517 806.5,-481 970.5,-481 970.5,-517\"/>\n",
       "<text text-anchor=\"middle\" x=\"888.5\" y=\"-496.5\" font-family=\"Helvetica,sans-Serif\" font-size=\"10.00\">Repair (Complex)+complete (724)</text>\n",
       "</g>\n",
       "<!-- Repair (Complex)+start (725)&#45;&gt;Repair (Complex)+complete (724) -->\n",
       "<g id=\"edge4\" class=\"edge\"><title>Repair (Complex)+start (725)&#45;&gt;Repair (Complex)+complete (724)</title>\n",
       "<path fill=\"none\" stroke=\"black\" d=\"M694.759,-186.267C728.753,-241.425 830.488,-406.495 870.791,-471.889\"/>\n",
       "<polygon fill=\"black\" stroke=\"black\" points=\"868.05,-474.112 876.276,-480.789 874.009,-470.44 868.05,-474.112\"/>\n",
       "<text text-anchor=\"middle\" x=\"785.5\" y=\"-346.8\" font-family=\"Times,serif\" font-size=\"14.00\">414</text>\n",
       "</g>\n",
       "<!-- Repair (Complex)+start (725)&#45;&gt;Inform User+complete (1102) -->\n",
       "<g id=\"edge17\" class=\"edge\"><title>Repair (Complex)+start (725)&#45;&gt;Inform User+complete (1102)</title>\n",
       "<path fill=\"none\" stroke=\"black\" d=\"M726.012,-149.869C766.691,-134.181 830.164,-114 887.5,-114 887.5,-114 887.5,-114 1301.5,-114 1366.09,-114 1377.14,-152.958 1414,-206 1430.08,-229.142 1417.27,-243.697 1434.5,-266 1441.42,-274.957 1450.55,-282.761 1459.95,-289.299\"/>\n",
       "<polygon fill=\"black\" stroke=\"black\" points=\"1458.32,-292.412 1468.6,-294.945 1462.14,-286.55 1458.32,-292.412\"/>\n",
       "<text text-anchor=\"middle\" x=\"1094.5\" y=\"-117.8\" font-family=\"Times,serif\" font-size=\"14.00\">310</text>\n",
       "</g>\n",
       "<!-- Test Repair+start (1508) -->\n",
       "<g id=\"node6\" class=\"node\"><title>Test Repair+start (1508)</title>\n",
       "<polygon fill=\"#238b45\" stroke=\"#238b45\" points=\"1156,-429 1033,-429 1033,-393 1156,-393 1156,-429\"/>\n",
       "<text text-anchor=\"middle\" x=\"1094.5\" y=\"-408.5\" font-family=\"Helvetica,sans-Serif\" font-size=\"10.00\">Test Repair+start (1508)</text>\n",
       "</g>\n",
       "<!-- Repair (Complex)+complete (724)&#45;&gt;Test Repair+start (1508) -->\n",
       "<g id=\"edge5\" class=\"edge\"><title>Repair (Complex)+complete (724)&#45;&gt;Test Repair+start (1508)</title>\n",
       "<path fill=\"none\" stroke=\"black\" d=\"M931.275,-480.98C963.346,-467.145 1007.79,-447.971 1042.06,-433.191\"/>\n",
       "<polygon fill=\"black\" stroke=\"black\" points=\"1043.64,-436.322 1051.43,-429.147 1040.86,-429.895 1043.64,-436.322\"/>\n",
       "<text text-anchor=\"middle\" x=\"991.5\" y=\"-460.8\" font-family=\"Times,serif\" font-size=\"14.00\">720</text>\n",
       "</g>\n",
       "<!-- Repair (Complex)+complete (724)&#45;&gt;Inform User+complete (1102) -->\n",
       "<g id=\"edge28\" class=\"edge\"><title>Repair (Complex)+complete (724)&#45;&gt;Inform User+complete (1102)</title>\n",
       "<path fill=\"none\" stroke=\"black\" d=\"M970.758,-501.817C1036.39,-502.459 1130.79,-499.673 1211.5,-483 1286.08,-467.595 1306.04,-461.069 1372,-423 1413.25,-399.192 1454.63,-362.665 1480.14,-338.316\"/>\n",
       "<polygon fill=\"black\" stroke=\"black\" points=\"1482.77,-340.643 1487.53,-331.178 1477.91,-335.607 1482.77,-340.643\"/>\n",
       "<text text-anchor=\"middle\" x=\"1197.5\" y=\"-490.8\" font-family=\"Times,serif\" font-size=\"14.00\">3</text>\n",
       "</g>\n",
       "<!-- Test Repair+complete (1508) -->\n",
       "<g id=\"node7\" class=\"node\"><title>Test Repair+complete (1508)</title>\n",
       "<polygon fill=\"#238b45\" stroke=\"#238b45\" points=\"1372,-296 1229,-296 1229,-260 1372,-260 1372,-296\"/>\n",
       "<text text-anchor=\"middle\" x=\"1300.5\" y=\"-275.5\" font-family=\"Helvetica,sans-Serif\" font-size=\"10.00\">Test Repair+complete (1508)</text>\n",
       "</g>\n",
       "<!-- Test Repair+start (1508)&#45;&gt;Test Repair+complete (1508) -->\n",
       "<g id=\"edge6\" class=\"edge\"><title>Test Repair+start (1508)&#45;&gt;Test Repair+complete (1508)</title>\n",
       "<path fill=\"none\" stroke=\"black\" d=\"M1106.91,-392.854C1121.85,-370.58 1150.09,-333.165 1183.5,-312 1194.45,-305.065 1206.87,-299.497 1219.41,-295.04\"/>\n",
       "<polygon fill=\"black\" stroke=\"black\" points=\"1220.62,-298.326 1229,-291.845 1218.4,-291.685 1220.62,-298.326\"/>\n",
       "<text text-anchor=\"middle\" x=\"1197.5\" y=\"-315.8\" font-family=\"Times,serif\" font-size=\"14.00\">1333</text>\n",
       "</g>\n",
       "<!-- Test Repair+start (1508)&#45;&gt;Inform User+complete (1102) -->\n",
       "<g id=\"edge19\" class=\"edge\"><title>Test Repair+start (1508)&#45;&gt;Inform User+complete (1102)</title>\n",
       "<path fill=\"none\" stroke=\"black\" d=\"M1156.05,-408.938C1221.31,-405.193 1327.45,-394.655 1414,-365 1433.98,-358.154 1454.57,-346.888 1471.15,-336.59\"/>\n",
       "<polygon fill=\"black\" stroke=\"black\" points=\"1473.37,-339.328 1479.92,-331.002 1469.6,-333.425 1473.37,-339.328\"/>\n",
       "<text text-anchor=\"middle\" x=\"1300.5\" y=\"-405.8\" font-family=\"Times,serif\" font-size=\"14.00\">175</text>\n",
       "</g>\n",
       "<!-- Test Repair+complete (1508)&#45;&gt;Inform User+complete (1102) -->\n",
       "<g id=\"edge7\" class=\"edge\"><title>Test Repair+complete (1508)&#45;&gt;Inform User+complete (1102)</title>\n",
       "<path fill=\"none\" stroke=\"black\" d=\"M1372.28,-290.143C1389.02,-293.015 1407,-296.1 1424.16,-299.045\"/>\n",
       "<polygon fill=\"black\" stroke=\"black\" points=\"1423.71,-302.518 1434.16,-300.76 1424.89,-295.619 1423.71,-302.518\"/>\n",
       "<text text-anchor=\"middle\" x=\"1403.5\" y=\"-299.8\" font-family=\"Times,serif\" font-size=\"14.00\">297</text>\n",
       "</g>\n",
       "<!-- Archive Repair+complete (1000) -->\n",
       "<g id=\"node9\" class=\"node\"><title>Archive Repair+complete (1000)</title>\n",
       "<polygon fill=\"#bae4b3\" stroke=\"#bae4b3\" points=\"1791,-198 1634,-198 1634,-162 1791,-162 1791,-198\"/>\n",
       "<text text-anchor=\"middle\" x=\"1712.5\" y=\"-177.5\" font-family=\"Helvetica,sans-Serif\" font-size=\"10.00\">Archive Repair+complete (1000)</text>\n",
       "</g>\n",
       "<!-- Test Repair+complete (1508)&#45;&gt;Archive Repair+complete (1000) -->\n",
       "<g id=\"edge16\" class=\"edge\"><title>Test Repair+complete (1508)&#45;&gt;Archive Repair+complete (1000)</title>\n",
       "<path fill=\"none\" stroke=\"black\" d=\"M1372.45,-261.042C1442.86,-244.212 1550.84,-218.402 1625.96,-200.447\"/>\n",
       "<polygon fill=\"black\" stroke=\"black\" points=\"1626.96,-203.807 1635.87,-198.078 1625.33,-196.999 1626.96,-203.807\"/>\n",
       "<text text-anchor=\"middle\" x=\"1506.5\" y=\"-248.8\" font-family=\"Times,serif\" font-size=\"14.00\">795</text>\n",
       "</g>\n",
       "<!-- Restart Repair+complete (406) -->\n",
       "<g id=\"node12\" class=\"node\"><title>Restart Repair+complete (406)</title>\n",
       "<polygon fill=\"#edf8e9\" stroke=\"#edf8e9\" points=\"1788,-137 1637,-137 1637,-101 1788,-101 1788,-137\"/>\n",
       "<text text-anchor=\"middle\" x=\"1712.5\" y=\"-116.5\" font-family=\"Helvetica,sans-Serif\" font-size=\"10.00\">Restart Repair+complete (406)</text>\n",
       "</g>\n",
       "<!-- Test Repair+complete (1508)&#45;&gt;Restart Repair+complete (406) -->\n",
       "<g id=\"edge12\" class=\"edge\"><title>Test Repair+complete (1508)&#45;&gt;Restart Repair+complete (406)</title>\n",
       "<path fill=\"none\" stroke=\"black\" d=\"M1326.09,-259.78C1352.13,-241.009 1394.86,-211.657 1434.5,-191 1504.36,-154.594 1522.08,-141.993 1599,-125 1607.91,-123.033 1617.3,-121.583 1626.71,-120.527\"/>\n",
       "<polygon fill=\"black\" stroke=\"black\" points=\"1627.29,-123.987 1636.9,-119.531 1626.61,-117.02 1627.29,-123.987\"/>\n",
       "<text text-anchor=\"middle\" x=\"1506.5\" y=\"-194.8\" font-family=\"Times,serif\" font-size=\"14.00\">341</text>\n",
       "</g>\n",
       "<!-- Inform User+complete (1102)&#45;&gt;Repair (Complex)+start (725) -->\n",
       "<g id=\"edge23\" class=\"edge\"><title>Inform User+complete (1102)&#45;&gt;Repair (Complex)+start (725)</title>\n",
       "<path fill=\"none\" stroke=\"black\" d=\"M1474.24,-294.98C1456.79,-285.247 1434.49,-273.345 1414,-264 1325.21,-223.515 1296.08,-222 1198.5,-222 887.5,-222 887.5,-222 887.5,-222 834.419,-222 776.079,-204.703 735.434,-189.689\"/>\n",
       "<polygon fill=\"black\" stroke=\"black\" points=\"736.604,-186.389 726.012,-186.131 734.131,-192.938 736.604,-186.389\"/>\n",
       "<text text-anchor=\"middle\" x=\"1094.5\" y=\"-225.8\" font-family=\"Times,serif\" font-size=\"14.00\">92</text>\n",
       "</g>\n",
       "<!-- Inform User+complete (1102)&#45;&gt;Repair (Complex)+complete (724) -->\n",
       "<g id=\"edge18\" class=\"edge\"><title>Inform User+complete (1102)&#45;&gt;Repair (Complex)+complete (724)</title>\n",
       "<path fill=\"none\" stroke=\"black\" d=\"M1504.37,-331.104C1500.54,-374.949 1484.03,-486.699 1414,-534 1334.26,-587.859 1075.53,-551.946 981,-534 966.337,-531.216 950.976,-526.229 937.118,-520.875\"/>\n",
       "<polygon fill=\"black\" stroke=\"black\" points=\"938.375,-517.609 927.791,-517.133 935.768,-524.105 938.375,-517.609\"/>\n",
       "<text text-anchor=\"middle\" x=\"1197.5\" y=\"-564.8\" font-family=\"Times,serif\" font-size=\"14.00\">310</text>\n",
       "</g>\n",
       "<!-- Inform User+complete (1102)&#45;&gt;Test Repair+start (1508) -->\n",
       "<g id=\"edge27\" class=\"edge\"><title>Inform User+complete (1102)&#45;&gt;Test Repair+start (1508)</title>\n",
       "<path fill=\"none\" stroke=\"black\" d=\"M1434.38,-319.831C1377.97,-326.318 1297.49,-337.964 1229,-357 1199.63,-365.163 1167.95,-377.799 1142.83,-388.796\"/>\n",
       "<polygon fill=\"black\" stroke=\"black\" points=\"1141.26,-385.663 1133.54,-392.918 1144.1,-392.061 1141.26,-385.663\"/>\n",
       "<text text-anchor=\"middle\" x=\"1300.5\" y=\"-360.8\" font-family=\"Times,serif\" font-size=\"14.00\">5</text>\n",
       "</g>\n",
       "<!-- Inform User+complete (1102)&#45;&gt;Test Repair+complete (1508) -->\n",
       "<g id=\"edge20\" class=\"edge\"><title>Inform User+complete (1102)&#45;&gt;Test Repair+complete (1508)</title>\n",
       "<path fill=\"none\" stroke=\"black\" d=\"M1473.13,-294.942C1456.1,-286.463 1434.53,-277.292 1414,-273 1403.85,-270.878 1393.07,-269.85 1382.37,-269.554\"/>\n",
       "<polygon fill=\"black\" stroke=\"black\" points=\"1382.18,-266.053 1372.15,-269.483 1382.13,-273.053 1382.18,-266.053\"/>\n",
       "<text text-anchor=\"middle\" x=\"1403.5\" y=\"-276.8\" font-family=\"Times,serif\" font-size=\"14.00\">175</text>\n",
       "</g>\n",
       "<!-- Inform User+complete (1102)&#45;&gt;Archive Repair+complete (1000) -->\n",
       "<g id=\"edge8\" class=\"edge\"><title>Inform User+complete (1102)&#45;&gt;Archive Repair+complete (1000)</title>\n",
       "<path fill=\"none\" stroke=\"black\" d=\"M1528.48,-294.946C1552.83,-274.512 1594.68,-240.959 1634,-217 1642.32,-211.933 1651.43,-207.043 1660.4,-202.569\"/>\n",
       "<polygon fill=\"black\" stroke=\"black\" points=\"1662.19,-205.59 1669.65,-198.068 1659.13,-199.296 1662.19,-205.59\"/>\n",
       "<text text-anchor=\"middle\" x=\"1609.5\" y=\"-241.8\" font-family=\"Times,serif\" font-size=\"14.00\">205</text>\n",
       "</g>\n",
       "<!-- Inform User+complete (1102)&#45;&gt;Repair (Simple)+start (785) -->\n",
       "<g id=\"edge22\" class=\"edge\"><title>Inform User+complete (1102)&#45;&gt;Repair (Simple)+start (785)</title>\n",
       "<path fill=\"none\" stroke=\"black\" d=\"M1578.78,-309.179C1636.42,-305.26 1719.45,-297.73 1791,-284 1811.14,-280.135 1832.72,-274.55 1852.25,-268.928\"/>\n",
       "<polygon fill=\"black\" stroke=\"black\" points=\"1853.35,-272.254 1861.96,-266.083 1851.38,-265.537 1853.35,-272.254\"/>\n",
       "<text text-anchor=\"middle\" x=\"1712.5\" y=\"-307.8\" font-family=\"Times,serif\" font-size=\"14.00\">64</text>\n",
       "</g>\n",
       "<!-- Repair (Simple)+complete (785) -->\n",
       "<g id=\"node11\" class=\"node\"><title>Repair (Simple)+complete (785)</title>\n",
       "<polygon fill=\"#bae4b3\" stroke=\"#bae4b3\" points=\"2202,-409 2047,-409 2047,-373 2202,-373 2202,-409\"/>\n",
       "<text text-anchor=\"middle\" x=\"2124.5\" y=\"-388.5\" font-family=\"Helvetica,sans-Serif\" font-size=\"10.00\">Repair (Simple)+complete (785)</text>\n",
       "</g>\n",
       "<!-- Inform User+complete (1102)&#45;&gt;Repair (Simple)+complete (785) -->\n",
       "<g id=\"edge15\" class=\"edge\"><title>Inform User+complete (1102)&#45;&gt;Repair (Simple)+complete (785)</title>\n",
       "<path fill=\"none\" stroke=\"black\" d=\"M1578.92,-322.404C1585.71,-323.286 1592.48,-324.163 1599,-325 1752.95,-344.781 1932.39,-367.23 2036.46,-380.189\"/>\n",
       "<polygon fill=\"black\" stroke=\"black\" points=\"2036.25,-383.69 2046.61,-381.452 2037.12,-376.743 2036.25,-383.69\"/>\n",
       "<text text-anchor=\"middle\" x=\"1815.5\" y=\"-356.8\" font-family=\"Times,serif\" font-size=\"14.00\">159</text>\n",
       "</g>\n",
       "<!-- Inform User+complete (1102)&#45;&gt;Restart Repair+complete (406) -->\n",
       "<g id=\"edge25\" class=\"edge\"><title>Inform User+complete (1102)&#45;&gt;Restart Repair+complete (406)</title>\n",
       "<path fill=\"none\" stroke=\"black\" d=\"M1521.28,-294.721C1552.56,-253.297 1626.79,-155.429 1634,-150 1637.92,-147.049 1642.15,-144.336 1646.56,-141.851\"/>\n",
       "<polygon fill=\"black\" stroke=\"black\" points=\"1648.51,-144.778 1655.77,-137.064 1645.29,-138.565 1648.51,-144.778\"/>\n",
       "<text text-anchor=\"middle\" x=\"1609.5\" y=\"-195.8\" font-family=\"Times,serif\" font-size=\"14.00\">65</text>\n",
       "</g>\n",
       "<!-- Repair (Simple)+start (785)&#45;&gt;Inform User+complete (1102) -->\n",
       "<g id=\"edge14\" class=\"edge\"><title>Repair (Simple)+start (785)&#45;&gt;Inform User+complete (1102)</title>\n",
       "<path fill=\"none\" stroke=\"black\" d=\"M1851.48,-247.199C1793.56,-247.73 1707.37,-251.528 1634,-267 1608.09,-272.464 1580.33,-282.103 1557.44,-291.151\"/>\n",
       "<polygon fill=\"black\" stroke=\"black\" points=\"1555.91,-287.993 1547.95,-294.979 1558.53,-294.486 1555.91,-287.993\"/>\n",
       "<text text-anchor=\"middle\" x=\"1712.5\" y=\"-270.8\" font-family=\"Times,serif\" font-size=\"14.00\">159</text>\n",
       "</g>\n",
       "<!-- Repair (Simple)+start (785)&#45;&gt;Repair (Simple)+complete (785) -->\n",
       "<g id=\"edge10\" class=\"edge\"><title>Repair (Simple)+start (785)&#45;&gt;Repair (Simple)+complete (785)</title>\n",
       "<path fill=\"none\" stroke=\"black\" d=\"M1945.34,-266.111C1981.87,-291.721 2048.69,-338.562 2089.3,-367.029\"/>\n",
       "<polygon fill=\"black\" stroke=\"black\" points=\"2087.35,-369.937 2097.55,-372.811 2091.37,-364.205 2087.35,-369.937\"/>\n",
       "<text text-anchor=\"middle\" x=\"2021.5\" y=\"-326.8\" font-family=\"Times,serif\" font-size=\"14.00\">626</text>\n",
       "</g>\n",
       "<!-- Repair (Simple)+complete (785)&#45;&gt;Test Repair+start (1508) -->\n",
       "<g id=\"edge11\" class=\"edge\"><title>Repair (Simple)+complete (785)&#45;&gt;Test Repair+start (1508)</title>\n",
       "<path fill=\"none\" stroke=\"black\" d=\"M2066.37,-409.013C2055.09,-411.886 2043.25,-414.427 2032,-416 1670.82,-466.471 1576.18,-423 1211.5,-425 1199.06,-425.068 1195.91,-425.981 1183.5,-425 1178.01,-424.566 1172.34,-423.981 1166.65,-423.297\"/>\n",
       "<polygon fill=\"black\" stroke=\"black\" points=\"1166.79,-419.785 1156.42,-421.967 1165.89,-426.727 1166.79,-419.785\"/>\n",
       "<text text-anchor=\"middle\" x=\"1609.5\" y=\"-441.8\" font-family=\"Times,serif\" font-size=\"14.00\">783</text>\n",
       "</g>\n",
       "<!-- Repair (Simple)+complete (785)&#45;&gt;Inform User+complete (1102) -->\n",
       "<g id=\"edge26\" class=\"edge\"><title>Repair (Simple)+complete (785)&#45;&gt;Inform User+complete (1102)</title>\n",
       "<path fill=\"none\" stroke=\"black\" d=\"M2046.96,-397.014C2034.93,-397.402 2022.63,-397.473 2011,-397 1842.69,-390.152 1798,-396.464 1634,-358 1609.18,-352.178 1582.48,-343.117 1560.03,-334.647\"/>\n",
       "<polygon fill=\"black\" stroke=\"black\" points=\"1561.28,-331.377 1550.69,-331.064 1558.77,-337.913 1561.28,-331.377\"/>\n",
       "<text text-anchor=\"middle\" x=\"1815.5\" y=\"-392.8\" font-family=\"Times,serif\" font-size=\"14.00\">2</text>\n",
       "</g>\n",
       "<!-- Restart Repair+complete (406)&#45;&gt;Repair (Complex)+start (725) -->\n",
       "<g id=\"edge24\" class=\"edge\"><title>Restart Repair+complete (406)&#45;&gt;Repair (Complex)+start (725)</title>\n",
       "<path fill=\"none\" stroke=\"black\" d=\"M1679.04,-100.956C1639.69,-80.8104 1570.78,-51 1507.5,-51 887.5,-51 887.5,-51 887.5,-51 814.432,-51 743.827,-108.18 707.951,-142.592\"/>\n",
       "<polygon fill=\"black\" stroke=\"black\" points=\"705.111,-140.475 700.421,-149.975 710.012,-145.474 705.111,-140.475\"/>\n",
       "<text text-anchor=\"middle\" x=\"1197.5\" y=\"-54.8\" font-family=\"Times,serif\" font-size=\"14.00\">105</text>\n",
       "</g>\n",
       "<!-- Restart Repair+complete (406)&#45;&gt;Inform User+complete (1102) -->\n",
       "<g id=\"edge29\" class=\"edge\"><title>Restart Repair+complete (406)&#45;&gt;Inform User+complete (1102)</title>\n",
       "<path fill=\"none\" stroke=\"black\" d=\"M1636.87,-124.543C1622.91,-128.619 1609.44,-135.035 1599,-145 1574.62,-168.267 1593.39,-187.771 1578.5,-218 1566.03,-243.307 1546.57,-268.738 1531.17,-286.911\"/>\n",
       "<polygon fill=\"black\" stroke=\"black\" points=\"1528.31,-284.868 1524.43,-294.723 1533.61,-289.443 1528.31,-284.868\"/>\n",
       "<text text-anchor=\"middle\" x=\"1609.5\" y=\"-148.8\" font-family=\"Times,serif\" font-size=\"14.00\">1</text>\n",
       "</g>\n",
       "<!-- Restart Repair+complete (406)&#45;&gt;Repair (Simple)+start (785) -->\n",
       "<g id=\"edge13\" class=\"edge\"><title>Restart Repair+complete (406)&#45;&gt;Repair (Simple)+start (785)</title>\n",
       "<path fill=\"none\" stroke=\"black\" d=\"M1764.48,-137.03C1773.53,-140.888 1782.7,-145.249 1791,-150 1827.61,-170.953 1865.29,-201.525 1889.9,-222.936\"/>\n",
       "<polygon fill=\"black\" stroke=\"black\" points=\"1887.9,-225.84 1897.72,-229.818 1892.52,-220.585 1887.9,-225.84\"/>\n",
       "<text text-anchor=\"middle\" x=\"1815.5\" y=\"-174.8\" font-family=\"Times,serif\" font-size=\"14.00\">300</text>\n",
       "</g>\n",
       "</g>\n",
       "</svg>\n"
      ],
      "text/plain": [
       "<graphviz.dot.Digraph at 0x7fdbf1c45970>"
      ]
     },
     "execution_count": 77,
     "metadata": {},
     "output_type": "execute_result"
    }
   ],
   "source": [
    "draw_dfg(c2, \"c2\", 0, save=False, lifecycle_present=True)"
   ]
  },
  {
   "cell_type": "code",
   "execution_count": null,
   "metadata": {
    "colab": {
     "base_uri": "https://localhost:8080/"
    },
    "id": "Bxn3_q0-IpLQ",
    "outputId": "bd0597b3-182a-45f9-c6b2-8f8b2e6e9fa6"
   },
   "outputs": [
    {
     "data": {
      "text/plain": [
       "{'(Name AND Transition)': ['concept:name', 'lifecycle:transition']}"
      ]
     },
     "execution_count": 48,
     "metadata": {
      "tags": []
     },
     "output_type": "execute_result"
    }
   ],
   "source": [
    "c2.classifiers"
   ]
  },
  {
   "cell_type": "code",
   "execution_count": null,
   "metadata": {
    "colab": {
     "base_uri": "https://localhost:8080/"
    },
    "id": "CMtVqZapIrls",
    "outputId": "296a66e7-2f4e-4741-b19e-c6a5fec6a960"
   },
   "outputs": [
    {
     "data": {
      "text/plain": [
       "True"
      ]
     },
     "execution_count": 49,
     "metadata": {
      "tags": []
     },
     "output_type": "execute_result"
    }
   ],
   "source": [
    "#build the set of event that is equal to the first event by our classifier\n",
    "first_classifier = list(c2.classifiers.keys())[0]\n",
    "equal_events = c2.filter_by_classifier(c2.events[0], first_classifier)\n",
    "verify_filter_by_classifier(c2, equal_events, first_classifier)"
   ]
  },
  {
   "cell_type": "code",
   "execution_count": 30,
   "metadata": {
    "colab": {
     "base_uri": "https://localhost:8080/"
    },
    "id": "1MZJYx1jQPqz",
    "outputId": "e4a99dfb-741d-4781-8c15-8a629ea071f9"
   },
   "outputs": [
    {
     "name": "stdout",
     "output_type": "stream",
     "text": [
      "Concept name of the trace: 303 (the same as the TRACE_ID below)\n",
      "TRACE_ID: 303 (trace number 332 )\n",
      "  concept:name               lifecycle:transition                org:resource   \n",
      "> Register                   complete                            System         \n",
      "> Analyze Defect             start                               Tester6        \n",
      "> Analyze Defect             complete                            Tester6        \n",
      "> Repair (Complex)           start                               SolverC2       \n",
      "> Repair (Complex)           complete                            SolverC2       \n",
      "> Test Repair                start                               Tester3        \n",
      "> Inform User                complete                            System         \n",
      "> Test Repair                complete                            Tester3        \n",
      "> Archive Repair             complete                            System         \n",
      "\n"
     ]
    }
   ],
   "source": [
    "trace_id = case_ids_[\"c2\"]\n",
    "attributes = ['concept:name', 'lifecycle:transition', 'org:resource']\n",
    "print_specific_case(c2, trace_id, attributes) "
   ]
  },
  {
   "cell_type": "markdown",
   "metadata": {
    "id": "-AXjWT0pToRM"
   },
   "source": [
    "### D1"
   ]
  },
  {
   "cell_type": "code",
   "execution_count": 91,
   "metadata": {
    "colab": {
     "base_uri": "https://localhost:8080/"
    },
    "id": "8iXqICocTYaw",
    "outputId": "1f89d055-7254-4e39-9a31-957ec832c4a8"
   },
   "outputs": [
    {
     "name": "stderr",
     "output_type": "stream",
     "text": [
      "11582it [00:00, 115811.00it/s]"
     ]
    },
    {
     "name": "stdout",
     "output_type": "stream",
     "text": [
      "Processing log...\n"
     ]
    },
    {
     "name": "stderr",
     "output_type": "stream",
     "text": [
      "186902it [00:01, 124255.47it/s]\n"
     ]
    }
   ],
   "source": [
    "d1 = xes.import_xes(pd1)"
   ]
  },
  {
   "cell_type": "code",
   "execution_count": 92,
   "metadata": {
    "colab": {
     "base_uri": "https://localhost:8080/"
    },
    "id": "9RrvZQ8KzDYC",
    "outputId": "d9023389-f0b0-4d85-ae12-df40f0ec21bc"
   },
   "outputs": [
    {
     "name": "stdout",
     "output_type": "stream",
     "text": [
      "The log contains 1104 traces and 11855 events.\n",
      "Classifiers contained: {}\n",
      "TRACE_ID: 965 (trace number 965 )\n",
      "  concept:name            lifecycle:transition                time:timestamp \n",
      "> Register                complete                            02/05/1970 22:10:36.171000\n",
      "> Analyze Defect          start                               02/05/1970 22:14:23.197000\n",
      "> Analyze Defect          complete                            02/05/1970 22:24:14.961000\n",
      "> Repair (Complex)        start                               02/05/1970 22:45:58.477000\n",
      "> Inform User             complete                            02/05/1970 22:49:51.572000\n",
      "> Repair (Complex)        complete                            02/05/1970 23:05:09.472000\n",
      "> Test Repair             start                               02/05/1970 23:08:19.210000\n",
      "> Test Repair             complete                            02/05/1970 23:20:10.821000\n",
      "> Archive Repair          complete                            02/05/1970 23:32:31.227000\n",
      "\n"
     ]
    }
   ],
   "source": [
    "verify_log(d1)"
   ]
  },
  {
   "cell_type": "code",
   "execution_count": 104,
   "metadata": {},
   "outputs": [
    {
     "data": {
      "image/svg+xml": [
       "<?xml version=\"1.0\" encoding=\"UTF-8\" standalone=\"no\"?>\n",
       "<!DOCTYPE svg PUBLIC \"-//W3C//DTD SVG 1.1//EN\"\n",
       " \"http://www.w3.org/Graphics/SVG/1.1/DTD/svg11.dtd\">\n",
       "<!-- Generated by graphviz version 2.38.0 (20140413.2041)\n",
       " -->\n",
       "<!-- Title: d1 Pages: 1 -->\n",
       "<svg width=\"1079pt\" height=\"467pt\"\n",
       " viewBox=\"0.00 0.00 1078.50 466.71\" xmlns=\"http://www.w3.org/2000/svg\" xmlns:xlink=\"http://www.w3.org/1999/xlink\">\n",
       "<g id=\"graph0\" class=\"graph\" transform=\"scale(1 1) rotate(0) translate(4 462.706)\">\n",
       "<title>d1</title>\n",
       "<polygon fill=\"white\" stroke=\"none\" points=\"-4,4 -4,-462.706 1074.5,-462.706 1074.5,4 -4,4\"/>\n",
       "<!-- Register (1104) -->\n",
       "<g id=\"node1\" class=\"node\"><title>Register (1104)</title>\n",
       "<polygon fill=\"#74c476\" stroke=\"#74c476\" points=\"83,-69 0,-69 0,-33 83,-33 83,-69\"/>\n",
       "<text text-anchor=\"middle\" x=\"41.5\" y=\"-48.5\" font-family=\"Helvetica,sans-Serif\" font-size=\"10.00\">Register (1104)</text>\n",
       "</g>\n",
       "<!-- Analyze Defect (2208) -->\n",
       "<g id=\"node2\" class=\"node\"><title>Analyze Defect (2208)</title>\n",
       "<polygon fill=\"#238b45\" stroke=\"#238b45\" points=\"260.5,-69 146.5,-69 146.5,-33 260.5,-33 260.5,-69\"/>\n",
       "<text text-anchor=\"middle\" x=\"203.5\" y=\"-48.5\" font-family=\"Helvetica,sans-Serif\" font-size=\"10.00\">Analyze Defect (2208)</text>\n",
       "</g>\n",
       "<!-- Register (1104)&#45;&gt;Analyze Defect (2208) -->\n",
       "<g id=\"edge1\" class=\"edge\"><title>Register (1104)&#45;&gt;Analyze Defect (2208)</title>\n",
       "<path fill=\"none\" stroke=\"black\" d=\"M83.2887,-51C99.3846,-51 118.294,-51 136.25,-51\"/>\n",
       "<polygon fill=\"black\" stroke=\"black\" points=\"136.393,-54.5001 146.393,-51 136.393,-47.5001 136.393,-54.5001\"/>\n",
       "<text text-anchor=\"middle\" x=\"122.5\" y=\"-54.8\" font-family=\"Times,serif\" font-size=\"14.00\">1104</text>\n",
       "</g>\n",
       "<!-- Analyze Defect (2208)&#45;&gt;Analyze Defect (2208) -->\n",
       "<g id=\"edge2\" class=\"edge\"><title>Analyze Defect (2208)&#45;&gt;Analyze Defect (2208)</title>\n",
       "<path fill=\"none\" stroke=\"black\" d=\"M189.965,-69.1157C185.863,-81.6543 190.375,-94 203.5,-94 213.036,-94 218.025,-87.4828 218.468,-79.1095\"/>\n",
       "<polygon fill=\"black\" stroke=\"black\" points=\"221.919,-78.5179 217.035,-69.1157 214.99,-79.5112 221.919,-78.5179\"/>\n",
       "<text text-anchor=\"middle\" x=\"203.5\" y=\"-97.8\" font-family=\"Times,serif\" font-size=\"14.00\">1104</text>\n",
       "</g>\n",
       "<!-- Repair (Complex) (1449) -->\n",
       "<g id=\"node3\" class=\"node\"><title>Repair (Complex) (1449)</title>\n",
       "<polygon fill=\"#74c476\" stroke=\"#74c476\" points=\"427,-197 304,-197 304,-161 427,-161 427,-197\"/>\n",
       "<text text-anchor=\"middle\" x=\"365.5\" y=\"-176.5\" font-family=\"Helvetica,sans-Serif\" font-size=\"10.00\">Repair (Complex) (1449)</text>\n",
       "</g>\n",
       "<!-- Analyze Defect (2208)&#45;&gt;Repair (Complex) (1449) -->\n",
       "<g id=\"edge3\" class=\"edge\"><title>Analyze Defect (2208)&#45;&gt;Repair (Complex) (1449)</title>\n",
       "<path fill=\"none\" stroke=\"black\" d=\"M227.085,-69.0678C254.998,-91.3985 302.622,-129.497 333.826,-154.46\"/>\n",
       "<polygon fill=\"black\" stroke=\"black\" points=\"331.777,-157.303 341.772,-160.817 336.149,-151.837 331.777,-157.303\"/>\n",
       "<text text-anchor=\"middle\" x=\"284.5\" y=\"-125.8\" font-family=\"Times,serif\" font-size=\"14.00\">528</text>\n",
       "</g>\n",
       "<!-- Inform User (1102) -->\n",
       "<g id=\"node5\" class=\"node\"><title>Inform User (1102)</title>\n",
       "<polygon fill=\"#74c476\" stroke=\"#74c476\" points=\"738.5,-189 640.5,-189 640.5,-153 738.5,-153 738.5,-189\"/>\n",
       "<text text-anchor=\"middle\" x=\"689.5\" y=\"-168.5\" font-family=\"Helvetica,sans-Serif\" font-size=\"10.00\">Inform User (1102)</text>\n",
       "</g>\n",
       "<!-- Analyze Defect (2208)&#45;&gt;Inform User (1102) -->\n",
       "<g id=\"edge20\" class=\"edge\"><title>Analyze Defect (2208)&#45;&gt;Inform User (1102)</title>\n",
       "<path fill=\"none\" stroke=\"black\" d=\"M260.747,-60.7691C333.735,-73.6326 464.952,-97.3941 576.5,-121 595.484,-125.017 600.956,-123.863 619,-131 630.314,-135.475 642.004,-141.557 652.493,-147.627\"/>\n",
       "<polygon fill=\"black\" stroke=\"black\" points=\"650.982,-150.801 661.363,-152.917 654.568,-144.789 650.982,-150.801\"/>\n",
       "<text text-anchor=\"middle\" x=\"446.5\" y=\"-100.8\" font-family=\"Times,serif\" font-size=\"14.00\">155</text>\n",
       "</g>\n",
       "<!-- Repair (Simple) (1570) -->\n",
       "<g id=\"node7\" class=\"node\"><title>Repair (Simple) (1570)</title>\n",
       "<polygon fill=\"#238b45\" stroke=\"#238b45\" points=\"1070.5,-146 956.5,-146 956.5,-110 1070.5,-110 1070.5,-146\"/>\n",
       "<text text-anchor=\"middle\" x=\"1013.5\" y=\"-125.5\" font-family=\"Helvetica,sans-Serif\" font-size=\"10.00\">Repair (Simple) (1570)</text>\n",
       "</g>\n",
       "<!-- Analyze Defect (2208)&#45;&gt;Repair (Simple) (1570) -->\n",
       "<g id=\"edge9\" class=\"edge\"><title>Analyze Defect (2208)&#45;&gt;Repair (Simple) (1570)</title>\n",
       "<path fill=\"none\" stroke=\"black\" d=\"M239.698,-32.8757C271.455,-18.2168 319.893,-0 364.5,-0 364.5,-0 364.5,-0 852.5,-0 916.883,-0 970.204,-63.9794 995.923,-101.472\"/>\n",
       "<polygon fill=\"black\" stroke=\"black\" points=\"993.106,-103.557 1001.57,-109.932 998.929,-99.6713 993.106,-103.557\"/>\n",
       "<text text-anchor=\"middle\" x=\"608.5\" y=\"-3.8\" font-family=\"Times,serif\" font-size=\"14.00\">421</text>\n",
       "</g>\n",
       "<!-- Repair (Complex) (1449)&#45;&gt;Repair (Complex) (1449) -->\n",
       "<g id=\"edge4\" class=\"edge\"><title>Repair (Complex) (1449)&#45;&gt;Repair (Complex) (1449)</title>\n",
       "<path fill=\"none\" stroke=\"black\" d=\"M351.965,-197.116C347.863,-209.654 352.375,-222 365.5,-222 375.036,-222 380.025,-215.483 380.468,-207.11\"/>\n",
       "<polygon fill=\"black\" stroke=\"black\" points=\"383.919,-206.518 379.035,-197.116 376.99,-207.511 383.919,-206.518\"/>\n",
       "<text text-anchor=\"middle\" x=\"365.5\" y=\"-225.8\" font-family=\"Times,serif\" font-size=\"14.00\">414</text>\n",
       "</g>\n",
       "<!-- Test Repair (3016) -->\n",
       "<g id=\"node4\" class=\"node\"><title>Test Repair (3016)</title>\n",
       "<polygon fill=\"#238b45\" stroke=\"#238b45\" points=\"576.5,-295 478.5,-295 478.5,-259 576.5,-259 576.5,-295\"/>\n",
       "<text text-anchor=\"middle\" x=\"527.5\" y=\"-274.5\" font-family=\"Helvetica,sans-Serif\" font-size=\"10.00\">Test Repair (3016)</text>\n",
       "</g>\n",
       "<!-- Repair (Complex) (1449)&#45;&gt;Test Repair (3016) -->\n",
       "<g id=\"edge5\" class=\"edge\"><title>Repair (Complex) (1449)&#45;&gt;Test Repair (3016)</title>\n",
       "<path fill=\"none\" stroke=\"black\" d=\"M396.22,-197.203C422.152,-213.087 459.937,-236.23 488.145,-253.507\"/>\n",
       "<polygon fill=\"black\" stroke=\"black\" points=\"486.584,-256.656 496.939,-258.894 490.24,-250.686 486.584,-256.656\"/>\n",
       "<text text-anchor=\"middle\" x=\"446.5\" y=\"-236.8\" font-family=\"Times,serif\" font-size=\"14.00\">720</text>\n",
       "</g>\n",
       "<!-- Repair (Complex) (1449)&#45;&gt;Inform User (1102) -->\n",
       "<g id=\"edge17\" class=\"edge\"><title>Repair (Complex) (1449)&#45;&gt;Inform User (1102)</title>\n",
       "<path fill=\"none\" stroke=\"black\" d=\"M400.715,-160.859C422.351,-150.435 451.278,-138.373 478.5,-133 521.231,-124.567 533.526,-125.908 576.5,-133 596.598,-136.317 617.939,-142.77 636.542,-149.43\"/>\n",
       "<polygon fill=\"black\" stroke=\"black\" points=\"635.405,-152.741 645.998,-152.916 637.826,-146.173 635.405,-152.741\"/>\n",
       "<text text-anchor=\"middle\" x=\"527.5\" y=\"-136.8\" font-family=\"Times,serif\" font-size=\"14.00\">313</text>\n",
       "</g>\n",
       "<!-- Test Repair (3016)&#45;&gt;Test Repair (3016) -->\n",
       "<g id=\"edge6\" class=\"edge\"><title>Test Repair (3016)&#45;&gt;Test Repair (3016)</title>\n",
       "<path fill=\"none\" stroke=\"black\" d=\"M513.965,-295.116C509.863,-307.654 514.375,-320 527.5,-320 537.036,-320 542.025,-313.483 542.468,-305.11\"/>\n",
       "<polygon fill=\"black\" stroke=\"black\" points=\"545.919,-304.518 541.035,-295.116 538.99,-305.511 545.919,-304.518\"/>\n",
       "<text text-anchor=\"middle\" x=\"527.5\" y=\"-323.8\" font-family=\"Times,serif\" font-size=\"14.00\">1333</text>\n",
       "</g>\n",
       "<!-- Test Repair (3016)&#45;&gt;Inform User (1102) -->\n",
       "<g id=\"edge7\" class=\"edge\"><title>Test Repair (3016)&#45;&gt;Inform User (1102)</title>\n",
       "<path fill=\"none\" stroke=\"black\" d=\"M569.325,-258.854C585.307,-251.089 603.489,-241.413 619,-231 634.344,-220.699 650.045,-207.423 662.632,-195.978\"/>\n",
       "<polygon fill=\"black\" stroke=\"black\" points=\"665.069,-198.491 670.035,-189.132 660.317,-193.351 665.069,-198.491\"/>\n",
       "<text text-anchor=\"middle\" x=\"608.5\" y=\"-245.8\" font-family=\"Times,serif\" font-size=\"14.00\">472</text>\n",
       "</g>\n",
       "<!-- Archive Repair (1000) -->\n",
       "<g id=\"node6\" class=\"node\"><title>Archive Repair (1000)</title>\n",
       "<polygon fill=\"#bae4b3\" stroke=\"#bae4b3\" points=\"907,-211 796,-211 796,-175 907,-175 907,-211\"/>\n",
       "<text text-anchor=\"middle\" x=\"851.5\" y=\"-190.5\" font-family=\"Helvetica,sans-Serif\" font-size=\"10.00\">Archive Repair (1000)</text>\n",
       "</g>\n",
       "<!-- Test Repair (3016)&#45;&gt;Archive Repair (1000) -->\n",
       "<g id=\"edge16\" class=\"edge\"><title>Test Repair (3016)&#45;&gt;Archive Repair (1000)</title>\n",
       "<path fill=\"none\" stroke=\"black\" d=\"M576.803,-287.978C631.298,-297.487 720.236,-304.031 781,-263 794.017,-254.21 785.88,-243.012 796,-231 800.146,-226.079 805.072,-221.499 810.243,-217.344\"/>\n",
       "<polygon fill=\"black\" stroke=\"black\" points=\"812.577,-219.969 818.491,-211.178 808.386,-214.362 812.577,-219.969\"/>\n",
       "<text text-anchor=\"middle\" x=\"689.5\" y=\"-298.8\" font-family=\"Times,serif\" font-size=\"14.00\">795</text>\n",
       "</g>\n",
       "<!-- Restart Repair (406) -->\n",
       "<g id=\"node8\" class=\"node\"><title>Restart Repair (406)</title>\n",
       "<polygon fill=\"#edf8e9\" stroke=\"#edf8e9\" points=\"904,-279 799,-279 799,-243 904,-243 904,-279\"/>\n",
       "<text text-anchor=\"middle\" x=\"851.5\" y=\"-258.5\" font-family=\"Helvetica,sans-Serif\" font-size=\"10.00\">Restart Repair (406)</text>\n",
       "</g>\n",
       "<!-- Test Repair (3016)&#45;&gt;Restart Repair (406) -->\n",
       "<g id=\"edge12\" class=\"edge\"><title>Test Repair (3016)&#45;&gt;Restart Repair (406)</title>\n",
       "<path fill=\"none\" stroke=\"black\" d=\"M557.516,-295.037C569.583,-301.612 584.019,-308.329 598,-312 676.668,-332.656 704.132,-339.582 781,-313 797.356,-307.344 813.024,-296.298 825.33,-285.836\"/>\n",
       "<polygon fill=\"black\" stroke=\"black\" points=\"827.752,-288.365 832.904,-279.107 823.103,-283.132 827.752,-288.365\"/>\n",
       "<text text-anchor=\"middle\" x=\"689.5\" y=\"-333.8\" font-family=\"Times,serif\" font-size=\"14.00\">341</text>\n",
       "</g>\n",
       "<!-- Inform User (1102)&#45;&gt;Repair (Complex) (1449) -->\n",
       "<g id=\"edge18\" class=\"edge\"><title>Inform User (1102)&#45;&gt;Repair (Complex) (1449)</title>\n",
       "<path fill=\"none\" stroke=\"black\" d=\"M640.28,-172.198C586.41,-173.536 498.695,-175.716 437.1,-177.246\"/>\n",
       "<polygon fill=\"black\" stroke=\"black\" points=\"436.976,-173.748 427.066,-177.495 437.15,-180.746 436.976,-173.748\"/>\n",
       "<text text-anchor=\"middle\" x=\"527.5\" y=\"-179.8\" font-family=\"Times,serif\" font-size=\"14.00\">402</text>\n",
       "</g>\n",
       "<!-- Inform User (1102)&#45;&gt;Test Repair (3016) -->\n",
       "<g id=\"edge19\" class=\"edge\"><title>Inform User (1102)&#45;&gt;Test Repair (3016)</title>\n",
       "<path fill=\"none\" stroke=\"black\" d=\"M640.331,-187.973C626.145,-193.957 610.963,-201.377 598,-210 580.619,-221.562 563.699,-237.733 550.906,-251.292\"/>\n",
       "<polygon fill=\"black\" stroke=\"black\" points=\"548.081,-249.193 543.878,-258.919 553.228,-253.937 548.081,-249.193\"/>\n",
       "<text text-anchor=\"middle\" x=\"608.5\" y=\"-213.8\" font-family=\"Times,serif\" font-size=\"14.00\">180</text>\n",
       "</g>\n",
       "<!-- Inform User (1102)&#45;&gt;Archive Repair (1000) -->\n",
       "<g id=\"edge8\" class=\"edge\"><title>Inform User (1102)&#45;&gt;Archive Repair (1000)</title>\n",
       "<path fill=\"none\" stroke=\"black\" d=\"M738.633,-167.431C752.389,-167.23 767.349,-167.8 781,-170 784.843,-170.619 788.761,-171.42 792.681,-172.349\"/>\n",
       "<polygon fill=\"black\" stroke=\"black\" points=\"791.828,-175.743 802.388,-174.894 793.603,-168.972 791.828,-175.743\"/>\n",
       "<text text-anchor=\"middle\" x=\"770.5\" y=\"-173.8\" font-family=\"Times,serif\" font-size=\"14.00\">205</text>\n",
       "</g>\n",
       "<!-- Inform User (1102)&#45;&gt;Repair (Simple) (1570) -->\n",
       "<g id=\"edge15\" class=\"edge\"><title>Inform User (1102)&#45;&gt;Repair (Simple) (1570)</title>\n",
       "<path fill=\"none\" stroke=\"black\" d=\"M738.586,-159.216C756.517,-155.166 777.103,-150.921 796,-148 846.076,-140.258 903.165,-135.136 946.143,-132.015\"/>\n",
       "<polygon fill=\"black\" stroke=\"black\" points=\"946.469,-135.501 956.196,-131.303 945.974,-128.519 946.469,-135.501\"/>\n",
       "<text text-anchor=\"middle\" x=\"851.5\" y=\"-151.8\" font-family=\"Times,serif\" font-size=\"14.00\">223</text>\n",
       "</g>\n",
       "<!-- Inform User (1102)&#45;&gt;Restart Repair (406) -->\n",
       "<g id=\"edge22\" class=\"edge\"><title>Inform User (1102)&#45;&gt;Restart Repair (406)</title>\n",
       "<path fill=\"none\" stroke=\"black\" d=\"M730.736,-189.162C746.636,-196.7 764.916,-205.821 781,-215 787.973,-218.979 801.959,-228.152 815.569,-237.268\"/>\n",
       "<polygon fill=\"black\" stroke=\"black\" points=\"813.677,-240.214 823.928,-242.89 817.584,-234.405 813.677,-240.214\"/>\n",
       "<text text-anchor=\"middle\" x=\"770.5\" y=\"-218.8\" font-family=\"Times,serif\" font-size=\"14.00\">65</text>\n",
       "</g>\n",
       "<!-- Repair (Simple) (1570)&#45;&gt;Test Repair (3016) -->\n",
       "<g id=\"edge11\" class=\"edge\"><title>Repair (Simple) (1570)&#45;&gt;Test Repair (3016)</title>\n",
       "<path fill=\"none\" stroke=\"black\" d=\"M1005.58,-146.076C991.859,-179.619 958.031,-251.738 907,-292 844.707,-341.148 816.725,-337.701 738.5,-351 676.436,-361.552 652.015,-365.337 598,-333 583.168,-324.12 568.064,-312.345 555.742,-301.884\"/>\n",
       "<polygon fill=\"black\" stroke=\"black\" points=\"557.927,-299.146 548.078,-295.243 553.343,-304.437 557.927,-299.146\"/>\n",
       "<text text-anchor=\"middle\" x=\"770.5\" y=\"-350.8\" font-family=\"Times,serif\" font-size=\"14.00\">783</text>\n",
       "</g>\n",
       "<!-- Repair (Simple) (1570)&#45;&gt;Inform User (1102) -->\n",
       "<g id=\"edge14\" class=\"edge\"><title>Repair (Simple) (1570)&#45;&gt;Inform User (1102)</title>\n",
       "<path fill=\"none\" stroke=\"black\" d=\"M980.395,-109.867C960.062,-99.4459 932.82,-87.3842 907,-82 858.706,-71.9292 842.802,-66.3994 796,-82 761.176,-93.6081 730.252,-123.192 711.03,-145.082\"/>\n",
       "<polygon fill=\"black\" stroke=\"black\" points=\"708.316,-142.871 704.493,-152.751 713.644,-147.412 708.316,-142.871\"/>\n",
       "<text text-anchor=\"middle\" x=\"851.5\" y=\"-85.8\" font-family=\"Times,serif\" font-size=\"14.00\">161</text>\n",
       "</g>\n",
       "<!-- Repair (Simple) (1570)&#45;&gt;Repair (Simple) (1570) -->\n",
       "<g id=\"edge10\" class=\"edge\"><title>Repair (Simple) (1570)&#45;&gt;Repair (Simple) (1570)</title>\n",
       "<path fill=\"none\" stroke=\"black\" d=\"M999.965,-146.116C995.863,-158.654 1000.38,-171 1013.5,-171 1023.04,-171 1028.03,-164.483 1028.47,-156.11\"/>\n",
       "<polygon fill=\"black\" stroke=\"black\" points=\"1031.92,-155.518 1027.04,-146.116 1024.99,-156.511 1031.92,-155.518\"/>\n",
       "<text text-anchor=\"middle\" x=\"1013.5\" y=\"-174.8\" font-family=\"Times,serif\" font-size=\"14.00\">626</text>\n",
       "</g>\n",
       "<!-- Restart Repair (406)&#45;&gt;Repair (Complex) (1449) -->\n",
       "<g id=\"edge21\" class=\"edge\"><title>Restart Repair (406)&#45;&gt;Repair (Complex) (1449)</title>\n",
       "<path fill=\"none\" stroke=\"black\" d=\"M849.398,-279.277C846.098,-315.74 832.975,-397.02 781,-432 713.521,-477.414 675.048,-456.068 598,-430 487.057,-392.464 409.472,-263.367 379.836,-206.392\"/>\n",
       "<polygon fill=\"black\" stroke=\"black\" points=\"382.839,-204.576 375.176,-197.259 376.603,-207.758 382.839,-204.576\"/>\n",
       "<text text-anchor=\"middle\" x=\"608.5\" y=\"-440.8\" font-family=\"Times,serif\" font-size=\"14.00\">105</text>\n",
       "</g>\n",
       "<!-- Restart Repair (406)&#45;&gt;Inform User (1102) -->\n",
       "<g id=\"edge23\" class=\"edge\"><title>Restart Repair (406)&#45;&gt;Inform User (1102)</title>\n",
       "<path fill=\"none\" stroke=\"black\" d=\"M798.696,-248.413C785.619,-244.168 771.916,-238.747 760,-232 743.341,-222.567 727.121,-208.686 714.546,-196.547\"/>\n",
       "<polygon fill=\"black\" stroke=\"black\" points=\"716.779,-193.832 707.217,-189.27 711.847,-198.799 716.779,-193.832\"/>\n",
       "<text text-anchor=\"middle\" x=\"770.5\" y=\"-245.8\" font-family=\"Times,serif\" font-size=\"14.00\">1</text>\n",
       "</g>\n",
       "<!-- Restart Repair (406)&#45;&gt;Repair (Simple) (1570) -->\n",
       "<g id=\"edge13\" class=\"edge\"><title>Restart Repair (406)&#45;&gt;Repair (Simple) (1570)</title>\n",
       "<path fill=\"none\" stroke=\"black\" d=\"M880.768,-242.918C889.373,-237.122 898.736,-230.512 907,-224 935.584,-201.477 966.116,-173.178 986.94,-153.157\"/>\n",
       "<polygon fill=\"black\" stroke=\"black\" points=\"989.397,-155.649 994.151,-146.181 984.53,-150.618 989.397,-155.649\"/>\n",
       "<text text-anchor=\"middle\" x=\"932.5\" y=\"-214.8\" font-family=\"Times,serif\" font-size=\"14.00\">300</text>\n",
       "</g>\n",
       "</g>\n",
       "</svg>\n"
      ],
      "text/plain": [
       "<graphviz.dot.Digraph at 0x7fdbe4300a60>"
      ]
     },
     "execution_count": 104,
     "metadata": {},
     "output_type": "execute_result"
    }
   ],
   "source": [
    "draw_dfg(d1, \"d1\", 0, save=False, lifecycle_present=False)"
   ]
  },
  {
   "cell_type": "code",
   "execution_count": null,
   "metadata": {
    "colab": {
     "base_uri": "https://localhost:8080/"
    },
    "id": "iq9120OkzdgQ",
    "outputId": "edd14be2-c802-4a73-c47c-ff69cf915d56"
   },
   "outputs": [
    {
     "name": "stdout",
     "output_type": "stream",
     "text": [
      "Concept name of the trace: 1013\n",
      "Events belonging to this trace:\n",
      "{'concept:instance': 'instance 1',\n",
      " 'concept:name': 'Register',\n",
      " 'lifecycle:transition': 'complete',\n",
      " 'org:group': 'Group -',\n",
      " 'org:resource': 'System',\n",
      " 'time:timestamp': datetime.datetime(1970, 1, 22, 9, 48, 43, 825000, tzinfo=datetime.timezone(datetime.timedelta(0, 3600)))}\n",
      "\n",
      "{'concept:instance': 'instance 1',\n",
      " 'concept:name': 'Analyze Defect',\n",
      " 'lifecycle:transition': 'start',\n",
      " 'org:group': 'Groups 2 and 4',\n",
      " 'org:resource': 'Tester6',\n",
      " 'org:role': 'Role 9',\n",
      " 'time:timestamp': datetime.datetime(1970, 1, 22, 9, 51, 35, 829000, tzinfo=datetime.timezone(datetime.timedelta(0, 3600)))}\n",
      "\n",
      "{'concept:instance': 'instance 1',\n",
      " 'concept:name': 'Analyze Defect',\n",
      " 'lifecycle:transition': 'complete',\n",
      " 'org:group': 'Groups 2 and 4',\n",
      " 'org:resource': 'Tester6',\n",
      " 'org:role': 'Role 9',\n",
      " 'time:timestamp': datetime.datetime(1970, 1, 22, 10, 1, 23, 520000, tzinfo=datetime.timezone(datetime.timedelta(0, 3600)))}\n",
      "\n",
      "{'concept:instance': 'instance 1',\n",
      " 'concept:name': 'Repair (Complex)',\n",
      " 'lifecycle:transition': 'start',\n",
      " 'org:group': 'Groups 1, 3, and 5',\n",
      " 'org:resource': 'SolverC3',\n",
      " 'org:role': 'Role 10',\n",
      " 'time:timestamp': datetime.datetime(1970, 1, 22, 10, 30, 2, 679000, tzinfo=datetime.timezone(datetime.timedelta(0, 3600)))}\n",
      "\n",
      "{'concept:instance': 'instance 1',\n",
      " 'concept:name': 'Inform User',\n",
      " 'lifecycle:transition': 'complete',\n",
      " 'org:group': 'Group -',\n",
      " 'org:resource': 'System',\n",
      " 'time:timestamp': datetime.datetime(1970, 1, 22, 10, 48, 32, 366000, tzinfo=datetime.timezone(datetime.timedelta(0, 3600)))}\n",
      "\n",
      "{'concept:instance': 'instance 1',\n",
      " 'concept:name': 'Repair (Complex)',\n",
      " 'lifecycle:transition': 'complete',\n",
      " 'org:group': 'Groups 1, 3, and 5',\n",
      " 'org:resource': 'SolverC3',\n",
      " 'org:role': 'Role 10',\n",
      " 'time:timestamp': datetime.datetime(1970, 1, 22, 11, 18, 8, 573000, tzinfo=datetime.timezone(datetime.timedelta(0, 3600)))}\n",
      "\n",
      "{'concept:instance': 'instance 1',\n",
      " 'concept:name': 'Test Repair',\n",
      " 'lifecycle:transition': 'start',\n",
      " 'org:group': 'Groups 2 and 4',\n",
      " 'org:resource': 'Tester2',\n",
      " 'org:role': 'Role 9',\n",
      " 'time:timestamp': datetime.datetime(1970, 1, 22, 11, 20, 23, 480000, tzinfo=datetime.timezone(datetime.timedelta(0, 3600)))}\n",
      "\n",
      "{'concept:instance': 'instance 1',\n",
      " 'concept:name': 'Test Repair',\n",
      " 'lifecycle:transition': 'complete',\n",
      " 'org:group': 'Groups 2 and 4',\n",
      " 'org:resource': 'Tester2',\n",
      " 'org:role': 'Role 9',\n",
      " 'time:timestamp': datetime.datetime(1970, 1, 22, 11, 32, 22, 903000, tzinfo=datetime.timezone(datetime.timedelta(0, 3600)))}\n",
      "\n"
     ]
    }
   ],
   "source": [
    "#print random trace\n",
    "idx = random.randint(0, len(d1.traces)-1)\n",
    "\n",
    "print('Concept name of the trace:', d1.traces[idx]['concept:name'])\n",
    "print('Events belonging to this trace:')\n",
    "for event in d1.get_traces()[idx]:\n",
    "  pprint(event)\n",
    "  print()"
   ]
  },
  {
   "cell_type": "code",
   "execution_count": 39,
   "metadata": {
    "colab": {
     "base_uri": "https://localhost:8080/"
    },
    "id": "RQc0jnS3Qi58",
    "outputId": "fa3fafaa-2129-460b-c25d-afbfedca5a36"
   },
   "outputs": [
    {
     "name": "stdout",
     "output_type": "stream",
     "text": [
      "Concept name of the trace: 1013\n",
      "Events belonging to this trace:\n",
      "{'concept:instance': 'instance 1',\n",
      " 'concept:name': 'Register',\n",
      " 'lifecycle:transition': 'complete',\n",
      " 'org:group': 'Group -',\n",
      " 'org:resource': 'System',\n",
      " 'time:timestamp': datetime.datetime(1970, 1, 22, 9, 48, 43, 825000, tzinfo=datetime.timezone(datetime.timedelta(seconds=3600)))}\n",
      "\n",
      "{'concept:instance': 'instance 1',\n",
      " 'concept:name': 'Analyze Defect',\n",
      " 'lifecycle:transition': 'start',\n",
      " 'org:group': 'Groups 2 and 4',\n",
      " 'org:resource': 'Tester6',\n",
      " 'org:role': 'Role 9',\n",
      " 'time:timestamp': datetime.datetime(1970, 1, 22, 9, 51, 35, 829000, tzinfo=datetime.timezone(datetime.timedelta(seconds=3600)))}\n",
      "\n",
      "{'concept:instance': 'instance 1',\n",
      " 'concept:name': 'Analyze Defect',\n",
      " 'lifecycle:transition': 'complete',\n",
      " 'org:group': 'Groups 2 and 4',\n",
      " 'org:resource': 'Tester6',\n",
      " 'org:role': 'Role 9',\n",
      " 'time:timestamp': datetime.datetime(1970, 1, 22, 10, 1, 23, 520000, tzinfo=datetime.timezone(datetime.timedelta(seconds=3600)))}\n",
      "\n",
      "{'concept:instance': 'instance 1',\n",
      " 'concept:name': 'Repair (Complex)',\n",
      " 'lifecycle:transition': 'start',\n",
      " 'org:group': 'Groups 1, 3, and 5',\n",
      " 'org:resource': 'SolverC3',\n",
      " 'org:role': 'Role 10',\n",
      " 'time:timestamp': datetime.datetime(1970, 1, 22, 10, 30, 2, 679000, tzinfo=datetime.timezone(datetime.timedelta(seconds=3600)))}\n",
      "\n",
      "{'concept:instance': 'instance 1',\n",
      " 'concept:name': 'Inform User',\n",
      " 'lifecycle:transition': 'complete',\n",
      " 'org:group': 'Group -',\n",
      " 'org:resource': 'System',\n",
      " 'time:timestamp': datetime.datetime(1970, 1, 22, 10, 48, 32, 366000, tzinfo=datetime.timezone(datetime.timedelta(seconds=3600)))}\n",
      "\n",
      "{'concept:instance': 'instance 1',\n",
      " 'concept:name': 'Repair (Complex)',\n",
      " 'lifecycle:transition': 'complete',\n",
      " 'org:group': 'Groups 1, 3, and 5',\n",
      " 'org:resource': 'SolverC3',\n",
      " 'org:role': 'Role 10',\n",
      " 'time:timestamp': datetime.datetime(1970, 1, 22, 11, 18, 8, 573000, tzinfo=datetime.timezone(datetime.timedelta(seconds=3600)))}\n",
      "\n",
      "{'concept:instance': 'instance 1',\n",
      " 'concept:name': 'Test Repair',\n",
      " 'lifecycle:transition': 'start',\n",
      " 'org:group': 'Groups 2 and 4',\n",
      " 'org:resource': 'Tester2',\n",
      " 'org:role': 'Role 9',\n",
      " 'time:timestamp': datetime.datetime(1970, 1, 22, 11, 20, 23, 480000, tzinfo=datetime.timezone(datetime.timedelta(seconds=3600)))}\n",
      "\n",
      "{'concept:instance': 'instance 1',\n",
      " 'concept:name': 'Test Repair',\n",
      " 'lifecycle:transition': 'complete',\n",
      " 'org:group': 'Groups 2 and 4',\n",
      " 'org:resource': 'Tester2',\n",
      " 'org:role': 'Role 9',\n",
      " 'time:timestamp': datetime.datetime(1970, 1, 22, 11, 32, 22, 903000, tzinfo=datetime.timezone(datetime.timedelta(seconds=3600)))}\n",
      "\n"
     ]
    }
   ],
   "source": [
    "trace_id = case_ids_['d1']\n",
    "print_specific_case2(d1, trace_id)"
   ]
  },
  {
   "cell_type": "markdown",
   "metadata": {
    "id": "6PWYguRv1taS"
   },
   "source": [
    "### D2"
   ]
  },
  {
   "cell_type": "code",
   "execution_count": 81,
   "metadata": {
    "colab": {
     "base_uri": "https://localhost:8080/"
    },
    "id": "ZyaxinlNTYSL",
    "outputId": "b82f7e6c-c907-4ea0-aa17-9d6086c0eb8d"
   },
   "outputs": [
    {
     "name": "stderr",
     "output_type": "stream",
     "text": [
      "10954it [00:00, 109531.23it/s]"
     ]
    },
    {
     "name": "stdout",
     "output_type": "stream",
     "text": [
      "Processing log...\n"
     ]
    },
    {
     "name": "stderr",
     "output_type": "stream",
     "text": [
      "186904it [00:01, 126943.89it/s]\n"
     ]
    }
   ],
   "source": [
    "d2 = xes.import_xes(pd2)"
   ]
  },
  {
   "cell_type": "code",
   "execution_count": 82,
   "metadata": {
    "colab": {
     "base_uri": "https://localhost:8080/"
    },
    "id": "E6JRsEgHzEoe",
    "outputId": "ab8bf179-e091-4ef3-c2d3-1a099b54b9ce"
   },
   "outputs": [
    {
     "name": "stdout",
     "output_type": "stream",
     "text": [
      "The log contains 1104 traces and 11855 events.\n",
      "Classifiers contained: {'(Name AND Transition)': ['concept:name', 'lifecycle:transition']}\n",
      "TRACE_ID: 278 (trace number 278 )\n",
      "  concept:name            lifecycle:transition                time:timestamp \n",
      "> Register                complete                            01/11/1970 22:55:56.264000\n",
      "> Analyze Defect          start                               01/11/1970 22:58:25.831000\n",
      "> Analyze Defect          complete                            01/11/1970 23:09:32.436000\n",
      "> Repair (Simple)         start                               01/11/1970 23:20:02.838000\n",
      "> Repair (Simple)         complete                            01/11/1970 23:25:55.397000\n",
      "> Test Repair             start                               01/11/1970 23:27:08.003000\n",
      "> Test Repair             complete                            01/11/1970 23:37:47.538000\n",
      "> Restart Repair          complete                            01/11/1970 23:48:39.505000\n",
      "> Repair (Complex)        start                               01/11/1970 23:51:02.619000\n",
      "> Inform User             complete                            01/12/1970 00:05:16.202000\n",
      "> Repair (Complex)        complete                            01/12/1970 00:43:39.625000\n",
      "> Test Repair             start                               01/12/1970 00:44:51.980000\n",
      "> Test Repair             complete                            01/12/1970 00:55:01.750000\n",
      "> Archive Repair          complete                            01/12/1970 01:05:18.941000\n",
      "\n"
     ]
    }
   ],
   "source": [
    "verify_log(d2)"
   ]
  },
  {
   "cell_type": "code",
   "execution_count": 83,
   "metadata": {},
   "outputs": [
    {
     "data": {
      "image/svg+xml": [
       "<?xml version=\"1.0\" encoding=\"UTF-8\" standalone=\"no\"?>\n",
       "<!DOCTYPE svg PUBLIC \"-//W3C//DTD SVG 1.1//EN\"\n",
       " \"http://www.w3.org/Graphics/SVG/1.1/DTD/svg11.dtd\">\n",
       "<!-- Generated by graphviz version 2.38.0 (20140413.2041)\n",
       " -->\n",
       "<!-- Title: d2 Pages: 1 -->\n",
       "<svg width=\"2210pt\" height=\"640pt\"\n",
       " viewBox=\"0.00 0.00 2210.00 640.00\" xmlns=\"http://www.w3.org/2000/svg\" xmlns:xlink=\"http://www.w3.org/1999/xlink\">\n",
       "<g id=\"graph0\" class=\"graph\" transform=\"scale(1 1) rotate(0) translate(4 636)\">\n",
       "<title>d2</title>\n",
       "<polygon fill=\"white\" stroke=\"none\" points=\"-4,4 -4,-636 2206,-636 2206,4 -4,4\"/>\n",
       "<!-- Register+complete (1104) -->\n",
       "<g id=\"node1\" class=\"node\"><title>Register+complete (1104)</title>\n",
       "<polygon fill=\"#74c476\" stroke=\"#74c476\" points=\"129,-186 0,-186 0,-150 129,-150 129,-186\"/>\n",
       "<text text-anchor=\"middle\" x=\"64.5\" y=\"-165.5\" font-family=\"Helvetica,sans-Serif\" font-size=\"10.00\">Register+complete (1104)</text>\n",
       "</g>\n",
       "<!-- Analyze Defect+start (1104) -->\n",
       "<g id=\"node2\" class=\"node\"><title>Analyze Defect+start (1104)</title>\n",
       "<polygon fill=\"#74c476\" stroke=\"#74c476\" points=\"340.5,-186 200.5,-186 200.5,-150 340.5,-150 340.5,-186\"/>\n",
       "<text text-anchor=\"middle\" x=\"270.5\" y=\"-165.5\" font-family=\"Helvetica,sans-Serif\" font-size=\"10.00\">Analyze Defect+start (1104)</text>\n",
       "</g>\n",
       "<!-- Register+complete (1104)&#45;&gt;Analyze Defect+start (1104) -->\n",
       "<g id=\"edge1\" class=\"edge\"><title>Register+complete (1104)&#45;&gt;Analyze Defect+start (1104)</title>\n",
       "<path fill=\"none\" stroke=\"black\" d=\"M129.208,-168C148.51,-168 169.952,-168 190.146,-168\"/>\n",
       "<polygon fill=\"black\" stroke=\"black\" points=\"190.259,-171.5 200.259,-168 190.259,-164.5 190.259,-171.5\"/>\n",
       "<text text-anchor=\"middle\" x=\"167.5\" y=\"-171.8\" font-family=\"Times,serif\" font-size=\"14.00\">1104</text>\n",
       "</g>\n",
       "<!-- Analyze Defect+complete (1104) -->\n",
       "<g id=\"node3\" class=\"node\"><title>Analyze Defect+complete (1104)</title>\n",
       "<polygon fill=\"#74c476\" stroke=\"#74c476\" points=\"556.5,-186 396.5,-186 396.5,-150 556.5,-150 556.5,-186\"/>\n",
       "<text text-anchor=\"middle\" x=\"476.5\" y=\"-165.5\" font-family=\"Helvetica,sans-Serif\" font-size=\"10.00\">Analyze Defect+complete (1104)</text>\n",
       "</g>\n",
       "<!-- Analyze Defect+start (1104)&#45;&gt;Analyze Defect+complete (1104) -->\n",
       "<g id=\"edge2\" class=\"edge\"><title>Analyze Defect+start (1104)&#45;&gt;Analyze Defect+complete (1104)</title>\n",
       "<path fill=\"none\" stroke=\"black\" d=\"M340.565,-168C355.262,-168 370.981,-168 386.308,-168\"/>\n",
       "<polygon fill=\"black\" stroke=\"black\" points=\"386.309,-171.5 396.309,-168 386.309,-164.5 386.309,-171.5\"/>\n",
       "<text text-anchor=\"middle\" x=\"373.5\" y=\"-171.8\" font-family=\"Times,serif\" font-size=\"14.00\">1104</text>\n",
       "</g>\n",
       "<!-- Repair (Complex)+start (725) -->\n",
       "<g id=\"node4\" class=\"node\"><title>Repair (Complex)+start (725)</title>\n",
       "<polygon fill=\"#bae4b3\" stroke=\"#bae4b3\" points=\"754,-186 611,-186 611,-150 754,-150 754,-186\"/>\n",
       "<text text-anchor=\"middle\" x=\"682.5\" y=\"-165.5\" font-family=\"Helvetica,sans-Serif\" font-size=\"10.00\">Repair (Complex)+start (725)</text>\n",
       "</g>\n",
       "<!-- Analyze Defect+complete (1104)&#45;&gt;Repair (Complex)+start (725) -->\n",
       "<g id=\"edge3\" class=\"edge\"><title>Analyze Defect+complete (1104)&#45;&gt;Repair (Complex)+start (725)</title>\n",
       "<path fill=\"none\" stroke=\"black\" d=\"M556.664,-168C570.993,-168 585.957,-168 600.342,-168\"/>\n",
       "<polygon fill=\"black\" stroke=\"black\" points=\"600.698,-171.5 610.698,-168 600.698,-164.5 600.698,-171.5\"/>\n",
       "<text text-anchor=\"middle\" x=\"579.5\" y=\"-171.8\" font-family=\"Times,serif\" font-size=\"14.00\">528</text>\n",
       "</g>\n",
       "<!-- Inform User+complete (1102) -->\n",
       "<g id=\"node8\" class=\"node\"><title>Inform User+complete (1102)</title>\n",
       "<polygon fill=\"#74c476\" stroke=\"#74c476\" points=\"1578.5,-331 1434.5,-331 1434.5,-295 1578.5,-295 1578.5,-331\"/>\n",
       "<text text-anchor=\"middle\" x=\"1506.5\" y=\"-310.5\" font-family=\"Helvetica,sans-Serif\" font-size=\"10.00\">Inform User+complete (1102)</text>\n",
       "</g>\n",
       "<!-- Analyze Defect+complete (1104)&#45;&gt;Inform User+complete (1102) -->\n",
       "<g id=\"edge21\" class=\"edge\"><title>Analyze Defect+complete (1104)&#45;&gt;Inform User+complete (1102)</title>\n",
       "<path fill=\"none\" stroke=\"black\" d=\"M477.275,-186.157C477.259,-270.158 488.855,-617 681.5,-617 681.5,-617 681.5,-617 1301.5,-617 1358.17,-617 1376.64,-599.61 1414,-557 1470.41,-492.663 1493.41,-390.218 1501.58,-341.083\"/>\n",
       "<polygon fill=\"black\" stroke=\"black\" points=\"1505.04,-341.588 1503.14,-331.165 1498.13,-340.496 1505.04,-341.588\"/>\n",
       "<text text-anchor=\"middle\" x=\"991.5\" y=\"-620.8\" font-family=\"Times,serif\" font-size=\"14.00\">155</text>\n",
       "</g>\n",
       "<!-- Repair (Simple)+start (785) -->\n",
       "<g id=\"node10\" class=\"node\"><title>Repair (Simple)+start (785)</title>\n",
       "<polygon fill=\"#bae4b3\" stroke=\"#bae4b3\" points=\"1985.5,-266 1851.5,-266 1851.5,-230 1985.5,-230 1985.5,-266\"/>\n",
       "<text text-anchor=\"middle\" x=\"1918.5\" y=\"-245.5\" font-family=\"Helvetica,sans-Serif\" font-size=\"10.00\">Repair (Simple)+start (785)</text>\n",
       "</g>\n",
       "<!-- Analyze Defect+complete (1104)&#45;&gt;Repair (Simple)+start (785) -->\n",
       "<g id=\"edge9\" class=\"edge\"><title>Analyze Defect+complete (1104)&#45;&gt;Repair (Simple)+start (785)</title>\n",
       "<path fill=\"none\" stroke=\"black\" d=\"M487.94,-149.701C514.297,-106.159 588.133,-0 681.5,-0 681.5,-0 681.5,-0 1713.5,-0 1826.48,-0 1888.43,-155.418 1909.34,-220.185\"/>\n",
       "<polygon fill=\"black\" stroke=\"black\" points=\"1906.01,-221.27 1912.34,-229.764 1912.69,-219.175 1906.01,-221.27\"/>\n",
       "<text text-anchor=\"middle\" x=\"1197.5\" y=\"-3.8\" font-family=\"Times,serif\" font-size=\"14.00\">421</text>\n",
       "</g>\n",
       "<!-- Repair (Complex)+complete (724) -->\n",
       "<g id=\"node5\" class=\"node\"><title>Repair (Complex)+complete (724)</title>\n",
       "<polygon fill=\"#bae4b3\" stroke=\"#bae4b3\" points=\"970.5,-517 806.5,-517 806.5,-481 970.5,-481 970.5,-517\"/>\n",
       "<text text-anchor=\"middle\" x=\"888.5\" y=\"-496.5\" font-family=\"Helvetica,sans-Serif\" font-size=\"10.00\">Repair (Complex)+complete (724)</text>\n",
       "</g>\n",
       "<!-- Repair (Complex)+start (725)&#45;&gt;Repair (Complex)+complete (724) -->\n",
       "<g id=\"edge4\" class=\"edge\"><title>Repair (Complex)+start (725)&#45;&gt;Repair (Complex)+complete (724)</title>\n",
       "<path fill=\"none\" stroke=\"black\" d=\"M694.759,-186.267C728.753,-241.425 830.488,-406.495 870.791,-471.889\"/>\n",
       "<polygon fill=\"black\" stroke=\"black\" points=\"868.05,-474.112 876.276,-480.789 874.009,-470.44 868.05,-474.112\"/>\n",
       "<text text-anchor=\"middle\" x=\"785.5\" y=\"-346.8\" font-family=\"Times,serif\" font-size=\"14.00\">414</text>\n",
       "</g>\n",
       "<!-- Repair (Complex)+start (725)&#45;&gt;Inform User+complete (1102) -->\n",
       "<g id=\"edge17\" class=\"edge\"><title>Repair (Complex)+start (725)&#45;&gt;Inform User+complete (1102)</title>\n",
       "<path fill=\"none\" stroke=\"black\" d=\"M726.012,-149.869C766.691,-134.181 830.164,-114 887.5,-114 887.5,-114 887.5,-114 1301.5,-114 1366.09,-114 1377.14,-152.958 1414,-206 1430.08,-229.142 1417.27,-243.697 1434.5,-266 1441.42,-274.957 1450.55,-282.761 1459.95,-289.299\"/>\n",
       "<polygon fill=\"black\" stroke=\"black\" points=\"1458.32,-292.412 1468.6,-294.945 1462.14,-286.55 1458.32,-292.412\"/>\n",
       "<text text-anchor=\"middle\" x=\"1094.5\" y=\"-117.8\" font-family=\"Times,serif\" font-size=\"14.00\">310</text>\n",
       "</g>\n",
       "<!-- Test Repair+start (1508) -->\n",
       "<g id=\"node6\" class=\"node\"><title>Test Repair+start (1508)</title>\n",
       "<polygon fill=\"#238b45\" stroke=\"#238b45\" points=\"1156,-429 1033,-429 1033,-393 1156,-393 1156,-429\"/>\n",
       "<text text-anchor=\"middle\" x=\"1094.5\" y=\"-408.5\" font-family=\"Helvetica,sans-Serif\" font-size=\"10.00\">Test Repair+start (1508)</text>\n",
       "</g>\n",
       "<!-- Repair (Complex)+complete (724)&#45;&gt;Test Repair+start (1508) -->\n",
       "<g id=\"edge5\" class=\"edge\"><title>Repair (Complex)+complete (724)&#45;&gt;Test Repair+start (1508)</title>\n",
       "<path fill=\"none\" stroke=\"black\" d=\"M931.275,-480.98C963.346,-467.145 1007.79,-447.971 1042.06,-433.191\"/>\n",
       "<polygon fill=\"black\" stroke=\"black\" points=\"1043.64,-436.322 1051.43,-429.147 1040.86,-429.895 1043.64,-436.322\"/>\n",
       "<text text-anchor=\"middle\" x=\"991.5\" y=\"-460.8\" font-family=\"Times,serif\" font-size=\"14.00\">720</text>\n",
       "</g>\n",
       "<!-- Repair (Complex)+complete (724)&#45;&gt;Inform User+complete (1102) -->\n",
       "<g id=\"edge28\" class=\"edge\"><title>Repair (Complex)+complete (724)&#45;&gt;Inform User+complete (1102)</title>\n",
       "<path fill=\"none\" stroke=\"black\" d=\"M970.758,-501.817C1036.39,-502.459 1130.79,-499.673 1211.5,-483 1286.08,-467.595 1306.04,-461.069 1372,-423 1413.25,-399.192 1454.63,-362.665 1480.14,-338.316\"/>\n",
       "<polygon fill=\"black\" stroke=\"black\" points=\"1482.77,-340.643 1487.53,-331.178 1477.91,-335.607 1482.77,-340.643\"/>\n",
       "<text text-anchor=\"middle\" x=\"1197.5\" y=\"-490.8\" font-family=\"Times,serif\" font-size=\"14.00\">3</text>\n",
       "</g>\n",
       "<!-- Test Repair+complete (1508) -->\n",
       "<g id=\"node7\" class=\"node\"><title>Test Repair+complete (1508)</title>\n",
       "<polygon fill=\"#238b45\" stroke=\"#238b45\" points=\"1372,-296 1229,-296 1229,-260 1372,-260 1372,-296\"/>\n",
       "<text text-anchor=\"middle\" x=\"1300.5\" y=\"-275.5\" font-family=\"Helvetica,sans-Serif\" font-size=\"10.00\">Test Repair+complete (1508)</text>\n",
       "</g>\n",
       "<!-- Test Repair+start (1508)&#45;&gt;Test Repair+complete (1508) -->\n",
       "<g id=\"edge6\" class=\"edge\"><title>Test Repair+start (1508)&#45;&gt;Test Repair+complete (1508)</title>\n",
       "<path fill=\"none\" stroke=\"black\" d=\"M1106.91,-392.854C1121.85,-370.58 1150.09,-333.165 1183.5,-312 1194.45,-305.065 1206.87,-299.497 1219.41,-295.04\"/>\n",
       "<polygon fill=\"black\" stroke=\"black\" points=\"1220.62,-298.326 1229,-291.845 1218.4,-291.685 1220.62,-298.326\"/>\n",
       "<text text-anchor=\"middle\" x=\"1197.5\" y=\"-315.8\" font-family=\"Times,serif\" font-size=\"14.00\">1333</text>\n",
       "</g>\n",
       "<!-- Test Repair+start (1508)&#45;&gt;Inform User+complete (1102) -->\n",
       "<g id=\"edge19\" class=\"edge\"><title>Test Repair+start (1508)&#45;&gt;Inform User+complete (1102)</title>\n",
       "<path fill=\"none\" stroke=\"black\" d=\"M1156.05,-408.938C1221.31,-405.193 1327.45,-394.655 1414,-365 1433.98,-358.154 1454.57,-346.888 1471.15,-336.59\"/>\n",
       "<polygon fill=\"black\" stroke=\"black\" points=\"1473.37,-339.328 1479.92,-331.002 1469.6,-333.425 1473.37,-339.328\"/>\n",
       "<text text-anchor=\"middle\" x=\"1300.5\" y=\"-405.8\" font-family=\"Times,serif\" font-size=\"14.00\">175</text>\n",
       "</g>\n",
       "<!-- Test Repair+complete (1508)&#45;&gt;Inform User+complete (1102) -->\n",
       "<g id=\"edge7\" class=\"edge\"><title>Test Repair+complete (1508)&#45;&gt;Inform User+complete (1102)</title>\n",
       "<path fill=\"none\" stroke=\"black\" d=\"M1372.28,-290.143C1389.02,-293.015 1407,-296.1 1424.16,-299.045\"/>\n",
       "<polygon fill=\"black\" stroke=\"black\" points=\"1423.71,-302.518 1434.16,-300.76 1424.89,-295.619 1423.71,-302.518\"/>\n",
       "<text text-anchor=\"middle\" x=\"1403.5\" y=\"-299.8\" font-family=\"Times,serif\" font-size=\"14.00\">297</text>\n",
       "</g>\n",
       "<!-- Archive Repair+complete (1000) -->\n",
       "<g id=\"node9\" class=\"node\"><title>Archive Repair+complete (1000)</title>\n",
       "<polygon fill=\"#bae4b3\" stroke=\"#bae4b3\" points=\"1791,-198 1634,-198 1634,-162 1791,-162 1791,-198\"/>\n",
       "<text text-anchor=\"middle\" x=\"1712.5\" y=\"-177.5\" font-family=\"Helvetica,sans-Serif\" font-size=\"10.00\">Archive Repair+complete (1000)</text>\n",
       "</g>\n",
       "<!-- Test Repair+complete (1508)&#45;&gt;Archive Repair+complete (1000) -->\n",
       "<g id=\"edge16\" class=\"edge\"><title>Test Repair+complete (1508)&#45;&gt;Archive Repair+complete (1000)</title>\n",
       "<path fill=\"none\" stroke=\"black\" d=\"M1372.45,-261.042C1442.86,-244.212 1550.84,-218.402 1625.96,-200.447\"/>\n",
       "<polygon fill=\"black\" stroke=\"black\" points=\"1626.96,-203.807 1635.87,-198.078 1625.33,-196.999 1626.96,-203.807\"/>\n",
       "<text text-anchor=\"middle\" x=\"1506.5\" y=\"-248.8\" font-family=\"Times,serif\" font-size=\"14.00\">795</text>\n",
       "</g>\n",
       "<!-- Restart Repair+complete (406) -->\n",
       "<g id=\"node12\" class=\"node\"><title>Restart Repair+complete (406)</title>\n",
       "<polygon fill=\"#edf8e9\" stroke=\"#edf8e9\" points=\"1788,-137 1637,-137 1637,-101 1788,-101 1788,-137\"/>\n",
       "<text text-anchor=\"middle\" x=\"1712.5\" y=\"-116.5\" font-family=\"Helvetica,sans-Serif\" font-size=\"10.00\">Restart Repair+complete (406)</text>\n",
       "</g>\n",
       "<!-- Test Repair+complete (1508)&#45;&gt;Restart Repair+complete (406) -->\n",
       "<g id=\"edge12\" class=\"edge\"><title>Test Repair+complete (1508)&#45;&gt;Restart Repair+complete (406)</title>\n",
       "<path fill=\"none\" stroke=\"black\" d=\"M1326.09,-259.78C1352.13,-241.009 1394.86,-211.657 1434.5,-191 1504.36,-154.594 1522.08,-141.993 1599,-125 1607.91,-123.033 1617.3,-121.583 1626.71,-120.527\"/>\n",
       "<polygon fill=\"black\" stroke=\"black\" points=\"1627.29,-123.987 1636.9,-119.531 1626.61,-117.02 1627.29,-123.987\"/>\n",
       "<text text-anchor=\"middle\" x=\"1506.5\" y=\"-194.8\" font-family=\"Times,serif\" font-size=\"14.00\">341</text>\n",
       "</g>\n",
       "<!-- Inform User+complete (1102)&#45;&gt;Repair (Complex)+start (725) -->\n",
       "<g id=\"edge23\" class=\"edge\"><title>Inform User+complete (1102)&#45;&gt;Repair (Complex)+start (725)</title>\n",
       "<path fill=\"none\" stroke=\"black\" d=\"M1474.24,-294.98C1456.79,-285.247 1434.49,-273.345 1414,-264 1325.21,-223.515 1296.08,-222 1198.5,-222 887.5,-222 887.5,-222 887.5,-222 834.419,-222 776.079,-204.703 735.434,-189.689\"/>\n",
       "<polygon fill=\"black\" stroke=\"black\" points=\"736.604,-186.389 726.012,-186.131 734.131,-192.938 736.604,-186.389\"/>\n",
       "<text text-anchor=\"middle\" x=\"1094.5\" y=\"-225.8\" font-family=\"Times,serif\" font-size=\"14.00\">92</text>\n",
       "</g>\n",
       "<!-- Inform User+complete (1102)&#45;&gt;Repair (Complex)+complete (724) -->\n",
       "<g id=\"edge18\" class=\"edge\"><title>Inform User+complete (1102)&#45;&gt;Repair (Complex)+complete (724)</title>\n",
       "<path fill=\"none\" stroke=\"black\" d=\"M1504.37,-331.104C1500.54,-374.949 1484.03,-486.699 1414,-534 1334.26,-587.859 1075.53,-551.946 981,-534 966.337,-531.216 950.976,-526.229 937.118,-520.875\"/>\n",
       "<polygon fill=\"black\" stroke=\"black\" points=\"938.375,-517.609 927.791,-517.133 935.768,-524.105 938.375,-517.609\"/>\n",
       "<text text-anchor=\"middle\" x=\"1197.5\" y=\"-564.8\" font-family=\"Times,serif\" font-size=\"14.00\">310</text>\n",
       "</g>\n",
       "<!-- Inform User+complete (1102)&#45;&gt;Test Repair+start (1508) -->\n",
       "<g id=\"edge27\" class=\"edge\"><title>Inform User+complete (1102)&#45;&gt;Test Repair+start (1508)</title>\n",
       "<path fill=\"none\" stroke=\"black\" d=\"M1434.38,-319.831C1377.97,-326.318 1297.49,-337.964 1229,-357 1199.63,-365.163 1167.95,-377.799 1142.83,-388.796\"/>\n",
       "<polygon fill=\"black\" stroke=\"black\" points=\"1141.26,-385.663 1133.54,-392.918 1144.1,-392.061 1141.26,-385.663\"/>\n",
       "<text text-anchor=\"middle\" x=\"1300.5\" y=\"-360.8\" font-family=\"Times,serif\" font-size=\"14.00\">5</text>\n",
       "</g>\n",
       "<!-- Inform User+complete (1102)&#45;&gt;Test Repair+complete (1508) -->\n",
       "<g id=\"edge20\" class=\"edge\"><title>Inform User+complete (1102)&#45;&gt;Test Repair+complete (1508)</title>\n",
       "<path fill=\"none\" stroke=\"black\" d=\"M1473.13,-294.942C1456.1,-286.463 1434.53,-277.292 1414,-273 1403.85,-270.878 1393.07,-269.85 1382.37,-269.554\"/>\n",
       "<polygon fill=\"black\" stroke=\"black\" points=\"1382.18,-266.053 1372.15,-269.483 1382.13,-273.053 1382.18,-266.053\"/>\n",
       "<text text-anchor=\"middle\" x=\"1403.5\" y=\"-276.8\" font-family=\"Times,serif\" font-size=\"14.00\">175</text>\n",
       "</g>\n",
       "<!-- Inform User+complete (1102)&#45;&gt;Archive Repair+complete (1000) -->\n",
       "<g id=\"edge8\" class=\"edge\"><title>Inform User+complete (1102)&#45;&gt;Archive Repair+complete (1000)</title>\n",
       "<path fill=\"none\" stroke=\"black\" d=\"M1528.48,-294.946C1552.83,-274.512 1594.68,-240.959 1634,-217 1642.32,-211.933 1651.43,-207.043 1660.4,-202.569\"/>\n",
       "<polygon fill=\"black\" stroke=\"black\" points=\"1662.19,-205.59 1669.65,-198.068 1659.13,-199.296 1662.19,-205.59\"/>\n",
       "<text text-anchor=\"middle\" x=\"1609.5\" y=\"-241.8\" font-family=\"Times,serif\" font-size=\"14.00\">205</text>\n",
       "</g>\n",
       "<!-- Inform User+complete (1102)&#45;&gt;Repair (Simple)+start (785) -->\n",
       "<g id=\"edge22\" class=\"edge\"><title>Inform User+complete (1102)&#45;&gt;Repair (Simple)+start (785)</title>\n",
       "<path fill=\"none\" stroke=\"black\" d=\"M1578.78,-309.179C1636.42,-305.26 1719.45,-297.73 1791,-284 1811.14,-280.135 1832.72,-274.55 1852.25,-268.928\"/>\n",
       "<polygon fill=\"black\" stroke=\"black\" points=\"1853.35,-272.254 1861.96,-266.083 1851.38,-265.537 1853.35,-272.254\"/>\n",
       "<text text-anchor=\"middle\" x=\"1712.5\" y=\"-307.8\" font-family=\"Times,serif\" font-size=\"14.00\">64</text>\n",
       "</g>\n",
       "<!-- Repair (Simple)+complete (785) -->\n",
       "<g id=\"node11\" class=\"node\"><title>Repair (Simple)+complete (785)</title>\n",
       "<polygon fill=\"#bae4b3\" stroke=\"#bae4b3\" points=\"2202,-409 2047,-409 2047,-373 2202,-373 2202,-409\"/>\n",
       "<text text-anchor=\"middle\" x=\"2124.5\" y=\"-388.5\" font-family=\"Helvetica,sans-Serif\" font-size=\"10.00\">Repair (Simple)+complete (785)</text>\n",
       "</g>\n",
       "<!-- Inform User+complete (1102)&#45;&gt;Repair (Simple)+complete (785) -->\n",
       "<g id=\"edge15\" class=\"edge\"><title>Inform User+complete (1102)&#45;&gt;Repair (Simple)+complete (785)</title>\n",
       "<path fill=\"none\" stroke=\"black\" d=\"M1578.92,-322.404C1585.71,-323.286 1592.48,-324.163 1599,-325 1752.95,-344.781 1932.39,-367.23 2036.46,-380.189\"/>\n",
       "<polygon fill=\"black\" stroke=\"black\" points=\"2036.25,-383.69 2046.61,-381.452 2037.12,-376.743 2036.25,-383.69\"/>\n",
       "<text text-anchor=\"middle\" x=\"1815.5\" y=\"-356.8\" font-family=\"Times,serif\" font-size=\"14.00\">159</text>\n",
       "</g>\n",
       "<!-- Inform User+complete (1102)&#45;&gt;Restart Repair+complete (406) -->\n",
       "<g id=\"edge25\" class=\"edge\"><title>Inform User+complete (1102)&#45;&gt;Restart Repair+complete (406)</title>\n",
       "<path fill=\"none\" stroke=\"black\" d=\"M1521.28,-294.721C1552.56,-253.297 1626.79,-155.429 1634,-150 1637.92,-147.049 1642.15,-144.336 1646.56,-141.851\"/>\n",
       "<polygon fill=\"black\" stroke=\"black\" points=\"1648.51,-144.778 1655.77,-137.064 1645.29,-138.565 1648.51,-144.778\"/>\n",
       "<text text-anchor=\"middle\" x=\"1609.5\" y=\"-195.8\" font-family=\"Times,serif\" font-size=\"14.00\">65</text>\n",
       "</g>\n",
       "<!-- Repair (Simple)+start (785)&#45;&gt;Inform User+complete (1102) -->\n",
       "<g id=\"edge14\" class=\"edge\"><title>Repair (Simple)+start (785)&#45;&gt;Inform User+complete (1102)</title>\n",
       "<path fill=\"none\" stroke=\"black\" d=\"M1851.48,-247.199C1793.56,-247.73 1707.37,-251.528 1634,-267 1608.09,-272.464 1580.33,-282.103 1557.44,-291.151\"/>\n",
       "<polygon fill=\"black\" stroke=\"black\" points=\"1555.91,-287.993 1547.95,-294.979 1558.53,-294.486 1555.91,-287.993\"/>\n",
       "<text text-anchor=\"middle\" x=\"1712.5\" y=\"-270.8\" font-family=\"Times,serif\" font-size=\"14.00\">159</text>\n",
       "</g>\n",
       "<!-- Repair (Simple)+start (785)&#45;&gt;Repair (Simple)+complete (785) -->\n",
       "<g id=\"edge10\" class=\"edge\"><title>Repair (Simple)+start (785)&#45;&gt;Repair (Simple)+complete (785)</title>\n",
       "<path fill=\"none\" stroke=\"black\" d=\"M1945.34,-266.111C1981.87,-291.721 2048.69,-338.562 2089.3,-367.029\"/>\n",
       "<polygon fill=\"black\" stroke=\"black\" points=\"2087.35,-369.937 2097.55,-372.811 2091.37,-364.205 2087.35,-369.937\"/>\n",
       "<text text-anchor=\"middle\" x=\"2021.5\" y=\"-326.8\" font-family=\"Times,serif\" font-size=\"14.00\">626</text>\n",
       "</g>\n",
       "<!-- Repair (Simple)+complete (785)&#45;&gt;Test Repair+start (1508) -->\n",
       "<g id=\"edge11\" class=\"edge\"><title>Repair (Simple)+complete (785)&#45;&gt;Test Repair+start (1508)</title>\n",
       "<path fill=\"none\" stroke=\"black\" d=\"M2066.37,-409.013C2055.09,-411.886 2043.25,-414.427 2032,-416 1670.82,-466.471 1576.18,-423 1211.5,-425 1199.06,-425.068 1195.91,-425.981 1183.5,-425 1178.01,-424.566 1172.34,-423.981 1166.65,-423.297\"/>\n",
       "<polygon fill=\"black\" stroke=\"black\" points=\"1166.79,-419.785 1156.42,-421.967 1165.89,-426.727 1166.79,-419.785\"/>\n",
       "<text text-anchor=\"middle\" x=\"1609.5\" y=\"-441.8\" font-family=\"Times,serif\" font-size=\"14.00\">783</text>\n",
       "</g>\n",
       "<!-- Repair (Simple)+complete (785)&#45;&gt;Inform User+complete (1102) -->\n",
       "<g id=\"edge26\" class=\"edge\"><title>Repair (Simple)+complete (785)&#45;&gt;Inform User+complete (1102)</title>\n",
       "<path fill=\"none\" stroke=\"black\" d=\"M2046.96,-397.014C2034.93,-397.402 2022.63,-397.473 2011,-397 1842.69,-390.152 1798,-396.464 1634,-358 1609.18,-352.178 1582.48,-343.117 1560.03,-334.647\"/>\n",
       "<polygon fill=\"black\" stroke=\"black\" points=\"1561.28,-331.377 1550.69,-331.064 1558.77,-337.913 1561.28,-331.377\"/>\n",
       "<text text-anchor=\"middle\" x=\"1815.5\" y=\"-392.8\" font-family=\"Times,serif\" font-size=\"14.00\">2</text>\n",
       "</g>\n",
       "<!-- Restart Repair+complete (406)&#45;&gt;Repair (Complex)+start (725) -->\n",
       "<g id=\"edge24\" class=\"edge\"><title>Restart Repair+complete (406)&#45;&gt;Repair (Complex)+start (725)</title>\n",
       "<path fill=\"none\" stroke=\"black\" d=\"M1679.04,-100.956C1639.69,-80.8104 1570.78,-51 1507.5,-51 887.5,-51 887.5,-51 887.5,-51 814.432,-51 743.827,-108.18 707.951,-142.592\"/>\n",
       "<polygon fill=\"black\" stroke=\"black\" points=\"705.111,-140.475 700.421,-149.975 710.012,-145.474 705.111,-140.475\"/>\n",
       "<text text-anchor=\"middle\" x=\"1197.5\" y=\"-54.8\" font-family=\"Times,serif\" font-size=\"14.00\">105</text>\n",
       "</g>\n",
       "<!-- Restart Repair+complete (406)&#45;&gt;Inform User+complete (1102) -->\n",
       "<g id=\"edge29\" class=\"edge\"><title>Restart Repair+complete (406)&#45;&gt;Inform User+complete (1102)</title>\n",
       "<path fill=\"none\" stroke=\"black\" d=\"M1636.87,-124.543C1622.91,-128.619 1609.44,-135.035 1599,-145 1574.62,-168.267 1593.39,-187.771 1578.5,-218 1566.03,-243.307 1546.57,-268.738 1531.17,-286.911\"/>\n",
       "<polygon fill=\"black\" stroke=\"black\" points=\"1528.31,-284.868 1524.43,-294.723 1533.61,-289.443 1528.31,-284.868\"/>\n",
       "<text text-anchor=\"middle\" x=\"1609.5\" y=\"-148.8\" font-family=\"Times,serif\" font-size=\"14.00\">1</text>\n",
       "</g>\n",
       "<!-- Restart Repair+complete (406)&#45;&gt;Repair (Simple)+start (785) -->\n",
       "<g id=\"edge13\" class=\"edge\"><title>Restart Repair+complete (406)&#45;&gt;Repair (Simple)+start (785)</title>\n",
       "<path fill=\"none\" stroke=\"black\" d=\"M1764.48,-137.03C1773.53,-140.888 1782.7,-145.249 1791,-150 1827.61,-170.953 1865.29,-201.525 1889.9,-222.936\"/>\n",
       "<polygon fill=\"black\" stroke=\"black\" points=\"1887.9,-225.84 1897.72,-229.818 1892.52,-220.585 1887.9,-225.84\"/>\n",
       "<text text-anchor=\"middle\" x=\"1815.5\" y=\"-174.8\" font-family=\"Times,serif\" font-size=\"14.00\">300</text>\n",
       "</g>\n",
       "</g>\n",
       "</svg>\n"
      ],
      "text/plain": [
       "<graphviz.dot.Digraph at 0x7fdbf24f9f70>"
      ]
     },
     "execution_count": 83,
     "metadata": {},
     "output_type": "execute_result"
    }
   ],
   "source": [
    "draw_dfg(d2, \"d2\", 0, save=False, lifecycle_present=True)"
   ]
  },
  {
   "cell_type": "code",
   "execution_count": null,
   "metadata": {
    "colab": {
     "base_uri": "https://localhost:8080/"
    },
    "id": "2Ofmmsxizehq",
    "outputId": "f8005753-5f97-4f84-e50c-a5c1568dd60a"
   },
   "outputs": [
    {
     "name": "stdout",
     "output_type": "stream",
     "text": [
      "Concept name of the trace: 190\n",
      "Events belonging to this trace:\n",
      "{'concept:instance': 'instance 1',\n",
      " 'concept:name': 'Register',\n",
      " 'lifecycle:transition': 'complete',\n",
      " 'org:group': 'Group -',\n",
      " 'org:resource': 'System',\n",
      " 'time:timestamp': datetime.datetime(1970, 1, 8, 6, 39, 51, 325000, tzinfo=datetime.timezone(datetime.timedelta(0, 3600)))}\n",
      "\n",
      "{'concept:instance': 'instance 1',\n",
      " 'concept:name': 'Analyze Defect',\n",
      " 'lifecycle:transition': 'start',\n",
      " 'org:group': 'Groups 2 and 4',\n",
      " 'org:resource': 'Tester3',\n",
      " 'org:role': 'Role 9',\n",
      " 'time:timestamp': datetime.datetime(1970, 1, 8, 6, 42, 18, 603000, tzinfo=datetime.timezone(datetime.timedelta(0, 3600)))}\n",
      "\n",
      "{'concept:instance': 'instance 1',\n",
      " 'concept:name': 'Analyze Defect',\n",
      " 'lifecycle:transition': 'complete',\n",
      " 'org:group': 'Groups 2 and 4',\n",
      " 'org:resource': 'Tester3',\n",
      " 'org:role': 'Role 9',\n",
      " 'time:timestamp': datetime.datetime(1970, 1, 8, 6, 51, 11, 283000, tzinfo=datetime.timezone(datetime.timedelta(0, 3600)))}\n",
      "\n",
      "{'concept:instance': 'instance 1',\n",
      " 'concept:name': 'Inform User',\n",
      " 'lifecycle:transition': 'complete',\n",
      " 'org:group': 'Group -',\n",
      " 'org:resource': 'System',\n",
      " 'time:timestamp': datetime.datetime(1970, 1, 8, 7, 11, 24, 236000, tzinfo=datetime.timezone(datetime.timedelta(0, 3600)))}\n",
      "\n",
      "{'concept:instance': 'instance 1',\n",
      " 'concept:name': 'Repair (Complex)',\n",
      " 'lifecycle:transition': 'start',\n",
      " 'org:group': 'Groups 1, 3, and 5',\n",
      " 'org:resource': 'SolverC1',\n",
      " 'org:role': 'Role 10',\n",
      " 'time:timestamp': datetime.datetime(1970, 1, 8, 7, 17, 50, 607000, tzinfo=datetime.timezone(datetime.timedelta(0, 3600)))}\n",
      "\n",
      "{'concept:instance': 'instance 1',\n",
      " 'concept:name': 'Repair (Complex)',\n",
      " 'lifecycle:transition': 'complete',\n",
      " 'org:group': 'Groups 1, 3, and 5',\n",
      " 'org:resource': 'SolverC1',\n",
      " 'org:role': 'Role 10',\n",
      " 'time:timestamp': datetime.datetime(1970, 1, 8, 7, 30, 18, 378000, tzinfo=datetime.timezone(datetime.timedelta(0, 3600)))}\n",
      "\n",
      "{'concept:instance': 'instance 1',\n",
      " 'concept:name': 'Test Repair',\n",
      " 'lifecycle:transition': 'start',\n",
      " 'org:group': 'Groups 2 and 4',\n",
      " 'org:resource': 'Tester5',\n",
      " 'org:role': 'Role 9',\n",
      " 'time:timestamp': datetime.datetime(1970, 1, 8, 7, 33, 18, 33000, tzinfo=datetime.timezone(datetime.timedelta(0, 3600)))}\n",
      "\n",
      "{'concept:instance': 'instance 1',\n",
      " 'concept:name': 'Test Repair',\n",
      " 'lifecycle:transition': 'complete',\n",
      " 'org:group': 'Groups 2 and 4',\n",
      " 'org:resource': 'Tester5',\n",
      " 'org:role': 'Role 9',\n",
      " 'time:timestamp': datetime.datetime(1970, 1, 8, 7, 44, 19, 747000, tzinfo=datetime.timezone(datetime.timedelta(0, 3600)))}\n",
      "\n",
      "{'concept:instance': 'instance 1',\n",
      " 'concept:name': 'Archive Repair',\n",
      " 'lifecycle:transition': 'complete',\n",
      " 'org:group': 'Group -',\n",
      " 'org:resource': 'System',\n",
      " 'time:timestamp': datetime.datetime(1970, 1, 8, 7, 51, 32, 69000, tzinfo=datetime.timezone(datetime.timedelta(0, 3600)))}\n",
      "\n"
     ]
    }
   ],
   "source": [
    "#print random trace\n",
    "idx = random.randint(0, len(d2.traces)-1)\n",
    "\n",
    "print('Concept name of the trace:', d2.traces[idx]['concept:name'])\n",
    "print('Events belonging to this trace:')\n",
    "for event in d2.get_traces()[idx]:\n",
    "  pprint(event)\n",
    "  print()"
   ]
  },
  {
   "cell_type": "code",
   "execution_count": null,
   "metadata": {
    "colab": {
     "base_uri": "https://localhost:8080/"
    },
    "id": "iMOcrcht1jA3",
    "outputId": "5c666d09-b2d1-4bbe-9816-5e907595ed10"
   },
   "outputs": [
    {
     "data": {
      "text/plain": [
       "{'(Name AND Transition)': ['concept:name', 'lifecycle:transition']}"
      ]
     },
     "execution_count": 56,
     "metadata": {
      "tags": []
     },
     "output_type": "execute_result"
    }
   ],
   "source": [
    "d2.classifiers"
   ]
  },
  {
   "cell_type": "code",
   "execution_count": null,
   "metadata": {
    "colab": {
     "base_uri": "https://localhost:8080/"
    },
    "id": "3wflvU-pJQcz",
    "outputId": "73757bc9-96c0-4fad-ab41-9a580d9e91d2"
   },
   "outputs": [
    {
     "data": {
      "text/plain": [
       "True"
      ]
     },
     "execution_count": 57,
     "metadata": {
      "tags": []
     },
     "output_type": "execute_result"
    }
   ],
   "source": [
    "#build the set of event that is equal to the first event by our classifier\n",
    "first_classifier = list(d2.classifiers.keys())[0]\n",
    "equal_events = d2.filter_by_classifier(d2.events[0], first_classifier)\n",
    "verify_filter_by_classifier(d2, equal_events, first_classifier)"
   ]
  },
  {
   "cell_type": "code",
   "execution_count": 41,
   "metadata": {
    "colab": {
     "base_uri": "https://localhost:8080/"
    },
    "id": "yqOnSYqISSbO",
    "outputId": "9d9e57af-748e-4d38-8066-68a96db85f9e"
   },
   "outputs": [
    {
     "name": "stdout",
     "output_type": "stream",
     "text": [
      "Concept name of the trace: 190\n",
      "Events belonging to this trace:\n",
      "{'concept:instance': 'instance 1',\n",
      " 'concept:name': 'Register',\n",
      " 'lifecycle:transition': 'complete',\n",
      " 'org:group': 'Group -',\n",
      " 'org:resource': 'System',\n",
      " 'time:timestamp': datetime.datetime(1970, 1, 8, 6, 39, 51, 325000, tzinfo=datetime.timezone(datetime.timedelta(seconds=3600)))}\n",
      "\n",
      "{'concept:instance': 'instance 1',\n",
      " 'concept:name': 'Analyze Defect',\n",
      " 'lifecycle:transition': 'start',\n",
      " 'org:group': 'Groups 2 and 4',\n",
      " 'org:resource': 'Tester3',\n",
      " 'org:role': 'Role 9',\n",
      " 'time:timestamp': datetime.datetime(1970, 1, 8, 6, 42, 18, 603000, tzinfo=datetime.timezone(datetime.timedelta(seconds=3600)))}\n",
      "\n",
      "{'concept:instance': 'instance 1',\n",
      " 'concept:name': 'Analyze Defect',\n",
      " 'lifecycle:transition': 'complete',\n",
      " 'org:group': 'Groups 2 and 4',\n",
      " 'org:resource': 'Tester3',\n",
      " 'org:role': 'Role 9',\n",
      " 'time:timestamp': datetime.datetime(1970, 1, 8, 6, 51, 11, 283000, tzinfo=datetime.timezone(datetime.timedelta(seconds=3600)))}\n",
      "\n",
      "{'concept:instance': 'instance 1',\n",
      " 'concept:name': 'Inform User',\n",
      " 'lifecycle:transition': 'complete',\n",
      " 'org:group': 'Group -',\n",
      " 'org:resource': 'System',\n",
      " 'time:timestamp': datetime.datetime(1970, 1, 8, 7, 11, 24, 236000, tzinfo=datetime.timezone(datetime.timedelta(seconds=3600)))}\n",
      "\n",
      "{'concept:instance': 'instance 1',\n",
      " 'concept:name': 'Repair (Complex)',\n",
      " 'lifecycle:transition': 'start',\n",
      " 'org:group': 'Groups 1, 3, and 5',\n",
      " 'org:resource': 'SolverC1',\n",
      " 'org:role': 'Role 10',\n",
      " 'time:timestamp': datetime.datetime(1970, 1, 8, 7, 17, 50, 607000, tzinfo=datetime.timezone(datetime.timedelta(seconds=3600)))}\n",
      "\n",
      "{'concept:instance': 'instance 1',\n",
      " 'concept:name': 'Repair (Complex)',\n",
      " 'lifecycle:transition': 'complete',\n",
      " 'org:group': 'Groups 1, 3, and 5',\n",
      " 'org:resource': 'SolverC1',\n",
      " 'org:role': 'Role 10',\n",
      " 'time:timestamp': datetime.datetime(1970, 1, 8, 7, 30, 18, 378000, tzinfo=datetime.timezone(datetime.timedelta(seconds=3600)))}\n",
      "\n",
      "{'concept:instance': 'instance 1',\n",
      " 'concept:name': 'Test Repair',\n",
      " 'lifecycle:transition': 'start',\n",
      " 'org:group': 'Groups 2 and 4',\n",
      " 'org:resource': 'Tester5',\n",
      " 'org:role': 'Role 9',\n",
      " 'time:timestamp': datetime.datetime(1970, 1, 8, 7, 33, 18, 33000, tzinfo=datetime.timezone(datetime.timedelta(seconds=3600)))}\n",
      "\n",
      "{'concept:instance': 'instance 1',\n",
      " 'concept:name': 'Test Repair',\n",
      " 'lifecycle:transition': 'complete',\n",
      " 'org:group': 'Groups 2 and 4',\n",
      " 'org:resource': 'Tester5',\n",
      " 'org:role': 'Role 9',\n",
      " 'time:timestamp': datetime.datetime(1970, 1, 8, 7, 44, 19, 747000, tzinfo=datetime.timezone(datetime.timedelta(seconds=3600)))}\n",
      "\n",
      "{'concept:instance': 'instance 1',\n",
      " 'concept:name': 'Archive Repair',\n",
      " 'lifecycle:transition': 'complete',\n",
      " 'org:group': 'Group -',\n",
      " 'org:resource': 'System',\n",
      " 'time:timestamp': datetime.datetime(1970, 1, 8, 7, 51, 32, 69000, tzinfo=datetime.timezone(datetime.timedelta(seconds=3600)))}\n",
      "\n"
     ]
    }
   ],
   "source": [
    "trace_id = case_ids_['d2']\n",
    "print_specific_case2(d2, trace_id)"
   ]
  },
  {
   "cell_type": "markdown",
   "metadata": {
    "id": "EuxlvZ_BTrbR"
   },
   "source": [
    "### X1"
   ]
  },
  {
   "cell_type": "code",
   "execution_count": 84,
   "metadata": {
    "colab": {
     "base_uri": "https://localhost:8080/"
    },
    "id": "jvpH0WQSTYIc",
    "outputId": "ff26c7a8-c6da-49df-ad9f-ab3db0f95240"
   },
   "outputs": [
    {
     "name": "stderr",
     "output_type": "stream",
     "text": [
      "10627it [00:00, 106260.73it/s]"
     ]
    },
    {
     "name": "stdout",
     "output_type": "stream",
     "text": [
      "Processing log...\n"
     ]
    },
    {
     "name": "stderr",
     "output_type": "stream",
     "text": [
      "220036it [00:01, 129465.08it/s]\n"
     ]
    }
   ],
   "source": [
    "x1 = xes.import_xes(px1)"
   ]
  },
  {
   "cell_type": "code",
   "execution_count": 85,
   "metadata": {
    "colab": {
     "base_uri": "https://localhost:8080/"
    },
    "id": "XBUPva19JcqK",
    "outputId": "50834274-019b-4e37-b970-6c433c8025e3"
   },
   "outputs": [
    {
     "name": "stdout",
     "output_type": "stream",
     "text": [
      "{'ITEMS:41, #1, o.1.1': 'Roles 1, 2, and 3',\n",
      " 'Key 1': 'Repair (Simple)',\n",
      " 'Key 2': 'instance 2',\n",
      " 'Key 3': 'SolverS2',\n",
      " 'Key 4': datetime.datetime(1970, 1, 1, 13, 44, 2, 661000, tzinfo=datetime.timezone(datetime.timedelta(seconds=3600))),\n",
      " 'Key 6': 'complete',\n",
      " 'case:id': 2,\n",
      " '{0,1,2} 2Sa!! +1 &lt;x&gt;': 'Groups 1, 3, and 5'}\n"
     ]
    }
   ],
   "source": [
    "#print random event\n",
    "idx = random.randint(0, len(x1.traces)-1)\n",
    "pprint(x1.events[idx])"
   ]
  },
  {
   "cell_type": "code",
   "execution_count": null,
   "metadata": {
    "cellView": "code",
    "colab": {
     "base_uri": "https://localhost:8080/"
    },
    "id": "12omJVi7GufK",
    "outputId": "c3bcb9bb-a03f-42ee-8cb0-8ade29f4a25a"
   },
   "outputs": [
    {
     "name": "stdout",
     "output_type": "stream",
     "text": [
      "Concept name of the trace: 858\n",
      "Events belonging to this trace:\n",
      "{'Key 1': 'Register',\n",
      " 'Key 2': 'instance 1',\n",
      " 'Key 3': 'System',\n",
      " 'Key 4': datetime.datetime(1970, 2, 24, 0, 40, 23, 584000, tzinfo=datetime.timezone(datetime.timedelta(0, 3600))),\n",
      " 'Key 6': 'complete',\n",
      " 'numberRepairs': 1,\n",
      " '{0,1,2} 2Sa!! +1 &lt;x&gt;': 'Group -'}\n",
      "\n",
      "{'ITEMS:41, #1, o.1.1': 'Role 9',\n",
      " 'Key 1': 'Analyze Defect',\n",
      " 'Key 2': 'instance 1',\n",
      " 'Key 3': 'Tester2',\n",
      " 'Key 4': datetime.datetime(1970, 2, 24, 0, 45, 58, 751000, tzinfo=datetime.timezone(datetime.timedelta(0, 3600))),\n",
      " 'Key 6': 'start',\n",
      " 'numberRepairs': 2,\n",
      " '{0,1,2} 2Sa!! +1 &lt;x&gt;': 'Groups 2 and 4'}\n",
      "\n",
      "{'ITEMS:41, #1, o.1.1': 'Role 9',\n",
      " 'Key 1': 'Analyze Defect',\n",
      " 'Key 2': 'instance 1',\n",
      " 'Key 3': 'Tester2',\n",
      " 'Key 4': datetime.datetime(1970, 2, 24, 0, 58, 37, 791000, tzinfo=datetime.timezone(datetime.timedelta(0, 3600))),\n",
      " 'Key 6': 'complete',\n",
      " 'defectType': 10,\n",
      " 'numberRepairs': 3,\n",
      " 'phoneType': 'T2',\n",
      " '{0,1,2} 2Sa!! +1 &lt;x&gt;': 'Groups 2 and 4'}\n",
      "\n",
      "{'ITEMS:41, #1, o.1.1': 'Role 10',\n",
      " 'Key 1': 'Repair (Complex)',\n",
      " 'Key 2': 'instance 1',\n",
      " 'Key 3': 'SolverC2',\n",
      " 'Key 4': datetime.datetime(1970, 2, 24, 1, 25, 12, 105000, tzinfo=datetime.timezone(datetime.timedelta(0, 3600))),\n",
      " 'Key 6': 'start',\n",
      " 'numberRepairs': 4,\n",
      " '{0,1,2} 2Sa!! +1 &lt;x&gt;': 'Groups 1, 3, and 5'}\n",
      "\n",
      "{'Key 1': 'Inform User',\n",
      " 'Key 2': 'instance 1',\n",
      " 'Key 3': 'System',\n",
      " 'Key 4': datetime.datetime(1970, 2, 24, 1, 33, 42, 294000, tzinfo=datetime.timezone(datetime.timedelta(0, 3600))),\n",
      " 'Key 6': 'complete',\n",
      " 'numberRepairs': 5,\n",
      " '{0,1,2} 2Sa!! +1 &lt;x&gt;': 'Group -'}\n",
      "\n",
      "{'ITEMS:41, #1, o.1.1': 'Role 10',\n",
      " 'Key 1': 'Repair (Complex)',\n",
      " 'Key 2': 'instance 1',\n",
      " 'Key 3': 'SolverC2',\n",
      " 'Key 4': datetime.datetime(1970, 2, 24, 1, 50, 25, 102000, tzinfo=datetime.timezone(datetime.timedelta(0, 3600))),\n",
      " 'Key 6': 'complete',\n",
      " 'numberRepairs': 6,\n",
      " '{0,1,2} 2Sa!! +1 &lt;x&gt;': 'Groups 1, 3, and 5'}\n",
      "\n",
      "{'ITEMS:41, #1, o.1.1': 'Role 9',\n",
      " 'Key 1': 'Test Repair',\n",
      " 'Key 2': 'instance 1',\n",
      " 'Key 3': 'Tester1',\n",
      " 'Key 4': datetime.datetime(1970, 2, 24, 1, 55, 25, 512000, tzinfo=datetime.timezone(datetime.timedelta(0, 3600))),\n",
      " 'Key 6': 'start',\n",
      " 'numberRepairs': 7,\n",
      " '{0,1,2} 2Sa!! +1 &lt;x&gt;': 'Groups 2 and 4'}\n",
      "\n",
      "{'ITEMS:41, #1, o.1.1': 'Role 9',\n",
      " 'Key 1': 'Test Repair',\n",
      " 'Key 2': 'instance 1',\n",
      " 'Key 3': 'Tester1',\n",
      " 'Key 4': datetime.datetime(1970, 2, 24, 2, 8, 37, 74000, tzinfo=datetime.timezone(datetime.timedelta(0, 3600))),\n",
      " 'Key 6': 'complete',\n",
      " 'defectFixed': True,\n",
      " 'numberRepairs': '0',\n",
      " '{0,1,2} 2Sa!! +1 &lt;x&gt;': 'Groups 2 and 4'}\n",
      "\n",
      "{'Key 1': 'Archive Repair',\n",
      " 'Key 2': 'instance 1',\n",
      " 'Key 3': 'System',\n",
      " 'Key 4': datetime.datetime(1970, 2, 24, 2, 21, 56, 885000, tzinfo=datetime.timezone(datetime.timedelta(0, 3600))),\n",
      " 'Key 6': 'complete',\n",
      " 'defectFixed': True,\n",
      " 'numberRepairs': '0',\n",
      " '{0,1,2} 2Sa!! +1 &lt;x&gt;': 'Group -'}\n",
      "\n"
     ]
    }
   ],
   "source": [
    "#@title Default title text\n",
    "#print random trace\n",
    "idx = random.randint(0, len(x1.traces)-1)\n",
    "\n",
    "print('Concept name of the trace:', x1.traces[idx]['concept:name'])\n",
    "print('Events belonging to this trace:')\n",
    "for event in x1.get_traces()[idx]:\n",
    "  pprint(event)\n",
    "  print()"
   ]
  },
  {
   "cell_type": "code",
   "execution_count": 43,
   "metadata": {
    "colab": {
     "base_uri": "https://localhost:8080/"
    },
    "id": "Tsi2PYh9Shgv",
    "outputId": "fa16822f-4556-4562-aeed-321085f8349b"
   },
   "outputs": [
    {
     "name": "stdout",
     "output_type": "stream",
     "text": [
      "Concept name of the trace: 858\n",
      "Events belonging to this trace:\n",
      "{'Key 1': 'Register',\n",
      " 'Key 2': 'instance 1',\n",
      " 'Key 3': 'System',\n",
      " 'Key 4': datetime.datetime(1970, 2, 24, 0, 40, 23, 584000, tzinfo=datetime.timezone(datetime.timedelta(seconds=3600))),\n",
      " 'Key 6': 'complete',\n",
      " 'numberRepairs': 1,\n",
      " '{0,1,2} 2Sa!! +1 &lt;x&gt;': 'Group -'}\n",
      "\n",
      "{'ITEMS:41, #1, o.1.1': 'Role 9',\n",
      " 'Key 1': 'Analyze Defect',\n",
      " 'Key 2': 'instance 1',\n",
      " 'Key 3': 'Tester2',\n",
      " 'Key 4': datetime.datetime(1970, 2, 24, 0, 45, 58, 751000, tzinfo=datetime.timezone(datetime.timedelta(seconds=3600))),\n",
      " 'Key 6': 'start',\n",
      " 'numberRepairs': 2,\n",
      " '{0,1,2} 2Sa!! +1 &lt;x&gt;': 'Groups 2 and 4'}\n",
      "\n",
      "{'ITEMS:41, #1, o.1.1': 'Role 9',\n",
      " 'Key 1': 'Analyze Defect',\n",
      " 'Key 2': 'instance 1',\n",
      " 'Key 3': 'Tester2',\n",
      " 'Key 4': datetime.datetime(1970, 2, 24, 0, 58, 37, 791000, tzinfo=datetime.timezone(datetime.timedelta(seconds=3600))),\n",
      " 'Key 6': 'complete',\n",
      " 'defectType': 10,\n",
      " 'numberRepairs': 3,\n",
      " 'phoneType': 'T2',\n",
      " '{0,1,2} 2Sa!! +1 &lt;x&gt;': 'Groups 2 and 4'}\n",
      "\n",
      "{'ITEMS:41, #1, o.1.1': 'Role 10',\n",
      " 'Key 1': 'Repair (Complex)',\n",
      " 'Key 2': 'instance 1',\n",
      " 'Key 3': 'SolverC2',\n",
      " 'Key 4': datetime.datetime(1970, 2, 24, 1, 25, 12, 105000, tzinfo=datetime.timezone(datetime.timedelta(seconds=3600))),\n",
      " 'Key 6': 'start',\n",
      " 'numberRepairs': 4,\n",
      " '{0,1,2} 2Sa!! +1 &lt;x&gt;': 'Groups 1, 3, and 5'}\n",
      "\n",
      "{'Key 1': 'Inform User',\n",
      " 'Key 2': 'instance 1',\n",
      " 'Key 3': 'System',\n",
      " 'Key 4': datetime.datetime(1970, 2, 24, 1, 33, 42, 294000, tzinfo=datetime.timezone(datetime.timedelta(seconds=3600))),\n",
      " 'Key 6': 'complete',\n",
      " 'numberRepairs': 5,\n",
      " '{0,1,2} 2Sa!! +1 &lt;x&gt;': 'Group -'}\n",
      "\n",
      "{'ITEMS:41, #1, o.1.1': 'Role 10',\n",
      " 'Key 1': 'Repair (Complex)',\n",
      " 'Key 2': 'instance 1',\n",
      " 'Key 3': 'SolverC2',\n",
      " 'Key 4': datetime.datetime(1970, 2, 24, 1, 50, 25, 102000, tzinfo=datetime.timezone(datetime.timedelta(seconds=3600))),\n",
      " 'Key 6': 'complete',\n",
      " 'numberRepairs': 6,\n",
      " '{0,1,2} 2Sa!! +1 &lt;x&gt;': 'Groups 1, 3, and 5'}\n",
      "\n",
      "{'ITEMS:41, #1, o.1.1': 'Role 9',\n",
      " 'Key 1': 'Test Repair',\n",
      " 'Key 2': 'instance 1',\n",
      " 'Key 3': 'Tester1',\n",
      " 'Key 4': datetime.datetime(1970, 2, 24, 1, 55, 25, 512000, tzinfo=datetime.timezone(datetime.timedelta(seconds=3600))),\n",
      " 'Key 6': 'start',\n",
      " 'numberRepairs': 7,\n",
      " '{0,1,2} 2Sa!! +1 &lt;x&gt;': 'Groups 2 and 4'}\n",
      "\n",
      "{'ITEMS:41, #1, o.1.1': 'Role 9',\n",
      " 'Key 1': 'Test Repair',\n",
      " 'Key 2': 'instance 1',\n",
      " 'Key 3': 'Tester1',\n",
      " 'Key 4': datetime.datetime(1970, 2, 24, 2, 8, 37, 74000, tzinfo=datetime.timezone(datetime.timedelta(seconds=3600))),\n",
      " 'Key 6': 'complete',\n",
      " 'defectFixed': True,\n",
      " 'numberRepairs': '0',\n",
      " '{0,1,2} 2Sa!! +1 &lt;x&gt;': 'Groups 2 and 4'}\n",
      "\n",
      "{'Key 1': 'Archive Repair',\n",
      " 'Key 2': 'instance 1',\n",
      " 'Key 3': 'System',\n",
      " 'Key 4': datetime.datetime(1970, 2, 24, 2, 21, 56, 885000, tzinfo=datetime.timezone(datetime.timedelta(seconds=3600))),\n",
      " 'Key 6': 'complete',\n",
      " 'defectFixed': True,\n",
      " 'numberRepairs': '0',\n",
      " '{0,1,2} 2Sa!! +1 &lt;x&gt;': 'Group -'}\n",
      "\n"
     ]
    }
   ],
   "source": [
    "trace_id = case_ids_['x1']\n",
    "print_specific_case2(x1, trace_id)"
   ]
  },
  {
   "cell_type": "markdown",
   "metadata": {
    "id": "_41UO9RT1ojd"
   },
   "source": [
    "### X2"
   ]
  },
  {
   "cell_type": "code",
   "execution_count": 87,
   "metadata": {
    "colab": {
     "base_uri": "https://localhost:8080/"
    },
    "id": "XOvOIegJTX61",
    "outputId": "b247eb06-9a4a-4060-b6bf-e74d597972b8"
   },
   "outputs": [
    {
     "name": "stderr",
     "output_type": "stream",
     "text": [
      "10400it [00:00, 103985.72it/s]"
     ]
    },
    {
     "name": "stdout",
     "output_type": "stream",
     "text": [
      "Processing log...\n"
     ]
    },
    {
     "name": "stderr",
     "output_type": "stream",
     "text": [
      "220038it [00:01, 137101.13it/s]\n"
     ]
    }
   ],
   "source": [
    "x2 = xes.import_xes(px2)"
   ]
  },
  {
   "cell_type": "code",
   "execution_count": 88,
   "metadata": {
    "colab": {
     "base_uri": "https://localhost:8080/"
    },
    "id": "G6opJpI4KIvX",
    "outputId": "0b01afd1-919f-4454-c48e-71ee5508a153"
   },
   "outputs": [
    {
     "name": "stdout",
     "output_type": "stream",
     "text": [
      "{'ITEMS:41, #1, o.1.1': 'Role 10',\n",
      " 'Key 1': 'Repair (Complex)',\n",
      " 'Key 2': 'instance 1',\n",
      " 'Key 3': 'SolverC1',\n",
      " 'Key 4': datetime.datetime(1970, 1, 25, 3, 15, 18, 728000, tzinfo=datetime.timezone(datetime.timedelta(seconds=3600))),\n",
      " 'Key 6': 'start',\n",
      " 'case:id': 56,\n",
      " '{0,1,2} 2Sa!! +1 &lt;x&gt;': 'Groups 1, 3, and 5'}\n"
     ]
    }
   ],
   "source": [
    "#print random event\n",
    "idx = random.randint(0, len(x2.traces)-1)\n",
    "pprint(x2.events[idx])"
   ]
  },
  {
   "cell_type": "code",
   "execution_count": 90,
   "metadata": {},
   "outputs": [
    {
     "data": {
      "image/svg+xml": [
       "<?xml version=\"1.0\" encoding=\"UTF-8\" standalone=\"no\"?>\n",
       "<!DOCTYPE svg PUBLIC \"-//W3C//DTD SVG 1.1//EN\"\n",
       " \"http://www.w3.org/Graphics/SVG/1.1/DTD/svg11.dtd\">\n",
       "<!-- Generated by graphviz version 2.38.0 (20140413.2041)\n",
       " -->\n",
       "<!-- Title: x2 Pages: 1 -->\n",
       "<svg width=\"2210pt\" height=\"640pt\"\n",
       " viewBox=\"0.00 0.00 2210.00 640.00\" xmlns=\"http://www.w3.org/2000/svg\" xmlns:xlink=\"http://www.w3.org/1999/xlink\">\n",
       "<g id=\"graph0\" class=\"graph\" transform=\"scale(1 1) rotate(0) translate(4 636)\">\n",
       "<title>x2</title>\n",
       "<polygon fill=\"white\" stroke=\"none\" points=\"-4,4 -4,-636 2206,-636 2206,4 -4,4\"/>\n",
       "<!-- Register+complete (1104) -->\n",
       "<g id=\"node1\" class=\"node\"><title>Register+complete (1104)</title>\n",
       "<polygon fill=\"#74c476\" stroke=\"#74c476\" points=\"129,-186 0,-186 0,-150 129,-150 129,-186\"/>\n",
       "<text text-anchor=\"middle\" x=\"64.5\" y=\"-165.5\" font-family=\"Helvetica,sans-Serif\" font-size=\"10.00\">Register+complete (1104)</text>\n",
       "</g>\n",
       "<!-- Analyze Defect+start (1104) -->\n",
       "<g id=\"node2\" class=\"node\"><title>Analyze Defect+start (1104)</title>\n",
       "<polygon fill=\"#74c476\" stroke=\"#74c476\" points=\"340.5,-186 200.5,-186 200.5,-150 340.5,-150 340.5,-186\"/>\n",
       "<text text-anchor=\"middle\" x=\"270.5\" y=\"-165.5\" font-family=\"Helvetica,sans-Serif\" font-size=\"10.00\">Analyze Defect+start (1104)</text>\n",
       "</g>\n",
       "<!-- Register+complete (1104)&#45;&gt;Analyze Defect+start (1104) -->\n",
       "<g id=\"edge1\" class=\"edge\"><title>Register+complete (1104)&#45;&gt;Analyze Defect+start (1104)</title>\n",
       "<path fill=\"none\" stroke=\"black\" d=\"M129.208,-168C148.51,-168 169.952,-168 190.146,-168\"/>\n",
       "<polygon fill=\"black\" stroke=\"black\" points=\"190.259,-171.5 200.259,-168 190.259,-164.5 190.259,-171.5\"/>\n",
       "<text text-anchor=\"middle\" x=\"167.5\" y=\"-171.8\" font-family=\"Times,serif\" font-size=\"14.00\">1104</text>\n",
       "</g>\n",
       "<!-- Analyze Defect+complete (1104) -->\n",
       "<g id=\"node3\" class=\"node\"><title>Analyze Defect+complete (1104)</title>\n",
       "<polygon fill=\"#74c476\" stroke=\"#74c476\" points=\"556.5,-186 396.5,-186 396.5,-150 556.5,-150 556.5,-186\"/>\n",
       "<text text-anchor=\"middle\" x=\"476.5\" y=\"-165.5\" font-family=\"Helvetica,sans-Serif\" font-size=\"10.00\">Analyze Defect+complete (1104)</text>\n",
       "</g>\n",
       "<!-- Analyze Defect+start (1104)&#45;&gt;Analyze Defect+complete (1104) -->\n",
       "<g id=\"edge2\" class=\"edge\"><title>Analyze Defect+start (1104)&#45;&gt;Analyze Defect+complete (1104)</title>\n",
       "<path fill=\"none\" stroke=\"black\" d=\"M340.565,-168C355.262,-168 370.981,-168 386.308,-168\"/>\n",
       "<polygon fill=\"black\" stroke=\"black\" points=\"386.309,-171.5 396.309,-168 386.309,-164.5 386.309,-171.5\"/>\n",
       "<text text-anchor=\"middle\" x=\"373.5\" y=\"-171.8\" font-family=\"Times,serif\" font-size=\"14.00\">1104</text>\n",
       "</g>\n",
       "<!-- Repair (Complex)+start (725) -->\n",
       "<g id=\"node4\" class=\"node\"><title>Repair (Complex)+start (725)</title>\n",
       "<polygon fill=\"#bae4b3\" stroke=\"#bae4b3\" points=\"754,-186 611,-186 611,-150 754,-150 754,-186\"/>\n",
       "<text text-anchor=\"middle\" x=\"682.5\" y=\"-165.5\" font-family=\"Helvetica,sans-Serif\" font-size=\"10.00\">Repair (Complex)+start (725)</text>\n",
       "</g>\n",
       "<!-- Analyze Defect+complete (1104)&#45;&gt;Repair (Complex)+start (725) -->\n",
       "<g id=\"edge3\" class=\"edge\"><title>Analyze Defect+complete (1104)&#45;&gt;Repair (Complex)+start (725)</title>\n",
       "<path fill=\"none\" stroke=\"black\" d=\"M556.664,-168C570.993,-168 585.957,-168 600.342,-168\"/>\n",
       "<polygon fill=\"black\" stroke=\"black\" points=\"600.698,-171.5 610.698,-168 600.698,-164.5 600.698,-171.5\"/>\n",
       "<text text-anchor=\"middle\" x=\"579.5\" y=\"-171.8\" font-family=\"Times,serif\" font-size=\"14.00\">528</text>\n",
       "</g>\n",
       "<!-- Inform User+complete (1102) -->\n",
       "<g id=\"node8\" class=\"node\"><title>Inform User+complete (1102)</title>\n",
       "<polygon fill=\"#74c476\" stroke=\"#74c476\" points=\"1578.5,-331 1434.5,-331 1434.5,-295 1578.5,-295 1578.5,-331\"/>\n",
       "<text text-anchor=\"middle\" x=\"1506.5\" y=\"-310.5\" font-family=\"Helvetica,sans-Serif\" font-size=\"10.00\">Inform User+complete (1102)</text>\n",
       "</g>\n",
       "<!-- Analyze Defect+complete (1104)&#45;&gt;Inform User+complete (1102) -->\n",
       "<g id=\"edge21\" class=\"edge\"><title>Analyze Defect+complete (1104)&#45;&gt;Inform User+complete (1102)</title>\n",
       "<path fill=\"none\" stroke=\"black\" d=\"M477.275,-186.157C477.259,-270.158 488.855,-617 681.5,-617 681.5,-617 681.5,-617 1301.5,-617 1358.17,-617 1376.64,-599.61 1414,-557 1470.41,-492.663 1493.41,-390.218 1501.58,-341.083\"/>\n",
       "<polygon fill=\"black\" stroke=\"black\" points=\"1505.04,-341.588 1503.14,-331.165 1498.13,-340.496 1505.04,-341.588\"/>\n",
       "<text text-anchor=\"middle\" x=\"991.5\" y=\"-620.8\" font-family=\"Times,serif\" font-size=\"14.00\">155</text>\n",
       "</g>\n",
       "<!-- Repair (Simple)+start (785) -->\n",
       "<g id=\"node10\" class=\"node\"><title>Repair (Simple)+start (785)</title>\n",
       "<polygon fill=\"#bae4b3\" stroke=\"#bae4b3\" points=\"1985.5,-266 1851.5,-266 1851.5,-230 1985.5,-230 1985.5,-266\"/>\n",
       "<text text-anchor=\"middle\" x=\"1918.5\" y=\"-245.5\" font-family=\"Helvetica,sans-Serif\" font-size=\"10.00\">Repair (Simple)+start (785)</text>\n",
       "</g>\n",
       "<!-- Analyze Defect+complete (1104)&#45;&gt;Repair (Simple)+start (785) -->\n",
       "<g id=\"edge9\" class=\"edge\"><title>Analyze Defect+complete (1104)&#45;&gt;Repair (Simple)+start (785)</title>\n",
       "<path fill=\"none\" stroke=\"black\" d=\"M487.94,-149.701C514.297,-106.159 588.133,-0 681.5,-0 681.5,-0 681.5,-0 1713.5,-0 1826.48,-0 1888.43,-155.418 1909.34,-220.185\"/>\n",
       "<polygon fill=\"black\" stroke=\"black\" points=\"1906.01,-221.27 1912.34,-229.764 1912.69,-219.175 1906.01,-221.27\"/>\n",
       "<text text-anchor=\"middle\" x=\"1197.5\" y=\"-3.8\" font-family=\"Times,serif\" font-size=\"14.00\">421</text>\n",
       "</g>\n",
       "<!-- Repair (Complex)+complete (724) -->\n",
       "<g id=\"node5\" class=\"node\"><title>Repair (Complex)+complete (724)</title>\n",
       "<polygon fill=\"#bae4b3\" stroke=\"#bae4b3\" points=\"970.5,-517 806.5,-517 806.5,-481 970.5,-481 970.5,-517\"/>\n",
       "<text text-anchor=\"middle\" x=\"888.5\" y=\"-496.5\" font-family=\"Helvetica,sans-Serif\" font-size=\"10.00\">Repair (Complex)+complete (724)</text>\n",
       "</g>\n",
       "<!-- Repair (Complex)+start (725)&#45;&gt;Repair (Complex)+complete (724) -->\n",
       "<g id=\"edge4\" class=\"edge\"><title>Repair (Complex)+start (725)&#45;&gt;Repair (Complex)+complete (724)</title>\n",
       "<path fill=\"none\" stroke=\"black\" d=\"M694.759,-186.267C728.753,-241.425 830.488,-406.495 870.791,-471.889\"/>\n",
       "<polygon fill=\"black\" stroke=\"black\" points=\"868.05,-474.112 876.276,-480.789 874.009,-470.44 868.05,-474.112\"/>\n",
       "<text text-anchor=\"middle\" x=\"785.5\" y=\"-346.8\" font-family=\"Times,serif\" font-size=\"14.00\">414</text>\n",
       "</g>\n",
       "<!-- Repair (Complex)+start (725)&#45;&gt;Inform User+complete (1102) -->\n",
       "<g id=\"edge17\" class=\"edge\"><title>Repair (Complex)+start (725)&#45;&gt;Inform User+complete (1102)</title>\n",
       "<path fill=\"none\" stroke=\"black\" d=\"M726.012,-149.869C766.691,-134.181 830.164,-114 887.5,-114 887.5,-114 887.5,-114 1301.5,-114 1366.09,-114 1377.14,-152.958 1414,-206 1430.08,-229.142 1417.27,-243.697 1434.5,-266 1441.42,-274.957 1450.55,-282.761 1459.95,-289.299\"/>\n",
       "<polygon fill=\"black\" stroke=\"black\" points=\"1458.32,-292.412 1468.6,-294.945 1462.14,-286.55 1458.32,-292.412\"/>\n",
       "<text text-anchor=\"middle\" x=\"1094.5\" y=\"-117.8\" font-family=\"Times,serif\" font-size=\"14.00\">310</text>\n",
       "</g>\n",
       "<!-- Test Repair+start (1508) -->\n",
       "<g id=\"node6\" class=\"node\"><title>Test Repair+start (1508)</title>\n",
       "<polygon fill=\"#238b45\" stroke=\"#238b45\" points=\"1156,-429 1033,-429 1033,-393 1156,-393 1156,-429\"/>\n",
       "<text text-anchor=\"middle\" x=\"1094.5\" y=\"-408.5\" font-family=\"Helvetica,sans-Serif\" font-size=\"10.00\">Test Repair+start (1508)</text>\n",
       "</g>\n",
       "<!-- Repair (Complex)+complete (724)&#45;&gt;Test Repair+start (1508) -->\n",
       "<g id=\"edge5\" class=\"edge\"><title>Repair (Complex)+complete (724)&#45;&gt;Test Repair+start (1508)</title>\n",
       "<path fill=\"none\" stroke=\"black\" d=\"M931.275,-480.98C963.346,-467.145 1007.79,-447.971 1042.06,-433.191\"/>\n",
       "<polygon fill=\"black\" stroke=\"black\" points=\"1043.64,-436.322 1051.43,-429.147 1040.86,-429.895 1043.64,-436.322\"/>\n",
       "<text text-anchor=\"middle\" x=\"991.5\" y=\"-460.8\" font-family=\"Times,serif\" font-size=\"14.00\">720</text>\n",
       "</g>\n",
       "<!-- Repair (Complex)+complete (724)&#45;&gt;Inform User+complete (1102) -->\n",
       "<g id=\"edge28\" class=\"edge\"><title>Repair (Complex)+complete (724)&#45;&gt;Inform User+complete (1102)</title>\n",
       "<path fill=\"none\" stroke=\"black\" d=\"M970.758,-501.817C1036.39,-502.459 1130.79,-499.673 1211.5,-483 1286.08,-467.595 1306.04,-461.069 1372,-423 1413.25,-399.192 1454.63,-362.665 1480.14,-338.316\"/>\n",
       "<polygon fill=\"black\" stroke=\"black\" points=\"1482.77,-340.643 1487.53,-331.178 1477.91,-335.607 1482.77,-340.643\"/>\n",
       "<text text-anchor=\"middle\" x=\"1197.5\" y=\"-490.8\" font-family=\"Times,serif\" font-size=\"14.00\">3</text>\n",
       "</g>\n",
       "<!-- Test Repair+complete (1508) -->\n",
       "<g id=\"node7\" class=\"node\"><title>Test Repair+complete (1508)</title>\n",
       "<polygon fill=\"#238b45\" stroke=\"#238b45\" points=\"1372,-296 1229,-296 1229,-260 1372,-260 1372,-296\"/>\n",
       "<text text-anchor=\"middle\" x=\"1300.5\" y=\"-275.5\" font-family=\"Helvetica,sans-Serif\" font-size=\"10.00\">Test Repair+complete (1508)</text>\n",
       "</g>\n",
       "<!-- Test Repair+start (1508)&#45;&gt;Test Repair+complete (1508) -->\n",
       "<g id=\"edge6\" class=\"edge\"><title>Test Repair+start (1508)&#45;&gt;Test Repair+complete (1508)</title>\n",
       "<path fill=\"none\" stroke=\"black\" d=\"M1106.91,-392.854C1121.85,-370.58 1150.09,-333.165 1183.5,-312 1194.45,-305.065 1206.87,-299.497 1219.41,-295.04\"/>\n",
       "<polygon fill=\"black\" stroke=\"black\" points=\"1220.62,-298.326 1229,-291.845 1218.4,-291.685 1220.62,-298.326\"/>\n",
       "<text text-anchor=\"middle\" x=\"1197.5\" y=\"-315.8\" font-family=\"Times,serif\" font-size=\"14.00\">1333</text>\n",
       "</g>\n",
       "<!-- Test Repair+start (1508)&#45;&gt;Inform User+complete (1102) -->\n",
       "<g id=\"edge19\" class=\"edge\"><title>Test Repair+start (1508)&#45;&gt;Inform User+complete (1102)</title>\n",
       "<path fill=\"none\" stroke=\"black\" d=\"M1156.05,-408.938C1221.31,-405.193 1327.45,-394.655 1414,-365 1433.98,-358.154 1454.57,-346.888 1471.15,-336.59\"/>\n",
       "<polygon fill=\"black\" stroke=\"black\" points=\"1473.37,-339.328 1479.92,-331.002 1469.6,-333.425 1473.37,-339.328\"/>\n",
       "<text text-anchor=\"middle\" x=\"1300.5\" y=\"-405.8\" font-family=\"Times,serif\" font-size=\"14.00\">175</text>\n",
       "</g>\n",
       "<!-- Test Repair+complete (1508)&#45;&gt;Inform User+complete (1102) -->\n",
       "<g id=\"edge7\" class=\"edge\"><title>Test Repair+complete (1508)&#45;&gt;Inform User+complete (1102)</title>\n",
       "<path fill=\"none\" stroke=\"black\" d=\"M1372.28,-290.143C1389.02,-293.015 1407,-296.1 1424.16,-299.045\"/>\n",
       "<polygon fill=\"black\" stroke=\"black\" points=\"1423.71,-302.518 1434.16,-300.76 1424.89,-295.619 1423.71,-302.518\"/>\n",
       "<text text-anchor=\"middle\" x=\"1403.5\" y=\"-299.8\" font-family=\"Times,serif\" font-size=\"14.00\">297</text>\n",
       "</g>\n",
       "<!-- Archive Repair+complete (1000) -->\n",
       "<g id=\"node9\" class=\"node\"><title>Archive Repair+complete (1000)</title>\n",
       "<polygon fill=\"#bae4b3\" stroke=\"#bae4b3\" points=\"1791,-198 1634,-198 1634,-162 1791,-162 1791,-198\"/>\n",
       "<text text-anchor=\"middle\" x=\"1712.5\" y=\"-177.5\" font-family=\"Helvetica,sans-Serif\" font-size=\"10.00\">Archive Repair+complete (1000)</text>\n",
       "</g>\n",
       "<!-- Test Repair+complete (1508)&#45;&gt;Archive Repair+complete (1000) -->\n",
       "<g id=\"edge16\" class=\"edge\"><title>Test Repair+complete (1508)&#45;&gt;Archive Repair+complete (1000)</title>\n",
       "<path fill=\"none\" stroke=\"black\" d=\"M1372.45,-261.042C1442.86,-244.212 1550.84,-218.402 1625.96,-200.447\"/>\n",
       "<polygon fill=\"black\" stroke=\"black\" points=\"1626.96,-203.807 1635.87,-198.078 1625.33,-196.999 1626.96,-203.807\"/>\n",
       "<text text-anchor=\"middle\" x=\"1506.5\" y=\"-248.8\" font-family=\"Times,serif\" font-size=\"14.00\">795</text>\n",
       "</g>\n",
       "<!-- Restart Repair+complete (406) -->\n",
       "<g id=\"node12\" class=\"node\"><title>Restart Repair+complete (406)</title>\n",
       "<polygon fill=\"#edf8e9\" stroke=\"#edf8e9\" points=\"1788,-137 1637,-137 1637,-101 1788,-101 1788,-137\"/>\n",
       "<text text-anchor=\"middle\" x=\"1712.5\" y=\"-116.5\" font-family=\"Helvetica,sans-Serif\" font-size=\"10.00\">Restart Repair+complete (406)</text>\n",
       "</g>\n",
       "<!-- Test Repair+complete (1508)&#45;&gt;Restart Repair+complete (406) -->\n",
       "<g id=\"edge12\" class=\"edge\"><title>Test Repair+complete (1508)&#45;&gt;Restart Repair+complete (406)</title>\n",
       "<path fill=\"none\" stroke=\"black\" d=\"M1326.09,-259.78C1352.13,-241.009 1394.86,-211.657 1434.5,-191 1504.36,-154.594 1522.08,-141.993 1599,-125 1607.91,-123.033 1617.3,-121.583 1626.71,-120.527\"/>\n",
       "<polygon fill=\"black\" stroke=\"black\" points=\"1627.29,-123.987 1636.9,-119.531 1626.61,-117.02 1627.29,-123.987\"/>\n",
       "<text text-anchor=\"middle\" x=\"1506.5\" y=\"-194.8\" font-family=\"Times,serif\" font-size=\"14.00\">341</text>\n",
       "</g>\n",
       "<!-- Inform User+complete (1102)&#45;&gt;Repair (Complex)+start (725) -->\n",
       "<g id=\"edge23\" class=\"edge\"><title>Inform User+complete (1102)&#45;&gt;Repair (Complex)+start (725)</title>\n",
       "<path fill=\"none\" stroke=\"black\" d=\"M1474.24,-294.98C1456.79,-285.247 1434.49,-273.345 1414,-264 1325.21,-223.515 1296.08,-222 1198.5,-222 887.5,-222 887.5,-222 887.5,-222 834.419,-222 776.079,-204.703 735.434,-189.689\"/>\n",
       "<polygon fill=\"black\" stroke=\"black\" points=\"736.604,-186.389 726.012,-186.131 734.131,-192.938 736.604,-186.389\"/>\n",
       "<text text-anchor=\"middle\" x=\"1094.5\" y=\"-225.8\" font-family=\"Times,serif\" font-size=\"14.00\">92</text>\n",
       "</g>\n",
       "<!-- Inform User+complete (1102)&#45;&gt;Repair (Complex)+complete (724) -->\n",
       "<g id=\"edge18\" class=\"edge\"><title>Inform User+complete (1102)&#45;&gt;Repair (Complex)+complete (724)</title>\n",
       "<path fill=\"none\" stroke=\"black\" d=\"M1504.37,-331.104C1500.54,-374.949 1484.03,-486.699 1414,-534 1334.26,-587.859 1075.53,-551.946 981,-534 966.337,-531.216 950.976,-526.229 937.118,-520.875\"/>\n",
       "<polygon fill=\"black\" stroke=\"black\" points=\"938.375,-517.609 927.791,-517.133 935.768,-524.105 938.375,-517.609\"/>\n",
       "<text text-anchor=\"middle\" x=\"1197.5\" y=\"-564.8\" font-family=\"Times,serif\" font-size=\"14.00\">310</text>\n",
       "</g>\n",
       "<!-- Inform User+complete (1102)&#45;&gt;Test Repair+start (1508) -->\n",
       "<g id=\"edge27\" class=\"edge\"><title>Inform User+complete (1102)&#45;&gt;Test Repair+start (1508)</title>\n",
       "<path fill=\"none\" stroke=\"black\" d=\"M1434.38,-319.831C1377.97,-326.318 1297.49,-337.964 1229,-357 1199.63,-365.163 1167.95,-377.799 1142.83,-388.796\"/>\n",
       "<polygon fill=\"black\" stroke=\"black\" points=\"1141.26,-385.663 1133.54,-392.918 1144.1,-392.061 1141.26,-385.663\"/>\n",
       "<text text-anchor=\"middle\" x=\"1300.5\" y=\"-360.8\" font-family=\"Times,serif\" font-size=\"14.00\">5</text>\n",
       "</g>\n",
       "<!-- Inform User+complete (1102)&#45;&gt;Test Repair+complete (1508) -->\n",
       "<g id=\"edge20\" class=\"edge\"><title>Inform User+complete (1102)&#45;&gt;Test Repair+complete (1508)</title>\n",
       "<path fill=\"none\" stroke=\"black\" d=\"M1473.13,-294.942C1456.1,-286.463 1434.53,-277.292 1414,-273 1403.85,-270.878 1393.07,-269.85 1382.37,-269.554\"/>\n",
       "<polygon fill=\"black\" stroke=\"black\" points=\"1382.18,-266.053 1372.15,-269.483 1382.13,-273.053 1382.18,-266.053\"/>\n",
       "<text text-anchor=\"middle\" x=\"1403.5\" y=\"-276.8\" font-family=\"Times,serif\" font-size=\"14.00\">175</text>\n",
       "</g>\n",
       "<!-- Inform User+complete (1102)&#45;&gt;Archive Repair+complete (1000) -->\n",
       "<g id=\"edge8\" class=\"edge\"><title>Inform User+complete (1102)&#45;&gt;Archive Repair+complete (1000)</title>\n",
       "<path fill=\"none\" stroke=\"black\" d=\"M1528.48,-294.946C1552.83,-274.512 1594.68,-240.959 1634,-217 1642.32,-211.933 1651.43,-207.043 1660.4,-202.569\"/>\n",
       "<polygon fill=\"black\" stroke=\"black\" points=\"1662.19,-205.59 1669.65,-198.068 1659.13,-199.296 1662.19,-205.59\"/>\n",
       "<text text-anchor=\"middle\" x=\"1609.5\" y=\"-241.8\" font-family=\"Times,serif\" font-size=\"14.00\">205</text>\n",
       "</g>\n",
       "<!-- Inform User+complete (1102)&#45;&gt;Repair (Simple)+start (785) -->\n",
       "<g id=\"edge22\" class=\"edge\"><title>Inform User+complete (1102)&#45;&gt;Repair (Simple)+start (785)</title>\n",
       "<path fill=\"none\" stroke=\"black\" d=\"M1578.78,-309.179C1636.42,-305.26 1719.45,-297.73 1791,-284 1811.14,-280.135 1832.72,-274.55 1852.25,-268.928\"/>\n",
       "<polygon fill=\"black\" stroke=\"black\" points=\"1853.35,-272.254 1861.96,-266.083 1851.38,-265.537 1853.35,-272.254\"/>\n",
       "<text text-anchor=\"middle\" x=\"1712.5\" y=\"-307.8\" font-family=\"Times,serif\" font-size=\"14.00\">64</text>\n",
       "</g>\n",
       "<!-- Repair (Simple)+complete (785) -->\n",
       "<g id=\"node11\" class=\"node\"><title>Repair (Simple)+complete (785)</title>\n",
       "<polygon fill=\"#bae4b3\" stroke=\"#bae4b3\" points=\"2202,-409 2047,-409 2047,-373 2202,-373 2202,-409\"/>\n",
       "<text text-anchor=\"middle\" x=\"2124.5\" y=\"-388.5\" font-family=\"Helvetica,sans-Serif\" font-size=\"10.00\">Repair (Simple)+complete (785)</text>\n",
       "</g>\n",
       "<!-- Inform User+complete (1102)&#45;&gt;Repair (Simple)+complete (785) -->\n",
       "<g id=\"edge15\" class=\"edge\"><title>Inform User+complete (1102)&#45;&gt;Repair (Simple)+complete (785)</title>\n",
       "<path fill=\"none\" stroke=\"black\" d=\"M1578.92,-322.404C1585.71,-323.286 1592.48,-324.163 1599,-325 1752.95,-344.781 1932.39,-367.23 2036.46,-380.189\"/>\n",
       "<polygon fill=\"black\" stroke=\"black\" points=\"2036.25,-383.69 2046.61,-381.452 2037.12,-376.743 2036.25,-383.69\"/>\n",
       "<text text-anchor=\"middle\" x=\"1815.5\" y=\"-356.8\" font-family=\"Times,serif\" font-size=\"14.00\">159</text>\n",
       "</g>\n",
       "<!-- Inform User+complete (1102)&#45;&gt;Restart Repair+complete (406) -->\n",
       "<g id=\"edge25\" class=\"edge\"><title>Inform User+complete (1102)&#45;&gt;Restart Repair+complete (406)</title>\n",
       "<path fill=\"none\" stroke=\"black\" d=\"M1521.28,-294.721C1552.56,-253.297 1626.79,-155.429 1634,-150 1637.92,-147.049 1642.15,-144.336 1646.56,-141.851\"/>\n",
       "<polygon fill=\"black\" stroke=\"black\" points=\"1648.51,-144.778 1655.77,-137.064 1645.29,-138.565 1648.51,-144.778\"/>\n",
       "<text text-anchor=\"middle\" x=\"1609.5\" y=\"-195.8\" font-family=\"Times,serif\" font-size=\"14.00\">65</text>\n",
       "</g>\n",
       "<!-- Repair (Simple)+start (785)&#45;&gt;Inform User+complete (1102) -->\n",
       "<g id=\"edge14\" class=\"edge\"><title>Repair (Simple)+start (785)&#45;&gt;Inform User+complete (1102)</title>\n",
       "<path fill=\"none\" stroke=\"black\" d=\"M1851.48,-247.199C1793.56,-247.73 1707.37,-251.528 1634,-267 1608.09,-272.464 1580.33,-282.103 1557.44,-291.151\"/>\n",
       "<polygon fill=\"black\" stroke=\"black\" points=\"1555.91,-287.993 1547.95,-294.979 1558.53,-294.486 1555.91,-287.993\"/>\n",
       "<text text-anchor=\"middle\" x=\"1712.5\" y=\"-270.8\" font-family=\"Times,serif\" font-size=\"14.00\">159</text>\n",
       "</g>\n",
       "<!-- Repair (Simple)+start (785)&#45;&gt;Repair (Simple)+complete (785) -->\n",
       "<g id=\"edge10\" class=\"edge\"><title>Repair (Simple)+start (785)&#45;&gt;Repair (Simple)+complete (785)</title>\n",
       "<path fill=\"none\" stroke=\"black\" d=\"M1945.34,-266.111C1981.87,-291.721 2048.69,-338.562 2089.3,-367.029\"/>\n",
       "<polygon fill=\"black\" stroke=\"black\" points=\"2087.35,-369.937 2097.55,-372.811 2091.37,-364.205 2087.35,-369.937\"/>\n",
       "<text text-anchor=\"middle\" x=\"2021.5\" y=\"-326.8\" font-family=\"Times,serif\" font-size=\"14.00\">626</text>\n",
       "</g>\n",
       "<!-- Repair (Simple)+complete (785)&#45;&gt;Test Repair+start (1508) -->\n",
       "<g id=\"edge11\" class=\"edge\"><title>Repair (Simple)+complete (785)&#45;&gt;Test Repair+start (1508)</title>\n",
       "<path fill=\"none\" stroke=\"black\" d=\"M2066.37,-409.013C2055.09,-411.886 2043.25,-414.427 2032,-416 1670.82,-466.471 1576.18,-423 1211.5,-425 1199.06,-425.068 1195.91,-425.981 1183.5,-425 1178.01,-424.566 1172.34,-423.981 1166.65,-423.297\"/>\n",
       "<polygon fill=\"black\" stroke=\"black\" points=\"1166.79,-419.785 1156.42,-421.967 1165.89,-426.727 1166.79,-419.785\"/>\n",
       "<text text-anchor=\"middle\" x=\"1609.5\" y=\"-441.8\" font-family=\"Times,serif\" font-size=\"14.00\">783</text>\n",
       "</g>\n",
       "<!-- Repair (Simple)+complete (785)&#45;&gt;Inform User+complete (1102) -->\n",
       "<g id=\"edge26\" class=\"edge\"><title>Repair (Simple)+complete (785)&#45;&gt;Inform User+complete (1102)</title>\n",
       "<path fill=\"none\" stroke=\"black\" d=\"M2046.96,-397.014C2034.93,-397.402 2022.63,-397.473 2011,-397 1842.69,-390.152 1798,-396.464 1634,-358 1609.18,-352.178 1582.48,-343.117 1560.03,-334.647\"/>\n",
       "<polygon fill=\"black\" stroke=\"black\" points=\"1561.28,-331.377 1550.69,-331.064 1558.77,-337.913 1561.28,-331.377\"/>\n",
       "<text text-anchor=\"middle\" x=\"1815.5\" y=\"-392.8\" font-family=\"Times,serif\" font-size=\"14.00\">2</text>\n",
       "</g>\n",
       "<!-- Restart Repair+complete (406)&#45;&gt;Repair (Complex)+start (725) -->\n",
       "<g id=\"edge24\" class=\"edge\"><title>Restart Repair+complete (406)&#45;&gt;Repair (Complex)+start (725)</title>\n",
       "<path fill=\"none\" stroke=\"black\" d=\"M1679.04,-100.956C1639.69,-80.8104 1570.78,-51 1507.5,-51 887.5,-51 887.5,-51 887.5,-51 814.432,-51 743.827,-108.18 707.951,-142.592\"/>\n",
       "<polygon fill=\"black\" stroke=\"black\" points=\"705.111,-140.475 700.421,-149.975 710.012,-145.474 705.111,-140.475\"/>\n",
       "<text text-anchor=\"middle\" x=\"1197.5\" y=\"-54.8\" font-family=\"Times,serif\" font-size=\"14.00\">105</text>\n",
       "</g>\n",
       "<!-- Restart Repair+complete (406)&#45;&gt;Inform User+complete (1102) -->\n",
       "<g id=\"edge29\" class=\"edge\"><title>Restart Repair+complete (406)&#45;&gt;Inform User+complete (1102)</title>\n",
       "<path fill=\"none\" stroke=\"black\" d=\"M1636.87,-124.543C1622.91,-128.619 1609.44,-135.035 1599,-145 1574.62,-168.267 1593.39,-187.771 1578.5,-218 1566.03,-243.307 1546.57,-268.738 1531.17,-286.911\"/>\n",
       "<polygon fill=\"black\" stroke=\"black\" points=\"1528.31,-284.868 1524.43,-294.723 1533.61,-289.443 1528.31,-284.868\"/>\n",
       "<text text-anchor=\"middle\" x=\"1609.5\" y=\"-148.8\" font-family=\"Times,serif\" font-size=\"14.00\">1</text>\n",
       "</g>\n",
       "<!-- Restart Repair+complete (406)&#45;&gt;Repair (Simple)+start (785) -->\n",
       "<g id=\"edge13\" class=\"edge\"><title>Restart Repair+complete (406)&#45;&gt;Repair (Simple)+start (785)</title>\n",
       "<path fill=\"none\" stroke=\"black\" d=\"M1764.48,-137.03C1773.53,-140.888 1782.7,-145.249 1791,-150 1827.61,-170.953 1865.29,-201.525 1889.9,-222.936\"/>\n",
       "<polygon fill=\"black\" stroke=\"black\" points=\"1887.9,-225.84 1897.72,-229.818 1892.52,-220.585 1887.9,-225.84\"/>\n",
       "<text text-anchor=\"middle\" x=\"1815.5\" y=\"-174.8\" font-family=\"Times,serif\" font-size=\"14.00\">300</text>\n",
       "</g>\n",
       "</g>\n",
       "</svg>\n"
      ],
      "text/plain": [
       "<graphviz.dot.Digraph at 0x7fdbe741ad90>"
      ]
     },
     "execution_count": 90,
     "metadata": {},
     "output_type": "execute_result"
    }
   ],
   "source": [
    "draw_dfg(x2, \"x2\", 0, save=False, lifecycle_present=False)"
   ]
  },
  {
   "cell_type": "code",
   "execution_count": null,
   "metadata": {
    "colab": {
     "base_uri": "https://localhost:8080/"
    },
    "id": "BJgso9DJHTJ9",
    "outputId": "ce65998b-c587-42e1-db6c-56ee2f562e6d"
   },
   "outputs": [
    {
     "name": "stdout",
     "output_type": "stream",
     "text": [
      "Concept name of the trace: 287\n",
      "Events belonging to this trace:\n",
      "{'Key 1': 'Register',\n",
      " 'Key 2': 'instance 1',\n",
      " 'Key 3': 'System',\n",
      " 'Key 4': datetime.datetime(1970, 1, 17, 15, 11, 25, 104000, tzinfo=datetime.timezone(datetime.timedelta(0, 3600))),\n",
      " 'Key 6': 'complete',\n",
      " 'numberRepairs': 1,\n",
      " '{0,1,2} 2Sa!! +1 &lt;x&gt;': 'Group -'}\n",
      "\n",
      "{'ITEMS:41, #1, o.1.1': 'Role 9',\n",
      " 'Key 1': 'Analyze Defect',\n",
      " 'Key 2': 'instance 1',\n",
      " 'Key 3': 'Tester2',\n",
      " 'Key 4': datetime.datetime(1970, 1, 17, 15, 16, 46, 88000, tzinfo=datetime.timezone(datetime.timedelta(0, 3600))),\n",
      " 'Key 6': 'start',\n",
      " 'numberRepairs': 2,\n",
      " '{0,1,2} 2Sa!! +1 &lt;x&gt;': 'Groups 2 and 4'}\n",
      "\n",
      "{'ITEMS:41, #1, o.1.1': 'Role 9',\n",
      " 'Key 1': 'Analyze Defect',\n",
      " 'Key 2': 'instance 1',\n",
      " 'Key 3': 'Tester2',\n",
      " 'Key 4': datetime.datetime(1970, 1, 17, 15, 27, 2, 510000, tzinfo=datetime.timezone(datetime.timedelta(0, 3600))),\n",
      " 'Key 6': 'complete',\n",
      " 'defectType': 6,\n",
      " 'numberRepairs': 3,\n",
      " 'phoneType': 'T3',\n",
      " '{0,1,2} 2Sa!! +1 &lt;x&gt;': 'Groups 2 and 4'}\n",
      "\n",
      "{'ITEMS:41, #1, o.1.1': 'Role 10',\n",
      " 'Key 1': 'Repair (Complex)',\n",
      " 'Key 2': 'instance 1',\n",
      " 'Key 3': 'SolverC1',\n",
      " 'Key 4': datetime.datetime(1970, 1, 17, 15, 55, 29, 380000, tzinfo=datetime.timezone(datetime.timedelta(0, 3600))),\n",
      " 'Key 6': 'start',\n",
      " 'numberRepairs': 4,\n",
      " '{0,1,2} 2Sa!! +1 &lt;x&gt;': 'Groups 1, 3, and 5'}\n",
      "\n",
      "{'ITEMS:41, #1, o.1.1': 'Role 10',\n",
      " 'Key 1': 'Repair (Complex)',\n",
      " 'Key 2': 'instance 1',\n",
      " 'Key 3': 'SolverC1',\n",
      " 'Key 4': datetime.datetime(1970, 1, 17, 16, 13, 42, 499000, tzinfo=datetime.timezone(datetime.timedelta(0, 3600))),\n",
      " 'Key 6': 'complete',\n",
      " 'numberRepairs': 5,\n",
      " '{0,1,2} 2Sa!! +1 &lt;x&gt;': 'Groups 1, 3, and 5'}\n",
      "\n",
      "{'ITEMS:41, #1, o.1.1': 'Role 9',\n",
      " 'Key 1': 'Test Repair',\n",
      " 'Key 2': 'instance 1',\n",
      " 'Key 3': 'Tester6',\n",
      " 'Key 4': datetime.datetime(1970, 1, 17, 16, 18, 41, 309000, tzinfo=datetime.timezone(datetime.timedelta(0, 3600))),\n",
      " 'Key 6': 'start',\n",
      " 'numberRepairs': 6,\n",
      " '{0,1,2} 2Sa!! +1 &lt;x&gt;': 'Groups 2 and 4'}\n",
      "\n",
      "{'ITEMS:41, #1, o.1.1': 'Role 9',\n",
      " 'Key 1': 'Test Repair',\n",
      " 'Key 2': 'instance 1',\n",
      " 'Key 3': 'Tester6',\n",
      " 'Key 4': datetime.datetime(1970, 1, 17, 16, 30, 57, 561000, tzinfo=datetime.timezone(datetime.timedelta(0, 3600))),\n",
      " 'Key 6': 'complete',\n",
      " 'defectFixed': True,\n",
      " 'numberRepairs': '0',\n",
      " '{0,1,2} 2Sa!! +1 &lt;x&gt;': 'Groups 2 and 4'}\n",
      "\n",
      "{'Key 1': 'Inform User',\n",
      " 'Key 2': 'instance 1',\n",
      " 'Key 3': 'System',\n",
      " 'Key 4': datetime.datetime(1970, 1, 17, 16, 39, 22, 366000, tzinfo=datetime.timezone(datetime.timedelta(0, 3600))),\n",
      " 'Key 6': 'complete',\n",
      " 'numberRepairs': 8,\n",
      " '{0,1,2} 2Sa!! +1 &lt;x&gt;': 'Group -'}\n",
      "\n",
      "{'Key 1': 'Archive Repair',\n",
      " 'Key 2': 'instance 1',\n",
      " 'Key 3': 'System',\n",
      " 'Key 4': datetime.datetime(1970, 1, 17, 16, 45, 31, 931000, tzinfo=datetime.timezone(datetime.timedelta(0, 3600))),\n",
      " 'Key 6': 'complete',\n",
      " 'defectFixed': True,\n",
      " 'numberRepairs': '0',\n",
      " '{0,1,2} 2Sa!! +1 &lt;x&gt;': 'Group -'}\n",
      "\n"
     ]
    }
   ],
   "source": [
    "#print random trace\n",
    "idx = random.randint(0, len(x2.traces)-1)\n",
    "\n",
    "print('Concept name of the trace:', x2.traces[idx]['concept:name'])\n",
    "print('Events belonging to this trace:')\n",
    "for event in x2.get_traces()[idx]:\n",
    "  pprint(event)\n",
    "  print()"
   ]
  },
  {
   "cell_type": "code",
   "execution_count": null,
   "metadata": {
    "colab": {
     "base_uri": "https://localhost:8080/"
    },
    "id": "yN-JR4GXK0sE",
    "outputId": "1ade9ff4-2986-4a8a-e3c3-0045b4a22171"
   },
   "outputs": [
    {
     "data": {
      "text/plain": [
       "{'(Name AND Transition)': ['Key 1', 'Key 6']}"
      ]
     },
     "execution_count": 62,
     "metadata": {
      "tags": []
     },
     "output_type": "execute_result"
    }
   ],
   "source": [
    "x2.classifiers"
   ]
  },
  {
   "cell_type": "code",
   "execution_count": null,
   "metadata": {
    "colab": {
     "base_uri": "https://localhost:8080/"
    },
    "id": "xYbZucdXK6NG",
    "outputId": "14eebf35-94ac-40d5-a8f0-709f74998776"
   },
   "outputs": [
    {
     "data": {
      "text/plain": [
       "True"
      ]
     },
     "execution_count": 63,
     "metadata": {
      "tags": []
     },
     "output_type": "execute_result"
    }
   ],
   "source": [
    "#build the set of event that is equal to the first event by our classifier\n",
    "first_classifier = list(x2.classifiers.keys())[0]\n",
    "equal_events = x2.filter_by_classifier(x2.events[0], first_classifier)\n",
    "verify_filter_by_classifier(x2, equal_events, first_classifier)"
   ]
  },
  {
   "cell_type": "code",
   "execution_count": 45,
   "metadata": {
    "colab": {
     "base_uri": "https://localhost:8080/"
    },
    "id": "oa7VgWszSvBC",
    "outputId": "6d6a5ead-c0ac-4628-b2d9-3bdd81aa40ad"
   },
   "outputs": [
    {
     "name": "stdout",
     "output_type": "stream",
     "text": [
      "Concept name of the trace: 287\n",
      "Events belonging to this trace:\n",
      "{'Key 1': 'Register',\n",
      " 'Key 2': 'instance 1',\n",
      " 'Key 3': 'System',\n",
      " 'Key 4': datetime.datetime(1970, 1, 17, 15, 11, 25, 104000, tzinfo=datetime.timezone(datetime.timedelta(seconds=3600))),\n",
      " 'Key 6': 'complete',\n",
      " 'numberRepairs': 1,\n",
      " '{0,1,2} 2Sa!! +1 &lt;x&gt;': 'Group -'}\n",
      "\n",
      "{'ITEMS:41, #1, o.1.1': 'Role 9',\n",
      " 'Key 1': 'Analyze Defect',\n",
      " 'Key 2': 'instance 1',\n",
      " 'Key 3': 'Tester2',\n",
      " 'Key 4': datetime.datetime(1970, 1, 17, 15, 16, 46, 88000, tzinfo=datetime.timezone(datetime.timedelta(seconds=3600))),\n",
      " 'Key 6': 'start',\n",
      " 'numberRepairs': 2,\n",
      " '{0,1,2} 2Sa!! +1 &lt;x&gt;': 'Groups 2 and 4'}\n",
      "\n",
      "{'ITEMS:41, #1, o.1.1': 'Role 9',\n",
      " 'Key 1': 'Analyze Defect',\n",
      " 'Key 2': 'instance 1',\n",
      " 'Key 3': 'Tester2',\n",
      " 'Key 4': datetime.datetime(1970, 1, 17, 15, 27, 2, 510000, tzinfo=datetime.timezone(datetime.timedelta(seconds=3600))),\n",
      " 'Key 6': 'complete',\n",
      " 'defectType': 6,\n",
      " 'numberRepairs': 3,\n",
      " 'phoneType': 'T3',\n",
      " '{0,1,2} 2Sa!! +1 &lt;x&gt;': 'Groups 2 and 4'}\n",
      "\n",
      "{'ITEMS:41, #1, o.1.1': 'Role 10',\n",
      " 'Key 1': 'Repair (Complex)',\n",
      " 'Key 2': 'instance 1',\n",
      " 'Key 3': 'SolverC1',\n",
      " 'Key 4': datetime.datetime(1970, 1, 17, 15, 55, 29, 380000, tzinfo=datetime.timezone(datetime.timedelta(seconds=3600))),\n",
      " 'Key 6': 'start',\n",
      " 'numberRepairs': 4,\n",
      " '{0,1,2} 2Sa!! +1 &lt;x&gt;': 'Groups 1, 3, and 5'}\n",
      "\n",
      "{'ITEMS:41, #1, o.1.1': 'Role 10',\n",
      " 'Key 1': 'Repair (Complex)',\n",
      " 'Key 2': 'instance 1',\n",
      " 'Key 3': 'SolverC1',\n",
      " 'Key 4': datetime.datetime(1970, 1, 17, 16, 13, 42, 499000, tzinfo=datetime.timezone(datetime.timedelta(seconds=3600))),\n",
      " 'Key 6': 'complete',\n",
      " 'numberRepairs': 5,\n",
      " '{0,1,2} 2Sa!! +1 &lt;x&gt;': 'Groups 1, 3, and 5'}\n",
      "\n",
      "{'ITEMS:41, #1, o.1.1': 'Role 9',\n",
      " 'Key 1': 'Test Repair',\n",
      " 'Key 2': 'instance 1',\n",
      " 'Key 3': 'Tester6',\n",
      " 'Key 4': datetime.datetime(1970, 1, 17, 16, 18, 41, 309000, tzinfo=datetime.timezone(datetime.timedelta(seconds=3600))),\n",
      " 'Key 6': 'start',\n",
      " 'numberRepairs': 6,\n",
      " '{0,1,2} 2Sa!! +1 &lt;x&gt;': 'Groups 2 and 4'}\n",
      "\n",
      "{'ITEMS:41, #1, o.1.1': 'Role 9',\n",
      " 'Key 1': 'Test Repair',\n",
      " 'Key 2': 'instance 1',\n",
      " 'Key 3': 'Tester6',\n",
      " 'Key 4': datetime.datetime(1970, 1, 17, 16, 30, 57, 561000, tzinfo=datetime.timezone(datetime.timedelta(seconds=3600))),\n",
      " 'Key 6': 'complete',\n",
      " 'defectFixed': True,\n",
      " 'numberRepairs': '0',\n",
      " '{0,1,2} 2Sa!! +1 &lt;x&gt;': 'Groups 2 and 4'}\n",
      "\n",
      "{'Key 1': 'Inform User',\n",
      " 'Key 2': 'instance 1',\n",
      " 'Key 3': 'System',\n",
      " 'Key 4': datetime.datetime(1970, 1, 17, 16, 39, 22, 366000, tzinfo=datetime.timezone(datetime.timedelta(seconds=3600))),\n",
      " 'Key 6': 'complete',\n",
      " 'numberRepairs': 8,\n",
      " '{0,1,2} 2Sa!! +1 &lt;x&gt;': 'Group -'}\n",
      "\n",
      "{'Key 1': 'Archive Repair',\n",
      " 'Key 2': 'instance 1',\n",
      " 'Key 3': 'System',\n",
      " 'Key 4': datetime.datetime(1970, 1, 17, 16, 45, 31, 931000, tzinfo=datetime.timezone(datetime.timedelta(seconds=3600))),\n",
      " 'Key 6': 'complete',\n",
      " 'defectFixed': True,\n",
      " 'numberRepairs': '0',\n",
      " '{0,1,2} 2Sa!! +1 &lt;x&gt;': 'Group -'}\n",
      "\n"
     ]
    }
   ],
   "source": [
    "trace_id = case_ids_['x2']\n",
    "print_specific_case2(x2, trace_id)"
   ]
  },
  {
   "cell_type": "markdown",
   "metadata": {
    "id": "s092QfXd7MWa"
   },
   "source": [
    "# **2 Exporting**\n",
    "---\n",
    "---"
   ]
  },
  {
   "cell_type": "code",
   "execution_count": 57,
   "metadata": {
    "colab": {
     "base_uri": "https://localhost:8080/"
    },
    "id": "mSBPrFCXVq6k",
    "outputId": "c3eaaeb9-2bf7-464a-d0a1-1fa8bfb1ee2d"
   },
   "outputs": [
    {
     "name": "stderr",
     "output_type": "stream",
     "text": [
      "28391it [00:00, 283522.94it/s]"
     ]
    },
    {
     "name": "stdout",
     "output_type": "stream",
     "text": [
      "Number of traces in the log: 1104\n",
      "Number of events in the log: 11855\n",
      "Classifiers in the log: {}\n",
      "\n",
      "Exporting and reimporting the log...\n",
      "Processing log...\n"
     ]
    },
    {
     "name": "stderr",
     "output_type": "stream",
     "text": [
      "\r",
      "51850it [00:00, 268820.11it/s]"
     ]
    },
    {
     "name": "stdout",
     "output_type": "stream",
     "text": [
      "\n",
      "Number of traces in the reimported log: 1104\n",
      "Number of events in the reimported log: 11855\n",
      "Classifiers in the reimported log: {}\n"
     ]
    },
    {
     "name": "stderr",
     "output_type": "stream",
     "text": [
      "\n"
     ]
    }
   ],
   "source": [
    "# here the reimport can be done, inject a log variable name (corresponds to the first screenshot for each log in the report)\n",
    "#(real-life logs go from log1 to log11, \n",
    "# the artifical logs are named after their letter, e.g. a1, a2, ... , x1, x2; make sure to have the logs imported in their respective section first )\n",
    "test_log = a1 \n",
    "print_reimport(test_log)"
   ]
  },
  {
   "cell_type": "markdown",
   "metadata": {
    "id": "q16wWFlCxJEv"
   },
   "source": [
    "### A1 & A2"
   ]
  },
  {
   "cell_type": "code",
   "execution_count": null,
   "metadata": {
    "id": "y54x-rSoxBuF"
   },
   "outputs": [],
   "source": [
    "xes.export_to_xes(a1, \"a1.xes\")\n",
    "xes.export_to_xes(a1, \"a2.xes\")"
   ]
  },
  {
   "cell_type": "markdown",
   "metadata": {
    "id": "TYMACqWcxPEc"
   },
   "source": [
    "### B1 & B2"
   ]
  },
  {
   "cell_type": "code",
   "execution_count": null,
   "metadata": {
    "id": "ttlY3HpZw2k7"
   },
   "outputs": [],
   "source": [
    "xes.export_to_xes(b1, \"b1.xes\")\n",
    "xes.export_to_xes(b2, \"b2.xes\")"
   ]
  },
  {
   "cell_type": "markdown",
   "metadata": {
    "id": "1O7uqG_8xR1y"
   },
   "source": [
    "### C1 & C2"
   ]
  },
  {
   "cell_type": "code",
   "execution_count": null,
   "metadata": {
    "id": "Ak5QGMF7w2Zq"
   },
   "outputs": [],
   "source": [
    "xes.export_to_xes(c1, \"c1.xes\")\n",
    "xes.export_to_xes(c2, \"c2.xes\")"
   ]
  },
  {
   "cell_type": "markdown",
   "metadata": {
    "id": "zOZP_5GDw_9s"
   },
   "source": [
    "### D1 & D2"
   ]
  },
  {
   "cell_type": "code",
   "execution_count": null,
   "metadata": {
    "id": "jEvwxDRrw2PM"
   },
   "outputs": [],
   "source": [
    "xes.export_to_xes(d1, \"d1.xes\")\n",
    "xes.export_to_xes(d2, \"d2.xes\")"
   ]
  },
  {
   "cell_type": "markdown",
   "metadata": {
    "id": "nYPXLtaJw7MM"
   },
   "source": [
    "### X1 und X2"
   ]
  },
  {
   "cell_type": "code",
   "execution_count": null,
   "metadata": {
    "id": "aysWl5PAw14M"
   },
   "outputs": [],
   "source": [
    "xes.export_to_xes(x1, \"x1.xes\")\n",
    "xes.export_to_xes(x2, \"x2.xes\")"
   ]
  }
 ],
 "metadata": {
  "colab": {
   "collapsed_sections": [
    "6HVGwFenxXVL",
    "mUnYbtemfeEC",
    "igG4nB15pfVp",
    "ZDH3zjt2HQta",
    "1JLENItLHU8V",
    "_EyzFDzjYFeJ",
    "XzpbdTXjYj2k",
    "XDp4-rUqYyEK",
    "1WG8TzpZY_Tw",
    "9qzhBokGdybu",
    "KQxR0N2KeEW2",
    "7PueuHameicP",
    "-A-xV0Oue3nT",
    "PPdVEBC0fPtZ",
    "V3_QSkMU2AHr",
    "lacpQoPZThKl",
    "753me7fS1337",
    "D9WncCzfTkOB",
    "f-yQeTuC10KX",
    "-AXjWT0pToRM",
    "6PWYguRv1taS",
    "EuxlvZ_BTrbR",
    "_41UO9RT1ojd"
   ],
   "name": "XES_Cerification.ipynb",
   "provenance": [],
   "toc_visible": true
  },
  "kernelspec": {
   "display_name": "Python 3",
   "language": "python",
   "name": "python3"
  },
  "language_info": {
   "codemirror_mode": {
    "name": "ipython",
    "version": 3
   },
   "file_extension": ".py",
   "mimetype": "text/x-python",
   "name": "python",
   "nbconvert_exporter": "python",
   "pygments_lexer": "ipython3",
   "version": "3.9.1"
  }
 },
 "nbformat": 4,
 "nbformat_minor": 1
}
